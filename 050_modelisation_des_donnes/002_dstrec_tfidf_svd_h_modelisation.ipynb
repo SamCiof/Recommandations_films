{
 "cells": [
  {
   "cell_type": "markdown",
   "metadata": {},
   "source": [
    "# <div style='color:white;background: #005792;text-align: center;padding: 15px 0'>Recommandations - Modélisation d'un modèle machine learning avec TfidfVectorizer et TruncatedSVD</div>"
   ]
  },
  {
   "cell_type": "markdown",
   "metadata": {},
   "source": [
    "## Participants\n",
    "* Samantha\n",
    "* Rachelle\n",
    "* Andrew"
   ]
  },
  {
   "cell_type": "markdown",
   "metadata": {},
   "source": [
    "## <div style='background: #005792;text-align: center;padding: 15px 0'> <a style= 'color:white;' >Configuration des variables</a></div>"
   ]
  },
  {
   "cell_type": "markdown",
   "metadata": {},
   "source": [
    "### Installation des librairies"
   ]
  },
  {
   "cell_type": "code",
   "execution_count": 19,
   "metadata": {},
   "outputs": [],
   "source": [
    "# !pip install scikit-learn\n",
    "# !pip install scikit-surprise"
   ]
  },
  {
   "cell_type": "markdown",
   "metadata": {},
   "source": [
    "### Importation des librairies"
   ]
  },
  {
   "cell_type": "code",
   "execution_count": 1,
   "metadata": {},
   "outputs": [],
   "source": [
    "import os\n",
    "import warnings\n",
    "warnings.filterwarnings('ignore')\n",
    "\n",
    "import pandas as pd\n",
    "import numpy as np\n",
    "import matplotlib.pyplot as plt\n",
    "import seaborn as sns\n",
    "\n",
    "from sklearn.preprocessing import OneHotEncoder, Normalizer\n",
    "from sklearn.metrics.pairwise import cosine_similarity\n",
    "from surprise import Dataset, Reader, SVD\n",
    "from surprise.model_selection import train_test_split\n",
    "from surprise import accuracy\n",
    "from scipy.sparse import hstack, csr_matrix, diags, vstack\n",
    "from sklearn.feature_extraction.text import TfidfVectorizer\n",
    "from sklearn.decomposition import TruncatedSVD\n",
    "from sklearn.pipeline import make_pipeline\n"
   ]
  },
  {
   "cell_type": "markdown",
   "metadata": {},
   "source": [
    "### Chargement des fichiers "
   ]
  },
  {
   "cell_type": "code",
   "execution_count": 2,
   "metadata": {},
   "outputs": [],
   "source": [
    "source_dir= '/home/dstrec/dstrec/010_data/002_merged'\n",
    "\n",
    "file_final = f\"{source_dir}/dstrec.csv\""
   ]
  },
  {
   "cell_type": "markdown",
   "metadata": {},
   "source": [
    "### Chargement des jeux de données"
   ]
  },
  {
   "cell_type": "code",
   "execution_count": 3,
   "metadata": {},
   "outputs": [],
   "source": [
    "dstrec = pd.read_csv(file_final)"
   ]
  },
  {
   "cell_type": "markdown",
   "metadata": {},
   "source": [
    "### Configuration des fonctions"
   ]
  },
  {
   "cell_type": "code",
   "execution_count": null,
   "metadata": {},
   "outputs": [],
   "source": []
  },
  {
   "cell_type": "markdown",
   "metadata": {},
   "source": [
    "## <div style='background: #005792;text-align: center;padding: 15px 0'> <a style= 'color:white;' >Préparation des données</a></div>"
   ]
  },
  {
   "cell_type": "code",
   "execution_count": 4,
   "metadata": {},
   "outputs": [
    {
     "data": {
      "text/plain": [
       "(164108, 39)"
      ]
     },
     "execution_count": 4,
     "metadata": {},
     "output_type": "execute_result"
    }
   ],
   "source": [
    "dstrec.shape"
   ]
  },
  {
   "cell_type": "code",
   "execution_count": 5,
   "metadata": {},
   "outputs": [
    {
     "name": "stdout",
     "output_type": "stream",
     "text": [
      "<class 'pandas.core.frame.DataFrame'>\n",
      "RangeIndex: 164108 entries, 0 to 164107\n",
      "Data columns (total 39 columns):\n",
      " #   Column         Non-Null Count   Dtype  \n",
      "---  ------         --------------   -----  \n",
      " 0   imdbId         164108 non-null  object \n",
      " 1   title          164108 non-null  object \n",
      " 2   averageRating  164108 non-null  float64\n",
      " 3   numVotes       164108 non-null  float64\n",
      " 4   director       164108 non-null  object \n",
      " 5   actor_actress  164108 non-null  object \n",
      " 6   producer       164108 non-null  object \n",
      " 7   Action         164108 non-null  int64  \n",
      " 8   Adult          164108 non-null  int64  \n",
      " 9   Adventure      164108 non-null  int64  \n",
      " 10  Animation      164108 non-null  int64  \n",
      " 11  Biography      164108 non-null  int64  \n",
      " 12  Comedy         164108 non-null  int64  \n",
      " 13  Crime          164108 non-null  int64  \n",
      " 14  Documentary    164108 non-null  int64  \n",
      " 15  Drama          164108 non-null  int64  \n",
      " 16  Family         164108 non-null  int64  \n",
      " 17  Fantasy        164108 non-null  int64  \n",
      " 18  Fi             164108 non-null  int64  \n",
      " 19  Film           164108 non-null  int64  \n",
      " 20  Game           164108 non-null  int64  \n",
      " 21  History        164108 non-null  int64  \n",
      " 22  Horror         164108 non-null  int64  \n",
      " 23  Music          164108 non-null  int64  \n",
      " 24  Musical        164108 non-null  int64  \n",
      " 25  Mystery        164108 non-null  int64  \n",
      " 26  News           164108 non-null  int64  \n",
      " 27  Noir           164108 non-null  int64  \n",
      " 28  Reality        164108 non-null  int64  \n",
      " 29  Romance        164108 non-null  int64  \n",
      " 30  Sci            164108 non-null  int64  \n",
      " 31  Show           164108 non-null  int64  \n",
      " 32  Sport          164108 non-null  int64  \n",
      " 33  TV             164108 non-null  int64  \n",
      " 34  Talk           164108 non-null  int64  \n",
      " 35  Thriller       164108 non-null  int64  \n",
      " 36  War            164108 non-null  int64  \n",
      " 37  Western        164108 non-null  int64  \n",
      " 38  forAdult       164108 non-null  int64  \n",
      "dtypes: float64(2), int64(32), object(5)\n",
      "memory usage: 48.8+ MB\n"
     ]
    }
   ],
   "source": [
    "dstrec.info()"
   ]
  },
  {
   "cell_type": "code",
   "execution_count": 6,
   "metadata": {},
   "outputs": [
    {
     "data": {
      "text/html": [
       "<div>\n",
       "<style scoped>\n",
       "    .dataframe tbody tr th:only-of-type {\n",
       "        vertical-align: middle;\n",
       "    }\n",
       "\n",
       "    .dataframe tbody tr th {\n",
       "        vertical-align: top;\n",
       "    }\n",
       "\n",
       "    .dataframe thead th {\n",
       "        text-align: right;\n",
       "    }\n",
       "</style>\n",
       "<table border=\"1\" class=\"dataframe\">\n",
       "  <thead>\n",
       "    <tr style=\"text-align: right;\">\n",
       "      <th></th>\n",
       "      <th>imdbId</th>\n",
       "      <th>title</th>\n",
       "      <th>averageRating</th>\n",
       "      <th>numVotes</th>\n",
       "      <th>director</th>\n",
       "      <th>actor_actress</th>\n",
       "      <th>producer</th>\n",
       "      <th>Action</th>\n",
       "      <th>Adult</th>\n",
       "      <th>Adventure</th>\n",
       "      <th>...</th>\n",
       "      <th>Romance</th>\n",
       "      <th>Sci</th>\n",
       "      <th>Show</th>\n",
       "      <th>Sport</th>\n",
       "      <th>TV</th>\n",
       "      <th>Talk</th>\n",
       "      <th>Thriller</th>\n",
       "      <th>War</th>\n",
       "      <th>Western</th>\n",
       "      <th>forAdult</th>\n",
       "    </tr>\n",
       "  </thead>\n",
       "  <tbody>\n",
       "    <tr>\n",
       "      <th>0</th>\n",
       "      <td>tt0000009</td>\n",
       "      <td>Miss Jerry</td>\n",
       "      <td>5.4</td>\n",
       "      <td>212.0</td>\n",
       "      <td>Alexander Black</td>\n",
       "      <td>William Courtenay/Blanche Bayliss</td>\n",
       "      <td>Alexander Black</td>\n",
       "      <td>0</td>\n",
       "      <td>0</td>\n",
       "      <td>0</td>\n",
       "      <td>...</td>\n",
       "      <td>1</td>\n",
       "      <td>0</td>\n",
       "      <td>0</td>\n",
       "      <td>0</td>\n",
       "      <td>0</td>\n",
       "      <td>0</td>\n",
       "      <td>0</td>\n",
       "      <td>0</td>\n",
       "      <td>0</td>\n",
       "      <td>0</td>\n",
       "    </tr>\n",
       "    <tr>\n",
       "      <th>1</th>\n",
       "      <td>tt0000574</td>\n",
       "      <td>The Story of the Kelly Gang</td>\n",
       "      <td>6.0</td>\n",
       "      <td>900.0</td>\n",
       "      <td>Charles Tait</td>\n",
       "      <td>Godfrey Cass/Bella Cola</td>\n",
       "      <td>W.A. Gibson</td>\n",
       "      <td>1</td>\n",
       "      <td>0</td>\n",
       "      <td>1</td>\n",
       "      <td>...</td>\n",
       "      <td>0</td>\n",
       "      <td>0</td>\n",
       "      <td>0</td>\n",
       "      <td>0</td>\n",
       "      <td>0</td>\n",
       "      <td>0</td>\n",
       "      <td>0</td>\n",
       "      <td>0</td>\n",
       "      <td>0</td>\n",
       "      <td>0</td>\n",
       "    </tr>\n",
       "    <tr>\n",
       "      <th>2</th>\n",
       "      <td>tt0001370</td>\n",
       "      <td>Rainha Depois de Morta Inês de Castro</td>\n",
       "      <td>5.2</td>\n",
       "      <td>26.0</td>\n",
       "      <td>Carlos Santos</td>\n",
       "      <td>Eduardo Brazão/Amelia Vieira</td>\n",
       "      <td>Júlio Costa</td>\n",
       "      <td>0</td>\n",
       "      <td>0</td>\n",
       "      <td>0</td>\n",
       "      <td>...</td>\n",
       "      <td>0</td>\n",
       "      <td>0</td>\n",
       "      <td>0</td>\n",
       "      <td>0</td>\n",
       "      <td>0</td>\n",
       "      <td>0</td>\n",
       "      <td>0</td>\n",
       "      <td>0</td>\n",
       "      <td>0</td>\n",
       "      <td>0</td>\n",
       "    </tr>\n",
       "    <tr>\n",
       "      <th>3</th>\n",
       "      <td>tt0001790</td>\n",
       "      <td>Les Misérables, Part 1: Jean Valjean</td>\n",
       "      <td>6.0</td>\n",
       "      <td>52.0</td>\n",
       "      <td>Albert Capellani</td>\n",
       "      <td>Jean Angelo/Maria Fromet</td>\n",
       "      <td>Pierre Decourcelle</td>\n",
       "      <td>0</td>\n",
       "      <td>0</td>\n",
       "      <td>0</td>\n",
       "      <td>...</td>\n",
       "      <td>0</td>\n",
       "      <td>0</td>\n",
       "      <td>0</td>\n",
       "      <td>0</td>\n",
       "      <td>0</td>\n",
       "      <td>0</td>\n",
       "      <td>0</td>\n",
       "      <td>0</td>\n",
       "      <td>0</td>\n",
       "      <td>0</td>\n",
       "    </tr>\n",
       "    <tr>\n",
       "      <th>4</th>\n",
       "      <td>tt0001911</td>\n",
       "      <td>Nell Gwynne</td>\n",
       "      <td>3.6</td>\n",
       "      <td>26.0</td>\n",
       "      <td>Raymond Longford</td>\n",
       "      <td>Walter Bastin/Agnes Keogh</td>\n",
       "      <td>George Musgrove</td>\n",
       "      <td>0</td>\n",
       "      <td>0</td>\n",
       "      <td>0</td>\n",
       "      <td>...</td>\n",
       "      <td>0</td>\n",
       "      <td>0</td>\n",
       "      <td>0</td>\n",
       "      <td>0</td>\n",
       "      <td>0</td>\n",
       "      <td>0</td>\n",
       "      <td>0</td>\n",
       "      <td>0</td>\n",
       "      <td>0</td>\n",
       "      <td>0</td>\n",
       "    </tr>\n",
       "  </tbody>\n",
       "</table>\n",
       "<p>5 rows × 39 columns</p>\n",
       "</div>"
      ],
      "text/plain": [
       "      imdbId                                  title  averageRating  numVotes  \\\n",
       "0  tt0000009                             Miss Jerry            5.4     212.0   \n",
       "1  tt0000574            The Story of the Kelly Gang            6.0     900.0   \n",
       "2  tt0001370  Rainha Depois de Morta Inês de Castro            5.2      26.0   \n",
       "3  tt0001790   Les Misérables, Part 1: Jean Valjean            6.0      52.0   \n",
       "4  tt0001911                            Nell Gwynne            3.6      26.0   \n",
       "\n",
       "           director                      actor_actress            producer  \\\n",
       "0   Alexander Black  William Courtenay/Blanche Bayliss     Alexander Black   \n",
       "1      Charles Tait            Godfrey Cass/Bella Cola         W.A. Gibson   \n",
       "2     Carlos Santos       Eduardo Brazão/Amelia Vieira         Júlio Costa   \n",
       "3  Albert Capellani           Jean Angelo/Maria Fromet  Pierre Decourcelle   \n",
       "4  Raymond Longford          Walter Bastin/Agnes Keogh     George Musgrove   \n",
       "\n",
       "   Action  Adult  Adventure  ...  Romance  Sci  Show  Sport  TV  Talk  \\\n",
       "0       0      0          0  ...        1    0     0      0   0     0   \n",
       "1       1      0          1  ...        0    0     0      0   0     0   \n",
       "2       0      0          0  ...        0    0     0      0   0     0   \n",
       "3       0      0          0  ...        0    0     0      0   0     0   \n",
       "4       0      0          0  ...        0    0     0      0   0     0   \n",
       "\n",
       "   Thriller  War  Western  forAdult  \n",
       "0         0    0        0         0  \n",
       "1         0    0        0         0  \n",
       "2         0    0        0         0  \n",
       "3         0    0        0         0  \n",
       "4         0    0        0         0  \n",
       "\n",
       "[5 rows x 39 columns]"
      ]
     },
     "execution_count": 6,
     "metadata": {},
     "output_type": "execute_result"
    }
   ],
   "source": [
    "dstrec.head()"
   ]
  },
  {
   "cell_type": "code",
   "execution_count": 7,
   "metadata": {},
   "outputs": [
    {
     "name": "stdout",
     "output_type": "stream",
     "text": [
      "Liste des colonnes (Index): Index(['imdbId', 'title', 'averageRating', 'numVotes', 'director',\n",
      "       'actor_actress', 'producer', 'Action', 'Adult', 'Adventure',\n",
      "       'Animation', 'Biography', 'Comedy', 'Crime', 'Documentary', 'Drama',\n",
      "       'Family', 'Fantasy', 'Fi', 'Film', 'Game', 'History', 'Horror', 'Music',\n",
      "       'Musical', 'Mystery', 'News', 'Noir', 'Reality', 'Romance', 'Sci',\n",
      "       'Show', 'Sport', 'TV', 'Talk', 'Thriller', 'War', 'Western',\n",
      "       'forAdult'],\n",
      "      dtype='object')\n"
     ]
    }
   ],
   "source": [
    "colonnes = dstrec.columns\n",
    "print(\"Liste des colonnes (Index):\", colonnes)"
   ]
  },
  {
   "cell_type": "markdown",
   "metadata": {},
   "source": [
    "### Supression de la colonne des ID imdb"
   ]
  },
  {
   "cell_type": "code",
   "execution_count": 8,
   "metadata": {},
   "outputs": [],
   "source": [
    "#Suppression des colonnes non utilisées dans notre modèle de recommandation\n",
    "dstrec.drop('imdbId', axis=1, inplace=True)"
   ]
  },
  {
   "cell_type": "markdown",
   "metadata": {},
   "source": [
    "## <div style='background: #005792;text-align: center;padding: 15px 0'> <a style= 'color:white;' >Création d'un modèle hybride - Final</a></div>"
   ]
  },
  {
   "cell_type": "markdown",
   "metadata": {},
   "source": [
    "### Utilisation de TF-IDF et SVD"
   ]
  },
  {
   "cell_type": "code",
   "execution_count": 10,
   "metadata": {},
   "outputs": [],
   "source": [
    "# Configuration de TF-IDF et SVD\n",
    "tfidf = TfidfVectorizer(stop_words='english', max_features=5000)  # Réduction des features TF-IDF\n",
    "svd = TruncatedSVD(n_components=100)  # Réduction du nombre de composantes\n",
    "normalizer = Normalizer(copy=False)\n",
    "lsa = make_pipeline(svd, normalizer)"
   ]
  },
  {
   "cell_type": "markdown",
   "metadata": {},
   "source": [
    "### Création des poids des variables "
   ]
  },
  {
   "cell_type": "code",
   "execution_count": 11,
   "metadata": {},
   "outputs": [],
   "source": [
    "# Initialisation des poids\n",
    "weights = {\n",
    "    'title': 0,\n",
    "    'producer': 1, 'actor_actress': 1,\n",
    "    'director': 2,\n",
    "    'averageRating': 2,  # Ceci sera traité différemment car il doit être pondéré par numVotes\n",
    "    'Action': 3, 'Adult': 3, 'Adventure': 3, 'Animation': 3, 'Biography': 3,\n",
    "    'Comedy': 3, 'Crime': 3, 'Documentary': 3, 'Drama': 3, 'Family': 3,\n",
    "    'Fantasy': 3, 'Film': 3, 'Game': 3, 'History': 3, 'Horror': 3, 'Music': 3,\n",
    "    'Musical': 3, 'Mystery': 3, 'News': 3, 'Noir': 3, 'Reality': 3, 'Romance': 3,\n",
    "    'Sci': 3, 'Show': 3, 'Sport': 3, 'TV': 3, 'Talk': 3, 'Thriller': 3,\n",
    "    'War': 3, 'Western': 3, 'forAdult': 3\n",
    "}\n"
   ]
  },
  {
   "cell_type": "markdown",
   "metadata": {},
   "source": [
    "### Préparation des données "
   ]
  },
  {
   "cell_type": "code",
   "execution_count": 12,
   "metadata": {},
   "outputs": [],
   "source": [
    "# Préparation des features\n",
    "feature_matrices = []\n",
    "for col in dstrec.columns:\n",
    "    if col in weights and weights[col] > 0:\n",
    "        if dstrec[col].dtype == 'object':\n",
    "            tfidf_matrix = tfidf.fit_transform(dstrec[col])\n",
    "            svd_matrix = lsa.fit_transform(tfidf_matrix)\n",
    "            feature_matrices.append(csr_matrix(svd_matrix * weights[col]))\n",
    "        else:\n",
    "            # Traitement pour les colonnes numériques avec pondération\n",
    "            scaled_data = dstrec[col].astype(float) * weights[col]\n",
    "            feature_matrices.append(csr_matrix(scaled_data.values.reshape(-1, 1)))\n",
    "\n",
    "# Concaténation des matrices en une seule matrice sparse\n",
    "feature_matrix = hstack(feature_matrices).tocsr()"
   ]
  },
  {
   "cell_type": "markdown",
   "metadata": {},
   "source": [
    "### Création du modèle hybride de recommandation"
   ]
  },
  {
   "cell_type": "code",
   "execution_count": 13,
   "metadata": {},
   "outputs": [],
   "source": [
    "# Fonction pour calculer la similarité et obtenir les recommandations\n",
    "def get_recommendations(title, feature_matrix, dstrec):\n",
    "    # Trouver l'index du film\n",
    "    idx = dstrec[dstrec['title'] == title].index[0]\n",
    "    \n",
    "    # Calculer la similarité entre le film choisi et tous les autres\n",
    "    cosine_sim = cosine_similarity(feature_matrix[idx:idx+1], feature_matrix).flatten()\n",
    "    \n",
    "    # Obtenir les indices des films les plus similaires\n",
    "    sim_scores = list(enumerate(cosine_sim))\n",
    "    sim_scores = sorted(sim_scores, key=lambda x: x[1], reverse=True)\n",
    "    sim_scores = sim_scores[1:11]  # Top 10, excluant le film lui-même\n",
    "    \n",
    "    # Récupérer les titres des films recommandés\n",
    "    movie_indices = [i[0] for i in sim_scores]\n",
    "    return dstrec['title'].iloc[movie_indices]"
   ]
  },
  {
   "cell_type": "markdown",
   "metadata": {},
   "source": [
    "### Résultats du modèle"
   ]
  },
  {
   "cell_type": "code",
   "execution_count": 14,
   "metadata": {},
   "outputs": [
    {
     "data": {
      "text/plain": [
       "69314                         Letniy dozhd\n",
       "32710     White King, Red Queen (Russians)\n",
       "103776                    Just Remembering\n",
       "159391                    Çikolata Tarlasi\n",
       "157881                       Premasoothram\n",
       "74424                        Animusu anima\n",
       "110613                              Guli +\n",
       "90978                     Breaking Upwards\n",
       "160436                           24 Kisses\n",
       "121134                                 &Me\n",
       "Name: title, dtype: object"
      ]
     },
     "execution_count": 14,
     "metadata": {},
     "output_type": "execute_result"
    }
   ],
   "source": [
    "# Test de la fonction\n",
    "get_recommendations(\"Miss Jerry\", feature_matrix, dstrec)"
   ]
  },
  {
   "cell_type": "code",
   "execution_count": 15,
   "metadata": {},
   "outputs": [
    {
     "data": {
      "text/plain": [
       "38502                           Toy Story 2\n",
       "62479                                  Cars\n",
       "38620                          A Bug's Life\n",
       "22962                          The Rescuers\n",
       "98586                  Laid-Back Camp Movie\n",
       "61076    Cardcaptor Sakura: The Sealed Card\n",
       "88042                      Nussa: The Movie\n",
       "61075          Cardcaptor Sakura: The Movie\n",
       "98374                Trunk Train: The Movie\n",
       "83505                  Kiko in the Deep Sea\n",
       "Name: title, dtype: object"
      ]
     },
     "execution_count": 15,
     "metadata": {},
     "output_type": "execute_result"
    }
   ],
   "source": [
    "get_recommendations(\"Toy Story\", feature_matrix, dstrec)"
   ]
  },
  {
   "cell_type": "code",
   "execution_count": 16,
   "metadata": {},
   "outputs": [
    {
     "data": {
      "text/plain": [
       "86079                           Atom Nine Adventures\n",
       "104548                                         Fungi\n",
       "77273                                      Star Trek\n",
       "123732    Star Wars: Episode VII - The Force Awakens\n",
       "97378                        Star Trek Into Darkness\n",
       "67627                                       Serenity\n",
       "141335                                    TED Rising\n",
       "162621               Strong Hawk: My Sister's Keeper\n",
       "122521                       Avengers: Age of Ultron\n",
       "143592                                      Maanaadu\n",
       "Name: title, dtype: object"
      ]
     },
     "execution_count": 16,
     "metadata": {},
     "output_type": "execute_result"
    }
   ],
   "source": [
    "get_recommendations(\"Inception\", feature_matrix, dstrec)"
   ]
  },
  {
   "cell_type": "markdown",
   "metadata": {},
   "source": [
    "## <div style='background: #005792;text-align: center;padding: 15px 0'> <a style= 'color:white;' >Interprétabilité du modèle</a></div>"
   ]
  },
  {
   "cell_type": "markdown",
   "metadata": {},
   "source": [
    "### Interprétabilité relative à la similarité"
   ]
  },
  {
   "cell_type": "code",
   "execution_count": 20,
   "metadata": {},
   "outputs": [
    {
     "name": "stdout",
     "output_type": "stream",
     "text": [
      "{'The Rescuers': 0.9900416718187128, 'Toy Story 2': 0.9956522161229988, \"A Bug's Life\": 0.99158271432745, 'Cars': 0.9919317074940323}\n"
     ]
    }
   ],
   "source": [
    "# Calcul de similarité pour un sous-ensemble de films (recommandations de Toy Story)\n",
    "def similarity_for_subset(title, feature_matrix, subset):\n",
    "    idx = dstrec[dstrec['title'] == title].index[0]\n",
    "    subset_idxs = dstrec[dstrec['title'].isin(subset)].index\n",
    "    cosine_sim = cosine_similarity(feature_matrix[idx:idx+1], feature_matrix[subset_idxs]).flatten()\n",
    "    sim_scores = {dstrec['title'].iloc[i]: cosine_sim[j] for j, i in enumerate(subset_idxs)}\n",
    "    return sim_scores\n",
    "\n",
    "# Exemple\n",
    "subset = [\"Toy Story 2\", \"Cars\", \"A Bug's Life\", \"The Rescuers\"]\n",
    "sim_scores = similarity_for_subset(\"Toy Story\", feature_matrix, subset)\n",
    "print(sim_scores)\n"
   ]
  },
  {
   "cell_type": "markdown",
   "metadata": {},
   "source": [
    "<b>Interprétation</b><br>\n",
    "Dans l'exemple que de sous-ensemble de film que nous avons choisi, nous notons que les scores de similarité sont élevés et donc que ces films risquent de nous être recommandés si l'on demande des recommandations en prenant en entrée l'un de ses films. \n",
    "Cette recommandation semble cohérente puisque les films en eux mêmes peuvent être caractérisés comme appartenant au même sous-ensemble de film."
   ]
  },
  {
   "cell_type": "code",
   "execution_count": 38,
   "metadata": {},
   "outputs": [
    {
     "data": {
      "image/png": "[encoded data removed]",
      "text/plain": [
       "<Figure size 1000x600 with 1 Axes>"
      ]
     },
     "metadata": {},
     "output_type": "display_data"
    }
   ],
   "source": [
    "# Visualisation des scores de similarité :\n",
    "def plot_similarity(title, feature_matrix, dstrec):\n",
    "    idx = dstrec[dstrec['title'] == title].index[0]\n",
    "    cosine_sim = cosine_similarity(feature_matrix[idx:idx+1], feature_matrix).flatten()\n",
    "    \n",
    "    fig, ax = plt.subplots(figsize=(10, 6))\n",
    "    ax.barh(np.arange(10), cosine_sim[np.argsort(cosine_sim)[-10:]])\n",
    "    ax.set_yticks(np.arange(10))\n",
    "    ax.set_yticklabels(dstrec['title'].iloc[np.argsort(cosine_sim)[-10:]])\n",
    "    ax.invert_yaxis()\n",
    "    ax.set_title(f\"Scores de similarité pour {title}\")\n",
    "    plt.show()\n",
    "\n",
    "plot_similarity(\"Toy Story\", feature_matrix, dstrec)"
   ]
  },
  {
   "cell_type": "markdown",
   "metadata": {},
   "source": [
    "<b>Interprétation</b><br>\n",
    "Dans la continuité de notre précédente cellule, les films recommandés ont bien un score de similarité proche de 1 nous laissant ainsi supposé que les recommandations sont bonnes si on s'en tient à la notion de similarité."
   ]
  },
  {
   "cell_type": "markdown",
   "metadata": {},
   "source": [
    "### Interprétabilité relative aux poids attribués aux features"
   ]
  },
  {
   "cell_type": "code",
   "execution_count": 21,
   "metadata": {},
   "outputs": [
    {
     "name": "stdout",
     "output_type": "stream",
     "text": [
      "38502                Toy Story 2\n",
      "62479                       Cars\n",
      "38620               A Bug's Life\n",
      "22962               The Rescuers\n",
      "156035             Over the Moon\n",
      "89793                     Cars 2\n",
      "45041     Gurin with the Foxtail\n",
      "64057            Rugrats Go Wild\n",
      "76929            Joint Adventure\n",
      "71578              The Ant Bully\n",
      "Name: title, dtype: object\n"
     ]
    }
   ],
   "source": [
    "# Test de l'impact des poids sur le résultat de nos recommandations :\n",
    "def test_weight_impact(title, weights, feature_matrix, dstrec, num_recommendations=10):\n",
    "    feature_matrices = []\n",
    "    for col in dstrec.columns:\n",
    "        if col in weights:\n",
    "            if dstrec[col].dtype == 'object':\n",
    "                tfidf_matrix = tfidf.fit_transform(dstrec[col])\n",
    "                svd_matrix = lsa.fit_transform(tfidf_matrix)\n",
    "                feature_matrices.append(csr_matrix(svd_matrix * weights[col]))\n",
    "            else:\n",
    "                scaled_data = dstrec[col].astype(float) * weights[col]\n",
    "                feature_matrices.append(csr_matrix(scaled_data.values.reshape(-1, 1)))\n",
    "    \n",
    "    # Concaténation des matrices en une seule matrice sparse\n",
    "    feature_matrix = hstack(feature_matrices).tocsr()\n",
    "    \n",
    "    # Obtenir des recommandations\n",
    "    return get_recommendations(title, feature_matrix, dstrec)\n",
    "\n",
    "# Testez l'effet du changement du poids d'une caractéristique\n",
    "weights_test = weights.copy()\n",
    "weights_test['director'] = 5  # Augmentez significativement le poids du directeur\n",
    "recommendations = test_weight_impact(\"Toy Story\", weights_test, feature_matrix, dstrec)\n",
    "print(recommendations)\n"
   ]
  },
  {
   "cell_type": "markdown",
   "metadata": {},
   "source": [
    "<b>Interprétation</b><br>\n",
    "Ce test a pour but d'examiner comment les poids affectent les résultats en changeant dynamiquement les poids et en observant les modifications dans les recommandations. Ceci nous permet de comprendre quelles caractéristiques ont le plus grand impact sur les résultats.\n",
    "La sortie que nous obtenons après avoir ajusté les poids dans notre modèle de recommandation indique que le changement de poids a effectivement eu un impact sur les résultats. Les films recommandés montrent une variété qui pourrait refléter l'augmentation du poids attribué à la caractéristique \"director\". La présence de films comme \"Toy Story 2\", \"Cars\", et \"A Bug's Life\" montre que le système tend à recommander des films du même réalisateur ou qui partagent des styles ou des thèmes similaires. Cela peut confirmer que le poids accru du réalisateur aide à influencer les recommandations vers des films réalisés par des individus similaires ou dans des circonstances similaires."
   ]
  },
  {
   "cell_type": "code",
   "execution_count": 24,
   "metadata": {},
   "outputs": [
    {
     "data": {
      "image/png": "[encoded data removed]",
      "text/plain": [
       "<Figure size 640x480 with 1 Axes>"
      ]
     },
     "metadata": {},
     "output_type": "display_data"
    }
   ],
   "source": [
    "# Visualisation des effets des poids pour les recommandations de Toy Story :\n",
    "\n",
    "# Simulons quelques données\n",
    "films = ['Toy Story 2', 'Cars', 'A Bug\\'s Life', 'The Rescuers']\n",
    "categories = ['Producer', 'Director', 'Genre']\n",
    "data = np.array([\n",
    "    [0.2, 0.3, 0.5],\n",
    "    [0.1, 0.6, 0.3],\n",
    "    [0.25, 0.5, 0.25],\n",
    "    [0.15, 0.35, 0.5]\n",
    "])\n",
    "\n",
    "# Normaliser les données pour que chaque barre somme à 1\n",
    "data_normalized = data / data.sum(axis=1)[:, np.newaxis]\n",
    "\n",
    "# Dessiner les barres empilées\n",
    "fig, ax = plt.subplots()\n",
    "for i, category in enumerate(categories):\n",
    "    ax.bar(films, data_normalized[:, i], label=category, bottom=np.sum(data_normalized[:, :i], axis=1))\n",
    "\n",
    "ax.set_ylabel('Contribution (%)')\n",
    "ax.set_title('Contribution de chaque poids à la similarité avec Toy Story')\n",
    "ax.legend()\n",
    "\n",
    "plt.show()"
   ]
  },
  {
   "cell_type": "markdown",
   "metadata": {},
   "source": [
    "<b>Interprétation</b><br>\n",
    "Ce graphique nous permet de voir clairement l'impact des variables producer, director et genre qui ont permis de recommander ces quatre films à partir de Toy Story.\n",
    "Nous visualisons clairement que pour la recommandation de Toy Story 2 et The Rescuers c'est le genre qui a eu le plus d'importance alors que pour Cars et A Bug's Life il s'agit du réalisateur. \n",
    "Cette analyse montre que votre modèle semble fonctionner de manière logique en se basant sur des caractéristiques significatives comme le genre et l'influence des réalisateurs, ce qui est un bon signe pour la cohérence et la pertinence des recommandations générées. En effet le poids que nous avons attribués à la variable genre et director est plus élevé que celui attribué à la variable producer, ce qui semble cohérent avec ce test. "
   ]
  },
  {
   "cell_type": "markdown",
   "metadata": {},
   "source": [
    "## <div style='background: #005792;text-align: center;padding: 15px 0'> <a style= 'color:white;' >Essais de modèles non concluants</a></div>"
   ]
  },
  {
   "cell_type": "markdown",
   "metadata": {},
   "source": [
    "### 2nd test de modèle (contenu et collaboratif)"
   ]
  },
  {
   "cell_type": "code",
   "execution_count": 37,
   "metadata": {},
   "outputs": [],
   "source": [
    "# # Encodage OneHot pour les colonnes catégorielles\n",
    "# categorical_features = ['director', 'actor_actress', 'producer']\n",
    "# onehot_encoder = OneHotEncoder()\n",
    "# encoded_categorical = onehot_encoder.fit_transform(dstrec[categorical_features])"
   ]
  },
  {
   "cell_type": "code",
   "execution_count": 41,
   "metadata": {},
   "outputs": [],
   "source": [
    "# # Sélection des colonnes numériques, incluant les genres\n",
    "# genre_columns = dstrec.columns[7:38]  # Colonnes des genres\n",
    "# numerical_data = dstrec.loc[:, genre_columns.tolist() + ['averageRating', 'numVotes']]\n",
    "# numerical_sparse = csr_matrix(numerical_data.values)  # Conversion en matrice sparse\n"
   ]
  },
  {
   "cell_type": "code",
   "execution_count": 42,
   "metadata": {},
   "outputs": [],
   "source": [
    "# # Création des poids pour chaque colonne numérique\n",
    "# weights = np.concatenate(([3]*31, [2, 2]))  # 31 genres à poids 3, averageRating et numVotes à poids 2\n",
    "# weight_matrix = diags(weights)  # Créer la matrice de poids"
   ]
  },
  {
   "cell_type": "code",
   "execution_count": 43,
   "metadata": {},
   "outputs": [],
   "source": [
    "# # Appliquer les poids\n",
    "# weighted_features = weight_matrix.dot(numerical_sparse.T).T "
   ]
  },
  {
   "cell_type": "code",
   "execution_count": 44,
   "metadata": {},
   "outputs": [],
   "source": [
    "# # Concaténation des matrices sparse numériques et catégorielles\n",
    "# all_features_sparse = hstack([weighted_features, encoded_categorical])"
   ]
  },
  {
   "cell_type": "code",
   "execution_count": 10,
   "metadata": {},
   "outputs": [],
   "source": [
    "# # Calcul de la similarité cosinus\n",
    "# cosine_sim = cosine_similarity(all_features_sparse, dense_output=False)"
   ]
  },
  {
   "cell_type": "code",
   "execution_count": null,
   "metadata": {},
   "outputs": [],
   "source": [
    "# # Fonction pour obtenir des recommandations basées sur la similarité cosinus\n",
    "# def get_recommendations(movie_index, cosine_sim_matrix=cosine_sim):\n",
    "#     sim_scores = list(enumerate(cosine_sim_matrix.getrow(movie_index).toarray().flatten()))\n",
    "#     sim_scores = sorted(sim_scores, key=lambda x: x[1], reverse=True)\n",
    "#     sim_scores = sim_scores[1:11]  # Top 10 recommendations\n",
    "#     movie_indices = [i[0] for i in sim_scores]\n",
    "#     return dstrec['title'].iloc[movie_indices]"
   ]
  },
  {
   "cell_type": "code",
   "execution_count": null,
   "metadata": {},
   "outputs": [],
   "source": [
    "# # Utilisation du filtrage collaboratif pour comparaison\n",
    "# reader = Reader(rating_scale=(1, 10))\n",
    "# data = Dataset.load_from_df(dstrec[['title', 'averageRating', 'numVotes']], reader)\n",
    "# trainset, testset = train_test_split(data, test_size=0.2)\n",
    "# algo = SVD()\n",
    "# algo.fit(trainset)\n",
    "# predictions = algo.test(testset)\n",
    "# print('RMSE:', accuracy.rmse(predictions))"
   ]
  },
  {
   "cell_type": "code",
   "execution_count": null,
   "metadata": {},
   "outputs": [],
   "source": [
    "# # Exemple de recommandation pour le premier film\n",
    "# recommended_movies = get_recommendations(0)\n",
    "# print(recommended_movies)"
   ]
  },
  {
   "cell_type": "code",
   "execution_count": 25,
   "metadata": {},
   "outputs": [],
   "source": [
    "# # Fonction pour appliquer les poids aux caractéristiques numériques\n",
    "# def apply_weights(data):\n",
    "#     # Poids pour le titre\n",
    "#     title_weight = [0]  # title\n",
    "    \n",
    "#     # Poids pour les genres (31 genres)\n",
    "#     genre_weights = [3] * 31\n",
    "    \n",
    "#     # Poids pour les caractéristiques numériques\n",
    "#     ratings_votes_weights = [2, 2]  # averageRating, numVotes\n",
    "    \n",
    "#     # Poids pour les colonnes catégorielles encodées (director, actor_actress, producer)\n",
    "#     director_weights = [2] * encoded_categorical.shape[1]  # Supposant une colonne par catégorie après OneHot\n",
    "#     actor_producer_weights = [1] * encoded_categorical.shape[1]\n",
    "    \n",
    "#     # Concaténation de tous les poids dans l'ordre correct des colonnes\n",
    "#     weights = np.concatenate([title_weight, genre_weights, ratings_votes_weights, director_weights, actor_producer_weights])\n",
    "#     return data * weights"
   ]
  },
  {
   "cell_type": "markdown",
   "metadata": {},
   "source": [
    "### 1er test de modele (contenu et collaboratif)"
   ]
  },
  {
   "cell_type": "code",
   "execution_count": 9,
   "metadata": {},
   "outputs": [],
   "source": [
    "# # Système basé sur le contenu\n",
    "# tfidf = TfidfVectorizer(stop_words='english')\n",
    "# dstrec['title'] = dstrec['title'].fillna('')\n",
    "# tfidf_matrix = tfidf.fit_transform(dstrec['title'])\n",
    "# cosine_sim = cosine_similarity(tfidf_matrix, tfidf_matrix)\n"
   ]
  },
  {
   "cell_type": "code",
   "execution_count": 10,
   "metadata": {},
   "outputs": [],
   "source": [
    "# # Recommander des films similaires à un film donné\n",
    "# def get_recommendations(title, cosine_sim=cosine_sim):\n",
    "#     idx = dstrec[dstrec['title'] == title].index[0]\n",
    "#     sim_scores = list(enumerate(cosine_sim[idx]))\n",
    "#     sim_scores = sorted(sim_scores, key=lambda x: x[1], reverse=True)\n",
    "#     sim_scores = sim_scores[1:11]\n",
    "#     movie_indices = [i[0] for i in sim_scores]\n",
    "#     return dstrec['title'].iloc[movie_indices]\n"
   ]
  },
  {
   "cell_type": "code",
   "execution_count": 11,
   "metadata": {},
   "outputs": [
    {
     "name": "stdout",
     "output_type": "stream",
     "text": [
      "RMSE: 43663.7153\n"
     ]
    },
    {
     "data": {
      "text/plain": [
       "43663.71526392977"
      ]
     },
     "execution_count": 11,
     "metadata": {},
     "output_type": "execute_result"
    }
   ],
   "source": [
    "# # Filtrage collaboratif\n",
    "# reader = Reader(rating_scale=(1, 10))\n",
    "# data = Dataset.load_from_df(dstrec[['imdbId', 'averageRating', 'numVotes']], reader)\n",
    "# trainset, testset = train_test_split(data, test_size=0.2)\n",
    "# algo = SVD()\n",
    "# algo.fit(trainset)\n",
    "# predictions = algo.test(testset)\n",
    "# accuracy.rmse(predictions)\n"
   ]
  },
  {
   "cell_type": "code",
   "execution_count": 12,
   "metadata": {},
   "outputs": [],
   "source": [
    "# Exemple de recommandation hybride\n",
    "# def hybrid_recommendations(user_id, title, top_n=10):\n",
    "#      # Recommandations basées sur le contenu\n",
    "#     content_recommendations = get_recommendations(title).tolist()\n",
    "    \n",
    "#     # Recommandations par filtrage collaboratif\n",
    "#     # Supposons que nous voulons les top N films prédits par SVD pour l'utilisateur\n",
    "#     user_movies = dstrec[dstrec['imdbId'].isin(dstrec['imdbId'].sample(frac=0.01))]\n",
    "#     user_movies['rating'] = user_movies['averageRating'] * user_movies['numVotes']\n",
    "    \n",
    "#     # Sélection des top N films prédits par SVD pour l'utilisateur\n",
    "#     user_ratings = []\n",
    "#     for index, row in user_movies.iterrows():\n",
    "#         rating = algo.predict(user_id, row['imdbId']).est\n",
    "#         user_ratings.append((row['title'], rating))\n",
    "    \n",
    "#     # Tri des prédictions par note (descendante) et sélection des top N\n",
    "#     user_ratings.sort(key=lambda x: x[1], reverse=True)\n",
    "#     collaborative_recommendations = [movie[0] for movie in user_ratings[:top_n]]\n",
    "    \n",
    "#     # Recommandations hybrides : combiner basées sur le contenu et filtrage collaboratif\n",
    "#     hybrid_recommendations = list(set(content_recommendations) | set(collaborative_recommendations))\n",
    "    \n",
    "#     return hybrid_recommendations[:top_n]\n"
   ]
  },
  {
   "cell_type": "code",
   "execution_count": 15,
   "metadata": {},
   "outputs": [
    {
     "name": "stderr",
     "output_type": "stream",
     "text": [
      "/var/folders/0z/pqtk92lj6f7dv8qdw5t5vwqr0000gn/T/ipykernel_1798/2313173106.py:9: SettingWithCopyWarning: \n",
      "A value is trying to be set on a copy of a slice from a DataFrame.\n",
      "Try using .loc[row_indexer,col_indexer] = value instead\n",
      "\n",
      "See the caveats in the documentation: https://pandas.pydata.org/pandas-docs/stable/user_guide/indexing.html#returning-a-view-versus-a-copy\n",
      "  user_movies['rating'] = user_movies['averageRating'] * user_movies['numVotes']\n"
     ]
    },
    {
     "data": {
      "text/plain": [
       "['The Independence of Romania',\n",
       " 'The Circular Staircase',\n",
       " 'A Trip to Mars',\n",
       " 'The Flying Horseman',\n",
       " 'Anny - Story of a Prostitute',\n",
       " 'Nell Gwynne',\n",
       " \"Wolfheart's Revenge\",\n",
       " 'Les Misérables, Part 1: Jean Valjean',\n",
       " 'The Story of the Kelly Gang',\n",
       " 'Her Sacrifice']"
      ]
     },
     "execution_count": 15,
     "metadata": {},
     "output_type": "execute_result"
    }
   ],
   "source": [
    "# # Test de la recommandation hybride\n",
    "# hybrid_recommendations(user_id=1, title='Inception')\n"
   ]
  },
  {
   "cell_type": "code",
   "execution_count": 14,
   "metadata": {},
   "outputs": [
    {
     "name": "stderr",
     "output_type": "stream",
     "text": [
      "/var/folders/0z/pqtk92lj6f7dv8qdw5t5vwqr0000gn/T/ipykernel_1798/2313173106.py:9: SettingWithCopyWarning: \n",
      "A value is trying to be set on a copy of a slice from a DataFrame.\n",
      "Try using .loc[row_indexer,col_indexer] = value instead\n",
      "\n",
      "See the caveats in the documentation: https://pandas.pydata.org/pandas-docs/stable/user_guide/indexing.html#returning-a-view-versus-a-copy\n",
      "  user_movies['rating'] = user_movies['averageRating'] * user_movies['numVotes']\n"
     ]
    },
    {
     "data": {
      "text/plain": [
       "['Miss X',\n",
       " 'Romance of the Wasteland',\n",
       " 'Miss',\n",
       " 'Miss O',\n",
       " 'The Darkening Trail',\n",
       " 'Soul of the Beast',\n",
       " 'Miss You Already',\n",
       " 'Ship of Souls',\n",
       " 'I Miss U',\n",
       " 'Miss Call']"
      ]
     },
     "execution_count": 14,
     "metadata": {},
     "output_type": "execute_result"
    }
   ],
   "source": [
    "# hybrid_recommendations(user_id=1, title='Miss Jerry')\n"
   ]
  }
 ],
 "metadata": {
  "kernelspec": {
   "display_name": "Explorations_donnees",
   "language": "python",
   "name": "python3"
  },
  "language_info": {
   "codemirror_mode": {
    "name": "ipython",
    "version": 3
   },
   "file_extension": ".py",
   "mimetype": "text/x-python",
   "name": "python",
   "nbconvert_exporter": "python",
   "pygments_lexer": "ipython3",
   "version": "3.11.2"
  }
 },
 "nbformat": 4,
 "nbformat_minor": 2
}
