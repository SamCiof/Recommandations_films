{
 "cells": [
  {
   "cell_type": "markdown",
   "metadata": {},
   "source": [
    "# <div style='color:white;background: #005792;text-align: center;padding: 15px 0'>Recommandations - Modélisation d'un modèle machine learning basé sur du Filtrage Collaboratif </div>"
   ]
  },
  {
   "cell_type": "markdown",
   "metadata": {},
   "source": [
    "## Participants\n",
    "* Samantha\n",
    "* Rachelle\n",
    "* Andrew"
   ]
  },
  {
   "cell_type": "markdown",
   "metadata": {},
   "source": [
    "### Installation des librairies"
   ]
  },
  {
   "cell_type": "code",
   "execution_count": null,
   "metadata": {},
   "outputs": [],
   "source": [
    "#!pip install scikit-learn\n",
    "#!pip install tabulate"
   ]
  },
  {
   "cell_type": "markdown",
   "metadata": {},
   "source": [
    "### Importation des librairies"
   ]
  },
  {
   "cell_type": "code",
   "execution_count": 1,
   "metadata": {},
   "outputs": [],
   "source": [
    "import pandas as pd\n",
    "import numpy as np\n",
    "from sklearn import linear_model\n",
    "from sklearn import preprocessing\n",
    "from sklearn.model_selection import train_test_split\n",
    "from sklearn.feature_extraction.text import TfidfVectorizer\n",
    "import scipy.sparse as sp\n",
    "from sklearn.metrics.pairwise import cosine_similarity, euclidean_distances"
   ]
  },
  {
   "cell_type": "markdown",
   "metadata": {},
   "source": [
    "### Chargement des fichiers "
   ]
  },
  {
   "cell_type": "code",
   "execution_count": 2,
   "metadata": {},
   "outputs": [],
   "source": [
    "source_dir= '/home/dstrec/dstrec/010_data/002_merged'\n",
    "\n",
    "file_final = f\"{source_dir}/dstrec.csv\""
   ]
  },
  {
   "cell_type": "code",
   "execution_count": 3,
   "metadata": {},
   "outputs": [],
   "source": [
    "df = pd.read_csv(file_final)"
   ]
  },
  {
   "cell_type": "code",
   "execution_count": 5,
   "metadata": {},
   "outputs": [
    {
     "name": "stdout",
     "output_type": "stream",
     "text": [
      "<class 'pandas.core.frame.DataFrame'>\n",
      "RangeIndex: 164108 entries, 0 to 164107\n",
      "Data columns (total 39 columns):\n",
      " #   Column         Non-Null Count   Dtype  \n",
      "---  ------         --------------   -----  \n",
      " 0   imdbId         164108 non-null  object \n",
      " 1   title          164108 non-null  object \n",
      " 2   averageRating  164108 non-null  float64\n",
      " 3   numVotes       164108 non-null  float64\n",
      " 4   director       164108 non-null  object \n",
      " 5   actor_actress  164108 non-null  object \n",
      " 6   producer       164108 non-null  object \n",
      " 7   Action         164108 non-null  int64  \n",
      " 8   Adult          164108 non-null  int64  \n",
      " 9   Adventure      164108 non-null  int64  \n",
      " 10  Animation      164108 non-null  int64  \n",
      " 11  Biography      164108 non-null  int64  \n",
      " 12  Comedy         164108 non-null  int64  \n",
      " 13  Crime          164108 non-null  int64  \n",
      " 14  Documentary    164108 non-null  int64  \n",
      " 15  Drama          164108 non-null  int64  \n",
      " 16  Family         164108 non-null  int64  \n",
      " 17  Fantasy        164108 non-null  int64  \n",
      " 18  Fi             164108 non-null  int64  \n",
      " 19  Film           164108 non-null  int64  \n",
      " 20  Game           164108 non-null  int64  \n",
      " 21  History        164108 non-null  int64  \n",
      " 22  Horror         164108 non-null  int64  \n",
      " 23  Music          164108 non-null  int64  \n",
      " 24  Musical        164108 non-null  int64  \n",
      " 25  Mystery        164108 non-null  int64  \n",
      " 26  News           164108 non-null  int64  \n",
      " 27  Noir           164108 non-null  int64  \n",
      " 28  Reality        164108 non-null  int64  \n",
      " 29  Romance        164108 non-null  int64  \n",
      " 30  Sci            164108 non-null  int64  \n",
      " 31  Show           164108 non-null  int64  \n",
      " 32  Sport          164108 non-null  int64  \n",
      " 33  TV             164108 non-null  int64  \n",
      " 34  Talk           164108 non-null  int64  \n",
      " 35  Thriller       164108 non-null  int64  \n",
      " 36  War            164108 non-null  int64  \n",
      " 37  Western        164108 non-null  int64  \n",
      " 38  forAdult       164108 non-null  int64  \n",
      "dtypes: float64(2), int64(32), object(5)\n",
      "memory usage: 48.8+ MB\n"
     ]
    }
   ],
   "source": [
    "df.info()"
   ]
  },
  {
   "cell_type": "code",
   "execution_count": 4,
   "metadata": {},
   "outputs": [
    {
     "data": {
      "text/html": [
       "<div>\n",
       "<style scoped>\n",
       "    .dataframe tbody tr th:only-of-type {\n",
       "        vertical-align: middle;\n",
       "    }\n",
       "\n",
       "    .dataframe tbody tr th {\n",
       "        vertical-align: top;\n",
       "    }\n",
       "\n",
       "    .dataframe thead th {\n",
       "        text-align: right;\n",
       "    }\n",
       "</style>\n",
       "<table border=\"1\" class=\"dataframe\">\n",
       "  <thead>\n",
       "    <tr style=\"text-align: right;\">\n",
       "      <th></th>\n",
       "      <th>imdbId</th>\n",
       "      <th>title</th>\n",
       "      <th>averageRating</th>\n",
       "      <th>numVotes</th>\n",
       "      <th>director</th>\n",
       "      <th>actor_actress</th>\n",
       "      <th>producer</th>\n",
       "      <th>Action</th>\n",
       "      <th>Adult</th>\n",
       "      <th>Adventure</th>\n",
       "      <th>...</th>\n",
       "      <th>Romance</th>\n",
       "      <th>Sci</th>\n",
       "      <th>Show</th>\n",
       "      <th>Sport</th>\n",
       "      <th>TV</th>\n",
       "      <th>Talk</th>\n",
       "      <th>Thriller</th>\n",
       "      <th>War</th>\n",
       "      <th>Western</th>\n",
       "      <th>forAdult</th>\n",
       "    </tr>\n",
       "  </thead>\n",
       "  <tbody>\n",
       "    <tr>\n",
       "      <th>0</th>\n",
       "      <td>tt0000009</td>\n",
       "      <td>Miss Jerry</td>\n",
       "      <td>5.4</td>\n",
       "      <td>212.0</td>\n",
       "      <td>Alexander Black</td>\n",
       "      <td>William Courtenay/Blanche Bayliss</td>\n",
       "      <td>Alexander Black</td>\n",
       "      <td>0</td>\n",
       "      <td>0</td>\n",
       "      <td>0</td>\n",
       "      <td>...</td>\n",
       "      <td>1</td>\n",
       "      <td>0</td>\n",
       "      <td>0</td>\n",
       "      <td>0</td>\n",
       "      <td>0</td>\n",
       "      <td>0</td>\n",
       "      <td>0</td>\n",
       "      <td>0</td>\n",
       "      <td>0</td>\n",
       "      <td>0</td>\n",
       "    </tr>\n",
       "    <tr>\n",
       "      <th>1</th>\n",
       "      <td>tt0000574</td>\n",
       "      <td>The Story of the Kelly Gang</td>\n",
       "      <td>6.0</td>\n",
       "      <td>900.0</td>\n",
       "      <td>Charles Tait</td>\n",
       "      <td>Godfrey Cass/Bella Cola</td>\n",
       "      <td>W.A. Gibson</td>\n",
       "      <td>1</td>\n",
       "      <td>0</td>\n",
       "      <td>1</td>\n",
       "      <td>...</td>\n",
       "      <td>0</td>\n",
       "      <td>0</td>\n",
       "      <td>0</td>\n",
       "      <td>0</td>\n",
       "      <td>0</td>\n",
       "      <td>0</td>\n",
       "      <td>0</td>\n",
       "      <td>0</td>\n",
       "      <td>0</td>\n",
       "      <td>0</td>\n",
       "    </tr>\n",
       "    <tr>\n",
       "      <th>2</th>\n",
       "      <td>tt0001370</td>\n",
       "      <td>Rainha Depois de Morta Inês de Castro</td>\n",
       "      <td>5.2</td>\n",
       "      <td>26.0</td>\n",
       "      <td>Carlos Santos</td>\n",
       "      <td>Eduardo Brazão/Amelia Vieira</td>\n",
       "      <td>Júlio Costa</td>\n",
       "      <td>0</td>\n",
       "      <td>0</td>\n",
       "      <td>0</td>\n",
       "      <td>...</td>\n",
       "      <td>0</td>\n",
       "      <td>0</td>\n",
       "      <td>0</td>\n",
       "      <td>0</td>\n",
       "      <td>0</td>\n",
       "      <td>0</td>\n",
       "      <td>0</td>\n",
       "      <td>0</td>\n",
       "      <td>0</td>\n",
       "      <td>0</td>\n",
       "    </tr>\n",
       "    <tr>\n",
       "      <th>3</th>\n",
       "      <td>tt0001790</td>\n",
       "      <td>Les Misérables, Part 1: Jean Valjean</td>\n",
       "      <td>6.0</td>\n",
       "      <td>52.0</td>\n",
       "      <td>Albert Capellani</td>\n",
       "      <td>Jean Angelo/Maria Fromet</td>\n",
       "      <td>Pierre Decourcelle</td>\n",
       "      <td>0</td>\n",
       "      <td>0</td>\n",
       "      <td>0</td>\n",
       "      <td>...</td>\n",
       "      <td>0</td>\n",
       "      <td>0</td>\n",
       "      <td>0</td>\n",
       "      <td>0</td>\n",
       "      <td>0</td>\n",
       "      <td>0</td>\n",
       "      <td>0</td>\n",
       "      <td>0</td>\n",
       "      <td>0</td>\n",
       "      <td>0</td>\n",
       "    </tr>\n",
       "    <tr>\n",
       "      <th>4</th>\n",
       "      <td>tt0001911</td>\n",
       "      <td>Nell Gwynne</td>\n",
       "      <td>3.6</td>\n",
       "      <td>26.0</td>\n",
       "      <td>Raymond Longford</td>\n",
       "      <td>Walter Bastin/Agnes Keogh</td>\n",
       "      <td>George Musgrove</td>\n",
       "      <td>0</td>\n",
       "      <td>0</td>\n",
       "      <td>0</td>\n",
       "      <td>...</td>\n",
       "      <td>0</td>\n",
       "      <td>0</td>\n",
       "      <td>0</td>\n",
       "      <td>0</td>\n",
       "      <td>0</td>\n",
       "      <td>0</td>\n",
       "      <td>0</td>\n",
       "      <td>0</td>\n",
       "      <td>0</td>\n",
       "      <td>0</td>\n",
       "    </tr>\n",
       "  </tbody>\n",
       "</table>\n",
       "<p>5 rows × 39 columns</p>\n",
       "</div>"
      ],
      "text/plain": [
       "      imdbId                                  title  averageRating  numVotes  \\\n",
       "0  tt0000009                             Miss Jerry            5.4     212.0   \n",
       "1  tt0000574            The Story of the Kelly Gang            6.0     900.0   \n",
       "2  tt0001370  Rainha Depois de Morta Inês de Castro            5.2      26.0   \n",
       "3  tt0001790   Les Misérables, Part 1: Jean Valjean            6.0      52.0   \n",
       "4  tt0001911                            Nell Gwynne            3.6      26.0   \n",
       "\n",
       "           director                      actor_actress            producer  \\\n",
       "0   Alexander Black  William Courtenay/Blanche Bayliss     Alexander Black   \n",
       "1      Charles Tait            Godfrey Cass/Bella Cola         W.A. Gibson   \n",
       "2     Carlos Santos       Eduardo Brazão/Amelia Vieira         Júlio Costa   \n",
       "3  Albert Capellani           Jean Angelo/Maria Fromet  Pierre Decourcelle   \n",
       "4  Raymond Longford          Walter Bastin/Agnes Keogh     George Musgrove   \n",
       "\n",
       "   Action  Adult  Adventure  ...  Romance  Sci  Show  Sport  TV  Talk  \\\n",
       "0       0      0          0  ...        1    0     0      0   0     0   \n",
       "1       1      0          1  ...        0    0     0      0   0     0   \n",
       "2       0      0          0  ...        0    0     0      0   0     0   \n",
       "3       0      0          0  ...        0    0     0      0   0     0   \n",
       "4       0      0          0  ...        0    0     0      0   0     0   \n",
       "\n",
       "   Thriller  War  Western  forAdult  \n",
       "0         0    0        0         0  \n",
       "1         0    0        0         0  \n",
       "2         0    0        0         0  \n",
       "3         0    0        0         0  \n",
       "4         0    0        0         0  \n",
       "\n",
       "[5 rows x 39 columns]"
      ]
     },
     "execution_count": 4,
     "metadata": {},
     "output_type": "execute_result"
    }
   ],
   "source": [
    "df.head()"
   ]
  },
  {
   "cell_type": "markdown",
   "metadata": {},
   "source": [
    "### Implémentation du modèle"
   ]
  },
  {
   "cell_type": "code",
   "execution_count": 5,
   "metadata": {},
   "outputs": [],
   "source": [
    "#Préparation des données\n",
    "df['desc']=''\n",
    "for i in df[df.columns[2:38]].columns.values:\n",
    "    if df.select_dtypes !=('object'):\n",
    "        df['desc']=df['desc']+\" \"+df[i].apply(str)\n",
    "    else:\n",
    "        df['desc']=df['desc']+\" \"+df[i]"
   ]
  },
  {
   "cell_type": "code",
   "execution_count": 6,
   "metadata": {},
   "outputs": [],
   "source": [
    "# Créer un TfidfVectorizer et supprimer les mots vides\n",
    "tfidf = TfidfVectorizer(stop_words='english')\n",
    "\n",
    "#df['desc']=df['director']+df['actor_actress']+df['producer']\n",
    "\n",
    "# Adapter et transformer les données en une matrice tfidf\n",
    "matrice_tfidf = tfidf.fit_transform(df['desc'])"
   ]
  },
  {
   "cell_type": "code",
   "execution_count": 7,
   "metadata": {},
   "outputs": [],
   "source": [
    "# Fonction pour calculer la similarité et obtenir les recommandations\n",
    "def get_recommendations1(title, matrice_tfidf, df):\n",
    "    if title not in df['title'].values:\n",
    "        return \"Ce film n'est pas dans la base de données.\"\n",
    "\n",
    "    # Trouver l'index du film\n",
    "    idx = df[df['title'] == title].index[0]\n",
    "    \n",
    "    # Calculer la similarité entre le film choisi et tous les autres\n",
    "    cosine_sim = cosine_similarity(matrice_tfidf[idx:idx+1], matrice_tfidf).flatten()\n",
    "    \n",
    "    # Obtenir les indices des films les plus similaires\n",
    "    sim_scores = list(enumerate(cosine_sim))\n",
    "    sim_scores = sorted(sim_scores, key=lambda x: x[1], reverse=True)\n",
    "    sim_scores = sim_scores[1:11]  # Top 10, excluant le film lui-même\n",
    "    \n",
    "    # Récupérer les titres des films recommandés\n",
    "    movie_indices = [i[0] for i in sim_scores]\n",
    "    recommanded_title=df['title'].iloc[movie_indices]\n",
    "    score=[i[1] for i in sim_scores]\n",
    "\n",
    "    return list(zip(movie_indices,recommanded_title,score))"
   ]
  },
  {
   "cell_type": "markdown",
   "metadata": {},
   "source": [
    "### Exemples de recommandations"
   ]
  },
  {
   "cell_type": "code",
   "execution_count": 8,
   "metadata": {},
   "outputs": [
    {
     "data": {
      "text/plain": [
       "[(97378, 'Star Trek Into Darkness', 0.806958309354247),\n",
       " (125577, 'Star Trek Beyond', 0.48176510642288994),\n",
       " (123732, 'Star Wars: Episode VII - The Force Awakens', 0.4100682868941919),\n",
       " (124099,\n",
       "  'Star Wars: Episode IX - The Rise of Skywalker',\n",
       "  0.39525436584129925),\n",
       " (106415, 'Super 8', 0.3904688088534379),\n",
       " (98571, 'Marisol', 0.374631593334762),\n",
       " (39233, 'The Analyst', 0.3524722975109345),\n",
       " (129760, 'Mining for Ruby', 0.30039055705871287),\n",
       " (157767, 'Fame-ish', 0.25918987130852256),\n",
       " (17490, 'Cargo of Love', 0.23467792053521402)]"
      ]
     },
     "execution_count": 8,
     "metadata": {},
     "output_type": "execute_result"
    }
   ],
   "source": [
    "# Test de la fonction\n",
    "get_recommendations1(\"Star Trek\", matrice_tfidf, df)"
   ]
  },
  {
   "cell_type": "code",
   "execution_count": 9,
   "metadata": {},
   "outputs": [
    {
     "data": {
      "text/plain": [
       "[(123302, 'Beneath a Neon Tide', 0.2661550196292582),\n",
       " (132249, 'Six Hot Chicks in a Warehouse', 0.24002629250513569),\n",
       " (32378, 'A Rage in Harlem', 0.2368127139873928),\n",
       " (65917, 'First Daughter', 0.23364934609586221),\n",
       " (60928, 'The Collaboration', 0.23069579649608107),\n",
       " (145146, 'How It Ends', 0.22858667519893477),\n",
       " (124228, 'Arrival', 0.22845485699484844),\n",
       " (73505, 'The Last King of Scotland', 0.22653381144674284),\n",
       " (69554, 'Even Money', 0.2256716447590994),\n",
       " (76794, 'Footsteps', 0.22556338624448158)]"
      ]
     },
     "execution_count": 9,
     "metadata": {},
     "output_type": "execute_result"
    }
   ],
   "source": [
    "# Test de la fonction\n",
    "get_recommendations1(\"Rogue One: A Star Wars Story\", matrice_tfidf, df)"
   ]
  },
  {
   "cell_type": "code",
   "execution_count": 10,
   "metadata": {},
   "outputs": [
    {
     "data": {
      "text/plain": [
       "[(124099,\n",
       "  'Star Wars: Episode IX - The Rise of Skywalker',\n",
       "  0.42656940272432303),\n",
       " (106415, 'Super 8', 0.4214046977585216),\n",
       " (77273, 'Star Trek', 0.4100682868941919),\n",
       " (97378, 'Star Trek Into Darkness', 0.4100682868941919),\n",
       " (98571, 'Marisol', 0.4043127383813279),\n",
       " (86228, 'Morning Glory', 0.4017898701519004),\n",
       " (39233, 'The Analyst', 0.3803978157359017),\n",
       " (17490, 'Cargo of Love', 0.2532708783170953),\n",
       " (43171, 'Love Secrets', 0.25262055374169134),\n",
       " (21494, 'Crime and Passion', 0.24325819296817458)]"
      ]
     },
     "execution_count": 10,
     "metadata": {},
     "output_type": "execute_result"
    }
   ],
   "source": [
    "# Test de la fonction\n",
    "get_recommendations1(\"Star Wars: Episode VII - The Force Awakens\", matrice_tfidf, df)"
   ]
  },
  {
   "cell_type": "code",
   "execution_count": 11,
   "metadata": {},
   "outputs": [
    {
     "data": {
      "text/plain": [
       "[(78530, 'The Avengers', 0.2565186128817699),\n",
       " (122521, 'Avengers: Age of Ultron', 0.2565186128817699),\n",
       " (153266, 'PRND', 0.2524096473736803),\n",
       " (91321, 'The Cabin in the Woods', 0.25116705002599987),\n",
       " (69944, 'Twelve Steps Outside', 0.20787575009249323),\n",
       " (88798, 'Peacock', 0.20392912587794995),\n",
       " (27826, '3:15 the Moment of Truth', 0.20297840176665286),\n",
       " (40263, 'Rushmore', 0.1994395597936004),\n",
       " (51715, 'Unbreakable', 0.19298898768575024),\n",
       " (79915, 'The Happening', 0.18903115403251422)]"
      ]
     },
     "execution_count": 11,
     "metadata": {},
     "output_type": "execute_result"
    }
   ],
   "source": [
    "# Test de la fonction\n",
    "get_recommendations1(\"Serenity\", matrice_tfidf, df)"
   ]
  },
  {
   "cell_type": "code",
   "execution_count": 12,
   "metadata": {},
   "outputs": [
    {
     "data": {
      "text/plain": [
       "[(39193, 'Small Soldiers', 0.2804271116113367),\n",
       " (24609, 'The Offenders', 0.2642108948504122),\n",
       " (34112, 'Mrs. Doubtfire', 0.25324821028338823),\n",
       " (125443, 'Midnight Special', 0.24142610552070792),\n",
       " (69391, 'Breach', 0.2388309190633842),\n",
       " (48447, 'Get Over It', 0.23809510350045862),\n",
       " (44204, 'Luckytown', 0.23654243064592212),\n",
       " (32930, \"The Gun in Betty Lou's Handbag\", 0.23187818175521002),\n",
       " (34982,\n",
       "  'Interview with the Vampire: The Vampire Chronicles',\n",
       "  0.23171384052691052),\n",
       " (50363, 'Bring It On', 0.23108843023035075)]"
      ]
     },
     "execution_count": 12,
     "metadata": {},
     "output_type": "execute_result"
    }
   ],
   "source": [
    "# Test de la fonction\n",
    "get_recommendations1(\"Jumanji\", matrice_tfidf, df)"
   ]
  },
  {
   "cell_type": "code",
   "execution_count": 13,
   "metadata": {},
   "outputs": [
    {
     "data": {
      "text/plain": [
       "[(113410, 'Toy Story 4', 0.3884118168482989),\n",
       " (38502, 'Toy Story 2', 0.38095017527799824),\n",
       " (104575, 'Larry Crowne', 0.3606475862722374),\n",
       " (62479, 'Cars', 0.30561086099999335),\n",
       " (74692, \"Charlie Wilson's War\", 0.298886837011888),\n",
       " (44387, 'Cast Away', 0.29431141490213497),\n",
       " (105623, 'S&M Lawn Care', 0.2931187309559537),\n",
       " (90296, 'The Stanton Family Grave Robbery', 0.2917249924068664),\n",
       " (37540, 'That Thing You Do!', 0.2859922736949554),\n",
       " (155737, 'A Man Called Otto', 0.28276691569078494)]"
      ]
     },
     "execution_count": 13,
     "metadata": {},
     "output_type": "execute_result"
    }
   ],
   "source": [
    "get_recommendations1(\"Toy Story\", matrice_tfidf, df)"
   ]
  },
  {
   "cell_type": "markdown",
   "metadata": {},
   "source": [
    "## <div style='background: #005792;text-align: center;padding: 15px 0'> <a style= 'color:white;' >Essais de modèles non concluants</a></div>"
   ]
  },
  {
   "cell_type": "markdown",
   "metadata": {},
   "source": [
    "### Modèle (KO)"
   ]
  },
  {
   "cell_type": "code",
   "execution_count": 24,
   "metadata": {},
   "outputs": [],
   "source": [
    "#1ère tentative en utilisant de modèle collaboratif utilisant la metrique de cosimilarité et la metrique euclidienne\n",
    "#Ce modèle necessitait trop de mémoire de calcul"
   ]
  },
  {
   "cell_type": "code",
   "execution_count": 25,
   "metadata": {},
   "outputs": [],
   "source": [
    "#Préparation des données\n",
    "#df['desc']=''\n",
    "#for i in df[df.columns[4:38]].columns.values:\n",
    "#    if df.select_dtypes !=('object'):\n",
    "#        df['desc']=df['desc']+\" \"+df[i].apply(str)\n",
    "#    else:\n",
    "#        df['desc']=df['desc']+\" \"+df[i]"
   ]
  },
  {
   "cell_type": "code",
   "execution_count": 26,
   "metadata": {},
   "outputs": [],
   "source": [
    "# Créer un TfidfVectorizer et supprimer les mots vides\n",
    "#tfidf = TfidfVectorizer(stop_words='english')\n",
    "\n",
    "#df['desc']=df['director']+df['actor_actress']+df['producer']\n",
    "\n",
    "# Adapter et transformer les données en une matrice tfidf\n",
    "#matrice_tfidf = tfidf.fit_transform(df['title'])"
   ]
  },
  {
   "cell_type": "code",
   "execution_count": 27,
   "metadata": {},
   "outputs": [],
   "source": [
    "#indices = pd.Series(range(0,len(df)), index=df['title'])"
   ]
  },
  {
   "cell_type": "code",
   "execution_count": 28,
   "metadata": {},
   "outputs": [],
   "source": [
    "#sim_cosinus = cosine_similarity(matrice_tfidf, matrice_tfidf)"
   ]
  },
  {
   "cell_type": "code",
   "execution_count": 29,
   "metadata": {},
   "outputs": [],
   "source": [
    "# On calcule la similarité euclidienne\n",
    "#sim_euclidienne = 1 / (1 + euclidean_distances(matrice_tfidf[:1000]))\n",
    "\n",
    "#print(sim_euclidienne.shape)\n",
    "#print(type(sim_euclidienne))"
   ]
  },
  {
   "cell_type": "code",
   "execution_count": 30,
   "metadata": {},
   "outputs": [],
   "source": [
    "#from tabulate import tabulate\n",
    "#def recommandations(titre, mat_sim, num_recommendations = 10):\n",
    "    # On récupère l'indice associé au titre qui servira à identifier le livre dans la matrice de similarité\n",
    "    #idx = indices[titre]\n",
    "\n",
    "    # On obtient les scores de similarité de tous les films et on les garde les tuples d'indice du film \n",
    "    # et score dans une liste\n",
    "    #scores_similarite = list(enumerate(mat_sim[idx]))\n",
    "\n",
    "    # On trie les livres en fonction des scores de similarité\n",
    "    #scores_similarite = sorted(scores_similarite, key=lambda x: x[1], reverse=True)\n",
    "\n",
    "    # Obtenir les scores des 10 livres les plus similaires\n",
    "    #top_similair = scores_similarite[1:num_recommendations+1]\n",
    "\n",
    "    # Obtenir les indices des livres\n",
    "    #res = [(indices.index[idx], score) for idx, score in top_similair]\n",
    "\n",
    "    # Renvoyer les titres des livres les plus similaires\n",
    "    #return tabulate(res, headers=[\"Titre\", \"Score de similarité\"], tablefmt=\"pretty\")"
   ]
  },
  {
   "cell_type": "code",
   "execution_count": 31,
   "metadata": {},
   "outputs": [],
   "source": [
    "#print(\"Recommandations pour 'Miss Jerry' similarité cosinus: \\n\",\n",
    "#      recommandations('Miss Jerry', sim_cosinus))\n",
    "\n",
    "#print(\"\\n Recommandations pour 'Miss Jerry' similarité euclidienne: \\n\",\n",
    "#      recommandations('Miss Jerry', sim_euclidienne))\n",
    "\n",
    "#print(\"\\n Recommandations pour 'The Story of the Kelly Gang' similarité cosinus: \\n\",\n",
    "#      recommandations('The Story of the Kelly Gang', sim_cosinus))\n",
    "\n",
    "#print(\"\\n Recommandations pour The Story of the Kelly Gang' similarité euclidienne: \\n\",\n",
    "#      recommandations('The Story of the Kelly Gang', sim_euclidienne))"
   ]
  },
  {
   "cell_type": "markdown",
   "metadata": {},
   "source": [
    "### Variante avec la metrique euclidienne (recommandations similaires)"
   ]
  },
  {
   "cell_type": "code",
   "execution_count": null,
   "metadata": {},
   "outputs": [],
   "source": [
    "#ce calcul apporte des recommandations identiques à la recommandation avec la metric cosine"
   ]
  },
  {
   "cell_type": "code",
   "execution_count": null,
   "metadata": {},
   "outputs": [],
   "source": [
    "#Préparation des données\n",
    "#df['desc']=''\n",
    "#for i in df[df.columns[4:38]].columns.values:\n",
    "#    if df.select_dtypes !=('object'):\n",
    "#        df['desc']=df['desc']+\" \"+df[i].apply(str)\n",
    "#    else:\n",
    "#        df['desc']=df['desc']+\" \"+df[i]"
   ]
  },
  {
   "cell_type": "code",
   "execution_count": null,
   "metadata": {},
   "outputs": [],
   "source": [
    "# Créer un TfidfVectorizer et supprimer les mots vides\n",
    "#tfidf = TfidfVectorizer(stop_words='english')\n",
    "\n",
    "#df['desc']=df['director']+df['actor_actress']+df['producer']\n",
    "\n",
    "# Adapter et transformer les données en une matrice tfidf\n",
    "#matrice_tfidf = tfidf.fit_transform(df['title'])"
   ]
  },
  {
   "cell_type": "code",
   "execution_count": null,
   "metadata": {},
   "outputs": [],
   "source": [
    "#indices = pd.Series(range(0,len(df)), index=df['title'])"
   ]
  },
  {
   "cell_type": "code",
   "execution_count": null,
   "metadata": {},
   "outputs": [],
   "source": [
    "#sim_cosinus = cosine_similarity(matrice_tfidf, matrice_tfidf)"
   ]
  },
  {
   "cell_type": "code",
   "execution_count": null,
   "metadata": {},
   "outputs": [],
   "source": [
    "# Fonction pour calculer la similarité et obtenir les recommandations\n",
    "#def get_recommendations2(title, matrice_tfidf, df):\n",
    "    #if title not in df['title'].values:\n",
    "        #return \"Ce film n'est pas dans la base de données.\"\n",
    "\n",
    "    # Trouver l'index du film\n",
    "    #idx = df[df['title'] == title].index[0]\n",
    "    \n",
    "    # Calculer la similarité entre le film choisi et tous les autres\n",
    "    #cosine_sim = cosine_similarity(matrice_tfidf[idx:idx+1], matrice_tfidf).flatten()\n",
    "    #sim_euclidienne = 1/(1+euclidean_distances(matrice_tfidf[idx:idx+1], matrice_tfidf)).flatten()\n",
    "    \n",
    "    # Obtenir les indices des films les plus similaires\n",
    "    #sim_scores = list(enumerate(sim_euclidienne))\n",
    "    #sim_scores = sorted(sim_scores, key=lambda x: x[1], reverse=True)\n",
    "    #sim_scores = sim_scores[1:11]  # Top 10, excluant le film lui-même\n",
    "    \n",
    "    # Récupérer les titres des films recommandés\n",
    "    #movie_indices = [i[0] for i in sim_scores]\n",
    "    #recommanded_title=df['title'].iloc[movie_indices]\n",
    "    #score=[i[1] for i in sim_scores]\n",
    "    #return df['title'].iloc[movie_indices]\n",
    "    #return list(zip(movie_indices, recommanded_title,score))"
   ]
  },
  {
   "cell_type": "code",
   "execution_count": null,
   "metadata": {},
   "outputs": [],
   "source": [
    "# Test de la fonction\n",
    "#get_recommendations2(\"Star Trek\", matrice_tfidf, df)"
   ]
  },
  {
   "cell_type": "markdown",
   "metadata": {},
   "source": [
    "### Autre essai de modèle -> resultats non concluants"
   ]
  },
  {
   "cell_type": "code",
   "execution_count": null,
   "metadata": {},
   "outputs": [],
   "source": [
    "#!pip install surprise"
   ]
  },
  {
   "cell_type": "code",
   "execution_count": null,
   "metadata": {},
   "outputs": [],
   "source": [
    "#from surprise import Reader\n",
    "#from surprise import Dataset"
   ]
  },
  {
   "cell_type": "code",
   "execution_count": null,
   "metadata": {},
   "outputs": [],
   "source": [
    "#df['desc']=''\n",
    "#for i in df[df.columns[7:38]].columns.values:\n",
    "    #print(i)\n",
    "    #if df.select_dtypes !=('object'):\n",
    "        #df['desc']=df['desc']+df[i].apply(str)\n",
    "    #else:\n",
    "        #df['desc']=df['desc']+df[i]\n",
    "\n",
    "#print(df['desc'])\n",
    "#print(df['title'])"
   ]
  },
  {
   "cell_type": "code",
   "execution_count": null,
   "metadata": {},
   "outputs": [],
   "source": [
    "#reader = Reader(rating_scale=(0, 5))\n",
    "\n",
    "#df['ScorePondere']=df['numVotes']*df['averageRating']\n",
    "\n",
    "#df_surprise = Dataset.load_from_df(df[[\"desc\", \"title\", \"ScorePondere\"]], reader=reader)"
   ]
  },
  {
   "cell_type": "code",
   "execution_count": null,
   "metadata": {},
   "outputs": [],
   "source": [
    "#from surprise import NormalPredictor\n",
    "#from surprise.model_selection import cross_validate\n",
    "\n",
    "#normpred = NormalPredictor()\n",
    "\n",
    "#cross_validate(normpred, df_surprise, measures=['RMSE', 'MAE'], cv=5, verbose=True)"
   ]
  },
  {
   "cell_type": "code",
   "execution_count": null,
   "metadata": {},
   "outputs": [],
   "source": [
    "#type_movie=\"0000000010000000000000000000000\""
   ]
  },
  {
   "cell_type": "code",
   "execution_count": null,
   "metadata": {},
   "outputs": [],
   "source": [
    "# Construire le jeu d'entraînement complet à partir du DataFrame df_surprise\n",
    "#train_set = df_surprise.build_full_trainset()\n",
    "\n",
    "# Initialiser une liste vide pour stocker les paires (utilisateur, tittle) pour le jeu \"anti-testset\"\n",
    "#anti_testset = []\n",
    "\n",
    "# Convertir l'ID de l'utilisateur externe en l'ID interne utilisé par Surprise\n",
    "#targetUser = train_set.to_inner_uid(type_movie)\n",
    "\n",
    "# Obtenir la valeur de remplissage à utiliser (moyenne globale des notes du jeu d'entraînement)\n",
    "#moyenne = train_set.global_mean\n",
    "\n",
    "# Obtenir les évaluations de l'utilisateur cible pour les films\n",
    "#user_note = train_set.ur[targetUser]\n",
    "\n",
    "# Extraire la liste des livres notés par l'utilisateur\n",
    "#user_movie = [item for (item,_) in (user_note)]\n",
    "\n",
    "# Obtenir toutes les notations du jeu d'entraînement\n",
    "#ratings = train_set.all_ratings()\n",
    "\n",
    "# Boucle sur tous les items du jeu d'entraînement\n",
    "#for movie in train_set.all_items():\n",
    "    # Si l'item n'a pas été noté par l'utilisateur\n",
    "    #if movie not in user_movie:\n",
    "        # Ajouter la paire (utilisateur, movie, valeur de remplissage) à la liste \"anti-testset\"\n",
    "        #anti_testset.append((type_movie, train_set.to_raw_iid(movie), moyenne))"
   ]
  },
  {
   "cell_type": "code",
   "execution_count": null,
   "metadata": {},
   "outputs": [],
   "source": [
    "# Effectuer les prédictions sur l'ensemble \"anti-testset_user\" en utilisant le modèle (non spécifié dans le code)\n",
    "#predictions = normpred.test(anti_testset)  \n",
    "\n",
    "# Convertir les prédictions en un DataFrame pandas\n",
    "#predictions = pd.DataFrame(predictions)\n",
    "\n",
    "# Trier les prédictions par la colonne 'est' (estimation) en ordre décroissant\n",
    "#predictions.sort_values(by=['est'], inplace=True, ascending=False)\n",
    "\n",
    "# Afficher les 10 meilleures prédictions\n",
    "#predictions.head(10)"
   ]
  }
 ],
 "metadata": {
  "kernelspec": {
   "display_name": "venv",
   "language": "python",
   "name": "python3"
  },
  "language_info": {
   "codemirror_mode": {
    "name": "ipython",
    "version": 3
   },
   "file_extension": ".py",
   "mimetype": "text/x-python",
   "name": "python",
   "nbconvert_exporter": "python",
   "pygments_lexer": "ipython3",
   "version": "3.11.2"
  }
 },
 "nbformat": 4,
 "nbformat_minor": 2
}
