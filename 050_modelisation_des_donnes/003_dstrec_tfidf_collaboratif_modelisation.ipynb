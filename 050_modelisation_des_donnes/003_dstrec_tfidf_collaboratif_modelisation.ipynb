{
 "cells": [
  {
   "cell_type": "markdown",
   "metadata": {},
   "source": [
    "# <div style='color:white;background: #005792;text-align: center;padding: 15px 0'>Recommandations - Modélisation d'un modèle machine learning basé sur du Filtrage Collaboratif </div>"
   ]
  },
  {
   "cell_type": "markdown",
   "metadata": {},
   "source": [
    "## Participants\n",
    "* Samantha\n",
    "* Rachelle\n",
    "* Andrew"
   ]
  },
  {
   "cell_type": "markdown",
   "metadata": {},
   "source": [
    "### Installation des librairies"
   ]
  },
  {
   "cell_type": "code",
   "execution_count": 6,
   "metadata": {},
   "outputs": [],
   "source": [
    "#!pip install scikit-learn\n",
    "#!pip install tabulate"
   ]
  },
  {
   "cell_type": "markdown",
   "metadata": {},
   "source": [
    "### Importation des librairies"
   ]
  },
  {
   "cell_type": "code",
   "execution_count": 4,
   "metadata": {},
   "outputs": [],
   "source": [
    "import pandas as pd\n",
    "import numpy as np\n",
    "from sklearn import linear_model\n",
    "from sklearn import preprocessing\n",
    "from sklearn.model_selection import train_test_split\n",
    "from sklearn.feature_extraction.text import TfidfVectorizer\n",
    "import scipy.sparse as sp\n",
    "from sklearn.metrics.pairwise import cosine_similarity, euclidean_distances"
   ]
  },
  {
   "cell_type": "markdown",
   "metadata": {},
   "source": [
    "### Chargement des fichiers "
   ]
  },
  {
   "cell_type": "code",
   "execution_count": 5,
   "metadata": {},
   "outputs": [],
   "source": [
    "source_dir= '/home/dstrec/dstrec/010_data/002_merged'\n",
    "file_final = f\"{source_dir}/dstrec.csv\""
   ]
  },
  {
   "cell_type": "code",
   "execution_count": 6,
   "metadata": {},
   "outputs": [],
   "source": [
    "df = pd.read_csv(file_final)"
   ]
  },
  {
   "cell_type": "code",
   "execution_count": 7,
   "metadata": {},
   "outputs": [
    {
     "name": "stdout",
     "output_type": "stream",
     "text": [
      "<class 'pandas.core.frame.DataFrame'>\n",
      "RangeIndex: 164108 entries, 0 to 164107\n",
      "Data columns (total 39 columns):\n",
      " #   Column         Non-Null Count   Dtype  \n",
      "---  ------         --------------   -----  \n",
      " 0   imdbId         164108 non-null  object \n",
      " 1   title          164108 non-null  object \n",
      " 2   averageRating  164108 non-null  float64\n",
      " 3   numVotes       164108 non-null  float64\n",
      " 4   director       164108 non-null  object \n",
      " 5   actor_actress  164108 non-null  object \n",
      " 6   producer       164108 non-null  object \n",
      " 7   Action         164108 non-null  int64  \n",
      " 8   Adult          164108 non-null  int64  \n",
      " 9   Adventure      164108 non-null  int64  \n",
      " 10  Animation      164108 non-null  int64  \n",
      " 11  Biography      164108 non-null  int64  \n",
      " 12  Comedy         164108 non-null  int64  \n",
      " 13  Crime          164108 non-null  int64  \n",
      " 14  Documentary    164108 non-null  int64  \n",
      " 15  Drama          164108 non-null  int64  \n",
      " 16  Family         164108 non-null  int64  \n",
      " 17  Fantasy        164108 non-null  int64  \n",
      " 18  Fi             164108 non-null  int64  \n",
      " 19  Film           164108 non-null  int64  \n",
      " 20  Game           164108 non-null  int64  \n",
      " 21  History        164108 non-null  int64  \n",
      " 22  Horror         164108 non-null  int64  \n",
      " 23  Music          164108 non-null  int64  \n",
      " 24  Musical        164108 non-null  int64  \n",
      " 25  Mystery        164108 non-null  int64  \n",
      " 26  News           164108 non-null  int64  \n",
      " 27  Noir           164108 non-null  int64  \n",
      " 28  Reality        164108 non-null  int64  \n",
      " 29  Romance        164108 non-null  int64  \n",
      " 30  Sci            164108 non-null  int64  \n",
      " 31  Show           164108 non-null  int64  \n",
      " 32  Sport          164108 non-null  int64  \n",
      " 33  TV             164108 non-null  int64  \n",
      " 34  Talk           164108 non-null  int64  \n",
      " 35  Thriller       164108 non-null  int64  \n",
      " 36  War            164108 non-null  int64  \n",
      " 37  Western        164108 non-null  int64  \n",
      " 38  forAdult       164108 non-null  int64  \n",
      "dtypes: float64(2), int64(32), object(5)\n",
      "memory usage: 48.8+ MB\n"
     ]
    }
   ],
   "source": [
    "df.info()"
   ]
  },
  {
   "cell_type": "code",
   "execution_count": 8,
   "metadata": {},
   "outputs": [
    {
     "data": {
      "text/html": [
       "<div>\n",
       "<style scoped>\n",
       "    .dataframe tbody tr th:only-of-type {\n",
       "        vertical-align: middle;\n",
       "    }\n",
       "\n",
       "    .dataframe tbody tr th {\n",
       "        vertical-align: top;\n",
       "    }\n",
       "\n",
       "    .dataframe thead th {\n",
       "        text-align: right;\n",
       "    }\n",
       "</style>\n",
       "<table border=\"1\" class=\"dataframe\">\n",
       "  <thead>\n",
       "    <tr style=\"text-align: right;\">\n",
       "      <th></th>\n",
       "      <th>imdbId</th>\n",
       "      <th>title</th>\n",
       "      <th>averageRating</th>\n",
       "      <th>numVotes</th>\n",
       "      <th>director</th>\n",
       "      <th>actor_actress</th>\n",
       "      <th>producer</th>\n",
       "      <th>Action</th>\n",
       "      <th>Adult</th>\n",
       "      <th>Adventure</th>\n",
       "      <th>...</th>\n",
       "      <th>Romance</th>\n",
       "      <th>Sci</th>\n",
       "      <th>Show</th>\n",
       "      <th>Sport</th>\n",
       "      <th>TV</th>\n",
       "      <th>Talk</th>\n",
       "      <th>Thriller</th>\n",
       "      <th>War</th>\n",
       "      <th>Western</th>\n",
       "      <th>forAdult</th>\n",
       "    </tr>\n",
       "  </thead>\n",
       "  <tbody>\n",
       "    <tr>\n",
       "      <th>0</th>\n",
       "      <td>tt0000009</td>\n",
       "      <td>Miss Jerry</td>\n",
       "      <td>5.4</td>\n",
       "      <td>212.0</td>\n",
       "      <td>Alexander Black</td>\n",
       "      <td>William Courtenay/Blanche Bayliss</td>\n",
       "      <td>Alexander Black</td>\n",
       "      <td>0</td>\n",
       "      <td>0</td>\n",
       "      <td>0</td>\n",
       "      <td>...</td>\n",
       "      <td>1</td>\n",
       "      <td>0</td>\n",
       "      <td>0</td>\n",
       "      <td>0</td>\n",
       "      <td>0</td>\n",
       "      <td>0</td>\n",
       "      <td>0</td>\n",
       "      <td>0</td>\n",
       "      <td>0</td>\n",
       "      <td>0</td>\n",
       "    </tr>\n",
       "    <tr>\n",
       "      <th>1</th>\n",
       "      <td>tt0000574</td>\n",
       "      <td>The Story of the Kelly Gang</td>\n",
       "      <td>6.0</td>\n",
       "      <td>900.0</td>\n",
       "      <td>Charles Tait</td>\n",
       "      <td>Godfrey Cass/Bella Cola</td>\n",
       "      <td>W.A. Gibson</td>\n",
       "      <td>1</td>\n",
       "      <td>0</td>\n",
       "      <td>1</td>\n",
       "      <td>...</td>\n",
       "      <td>0</td>\n",
       "      <td>0</td>\n",
       "      <td>0</td>\n",
       "      <td>0</td>\n",
       "      <td>0</td>\n",
       "      <td>0</td>\n",
       "      <td>0</td>\n",
       "      <td>0</td>\n",
       "      <td>0</td>\n",
       "      <td>0</td>\n",
       "    </tr>\n",
       "    <tr>\n",
       "      <th>2</th>\n",
       "      <td>tt0001370</td>\n",
       "      <td>Rainha Depois de Morta Inês de Castro</td>\n",
       "      <td>5.2</td>\n",
       "      <td>26.0</td>\n",
       "      <td>Carlos Santos</td>\n",
       "      <td>Eduardo Brazão/Amelia Vieira</td>\n",
       "      <td>Júlio Costa</td>\n",
       "      <td>0</td>\n",
       "      <td>0</td>\n",
       "      <td>0</td>\n",
       "      <td>...</td>\n",
       "      <td>0</td>\n",
       "      <td>0</td>\n",
       "      <td>0</td>\n",
       "      <td>0</td>\n",
       "      <td>0</td>\n",
       "      <td>0</td>\n",
       "      <td>0</td>\n",
       "      <td>0</td>\n",
       "      <td>0</td>\n",
       "      <td>0</td>\n",
       "    </tr>\n",
       "    <tr>\n",
       "      <th>3</th>\n",
       "      <td>tt0001790</td>\n",
       "      <td>Les Misérables, Part 1: Jean Valjean</td>\n",
       "      <td>6.0</td>\n",
       "      <td>52.0</td>\n",
       "      <td>Albert Capellani</td>\n",
       "      <td>Jean Angelo/Maria Fromet</td>\n",
       "      <td>Pierre Decourcelle</td>\n",
       "      <td>0</td>\n",
       "      <td>0</td>\n",
       "      <td>0</td>\n",
       "      <td>...</td>\n",
       "      <td>0</td>\n",
       "      <td>0</td>\n",
       "      <td>0</td>\n",
       "      <td>0</td>\n",
       "      <td>0</td>\n",
       "      <td>0</td>\n",
       "      <td>0</td>\n",
       "      <td>0</td>\n",
       "      <td>0</td>\n",
       "      <td>0</td>\n",
       "    </tr>\n",
       "    <tr>\n",
       "      <th>4</th>\n",
       "      <td>tt0001911</td>\n",
       "      <td>Nell Gwynne</td>\n",
       "      <td>3.6</td>\n",
       "      <td>26.0</td>\n",
       "      <td>Raymond Longford</td>\n",
       "      <td>Walter Bastin/Agnes Keogh</td>\n",
       "      <td>George Musgrove</td>\n",
       "      <td>0</td>\n",
       "      <td>0</td>\n",
       "      <td>0</td>\n",
       "      <td>...</td>\n",
       "      <td>0</td>\n",
       "      <td>0</td>\n",
       "      <td>0</td>\n",
       "      <td>0</td>\n",
       "      <td>0</td>\n",
       "      <td>0</td>\n",
       "      <td>0</td>\n",
       "      <td>0</td>\n",
       "      <td>0</td>\n",
       "      <td>0</td>\n",
       "    </tr>\n",
       "  </tbody>\n",
       "</table>\n",
       "<p>5 rows × 39 columns</p>\n",
       "</div>"
      ],
      "text/plain": [
       "      imdbId                                  title  averageRating  numVotes  \\\n",
       "0  tt0000009                             Miss Jerry            5.4     212.0   \n",
       "1  tt0000574            The Story of the Kelly Gang            6.0     900.0   \n",
       "2  tt0001370  Rainha Depois de Morta Inês de Castro            5.2      26.0   \n",
       "3  tt0001790   Les Misérables, Part 1: Jean Valjean            6.0      52.0   \n",
       "4  tt0001911                            Nell Gwynne            3.6      26.0   \n",
       "\n",
       "           director                      actor_actress            producer  \\\n",
       "0   Alexander Black  William Courtenay/Blanche Bayliss     Alexander Black   \n",
       "1      Charles Tait            Godfrey Cass/Bella Cola         W.A. Gibson   \n",
       "2     Carlos Santos       Eduardo Brazão/Amelia Vieira         Júlio Costa   \n",
       "3  Albert Capellani           Jean Angelo/Maria Fromet  Pierre Decourcelle   \n",
       "4  Raymond Longford          Walter Bastin/Agnes Keogh     George Musgrove   \n",
       "\n",
       "   Action  Adult  Adventure  ...  Romance  Sci  Show  Sport  TV  Talk  \\\n",
       "0       0      0          0  ...        1    0     0      0   0     0   \n",
       "1       1      0          1  ...        0    0     0      0   0     0   \n",
       "2       0      0          0  ...        0    0     0      0   0     0   \n",
       "3       0      0          0  ...        0    0     0      0   0     0   \n",
       "4       0      0          0  ...        0    0     0      0   0     0   \n",
       "\n",
       "   Thriller  War  Western  forAdult  \n",
       "0         0    0        0         0  \n",
       "1         0    0        0         0  \n",
       "2         0    0        0         0  \n",
       "3         0    0        0         0  \n",
       "4         0    0        0         0  \n",
       "\n",
       "[5 rows x 39 columns]"
      ]
     },
     "execution_count": 8,
     "metadata": {},
     "output_type": "execute_result"
    }
   ],
   "source": [
    "df.head()"
   ]
  },
  {
   "cell_type": "markdown",
   "metadata": {},
   "source": [
    "### Implémentation du modèle"
   ]
  },
  {
   "cell_type": "code",
   "execution_count": 9,
   "metadata": {},
   "outputs": [],
   "source": [
    "import re"
   ]
  },
  {
   "cell_type": "code",
   "execution_count": 10,
   "metadata": {},
   "outputs": [],
   "source": [
    "#Pour éviter les biais et mauvaises interprétations des éléments, on retraite les colonnes"
   ]
  },
  {
   "cell_type": "code",
   "execution_count": 11,
   "metadata": {},
   "outputs": [
    {
     "name": "stdout",
     "output_type": "stream",
     "text": [
      "0             AlexanderBlack\n",
      "1                 W.A.Gibson\n",
      "2                 JúlioCosta\n",
      "3          PierreDecourcelle\n",
      "4             GeorgeMusgrove\n",
      "                 ...        \n",
      "164103          ArturoPaglia\n",
      "164104           KoldoZuazua\n",
      "164105           M.AbduhAziz\n",
      "164106    MeghrajRajebhosale\n",
      "164107          UjjwalaGawde\n",
      "Name: producer, Length: 164108, dtype: object\n"
     ]
    }
   ],
   "source": [
    "#Retraitement producer\n",
    "r1 = re.compile(r\"\\s\")\n",
    "r2 = re.compile(r\"/\")\n",
    "for i in range(len(df)):\n",
    "    df.loc[i,'producer']=r1.sub('', str(df.loc[i,'producer']))\n",
    "    df.loc[i,'producer']=r2.sub(' ', str(df.loc[i,'producer']))\n",
    "\n",
    "print(df['producer'])"
   ]
  },
  {
   "cell_type": "code",
   "execution_count": 12,
   "metadata": {},
   "outputs": [
    {
     "name": "stdout",
     "output_type": "stream",
     "text": [
      "0          AlexanderBlack\n",
      "1             CharlesTait\n",
      "2            CarlosSantos\n",
      "3         AlbertCapellani\n",
      "4         RaymondLongford\n",
      "               ...       \n",
      "164103      GiacomoCimini\n",
      "164104        PabloAgüero\n",
      "164105    AzharKinoiLubis\n",
      "164106       KanchanNayak\n",
      "164107        KiranGawade\n",
      "Name: director, Length: 164108, dtype: object\n"
     ]
    }
   ],
   "source": [
    "#Retraitement director\n",
    "r1 = re.compile(r\"\\s\")\n",
    "r2 = re.compile(r\"/\")\n",
    "for i in range(len(df)):\n",
    "    df.loc[i,'director']=r1.sub('', str(df.loc[i,'director']))\n",
    "    df.loc[i,'director']=r2.sub(' ', str(df.loc[i,'director']))\n",
    "\n",
    "print(df['director'])"
   ]
  },
  {
   "cell_type": "code",
   "execution_count": 13,
   "metadata": {},
   "outputs": [
    {
     "name": "stdout",
     "output_type": "stream",
     "text": [
      "0         WilliamCourtenay BlancheBayliss\n",
      "1                   GodfreyCass BellaCola\n",
      "2              EduardoBrazão AmeliaVieira\n",
      "3                  JeanAngelo MariaFromet\n",
      "4                 WalterBastin AgnesKeogh\n",
      "                       ...               \n",
      "164103    SergioCastellitto AnnaFoglietta\n",
      "164104           AlexBrendemühl ElenaUriz\n",
      "164105                SahilShah RiaIrawan\n",
      "164106       PradipKothmire AshwiniEkbote\n",
      "164107           SunilBarve AmrutaSubhash\n",
      "Name: actor_actress, Length: 164108, dtype: object\n"
     ]
    }
   ],
   "source": [
    "#Retraitement actor_actress\n",
    "r1 = re.compile(r\"\\s\")\n",
    "r2 = re.compile(r\"/\")\n",
    "for i in range(len(df)):\n",
    "    df.loc[i,'actor_actress']=r1.sub('', str(df.loc[i,'actor_actress']))\n",
    "    df.loc[i,'actor_actress']=r2.sub(' ', str(df.loc[i,'actor_actress']))\n",
    "\n",
    "print(df['actor_actress'])"
   ]
  },
  {
   "cell_type": "code",
   "execution_count": 14,
   "metadata": {},
   "outputs": [
    {
     "name": "stdout",
     "output_type": "stream",
     "text": [
      "0                             Romance \n",
      "1          Action Adventure Biography \n",
      "2                       Drama History \n",
      "3                               Drama \n",
      "4             Biography Drama History \n",
      "                      ...             \n",
      "164103                       Thriller \n",
      "164104                  Drama History \n",
      "164105                          Drama \n",
      "164106                         Comedy \n",
      "164107                          Drama \n",
      "Name: genres, Length: 164108, dtype: object\n"
     ]
    }
   ],
   "source": [
    "df['genres']=''\n",
    "for i in df[df.columns[7:38]].columns.values:\n",
    "    nom_col=i\n",
    "    df[i] = df[i].replace([0, 1], ['', nom_col])\n",
    "    df['genres']=df['genres']+\"/\"+df[i]\n",
    "\n",
    "r = re.compile(r\"/+\")\n",
    "for i in range(len(df)):\n",
    "    df.loc[i,'genres']=r.sub(' ', str(df.loc[i,'genres']))\n",
    "\n",
    "print(df['genres'])"
   ]
  },
  {
   "cell_type": "code",
   "execution_count": 15,
   "metadata": {},
   "outputs": [],
   "source": [
    "df['desc']=df['director']+\" \"+df['actor_actress']+\" \"+df['producer']+\" \"+df['genres']"
   ]
  },
  {
   "cell_type": "code",
   "execution_count": 16,
   "metadata": {},
   "outputs": [],
   "source": [
    "#r = re.compile(r\"/+\")\n",
    "#for i in range(len(df)):\n",
    "#    df.loc[i,'desc']=r.sub(' ', str(df.loc[i,'desc']))"
   ]
  },
  {
   "cell_type": "code",
   "execution_count": 17,
   "metadata": {},
   "outputs": [
    {
     "name": "stdout",
     "output_type": "stream",
     "text": [
      "0         AlexanderBlack WilliamCourtenay BlancheBayliss...\n",
      "1         CharlesTait GodfreyCass BellaCola W.A.Gibson  ...\n",
      "2         CarlosSantos EduardoBrazão AmeliaVieira JúlioC...\n",
      "3         AlbertCapellani JeanAngelo MariaFromet PierreD...\n",
      "4         RaymondLongford WalterBastin AgnesKeogh George...\n",
      "                                ...                        \n",
      "164103    GiacomoCimini SergioCastellitto AnnaFoglietta ...\n",
      "164104    PabloAgüero AlexBrendemühl ElenaUriz KoldoZuaz...\n",
      "164105    AzharKinoiLubis SahilShah RiaIrawan M.AbduhAzi...\n",
      "164106    KanchanNayak PradipKothmire AshwiniEkbote Megh...\n",
      "164107    KiranGawade SunilBarve AmrutaSubhash UjjwalaGa...\n",
      "Name: desc, Length: 164108, dtype: object\n"
     ]
    }
   ],
   "source": [
    "print(df['desc'])"
   ]
  },
  {
   "cell_type": "code",
   "execution_count": 18,
   "metadata": {},
   "outputs": [
    {
     "data": {
      "text/html": [
       "<div>\n",
       "<style scoped>\n",
       "    .dataframe tbody tr th:only-of-type {\n",
       "        vertical-align: middle;\n",
       "    }\n",
       "\n",
       "    .dataframe tbody tr th {\n",
       "        vertical-align: top;\n",
       "    }\n",
       "\n",
       "    .dataframe thead th {\n",
       "        text-align: right;\n",
       "    }\n",
       "</style>\n",
       "<table border=\"1\" class=\"dataframe\">\n",
       "  <thead>\n",
       "    <tr style=\"text-align: right;\">\n",
       "      <th></th>\n",
       "      <th>imdbId</th>\n",
       "      <th>title</th>\n",
       "      <th>averageRating</th>\n",
       "      <th>numVotes</th>\n",
       "      <th>director</th>\n",
       "      <th>actor_actress</th>\n",
       "      <th>producer</th>\n",
       "      <th>Action</th>\n",
       "      <th>Adult</th>\n",
       "      <th>Adventure</th>\n",
       "      <th>...</th>\n",
       "      <th>Show</th>\n",
       "      <th>Sport</th>\n",
       "      <th>TV</th>\n",
       "      <th>Talk</th>\n",
       "      <th>Thriller</th>\n",
       "      <th>War</th>\n",
       "      <th>Western</th>\n",
       "      <th>forAdult</th>\n",
       "      <th>genres</th>\n",
       "      <th>desc</th>\n",
       "    </tr>\n",
       "  </thead>\n",
       "  <tbody>\n",
       "    <tr>\n",
       "      <th>0</th>\n",
       "      <td>tt0000009</td>\n",
       "      <td>Miss Jerry</td>\n",
       "      <td>5.4</td>\n",
       "      <td>212.0</td>\n",
       "      <td>AlexanderBlack</td>\n",
       "      <td>WilliamCourtenay BlancheBayliss</td>\n",
       "      <td>AlexanderBlack</td>\n",
       "      <td></td>\n",
       "      <td></td>\n",
       "      <td></td>\n",
       "      <td>...</td>\n",
       "      <td></td>\n",
       "      <td></td>\n",
       "      <td></td>\n",
       "      <td></td>\n",
       "      <td></td>\n",
       "      <td></td>\n",
       "      <td></td>\n",
       "      <td>0</td>\n",
       "      <td>Romance</td>\n",
       "      <td>AlexanderBlack WilliamCourtenay BlancheBayliss...</td>\n",
       "    </tr>\n",
       "    <tr>\n",
       "      <th>1</th>\n",
       "      <td>tt0000574</td>\n",
       "      <td>The Story of the Kelly Gang</td>\n",
       "      <td>6.0</td>\n",
       "      <td>900.0</td>\n",
       "      <td>CharlesTait</td>\n",
       "      <td>GodfreyCass BellaCola</td>\n",
       "      <td>W.A.Gibson</td>\n",
       "      <td>Action</td>\n",
       "      <td></td>\n",
       "      <td>Adventure</td>\n",
       "      <td>...</td>\n",
       "      <td></td>\n",
       "      <td></td>\n",
       "      <td></td>\n",
       "      <td></td>\n",
       "      <td></td>\n",
       "      <td></td>\n",
       "      <td></td>\n",
       "      <td>0</td>\n",
       "      <td>Action Adventure Biography</td>\n",
       "      <td>CharlesTait GodfreyCass BellaCola W.A.Gibson  ...</td>\n",
       "    </tr>\n",
       "    <tr>\n",
       "      <th>2</th>\n",
       "      <td>tt0001370</td>\n",
       "      <td>Rainha Depois de Morta Inês de Castro</td>\n",
       "      <td>5.2</td>\n",
       "      <td>26.0</td>\n",
       "      <td>CarlosSantos</td>\n",
       "      <td>EduardoBrazão AmeliaVieira</td>\n",
       "      <td>JúlioCosta</td>\n",
       "      <td></td>\n",
       "      <td></td>\n",
       "      <td></td>\n",
       "      <td>...</td>\n",
       "      <td></td>\n",
       "      <td></td>\n",
       "      <td></td>\n",
       "      <td></td>\n",
       "      <td></td>\n",
       "      <td></td>\n",
       "      <td></td>\n",
       "      <td>0</td>\n",
       "      <td>Drama History</td>\n",
       "      <td>CarlosSantos EduardoBrazão AmeliaVieira JúlioC...</td>\n",
       "    </tr>\n",
       "    <tr>\n",
       "      <th>3</th>\n",
       "      <td>tt0001790</td>\n",
       "      <td>Les Misérables, Part 1: Jean Valjean</td>\n",
       "      <td>6.0</td>\n",
       "      <td>52.0</td>\n",
       "      <td>AlbertCapellani</td>\n",
       "      <td>JeanAngelo MariaFromet</td>\n",
       "      <td>PierreDecourcelle</td>\n",
       "      <td></td>\n",
       "      <td></td>\n",
       "      <td></td>\n",
       "      <td>...</td>\n",
       "      <td></td>\n",
       "      <td></td>\n",
       "      <td></td>\n",
       "      <td></td>\n",
       "      <td></td>\n",
       "      <td></td>\n",
       "      <td></td>\n",
       "      <td>0</td>\n",
       "      <td>Drama</td>\n",
       "      <td>AlbertCapellani JeanAngelo MariaFromet PierreD...</td>\n",
       "    </tr>\n",
       "    <tr>\n",
       "      <th>4</th>\n",
       "      <td>tt0001911</td>\n",
       "      <td>Nell Gwynne</td>\n",
       "      <td>3.6</td>\n",
       "      <td>26.0</td>\n",
       "      <td>RaymondLongford</td>\n",
       "      <td>WalterBastin AgnesKeogh</td>\n",
       "      <td>GeorgeMusgrove</td>\n",
       "      <td></td>\n",
       "      <td></td>\n",
       "      <td></td>\n",
       "      <td>...</td>\n",
       "      <td></td>\n",
       "      <td></td>\n",
       "      <td></td>\n",
       "      <td></td>\n",
       "      <td></td>\n",
       "      <td></td>\n",
       "      <td></td>\n",
       "      <td>0</td>\n",
       "      <td>Biography Drama History</td>\n",
       "      <td>RaymondLongford WalterBastin AgnesKeogh George...</td>\n",
       "    </tr>\n",
       "  </tbody>\n",
       "</table>\n",
       "<p>5 rows × 41 columns</p>\n",
       "</div>"
      ],
      "text/plain": [
       "      imdbId                                  title  averageRating  numVotes  \\\n",
       "0  tt0000009                             Miss Jerry            5.4     212.0   \n",
       "1  tt0000574            The Story of the Kelly Gang            6.0     900.0   \n",
       "2  tt0001370  Rainha Depois de Morta Inês de Castro            5.2      26.0   \n",
       "3  tt0001790   Les Misérables, Part 1: Jean Valjean            6.0      52.0   \n",
       "4  tt0001911                            Nell Gwynne            3.6      26.0   \n",
       "\n",
       "          director                    actor_actress           producer  \\\n",
       "0   AlexanderBlack  WilliamCourtenay BlancheBayliss     AlexanderBlack   \n",
       "1      CharlesTait            GodfreyCass BellaCola         W.A.Gibson   \n",
       "2     CarlosSantos       EduardoBrazão AmeliaVieira         JúlioCosta   \n",
       "3  AlbertCapellani           JeanAngelo MariaFromet  PierreDecourcelle   \n",
       "4  RaymondLongford          WalterBastin AgnesKeogh     GeorgeMusgrove   \n",
       "\n",
       "   Action Adult  Adventure  ... Show Sport TV Talk Thriller War Western  \\\n",
       "0                           ...                                           \n",
       "1  Action        Adventure  ...                                           \n",
       "2                           ...                                           \n",
       "3                           ...                                           \n",
       "4                           ...                                           \n",
       "\n",
       "  forAdult                        genres  \\\n",
       "0        0                      Romance    \n",
       "1        0   Action Adventure Biography    \n",
       "2        0                Drama History    \n",
       "3        0                        Drama    \n",
       "4        0      Biography Drama History    \n",
       "\n",
       "                                                desc  \n",
       "0  AlexanderBlack WilliamCourtenay BlancheBayliss...  \n",
       "1  CharlesTait GodfreyCass BellaCola W.A.Gibson  ...  \n",
       "2  CarlosSantos EduardoBrazão AmeliaVieira JúlioC...  \n",
       "3  AlbertCapellani JeanAngelo MariaFromet PierreD...  \n",
       "4  RaymondLongford WalterBastin AgnesKeogh George...  \n",
       "\n",
       "[5 rows x 41 columns]"
      ]
     },
     "execution_count": 18,
     "metadata": {},
     "output_type": "execute_result"
    }
   ],
   "source": [
    "df.head()"
   ]
  },
  {
   "cell_type": "code",
   "execution_count": 19,
   "metadata": {},
   "outputs": [],
   "source": [
    "# Créer un TfidfVectorizer et supprimer les mots vides\n",
    "tfidf = TfidfVectorizer(stop_words='english')\n",
    "\n",
    "# Adapter et transformer les données en une matrice tfidf\n",
    "matrice_tfidf = tfidf.fit_transform(df['desc'])"
   ]
  },
  {
   "cell_type": "code",
   "execution_count": 20,
   "metadata": {},
   "outputs": [],
   "source": [
    "# Calculer un score pour chaque titre recherché\n",
    "\n",
    "# Fonction pour calculer la similarité et obtenir les recommandations\n",
    "def get_recommendations1(title, matrice_tfidf, df):\n",
    "    if title not in df['title'].values:\n",
    "        return \"Ce film n'est pas dans la base de données.\"\n",
    "\n",
    "    # Trouver l'index du film\n",
    "    idx = df[df['title'] == title].index[0]\n",
    "        \n",
    "    # Calculer la similarité entre le film choisi et tous les autres\n",
    "    cosine_sim = cosine_similarity(matrice_tfidf[idx:idx+1], matrice_tfidf).flatten()\n",
    "    \n",
    "    # Obtenir les indices des films les plus similaires\n",
    "    sim_scores = list(enumerate(cosine_sim))\n",
    "    sim_scores = sorted(sim_scores, key=lambda x: x[1], reverse=True)\n",
    "    sim_scores = sim_scores[1:16]  # Top 10, excluant le film lui-même\n",
    "    \n",
    "    # Récupérer les titres des films recommandés\n",
    "    movie_indices = [i[0] for i in sim_scores]\n",
    "    recommanded_title=df['title'].iloc[movie_indices]\n",
    "    score=[i[1] for i in sim_scores]\n",
    "\n",
    "    return list(zip(movie_indices,recommanded_title,score))"
   ]
  },
  {
   "cell_type": "markdown",
   "metadata": {},
   "source": [
    "### Recommandations du modèle"
   ]
  },
  {
   "cell_type": "code",
   "execution_count": 21,
   "metadata": {},
   "outputs": [
    {
     "data": {
      "text/plain": [
       "[(97378, 'Star Trek Into Darkness', 1.0),\n",
       " (123732, 'Star Wars: Episode VII - The Force Awakens', 0.6892922381956457),\n",
       " (125577, 'Star Trek Beyond', 0.6354248162655886),\n",
       " (106415, 'Super 8', 0.6268663729842547),\n",
       " (124099, 'Star Wars: Episode IX - The Rise of Skywalker', 0.6109285232640244),\n",
       " (124293, 'The Cloverfield Paradox', 0.4243934382210097),\n",
       " (143146, 'Mission: Impossible - Fallout', 0.4051702017572601),\n",
       " (141037, 'Overlord', 0.399626992810283),\n",
       " (122189, 'Mission: Impossible - Rogue Nation', 0.3978491397207762),\n",
       " (83363, 'Cloverfield', 0.3956429509718999),\n",
       " (90227, 'Mission: Impossible - Ghost Protocol', 0.3870640399302054),\n",
       " (145550, 'Lou', 0.3831979263159812),\n",
       " (86228, 'Morning Glory', 0.3821574485659702),\n",
       " (50500, 'Joy Ride', 0.36913412868012785),\n",
       " (37325, 'The Pallbearer', 0.35791409981054173)]"
      ]
     },
     "execution_count": 21,
     "metadata": {},
     "output_type": "execute_result"
    }
   ],
   "source": [
    "# Test de la fonction\n",
    "get_recommendations1(\"Star Trek\", matrice_tfidf, df)"
   ]
  },
  {
   "cell_type": "code",
   "execution_count": 22,
   "metadata": {},
   "outputs": [
    {
     "data": {
      "text/plain": [
       "[(138999, 'Avengers: Infinity War', 0.9533074903470115),\n",
       " (134598, 'Captain America: Civil War', 0.9374077452522369),\n",
       " (110980, 'Captain America: The Winter Soldier', 0.707867668593039),\n",
       " (122521, 'Avengers: Age of Ultron', 0.681251719500545),\n",
       " (78530, 'The Avengers', 0.6616263027210361),\n",
       " (92911, 'Iron Man 3', 0.4583390189772177),\n",
       " (90205, 'Iron Man 2', 0.4408988039988344),\n",
       " (152804, 'Everything Everywhere All at Once', 0.3028355038100887),\n",
       " (134622, 'Thor: Ragnarok', 0.2737910299716368),\n",
       " (83519, 'Thor: Love and Thunder', 0.2722080071926446),\n",
       " (161910, 'Black Panther: Wakanda Forever', 0.2698766940230025),\n",
       " (162714, 'Shang-Chi and the Legend of the Ten Rings', 0.26706639132132975),\n",
       " (114122, 'Guardians of the Galaxy', 0.2648975374279112),\n",
       " (137481, 'Guardians of the Galaxy Vol. 2', 0.2648975374279112),\n",
       " (153115, 'Guardians of the Galaxy Vol. 3', 0.2605607526268571)]"
      ]
     },
     "execution_count": 22,
     "metadata": {},
     "output_type": "execute_result"
    }
   ],
   "source": [
    "# Test de la fonction\n",
    "get_recommendations1(\"Avengers: Endgame\", matrice_tfidf, df)"
   ]
  },
  {
   "cell_type": "code",
   "execution_count": 23,
   "metadata": {},
   "outputs": [
    {
     "data": {
      "text/plain": [
       "[(136633, 'Solo: A Star Wars Story', 0.3931194174740799),\n",
       " (99682, 'Indiana Jones and the Dial of Destiny', 0.3885419181366827),\n",
       " (78155, 'Godzilla', 0.38072586365600014),\n",
       " (130780, 'Inferno', 0.29542798176252777),\n",
       " (150178, 'The Aeronauts', 0.27742162524109126),\n",
       " (88707, 'The Creator', 0.2752488819880886),\n",
       " (99989, 'Monsters', 0.27385486066499176),\n",
       " (116636, 'Collide', 0.26850751430025704),\n",
       " (124228, 'Arrival', 0.2612099818581932),\n",
       " (154319, 'Dragon Rider', 0.24525047669725017),\n",
       " (129976, 'The Theory of Everything', 0.23485050805421165),\n",
       " (83075, 'The Midnight Sky', 0.23222340492941912),\n",
       " (119935, 'True Story', 0.21699643824390163),\n",
       " (89032, 'My Own Love Song', 0.21496695592474135),\n",
       " (111814, 'Catch .44', 0.20633554557304556)]"
      ]
     },
     "execution_count": 23,
     "metadata": {},
     "output_type": "execute_result"
    }
   ],
   "source": [
    "# Test de la fonction\n",
    "get_recommendations1(\"Rogue One: A Star Wars Story\", matrice_tfidf, df)"
   ]
  },
  {
   "cell_type": "code",
   "execution_count": 24,
   "metadata": {},
   "outputs": [
    {
     "data": {
      "text/plain": [
       "[(77273, 'Star Trek', 0.6892922381956457),\n",
       " (97378, 'Star Trek Into Darkness', 0.6892922381956457),\n",
       " (106415, 'Super 8', 0.6411901427016531),\n",
       " (124099, 'Star Wars: Episode IX - The Rise of Skywalker', 0.6248881163418364),\n",
       " (86228, 'Morning Glory', 0.5600874220396206),\n",
       " (125577, 'Star Trek Beyond', 0.46004710296655316),\n",
       " (124293, 'The Cloverfield Paradox', 0.43409074236848444),\n",
       " (143146, 'Mission: Impossible - Fallout', 0.4144282588431657),\n",
       " (141037, 'Overlord', 0.4087583886939392),\n",
       " (122189, 'Mission: Impossible - Rogue Nation', 0.4069399120212527),\n",
       " (83363, 'Cloverfield', 0.4046833123060941),\n",
       " (90227, 'Mission: Impossible - Ghost Protocol', 0.3959083748838454),\n",
       " (145550, 'Lou', 0.3919539213562074),\n",
       " (50500, 'Joy Ride', 0.37756876879150525),\n",
       " (37325, 'The Pallbearer', 0.3660923645336758)]"
      ]
     },
     "execution_count": 24,
     "metadata": {},
     "output_type": "execute_result"
    }
   ],
   "source": [
    "# Test de la fonction\n",
    "get_recommendations1(\"Star Wars: Episode VII - The Force Awakens\", matrice_tfidf, df)"
   ]
  },
  {
   "cell_type": "code",
   "execution_count": 25,
   "metadata": {},
   "outputs": [
    {
     "data": {
      "text/plain": [
       "[(122521, 'Avengers: Age of Ultron', 0.3672456648185467),\n",
       " (78530, 'The Avengers', 0.3472257828641228),\n",
       " (79915, 'The Happening', 0.3315855583864302),\n",
       " (51715, 'Unbreakable', 0.3179260107452388),\n",
       " (35839, 'Digital Man', 0.25846850373305735),\n",
       " (40263, 'Rushmore', 0.24186134683741015),\n",
       " (88798, 'Peacock', 0.23497706108359573),\n",
       " (91321, 'The Cabin in the Woods', 0.23149711767001274),\n",
       " (120911, 'War of the Worlds: Goliath', 0.22152960591698784),\n",
       " (69544, 'Evil Eyes', 0.21699014662718102),\n",
       " (26035, 'D.C. Cab', 0.21321172012220246),\n",
       " (77624, 'Gospel Hill', 0.21153022976300384),\n",
       " (117091, 'God Help the Girl', 0.211109688154739),\n",
       " (36014, 'How to Make an American Quilt', 0.2047218690438423),\n",
       " (24591, 'My Bodyguard', 0.2018681671996308)]"
      ]
     },
     "execution_count": 25,
     "metadata": {},
     "output_type": "execute_result"
    }
   ],
   "source": [
    "# Test de la fonction\n",
    "get_recommendations1(\"Serenity\", matrice_tfidf, df)"
   ]
  },
  {
   "cell_type": "code",
   "execution_count": 26,
   "metadata": {},
   "outputs": [
    {
     "data": {
      "text/plain": [
       "[(34112, 'Mrs. Doubtfire', 0.36648621840352125),\n",
       " (31852, \"Bill & Ted's Bogus Journey\", 0.31711371917516745),\n",
       " (32403, 'The Rocketeer', 0.30740283327576096),\n",
       " (84438, 'Bill & Ted Face the Music', 0.30242191493499554),\n",
       " (32930, \"The Gun in Betty Lou's Handbag\", 0.2926473934628809),\n",
       " (24634, 'Popeye', 0.2773905271636957),\n",
       " (40732, 'October Sky', 0.274535851342639),\n",
       " (30423, 'Honey, I Shrunk the Kids', 0.2743337130825089),\n",
       " (73029, 'RV', 0.2735131861005847),\n",
       " (44489, 'Jurassic Park III', 0.2704614850842071),\n",
       " (69391, 'Breach', 0.2703966021348576),\n",
       " (35214, 'The Pagemaster', 0.26470182726115155),\n",
       " (38511, 'True Heart', 0.25998395786347916),\n",
       " (80300, 'Old Dogs', 0.2530669385399046),\n",
       " (73742, 'Captain America: The First Avenger', 0.2469816143319742)]"
      ]
     },
     "execution_count": 26,
     "metadata": {},
     "output_type": "execute_result"
    }
   ],
   "source": [
    "# Test de la fonction\n",
    "get_recommendations1(\"Jumanji\", matrice_tfidf, df)"
   ]
  },
  {
   "cell_type": "code",
   "execution_count": 27,
   "metadata": {},
   "outputs": [
    {
     "data": {
      "text/plain": [
       "[(38502, 'Toy Story 2', 0.4998820580420537),\n",
       " (113410, 'Toy Story 4', 0.46220865457077975),\n",
       " (104575, 'Larry Crowne', 0.38951359829186216),\n",
       " (63315, 'Over the Hedge', 0.34612296621117444),\n",
       " (44387, 'Cast Away', 0.3397896789237284),\n",
       " (38749, 'Tarzan', 0.33705941516707905),\n",
       " (106318, 'How to Train Your Dragon 2', 0.33071061266722435),\n",
       " (122314, 'How to Train Your Dragon: The Hidden World', 0.33071061266722435),\n",
       " (89793, 'Cars 2', 0.3303858176171),\n",
       " (154903, 'Luck', 0.3267934360558354),\n",
       " (74692, \"Charlie Wilson's War\", 0.32453187559854296),\n",
       " (37540, 'That Thing You Do!', 0.32040993856698274),\n",
       " (79245, 'How to Train Your Dragon', 0.3154583492955925),\n",
       " (155737, 'A Man Called Otto', 0.3151399949886659),\n",
       " (62479, 'Cars', 0.31450625520113357)]"
      ]
     },
     "execution_count": 27,
     "metadata": {},
     "output_type": "execute_result"
    }
   ],
   "source": [
    "# Test de la fonction\n",
    "get_recommendations1(\"Toy Story\", matrice_tfidf, df)"
   ]
  },
  {
   "cell_type": "markdown",
   "metadata": {},
   "source": [
    "## <div style='background: #005792;text-align: center;padding: 15px 0'> <a style= 'color:white;' >Interprétabilité</a></div>"
   ]
  },
  {
   "cell_type": "markdown",
   "metadata": {},
   "source": [
    "Le scoring et le rapprochement s'effectue sur 4 types de données : \n",
    "Les acteurs\n",
    "Le producteur\n",
    "Le directeur\n",
    "Les genres\n",
    "Voyont l'impact de ces groupes de données sur la recommandation"
   ]
  },
  {
   "cell_type": "markdown",
   "metadata": {},
   "source": [
    "On va tester les scores obtenus pour le même film mais sans certaines valeurs"
   ]
  },
  {
   "cell_type": "markdown",
   "metadata": {},
   "source": [
    "Je calcule les scores du films recommandé pour le film \"Star Trek\" en comparant les scores avec et sans les genres"
   ]
  },
  {
   "cell_type": "code",
   "execution_count": 28,
   "metadata": {},
   "outputs": [
    {
     "data": {
      "text/html": [
       "<div>\n",
       "<style scoped>\n",
       "    .dataframe tbody tr th:only-of-type {\n",
       "        vertical-align: middle;\n",
       "    }\n",
       "\n",
       "    .dataframe tbody tr th {\n",
       "        vertical-align: top;\n",
       "    }\n",
       "\n",
       "    .dataframe thead th {\n",
       "        text-align: right;\n",
       "    }\n",
       "</style>\n",
       "<table border=\"1\" class=\"dataframe\">\n",
       "  <thead>\n",
       "    <tr style=\"text-align: right;\">\n",
       "      <th></th>\n",
       "      <th>movie_indices</th>\n",
       "      <th>recommanded_title</th>\n",
       "      <th>score</th>\n",
       "    </tr>\n",
       "  </thead>\n",
       "  <tbody>\n",
       "    <tr>\n",
       "      <th>0</th>\n",
       "      <td>97378</td>\n",
       "      <td>Star Trek Into Darkness</td>\n",
       "      <td>1.000000</td>\n",
       "    </tr>\n",
       "    <tr>\n",
       "      <th>1</th>\n",
       "      <td>123732</td>\n",
       "      <td>Star Wars: Episode VII - The Force Awakens</td>\n",
       "      <td>0.689292</td>\n",
       "    </tr>\n",
       "    <tr>\n",
       "      <th>2</th>\n",
       "      <td>125577</td>\n",
       "      <td>Star Trek Beyond</td>\n",
       "      <td>0.635425</td>\n",
       "    </tr>\n",
       "    <tr>\n",
       "      <th>3</th>\n",
       "      <td>106415</td>\n",
       "      <td>Super 8</td>\n",
       "      <td>0.626866</td>\n",
       "    </tr>\n",
       "    <tr>\n",
       "      <th>4</th>\n",
       "      <td>124099</td>\n",
       "      <td>Star Wars: Episode IX - The Rise of Skywalker</td>\n",
       "      <td>0.610929</td>\n",
       "    </tr>\n",
       "    <tr>\n",
       "      <th>5</th>\n",
       "      <td>124293</td>\n",
       "      <td>The Cloverfield Paradox</td>\n",
       "      <td>0.424393</td>\n",
       "    </tr>\n",
       "    <tr>\n",
       "      <th>6</th>\n",
       "      <td>143146</td>\n",
       "      <td>Mission: Impossible - Fallout</td>\n",
       "      <td>0.405170</td>\n",
       "    </tr>\n",
       "    <tr>\n",
       "      <th>7</th>\n",
       "      <td>141037</td>\n",
       "      <td>Overlord</td>\n",
       "      <td>0.399627</td>\n",
       "    </tr>\n",
       "    <tr>\n",
       "      <th>8</th>\n",
       "      <td>122189</td>\n",
       "      <td>Mission: Impossible - Rogue Nation</td>\n",
       "      <td>0.397849</td>\n",
       "    </tr>\n",
       "    <tr>\n",
       "      <th>9</th>\n",
       "      <td>83363</td>\n",
       "      <td>Cloverfield</td>\n",
       "      <td>0.395643</td>\n",
       "    </tr>\n",
       "    <tr>\n",
       "      <th>10</th>\n",
       "      <td>90227</td>\n",
       "      <td>Mission: Impossible - Ghost Protocol</td>\n",
       "      <td>0.387064</td>\n",
       "    </tr>\n",
       "    <tr>\n",
       "      <th>11</th>\n",
       "      <td>145550</td>\n",
       "      <td>Lou</td>\n",
       "      <td>0.383198</td>\n",
       "    </tr>\n",
       "    <tr>\n",
       "      <th>12</th>\n",
       "      <td>86228</td>\n",
       "      <td>Morning Glory</td>\n",
       "      <td>0.382157</td>\n",
       "    </tr>\n",
       "    <tr>\n",
       "      <th>13</th>\n",
       "      <td>50500</td>\n",
       "      <td>Joy Ride</td>\n",
       "      <td>0.369134</td>\n",
       "    </tr>\n",
       "    <tr>\n",
       "      <th>14</th>\n",
       "      <td>37325</td>\n",
       "      <td>The Pallbearer</td>\n",
       "      <td>0.357914</td>\n",
       "    </tr>\n",
       "  </tbody>\n",
       "</table>\n",
       "</div>"
      ],
      "text/plain": [
       "    movie_indices                              recommanded_title     score\n",
       "0           97378                        Star Trek Into Darkness  1.000000\n",
       "1          123732     Star Wars: Episode VII - The Force Awakens  0.689292\n",
       "2          125577                               Star Trek Beyond  0.635425\n",
       "3          106415                                        Super 8  0.626866\n",
       "4          124099  Star Wars: Episode IX - The Rise of Skywalker  0.610929\n",
       "5          124293                        The Cloverfield Paradox  0.424393\n",
       "6          143146                  Mission: Impossible - Fallout  0.405170\n",
       "7          141037                                       Overlord  0.399627\n",
       "8          122189             Mission: Impossible - Rogue Nation  0.397849\n",
       "9           83363                                    Cloverfield  0.395643\n",
       "10          90227           Mission: Impossible - Ghost Protocol  0.387064\n",
       "11         145550                                            Lou  0.383198\n",
       "12          86228                                  Morning Glory  0.382157\n",
       "13          50500                                       Joy Ride  0.369134\n",
       "14          37325                                 The Pallbearer  0.357914"
      ]
     },
     "execution_count": 28,
     "metadata": {},
     "output_type": "execute_result"
    }
   ],
   "source": [
    "# Recommandations de référence : films prenant l'ensemble des variables\n",
    "reco_bis=get_recommendations1(\"Star Trek\", matrice_tfidf, df)\n",
    "\n",
    "df_reco_bis = pd.DataFrame(reco_bis)\n",
    "df_reco_bis.columns =['movie_indices','recommanded_title','score']\n",
    "df_reco_bis"
   ]
  },
  {
   "cell_type": "code",
   "execution_count": 29,
   "metadata": {},
   "outputs": [],
   "source": [
    "# Calculer un score pour chaque titre recherché\n",
    "\n",
    "# Fonction pour calculer la similarité et obtenir les recommandations\n",
    "def simu_compare(title,matrice_tfidf, df):\n",
    "\n",
    "    # Index du film\n",
    "    idx = df[df['title'] == title].index[0]\n",
    "        \n",
    "    # Calculer la similarité entre le film choisi et tous les autres\n",
    "    cosine_sim = cosine_similarity(matrice_tfidf[idx:idx+1], matrice_tfidf).flatten()\n",
    "    \n",
    "    # Obtenir les indices des films les plus similaires\n",
    "    sim_scores = list(enumerate(cosine_sim))\n",
    "    sim_scores = sorted(sim_scores, key=lambda x: x[1], reverse=True)\n",
    "    #sim_scores = sim_scores[1:16]  # Top 10, excluant le film lui-même\n",
    "    \n",
    "    # Récupérer les titres des films recommandés\n",
    "    movie_indices = [i[0] for i in sim_scores]\n",
    "    recommanded_title=df['title'].iloc[movie_indices]\n",
    "    score=[i[1] for i in sim_scores]\n",
    "\n",
    "    reco=list(zip(movie_indices,recommanded_title,score))\n",
    "    df_reco = pd.DataFrame(reco)\n",
    "    df_reco.columns =['movie_indices','recommanded_title','score']\n",
    "\n",
    "    df_reco=df_reco_bis.merge(right= df_reco, on = 'recommanded_title', how = 'left')\n",
    "\n",
    "    return df_reco\n",
    "    #return list(zip(movie_indices,recommanded_title,score))"
   ]
  },
  {
   "cell_type": "code",
   "execution_count": 30,
   "metadata": {},
   "outputs": [
    {
     "data": {
      "text/html": [
       "<div>\n",
       "<style scoped>\n",
       "    .dataframe tbody tr th:only-of-type {\n",
       "        vertical-align: middle;\n",
       "    }\n",
       "\n",
       "    .dataframe tbody tr th {\n",
       "        vertical-align: top;\n",
       "    }\n",
       "\n",
       "    .dataframe thead th {\n",
       "        text-align: right;\n",
       "    }\n",
       "</style>\n",
       "<table border=\"1\" class=\"dataframe\">\n",
       "  <thead>\n",
       "    <tr style=\"text-align: right;\">\n",
       "      <th></th>\n",
       "      <th>movie_indices_x</th>\n",
       "      <th>recommanded_title</th>\n",
       "      <th>score_x</th>\n",
       "      <th>movie_indices_y</th>\n",
       "      <th>score_y</th>\n",
       "    </tr>\n",
       "  </thead>\n",
       "  <tbody>\n",
       "    <tr>\n",
       "      <th>0</th>\n",
       "      <td>97378</td>\n",
       "      <td>Star Trek Into Darkness</td>\n",
       "      <td>1.000000</td>\n",
       "      <td>97378</td>\n",
       "      <td>1.000000</td>\n",
       "    </tr>\n",
       "    <tr>\n",
       "      <th>1</th>\n",
       "      <td>123732</td>\n",
       "      <td>Star Wars: Episode VII - The Force Awakens</td>\n",
       "      <td>0.689292</td>\n",
       "      <td>123732</td>\n",
       "      <td>0.657455</td>\n",
       "    </tr>\n",
       "    <tr>\n",
       "      <th>2</th>\n",
       "      <td>125577</td>\n",
       "      <td>Star Trek Beyond</td>\n",
       "      <td>0.635425</td>\n",
       "      <td>125577</td>\n",
       "      <td>0.592822</td>\n",
       "    </tr>\n",
       "    <tr>\n",
       "      <th>3</th>\n",
       "      <td>106415</td>\n",
       "      <td>Super 8</td>\n",
       "      <td>0.626866</td>\n",
       "      <td>106415</td>\n",
       "      <td>0.612545</td>\n",
       "    </tr>\n",
       "    <tr>\n",
       "      <th>4</th>\n",
       "      <td>124099</td>\n",
       "      <td>Star Wars: Episode IX - The Rise of Skywalker</td>\n",
       "      <td>0.610929</td>\n",
       "      <td>124099</td>\n",
       "      <td>0.625374</td>\n",
       "    </tr>\n",
       "    <tr>\n",
       "      <th>5</th>\n",
       "      <td>124293</td>\n",
       "      <td>The Cloverfield Paradox</td>\n",
       "      <td>0.424393</td>\n",
       "      <td>124293</td>\n",
       "      <td>0.380634</td>\n",
       "    </tr>\n",
       "    <tr>\n",
       "      <th>6</th>\n",
       "      <td>143146</td>\n",
       "      <td>Mission: Impossible - Fallout</td>\n",
       "      <td>0.405170</td>\n",
       "      <td>143146</td>\n",
       "      <td>0.397311</td>\n",
       "    </tr>\n",
       "    <tr>\n",
       "      <th>7</th>\n",
       "      <td>141037</td>\n",
       "      <td>Overlord</td>\n",
       "      <td>0.399627</td>\n",
       "      <td>141037</td>\n",
       "      <td>0.355677</td>\n",
       "    </tr>\n",
       "    <tr>\n",
       "      <th>8</th>\n",
       "      <td>122189</td>\n",
       "      <td>Mission: Impossible - Rogue Nation</td>\n",
       "      <td>0.397849</td>\n",
       "      <td>122189</td>\n",
       "      <td>0.389570</td>\n",
       "    </tr>\n",
       "    <tr>\n",
       "      <th>9</th>\n",
       "      <td>83363</td>\n",
       "      <td>Cloverfield</td>\n",
       "      <td>0.395643</td>\n",
       "      <td>83363</td>\n",
       "      <td>0.367521</td>\n",
       "    </tr>\n",
       "    <tr>\n",
       "      <th>10</th>\n",
       "      <td>90227</td>\n",
       "      <td>Mission: Impossible - Ghost Protocol</td>\n",
       "      <td>0.387064</td>\n",
       "      <td>90227</td>\n",
       "      <td>0.378226</td>\n",
       "    </tr>\n",
       "    <tr>\n",
       "      <th>11</th>\n",
       "      <td>145550</td>\n",
       "      <td>Lou</td>\n",
       "      <td>0.383198</td>\n",
       "      <td>145550</td>\n",
       "      <td>0.374213</td>\n",
       "    </tr>\n",
       "    <tr>\n",
       "      <th>12</th>\n",
       "      <td>86228</td>\n",
       "      <td>Morning Glory</td>\n",
       "      <td>0.382157</td>\n",
       "      <td>86228</td>\n",
       "      <td>0.409190</td>\n",
       "    </tr>\n",
       "    <tr>\n",
       "      <th>13</th>\n",
       "      <td>50500</td>\n",
       "      <td>Joy Ride</td>\n",
       "      <td>0.369134</td>\n",
       "      <td>50500</td>\n",
       "      <td>0.384784</td>\n",
       "    </tr>\n",
       "    <tr>\n",
       "      <th>14</th>\n",
       "      <td>37325</td>\n",
       "      <td>The Pallbearer</td>\n",
       "      <td>0.357914</td>\n",
       "      <td>37325</td>\n",
       "      <td>0.381094</td>\n",
       "    </tr>\n",
       "  </tbody>\n",
       "</table>\n",
       "</div>"
      ],
      "text/plain": [
       "    movie_indices_x                              recommanded_title   score_x  \\\n",
       "0             97378                        Star Trek Into Darkness  1.000000   \n",
       "1            123732     Star Wars: Episode VII - The Force Awakens  0.689292   \n",
       "2            125577                               Star Trek Beyond  0.635425   \n",
       "3            106415                                        Super 8  0.626866   \n",
       "4            124099  Star Wars: Episode IX - The Rise of Skywalker  0.610929   \n",
       "5            124293                        The Cloverfield Paradox  0.424393   \n",
       "6            143146                  Mission: Impossible - Fallout  0.405170   \n",
       "7            141037                                       Overlord  0.399627   \n",
       "8            122189             Mission: Impossible - Rogue Nation  0.397849   \n",
       "9             83363                                    Cloverfield  0.395643   \n",
       "10            90227           Mission: Impossible - Ghost Protocol  0.387064   \n",
       "11           145550                                            Lou  0.383198   \n",
       "12            86228                                  Morning Glory  0.382157   \n",
       "13            50500                                       Joy Ride  0.369134   \n",
       "14            37325                                 The Pallbearer  0.357914   \n",
       "\n",
       "    movie_indices_y   score_y  \n",
       "0             97378  1.000000  \n",
       "1            123732  0.657455  \n",
       "2            125577  0.592822  \n",
       "3            106415  0.612545  \n",
       "4            124099  0.625374  \n",
       "5            124293  0.380634  \n",
       "6            143146  0.397311  \n",
       "7            141037  0.355677  \n",
       "8            122189  0.389570  \n",
       "9             83363  0.367521  \n",
       "10            90227  0.378226  \n",
       "11           145550  0.374213  \n",
       "12            86228  0.409190  \n",
       "13            50500  0.384784  \n",
       "14            37325  0.381094  "
      ]
     },
     "execution_count": 30,
     "metadata": {},
     "output_type": "execute_result"
    }
   ],
   "source": [
    "# Comparaison des résultats en conservant uniquement les variables director / actor_actress / producer\n",
    "df['desc_test1']=df['director']+\" \"+df['actor_actress']+\" \"+df['producer']\n",
    "\n",
    "# Création d'un TfidfVectorizer et suppression des mots vides\n",
    "tfidf = TfidfVectorizer(stop_words='english')\n",
    "\n",
    "# Adaptation et transformation des données en une matrice tfidf\n",
    "matrice_tfidf = tfidf.fit_transform(df['desc_test1'])\n",
    "\n",
    "# Test de la fonction\n",
    "df_reco=simu_compare(\"Star Trek\",matrice_tfidf, df)\n",
    "df_reco"
   ]
  },
  {
   "cell_type": "markdown",
   "metadata": {},
   "source": [
    "Le score_x est le score avec l'ensemble des paramètres\n",
    "Le score_y est le score simulé sans les genre\n",
    "On voit que les 2 score sont dfférents mais très proche\n",
    "On peut donc conl=clure que le genre des films est bien pris en compte par notre système d erecommandation"
   ]
  },
  {
   "cell_type": "markdown",
   "metadata": {},
   "source": [
    "On vafaire un 2ème test d'interpretabilité\n",
    "Pour le film Star Trek, on va retirer certains éléments et voir comment réagit le système de recommandation"
   ]
  },
  {
   "cell_type": "code",
   "execution_count": 31,
   "metadata": {},
   "outputs": [
    {
     "name": "stdout",
     "output_type": "stream",
     "text": [
      "                                        title         director  \\\n",
      "0                                  Miss Jerry   AlexanderBlack   \n",
      "1                 The Story of the Kelly Gang      CharlesTait   \n",
      "2       Rainha Depois de Morta Inês de Castro     CarlosSantos   \n",
      "3        Les Misérables, Part 1: Jean Valjean  AlbertCapellani   \n",
      "4                                 Nell Gwynne  RaymondLongford   \n",
      "...                                       ...              ...   \n",
      "164108             TEST - Star Trek référence       J.J.Abrams   \n",
      "164109         TEST - Star Trek sans director                    \n",
      "164110         TEST - Star Trek sans producer       J.J.Abrams   \n",
      "164111    TEST - Star Trek sans actor_actress       J.J.Abrams   \n",
      "164112           TEST - Star Trek sans genres       J.J.Abrams   \n",
      "\n",
      "                          actor_actress           producer  \\\n",
      "0       WilliamCourtenay BlancheBayliss     AlexanderBlack   \n",
      "1                 GodfreyCass BellaCola         W.A.Gibson   \n",
      "2            EduardoBrazão AmeliaVieira         JúlioCosta   \n",
      "3                JeanAngelo MariaFromet  PierreDecourcelle   \n",
      "4               WalterBastin AgnesKeogh     GeorgeMusgrove   \n",
      "...                                 ...                ...   \n",
      "164108          LeonardNimoy ZoeSaldana         J.J.Abrams   \n",
      "164109          LeonardNimoy ZoeSaldana         J.J.Abrams   \n",
      "164110          LeonardNimoy ZoeSaldana                      \n",
      "164111                                          J.J.Abrams   \n",
      "164112          LeonardNimoy ZoeSaldana         J.J.Abrams   \n",
      "\n",
      "                              genres  \n",
      "0                           Romance   \n",
      "1        Action Adventure Biography   \n",
      "2                     Drama History   \n",
      "3                             Drama   \n",
      "4           Biography Drama History   \n",
      "...                              ...  \n",
      "164108      Action Adventure Fi Sci   \n",
      "164109      Action Adventure Fi Sci   \n",
      "164110      Action Adventure Fi Sci   \n",
      "164111      Action Adventure Fi Sci   \n",
      "164112                                \n",
      "\n",
      "[164113 rows x 5 columns]\n"
     ]
    }
   ],
   "source": [
    "df_test=df[['title','director','actor_actress','producer','genres']]\n",
    "\n",
    "def append_row(df, row):\n",
    "    return pd.concat([\n",
    "                df, \n",
    "                pd.DataFrame([row], columns=row.index)]\n",
    "           ).reset_index(drop=True)\n",
    "\n",
    "director=df['director'].iloc[77273]\n",
    "producer=df['producer'].iloc[77273]\n",
    "actor_actress=df['actor_actress'].iloc[77273]\n",
    "genres=df['genres'].iloc[77273]\n",
    "\n",
    "test_ref = pd.Series({'title':'TEST - Star Trek référence', 'director':director, 'producer': producer, 'actor_actress': actor_actress, 'genres': genres})\n",
    "df_test = append_row(df_test, test_ref)\n",
    "\n",
    "test_1 = pd.Series({'title':'TEST - Star Trek sans director', 'director':'', 'producer': producer, 'actor_actress': actor_actress, 'genres': genres})\n",
    "df_test = append_row(df_test, test_1)\n",
    "\n",
    "test_2 = pd.Series({'title':'TEST - Star Trek sans producer', 'director':director, 'producer': '', 'actor_actress': actor_actress, 'genres': genres})\n",
    "df_test = append_row(df_test, test_2)\n",
    "\n",
    "test_3 = pd.Series({'title':'TEST - Star Trek sans actor_actress', 'director':director, 'producer': producer, 'actor_actress': '', 'genres': genres})\n",
    "df_test = append_row(df_test, test_3)\n",
    "\n",
    "test_4 = pd.Series({'title':'TEST - Star Trek sans genres', 'director':director, 'producer': producer, 'actor_actress': actor_actress, 'genres': ''})\n",
    "df_test = append_row(df_test, test_4)\n",
    "\n",
    "print(df_test)\n"
   ]
  },
  {
   "cell_type": "code",
   "execution_count": 32,
   "metadata": {},
   "outputs": [
    {
     "data": {
      "text/html": [
       "<div>\n",
       "<style scoped>\n",
       "    .dataframe tbody tr th:only-of-type {\n",
       "        vertical-align: middle;\n",
       "    }\n",
       "\n",
       "    .dataframe tbody tr th {\n",
       "        vertical-align: top;\n",
       "    }\n",
       "\n",
       "    .dataframe thead th {\n",
       "        text-align: right;\n",
       "    }\n",
       "</style>\n",
       "<table border=\"1\" class=\"dataframe\">\n",
       "  <thead>\n",
       "    <tr style=\"text-align: right;\">\n",
       "      <th></th>\n",
       "      <th>title</th>\n",
       "      <th>director</th>\n",
       "      <th>actor_actress</th>\n",
       "      <th>producer</th>\n",
       "      <th>genres</th>\n",
       "    </tr>\n",
       "  </thead>\n",
       "  <tbody>\n",
       "    <tr>\n",
       "      <th>164108</th>\n",
       "      <td>TEST - Star Trek référence</td>\n",
       "      <td>J.J.Abrams</td>\n",
       "      <td>LeonardNimoy ZoeSaldana</td>\n",
       "      <td>J.J.Abrams</td>\n",
       "      <td>Action Adventure Fi Sci</td>\n",
       "    </tr>\n",
       "    <tr>\n",
       "      <th>164109</th>\n",
       "      <td>TEST - Star Trek sans director</td>\n",
       "      <td></td>\n",
       "      <td>LeonardNimoy ZoeSaldana</td>\n",
       "      <td>J.J.Abrams</td>\n",
       "      <td>Action Adventure Fi Sci</td>\n",
       "    </tr>\n",
       "    <tr>\n",
       "      <th>164110</th>\n",
       "      <td>TEST - Star Trek sans producer</td>\n",
       "      <td>J.J.Abrams</td>\n",
       "      <td>LeonardNimoy ZoeSaldana</td>\n",
       "      <td></td>\n",
       "      <td>Action Adventure Fi Sci</td>\n",
       "    </tr>\n",
       "    <tr>\n",
       "      <th>164111</th>\n",
       "      <td>TEST - Star Trek sans actor_actress</td>\n",
       "      <td>J.J.Abrams</td>\n",
       "      <td></td>\n",
       "      <td>J.J.Abrams</td>\n",
       "      <td>Action Adventure Fi Sci</td>\n",
       "    </tr>\n",
       "    <tr>\n",
       "      <th>164112</th>\n",
       "      <td>TEST - Star Trek sans genres</td>\n",
       "      <td>J.J.Abrams</td>\n",
       "      <td>LeonardNimoy ZoeSaldana</td>\n",
       "      <td>J.J.Abrams</td>\n",
       "      <td></td>\n",
       "    </tr>\n",
       "  </tbody>\n",
       "</table>\n",
       "</div>"
      ],
      "text/plain": [
       "                                      title    director  \\\n",
       "164108           TEST - Star Trek référence  J.J.Abrams   \n",
       "164109       TEST - Star Trek sans director               \n",
       "164110       TEST - Star Trek sans producer  J.J.Abrams   \n",
       "164111  TEST - Star Trek sans actor_actress  J.J.Abrams   \n",
       "164112         TEST - Star Trek sans genres  J.J.Abrams   \n",
       "\n",
       "                  actor_actress    producer                     genres  \n",
       "164108  LeonardNimoy ZoeSaldana  J.J.Abrams   Action Adventure Fi Sci   \n",
       "164109  LeonardNimoy ZoeSaldana  J.J.Abrams   Action Adventure Fi Sci   \n",
       "164110  LeonardNimoy ZoeSaldana               Action Adventure Fi Sci   \n",
       "164111                           J.J.Abrams   Action Adventure Fi Sci   \n",
       "164112  LeonardNimoy ZoeSaldana  J.J.Abrams                             "
      ]
     },
     "execution_count": 32,
     "metadata": {},
     "output_type": "execute_result"
    }
   ],
   "source": [
    "df_test[df_test['title'].str.contains(\"TEST\")]"
   ]
  },
  {
   "cell_type": "code",
   "execution_count": 33,
   "metadata": {},
   "outputs": [],
   "source": [
    "df_test['desc']=df_test['director']+\" \"+df_test['actor_actress']+\" \"+df_test['producer']+\" \"+df_test['genres']\n",
    "\n",
    "# Adaptation et transformation des données en une matrice tfidf\n",
    "matrice_tfidf = tfidf.fit_transform(df_test['desc'])"
   ]
  },
  {
   "cell_type": "code",
   "execution_count": 34,
   "metadata": {},
   "outputs": [],
   "source": [
    "# Calculer un score pour chaque titre recherché\n",
    "\n",
    "# Fonction pour calculer la similarité et obtenir les recommandations\n",
    "def get_recommendations_t(title, matrice_tfidf, df):\n",
    "    if title not in df['title'].values:\n",
    "        return \"Ce film n'est pas dans la base de données.\"\n",
    "\n",
    "    # Trouver l'index du film\n",
    "    idx = df[df['title'] == title].index[0]\n",
    "        \n",
    "    # Calculer la similarité entre le film choisi et tous les autres\n",
    "    cosine_sim = cosine_similarity(matrice_tfidf[idx:idx+1], matrice_tfidf).flatten()\n",
    "    \n",
    "    # Obtenir les indices des films les plus similaires\n",
    "    sim_scores = list(enumerate(cosine_sim))\n",
    "    sim_scores = sorted(sim_scores, key=lambda x: x[1], reverse=True)\n",
    "    #sim_scores = sim_scores[1:16]  # Top 10, excluant le film lui-même\n",
    "    \n",
    "    # Récupérer les titres des films recommandés\n",
    "    movie_indices = [i[0] for i in sim_scores]\n",
    "    recommanded_title=df['title'].iloc[movie_indices]\n",
    "    score=[i[1] for i in sim_scores]\n",
    "\n",
    "    return list(zip(movie_indices,recommanded_title,score))"
   ]
  },
  {
   "cell_type": "code",
   "execution_count": 36,
   "metadata": {},
   "outputs": [
    {
     "name": "stdout",
     "output_type": "stream",
     "text": [
      "   movie_indices                    recommanded_title     score\n",
      "2         164108           TEST - Star Trek référence  1.000000\n",
      "3         164112         TEST - Star Trek sans genres  0.951343\n",
      "4         164109       TEST - Star Trek sans director  0.944451\n",
      "5         164110       TEST - Star Trek sans producer  0.944451\n",
      "6         164111  TEST - Star Trek sans actor_actress  0.823476\n"
     ]
    },
    {
     "data": {
      "text/plain": [
       "<function matplotlib.pyplot.show(close=None, block=None)>"
      ]
     },
     "execution_count": 36,
     "metadata": {},
     "output_type": "execute_result"
    },
    {
     "data": {
      "image/png": "[encoded data removed]",
      "text/plain": [
       "<Figure size 1200x800 with 1 Axes>"
      ]
     },
     "metadata": {},
     "output_type": "display_data"
    }
   ],
   "source": [
    "reco_ref = get_recommendations_t(\"Star Trek\", matrice_tfidf, df_test)\n",
    "df_reco_ref = pd.DataFrame(reco_ref)\n",
    "df_reco_ref.columns =['movie_indices','recommanded_title','score']\n",
    "df_reco_ref=df_reco_ref[df_reco_ref['recommanded_title'].str.contains(\"TEST - Star Trek\")]\n",
    "print(df_reco_ref)\n",
    "\n",
    "import matplotlib.pyplot as plt\n",
    "plt.figure(figsize=(12,8))\n",
    "plt.rcParams['font.size'] = '12'\n",
    "y=df_reco_ref['score']\n",
    "x=df_reco_ref['recommanded_title']\n",
    "plt.title('Comparaison des scores du film Star Trek avec variation des informations')\n",
    "plt.plot(-y,x, \"o\",markersize=20)\n",
    "plt.tick_params(axis='x', rotation=90)\n",
    "plt.grid(color='g', linestyle='--', linewidth=0.75)\n",
    "plt.show"
   ]
  },
  {
   "cell_type": "markdown",
   "metadata": {},
   "source": [
    "Chaque élément contribue à modifier le score de la recommandation.\n",
    "Chaque élément intervien bien dans la détermination du score.\n",
    "Pour le film Star Trek, l'élément le plus déterminant est les acteurs / actrices"
   ]
  },
  {
   "cell_type": "markdown",
   "metadata": {},
   "source": [
    "Le modèle est basé sur le contenu : tous les éléments sont analysés et comptabilisés dans le calcul du score.\n",
    "Le modèle est performant et offre de bonnes recommandation"
   ]
  },
  {
   "cell_type": "markdown",
   "metadata": {},
   "source": [
    "## <div style='background: #005792;text-align: center;padding: 15px 0'> <a style= 'color:white;' >Autres Essais de modèles</a></div>"
   ]
  },
  {
   "cell_type": "markdown",
   "metadata": {},
   "source": [
    "### 1er essai Modèle de recommandation (modèle qui fonctionne mais moins performant)"
   ]
  },
  {
   "cell_type": "markdown",
   "metadata": {},
   "source": [
    "#### Implémentation"
   ]
  },
  {
   "cell_type": "code",
   "execution_count": 33,
   "metadata": {},
   "outputs": [],
   "source": [
    "# Préparation des données\n",
    "df['desc']=''\n",
    "for i in df[df.columns[2:38]].columns.values:\n",
    "    if df.select_dtypes !=('object'):\n",
    "        df['desc']=df['desc']+\" \"+df[i].apply(str)\n",
    "    else:\n",
    "        df['desc']=df['desc']+\" \"+df[i]"
   ]
  },
  {
   "cell_type": "code",
   "execution_count": 34,
   "metadata": {},
   "outputs": [],
   "source": [
    "# Créer un TfidfVectorizer et supprimer les mots vides\n",
    "tfidf = TfidfVectorizer(stop_words='english')\n",
    "\n",
    "#df['desc']=df['director']+df['actor_actress']+df['producer']\n",
    "\n",
    "# Adapter et transformer les données en une matrice tfidf\n",
    "matrice_tfidf = tfidf.fit_transform(df['desc'])"
   ]
  },
  {
   "cell_type": "code",
   "execution_count": 35,
   "metadata": {},
   "outputs": [],
   "source": [
    "# Fonction pour calculer la similarité et obtenir les recommandations\n",
    "def get_recommendations1(title, matrice_tfidf, df):\n",
    "    if title not in df['title'].values:\n",
    "        return \"Ce film n'est pas dans la base de données.\"\n",
    "\n",
    "    # Trouver l'index du film\n",
    "    idx = df[df['title'] == title].index[0]\n",
    "    \n",
    "    # Calculer la similarité entre le film choisi et tous les autres\n",
    "    cosine_sim = cosine_similarity(matrice_tfidf[idx:idx+1], matrice_tfidf).flatten()\n",
    "    \n",
    "    # Obtenir les indices des films les plus similaires\n",
    "    sim_scores = list(enumerate(cosine_sim))\n",
    "    sim_scores = sorted(sim_scores, key=lambda x: x[1], reverse=True)\n",
    "    sim_scores = sim_scores[1:11]  # Top 10, excluant le film lui-même\n",
    "    \n",
    "    # Récupérer les titres des films recommandés\n",
    "    movie_indices = [i[0] for i in sim_scores]\n",
    "    recommanded_title=df['title'].iloc[movie_indices]\n",
    "    score=[i[1] for i in sim_scores]\n",
    "\n",
    "    return list(zip(movie_indices,recommanded_title,score))"
   ]
  },
  {
   "cell_type": "markdown",
   "metadata": {},
   "source": [
    "#### Exemples de recommandations"
   ]
  },
  {
   "cell_type": "code",
   "execution_count": 36,
   "metadata": {},
   "outputs": [
    {
     "data": {
      "text/plain": [
       "[(97378, 'Star Trek Into Darkness', 0.817894906136071),\n",
       " (123732, 'Star Wars: Episode VII - The Force Awakens', 0.5614108056822318),\n",
       " (106415, 'Super 8', 0.5166679440439086),\n",
       " (125577, 'Star Trek Beyond', 0.5024675453375722),\n",
       " (124099, 'Star Wars: Episode IX - The Rise of Skywalker', 0.5003626188905832),\n",
       " (124293, 'The Cloverfield Paradox', 0.33615459625805666),\n",
       " (141037, 'Overlord', 0.32079900181593635),\n",
       " (83363, 'Cloverfield', 0.31566604864345943),\n",
       " (143146, 'Mission: Impossible - Fallout', 0.3156058644739994),\n",
       " (122189, 'Mission: Impossible - Rogue Nation', 0.3113456397955537)]"
      ]
     },
     "execution_count": 36,
     "metadata": {},
     "output_type": "execute_result"
    }
   ],
   "source": [
    "# Test de la fonction\n",
    "get_recommendations1(\"Star Trek\", matrice_tfidf, df)"
   ]
  },
  {
   "cell_type": "code",
   "execution_count": 37,
   "metadata": {},
   "outputs": [
    {
     "data": {
      "text/plain": [
       "[(138999, 'Avengers: Infinity War', 0.7109489304740392),\n",
       " (134598, 'Captain America: Civil War', 0.6966362538109778),\n",
       " (110980, 'Captain America: The Winter Soldier', 0.5357571297702469),\n",
       " (122521, 'Avengers: Age of Ultron', 0.5097780863823809),\n",
       " (78530, 'The Avengers', 0.4934373199157528),\n",
       " (92911, 'Iron Man 3', 0.34179146591341303),\n",
       " (90205, 'Iron Man 2', 0.32658512186158745),\n",
       " (152804, 'Everything Everywhere All at Once', 0.227547388573377),\n",
       " (134622, 'Thor: Ragnarok', 0.20122719699956665),\n",
       " (83519, 'Thor: Love and Thunder', 0.20037352871729683)]"
      ]
     },
     "execution_count": 37,
     "metadata": {},
     "output_type": "execute_result"
    }
   ],
   "source": [
    "# Test de la fonction\n",
    "get_recommendations1(\"Avengers: Endgame\", matrice_tfidf, df)"
   ]
  },
  {
   "cell_type": "code",
   "execution_count": 38,
   "metadata": {},
   "outputs": [
    {
     "data": {
      "text/plain": [
       "[(136633, 'Solo: A Star Wars Story', 0.3017219418267342),\n",
       " (99682, 'Indiana Jones and the Dial of Destiny', 0.29904433417108384),\n",
       " (78155, 'Godzilla', 0.292603674420325),\n",
       " (130780, 'Inferno', 0.22130689376923263),\n",
       " (88707, 'The Creator', 0.21594186102937957),\n",
       " (99989, 'Monsters', 0.21217228429526927),\n",
       " (150178, 'The Aeronauts', 0.21130593064329473),\n",
       " (116636, 'Collide', 0.2077929885063174),\n",
       " (124228, 'Arrival', 0.19863663218872807),\n",
       " (154319, 'Dragon Rider', 0.19241927421378371)]"
      ]
     },
     "execution_count": 38,
     "metadata": {},
     "output_type": "execute_result"
    }
   ],
   "source": [
    "# Test de la fonction\n",
    "get_recommendations1(\"Rogue One: A Star Wars Story\", matrice_tfidf, df)"
   ]
  },
  {
   "cell_type": "code",
   "execution_count": 39,
   "metadata": {},
   "outputs": [
    {
     "data": {
      "text/plain": [
       "[(77273, 'Star Trek', 0.5614108056822318),\n",
       " (97378, 'Star Trek Into Darkness', 0.5614108056822318),\n",
       " (106415, 'Super 8', 0.526263508290328),\n",
       " (124099, 'Star Wars: Episode IX - The Rise of Skywalker', 0.5096553604113601),\n",
       " (86228, 'Morning Glory', 0.4289629130401823),\n",
       " (125577, 'Star Trek Beyond', 0.3622647019810554),\n",
       " (124293, 'The Cloverfield Paradox', 0.3423976640974835),\n",
       " (141037, 'Overlord', 0.3267568853417051),\n",
       " (83363, 'Cloverfield', 0.3215286028914819),\n",
       " (143146, 'Mission: Impossible - Fallout', 0.3214673009807892)]"
      ]
     },
     "execution_count": 39,
     "metadata": {},
     "output_type": "execute_result"
    }
   ],
   "source": [
    "# Test de la fonction\n",
    "get_recommendations1(\"Star Wars: Episode VII - The Force Awakens\", matrice_tfidf, df)"
   ]
  },
  {
   "cell_type": "code",
   "execution_count": 40,
   "metadata": {},
   "outputs": [
    {
     "data": {
      "text/plain": [
       "[(122521, 'Avengers: Age of Ultron', 0.28441678078988775),\n",
       " (78530, 'The Avengers', 0.2680132000811184),\n",
       " (79915, 'The Happening', 0.25743412163392454),\n",
       " (51715, 'Unbreakable', 0.2447496284551552),\n",
       " (35839, 'Digital Man', 0.21418703698108676),\n",
       " (40263, 'Rushmore', 0.18583593412292293),\n",
       " (91321, 'The Cabin in the Woods', 0.1822455196297543),\n",
       " (120911, 'War of the Worlds: Goliath', 0.18187291427769176),\n",
       " (88798, 'Peacock', 0.18184229938989208),\n",
       " (69544, 'Evil Eyes', 0.1754557571002041)]"
      ]
     },
     "execution_count": 40,
     "metadata": {},
     "output_type": "execute_result"
    }
   ],
   "source": [
    "# Test de la fonction\n",
    "get_recommendations1(\"Serenity\", matrice_tfidf, df)"
   ]
  },
  {
   "cell_type": "code",
   "execution_count": 41,
   "metadata": {},
   "outputs": [
    {
     "data": {
      "text/plain": [
       "[(34112, 'Mrs. Doubtfire', 0.28094947699875067),\n",
       " (31852, \"Bill & Ted's Bogus Journey\", 0.23747439166048367),\n",
       " (32403, 'The Rocketeer', 0.23074740646449213),\n",
       " (84438, 'Bill & Ted Face the Music', 0.2290766811319618),\n",
       " (32930, \"The Gun in Betty Lou's Handbag\", 0.2259203573670512),\n",
       " (30423, 'Honey, I Shrunk the Kids', 0.2126837442557355),\n",
       " (24634, 'Popeye', 0.2069664488662104),\n",
       " (40732, 'October Sky', 0.20689955050298062),\n",
       " (73029, 'RV', 0.20480044074712012),\n",
       " (69391, 'Breach', 0.2039013718434594)]"
      ]
     },
     "execution_count": 41,
     "metadata": {},
     "output_type": "execute_result"
    }
   ],
   "source": [
    "# Test de la fonction\n",
    "get_recommendations1(\"Jumanji\", matrice_tfidf, df)"
   ]
  },
  {
   "cell_type": "code",
   "execution_count": 42,
   "metadata": {},
   "outputs": [
    {
     "data": {
      "text/plain": [
       "[(38502, 'Toy Story 2', 0.3801714280632297),\n",
       " (113410, 'Toy Story 4', 0.35486710253927944),\n",
       " (104575, 'Larry Crowne', 0.31105505868448785),\n",
       " (63315, 'Over the Hedge', 0.26138879297068396),\n",
       " (44387, 'Cast Away', 0.2608943713986091),\n",
       " (38749, 'Tarzan', 0.25617820678263037),\n",
       " (89793, 'Cars 2', 0.25227751327267134),\n",
       " (106318, 'How to Train Your Dragon 2', 0.2507406087501409),\n",
       " (122314, 'How to Train Your Dragon: The Hidden World', 0.2507406087501409),\n",
       " (154903, 'Luck', 0.25015520383467066)]"
      ]
     },
     "execution_count": 42,
     "metadata": {},
     "output_type": "execute_result"
    }
   ],
   "source": [
    "get_recommendations1(\"Toy Story\", matrice_tfidf, df)"
   ]
  },
  {
   "cell_type": "markdown",
   "metadata": {},
   "source": [
    "#### Interpretabilité"
   ]
  },
  {
   "cell_type": "markdown",
   "metadata": {},
   "source": [
    "Je calcule les scores du films recommandé pour le film \"Star Trek\" en comparant les scores avec et sans les genres"
   ]
  },
  {
   "cell_type": "code",
   "execution_count": 43,
   "metadata": {},
   "outputs": [
    {
     "data": {
      "text/html": [
       "<div>\n",
       "<style scoped>\n",
       "    .dataframe tbody tr th:only-of-type {\n",
       "        vertical-align: middle;\n",
       "    }\n",
       "\n",
       "    .dataframe tbody tr th {\n",
       "        vertical-align: top;\n",
       "    }\n",
       "\n",
       "    .dataframe thead th {\n",
       "        text-align: right;\n",
       "    }\n",
       "</style>\n",
       "<table border=\"1\" class=\"dataframe\">\n",
       "  <thead>\n",
       "    <tr style=\"text-align: right;\">\n",
       "      <th></th>\n",
       "      <th>movie_indices</th>\n",
       "      <th>recommanded_title</th>\n",
       "      <th>score</th>\n",
       "    </tr>\n",
       "  </thead>\n",
       "  <tbody>\n",
       "    <tr>\n",
       "      <th>0</th>\n",
       "      <td>97378</td>\n",
       "      <td>Star Trek Into Darkness</td>\n",
       "      <td>0.817895</td>\n",
       "    </tr>\n",
       "    <tr>\n",
       "      <th>1</th>\n",
       "      <td>123732</td>\n",
       "      <td>Star Wars: Episode VII - The Force Awakens</td>\n",
       "      <td>0.561411</td>\n",
       "    </tr>\n",
       "    <tr>\n",
       "      <th>2</th>\n",
       "      <td>106415</td>\n",
       "      <td>Super 8</td>\n",
       "      <td>0.516668</td>\n",
       "    </tr>\n",
       "    <tr>\n",
       "      <th>3</th>\n",
       "      <td>125577</td>\n",
       "      <td>Star Trek Beyond</td>\n",
       "      <td>0.502468</td>\n",
       "    </tr>\n",
       "    <tr>\n",
       "      <th>4</th>\n",
       "      <td>124099</td>\n",
       "      <td>Star Wars: Episode IX - The Rise of Skywalker</td>\n",
       "      <td>0.500363</td>\n",
       "    </tr>\n",
       "    <tr>\n",
       "      <th>5</th>\n",
       "      <td>124293</td>\n",
       "      <td>The Cloverfield Paradox</td>\n",
       "      <td>0.336155</td>\n",
       "    </tr>\n",
       "    <tr>\n",
       "      <th>6</th>\n",
       "      <td>141037</td>\n",
       "      <td>Overlord</td>\n",
       "      <td>0.320799</td>\n",
       "    </tr>\n",
       "    <tr>\n",
       "      <th>7</th>\n",
       "      <td>83363</td>\n",
       "      <td>Cloverfield</td>\n",
       "      <td>0.315666</td>\n",
       "    </tr>\n",
       "    <tr>\n",
       "      <th>8</th>\n",
       "      <td>143146</td>\n",
       "      <td>Mission: Impossible - Fallout</td>\n",
       "      <td>0.315606</td>\n",
       "    </tr>\n",
       "    <tr>\n",
       "      <th>9</th>\n",
       "      <td>122189</td>\n",
       "      <td>Mission: Impossible - Rogue Nation</td>\n",
       "      <td>0.311346</td>\n",
       "    </tr>\n",
       "  </tbody>\n",
       "</table>\n",
       "</div>"
      ],
      "text/plain": [
       "   movie_indices                              recommanded_title     score\n",
       "0          97378                        Star Trek Into Darkness  0.817895\n",
       "1         123732     Star Wars: Episode VII - The Force Awakens  0.561411\n",
       "2         106415                                        Super 8  0.516668\n",
       "3         125577                               Star Trek Beyond  0.502468\n",
       "4         124099  Star Wars: Episode IX - The Rise of Skywalker  0.500363\n",
       "5         124293                        The Cloverfield Paradox  0.336155\n",
       "6         141037                                       Overlord  0.320799\n",
       "7          83363                                    Cloverfield  0.315666\n",
       "8         143146                  Mission: Impossible - Fallout  0.315606\n",
       "9         122189             Mission: Impossible - Rogue Nation  0.311346"
      ]
     },
     "execution_count": 43,
     "metadata": {},
     "output_type": "execute_result"
    }
   ],
   "source": [
    "#Recommandations d eréférence : films premant l'ensemble des variables\n",
    "reco_ref=get_recommendations1(\"Star Trek\", matrice_tfidf, df)\n",
    "\n",
    "df_reco_ref = pd.DataFrame(reco_ref)\n",
    "#df      = pd.DataFrame(np.array([lst]).T)\n",
    "df_reco_ref.columns =['movie_indices','recommanded_title','score']\n",
    "df_reco_ref"
   ]
  },
  {
   "cell_type": "code",
   "execution_count": 44,
   "metadata": {},
   "outputs": [],
   "source": [
    "#On calcule pas la matrice pour l'ensemble du catalogue mais pour chaque titre recherché\n",
    "\n",
    "# Fonction pour calculer la similarité et obtenir les recommandations\n",
    "def simu_compare(title,matrice_tfidf, df):\n",
    "\n",
    "    # Index du film\n",
    "    idx = df[df['title'] == title].index[0]\n",
    "        \n",
    "    # Calculer la similarité entre le film choisi et tous les autres\n",
    "    cosine_sim = cosine_similarity(matrice_tfidf[idx:idx+1], matrice_tfidf).flatten()\n",
    "    \n",
    "    # Obtenir les indices des films les plus similaires\n",
    "    sim_scores = list(enumerate(cosine_sim))\n",
    "    sim_scores = sorted(sim_scores, key=lambda x: x[1], reverse=True)\n",
    "    #sim_scores = sim_scores[1:16]  # Top 10, excluant le film lui-même\n",
    "    \n",
    "    # Récupérer les titres des films recommandés\n",
    "    movie_indices = [i[0] for i in sim_scores]\n",
    "    recommanded_title=df['title'].iloc[movie_indices]\n",
    "    score=[i[1] for i in sim_scores]\n",
    "\n",
    "    reco=list(zip(movie_indices,recommanded_title,score))\n",
    "    df_reco = pd.DataFrame(reco)\n",
    "    df_reco.columns =['movie_indices','recommanded_title','score']\n",
    "\n",
    "    df_reco=df_reco_ref.merge(right= df_reco, on = 'recommanded_title', how = 'left')\n",
    "\n",
    "    return df_reco\n",
    "    #return list(zip(movie_indices,recommanded_title,score))"
   ]
  },
  {
   "cell_type": "code",
   "execution_count": 45,
   "metadata": {},
   "outputs": [
    {
     "data": {
      "text/html": [
       "<div>\n",
       "<style scoped>\n",
       "    .dataframe tbody tr th:only-of-type {\n",
       "        vertical-align: middle;\n",
       "    }\n",
       "\n",
       "    .dataframe tbody tr th {\n",
       "        vertical-align: top;\n",
       "    }\n",
       "\n",
       "    .dataframe thead th {\n",
       "        text-align: right;\n",
       "    }\n",
       "</style>\n",
       "<table border=\"1\" class=\"dataframe\">\n",
       "  <thead>\n",
       "    <tr style=\"text-align: right;\">\n",
       "      <th></th>\n",
       "      <th>movie_indices_x</th>\n",
       "      <th>recommanded_title</th>\n",
       "      <th>score_x</th>\n",
       "      <th>movie_indices_y</th>\n",
       "      <th>score_y</th>\n",
       "    </tr>\n",
       "  </thead>\n",
       "  <tbody>\n",
       "    <tr>\n",
       "      <th>0</th>\n",
       "      <td>97378</td>\n",
       "      <td>Star Trek Into Darkness</td>\n",
       "      <td>0.817895</td>\n",
       "      <td>97378</td>\n",
       "      <td>1.000000</td>\n",
       "    </tr>\n",
       "    <tr>\n",
       "      <th>1</th>\n",
       "      <td>123732</td>\n",
       "      <td>Star Wars: Episode VII - The Force Awakens</td>\n",
       "      <td>0.561411</td>\n",
       "      <td>123732</td>\n",
       "      <td>0.657455</td>\n",
       "    </tr>\n",
       "    <tr>\n",
       "      <th>2</th>\n",
       "      <td>106415</td>\n",
       "      <td>Super 8</td>\n",
       "      <td>0.516668</td>\n",
       "      <td>106415</td>\n",
       "      <td>0.612545</td>\n",
       "    </tr>\n",
       "    <tr>\n",
       "      <th>3</th>\n",
       "      <td>125577</td>\n",
       "      <td>Star Trek Beyond</td>\n",
       "      <td>0.502468</td>\n",
       "      <td>125577</td>\n",
       "      <td>0.592822</td>\n",
       "    </tr>\n",
       "    <tr>\n",
       "      <th>4</th>\n",
       "      <td>124099</td>\n",
       "      <td>Star Wars: Episode IX - The Rise of Skywalker</td>\n",
       "      <td>0.500363</td>\n",
       "      <td>124099</td>\n",
       "      <td>0.625374</td>\n",
       "    </tr>\n",
       "    <tr>\n",
       "      <th>5</th>\n",
       "      <td>124293</td>\n",
       "      <td>The Cloverfield Paradox</td>\n",
       "      <td>0.336155</td>\n",
       "      <td>124293</td>\n",
       "      <td>0.380634</td>\n",
       "    </tr>\n",
       "    <tr>\n",
       "      <th>6</th>\n",
       "      <td>141037</td>\n",
       "      <td>Overlord</td>\n",
       "      <td>0.320799</td>\n",
       "      <td>141037</td>\n",
       "      <td>0.355677</td>\n",
       "    </tr>\n",
       "    <tr>\n",
       "      <th>7</th>\n",
       "      <td>83363</td>\n",
       "      <td>Cloverfield</td>\n",
       "      <td>0.315666</td>\n",
       "      <td>83363</td>\n",
       "      <td>0.367521</td>\n",
       "    </tr>\n",
       "    <tr>\n",
       "      <th>8</th>\n",
       "      <td>143146</td>\n",
       "      <td>Mission: Impossible - Fallout</td>\n",
       "      <td>0.315606</td>\n",
       "      <td>143146</td>\n",
       "      <td>0.397311</td>\n",
       "    </tr>\n",
       "    <tr>\n",
       "      <th>9</th>\n",
       "      <td>122189</td>\n",
       "      <td>Mission: Impossible - Rogue Nation</td>\n",
       "      <td>0.311346</td>\n",
       "      <td>122189</td>\n",
       "      <td>0.389570</td>\n",
       "    </tr>\n",
       "  </tbody>\n",
       "</table>\n",
       "</div>"
      ],
      "text/plain": [
       "   movie_indices_x                              recommanded_title   score_x  \\\n",
       "0            97378                        Star Trek Into Darkness  0.817895   \n",
       "1           123732     Star Wars: Episode VII - The Force Awakens  0.561411   \n",
       "2           106415                                        Super 8  0.516668   \n",
       "3           125577                               Star Trek Beyond  0.502468   \n",
       "4           124099  Star Wars: Episode IX - The Rise of Skywalker  0.500363   \n",
       "5           124293                        The Cloverfield Paradox  0.336155   \n",
       "6           141037                                       Overlord  0.320799   \n",
       "7            83363                                    Cloverfield  0.315666   \n",
       "8           143146                  Mission: Impossible - Fallout  0.315606   \n",
       "9           122189             Mission: Impossible - Rogue Nation  0.311346   \n",
       "\n",
       "   movie_indices_y   score_y  \n",
       "0            97378  1.000000  \n",
       "1           123732  0.657455  \n",
       "2           106415  0.612545  \n",
       "3           125577  0.592822  \n",
       "4           124099  0.625374  \n",
       "5           124293  0.380634  \n",
       "6           141037  0.355677  \n",
       "7            83363  0.367521  \n",
       "8           143146  0.397311  \n",
       "9           122189  0.389570  "
      ]
     },
     "execution_count": 45,
     "metadata": {},
     "output_type": "execute_result"
    }
   ],
   "source": [
    "#Je compare les résultats en conservant uniquement les variables director / actor_actress / producer\n",
    "df['desc_test1']=df['director']+\" \"+df['actor_actress']+\" \"+df['producer']\n",
    "\n",
    "# Adapter et transformer les données en une matrice tfidf\n",
    "matrice_tfidf = tfidf.fit_transform(df['desc_test1'])\n",
    "\n",
    "# Test de la fonction\n",
    "df_reco=simu_compare(\"Star Trek\",matrice_tfidf, df)\n",
    "df_reco"
   ]
  },
  {
   "cell_type": "markdown",
   "metadata": {},
   "source": [
    "### Modèle (KO)"
   ]
  },
  {
   "cell_type": "code",
   "execution_count": 24,
   "metadata": {},
   "outputs": [],
   "source": [
    "#1ère tentative en utilisant de modèle collaboratif utilisant la metrique de cosimilarité et la metrique euclidienne\n",
    "#Ce modèle necessitait trop de mémoire de calcul"
   ]
  },
  {
   "cell_type": "code",
   "execution_count": 25,
   "metadata": {},
   "outputs": [],
   "source": [
    "#Préparation des données\n",
    "#df['desc']=''\n",
    "#for i in df[df.columns[4:38]].columns.values:\n",
    "#    if df.select_dtypes !=('object'):\n",
    "#        df['desc']=df['desc']+\" \"+df[i].apply(str)\n",
    "#    else:\n",
    "#        df['desc']=df['desc']+\" \"+df[i]"
   ]
  },
  {
   "cell_type": "code",
   "execution_count": 26,
   "metadata": {},
   "outputs": [],
   "source": [
    "# Créer un TfidfVectorizer et supprimer les mots vides\n",
    "#tfidf = TfidfVectorizer(stop_words='english')\n",
    "\n",
    "#df['desc']=df['director']+df['actor_actress']+df['producer']\n",
    "\n",
    "# Adapter et transformer les données en une matrice tfidf\n",
    "#matrice_tfidf = tfidf.fit_transform(df['title'])"
   ]
  },
  {
   "cell_type": "code",
   "execution_count": 27,
   "metadata": {},
   "outputs": [],
   "source": [
    "#indices = pd.Series(range(0,len(df)), index=df['title'])"
   ]
  },
  {
   "cell_type": "code",
   "execution_count": 28,
   "metadata": {},
   "outputs": [],
   "source": [
    "#sim_cosinus = cosine_similarity(matrice_tfidf, matrice_tfidf)"
   ]
  },
  {
   "cell_type": "code",
   "execution_count": 29,
   "metadata": {},
   "outputs": [],
   "source": [
    "# On calcule la similarité euclidienne\n",
    "#sim_euclidienne = 1 / (1 + euclidean_distances(matrice_tfidf[:1000]))\n",
    "\n",
    "#print(sim_euclidienne.shape)\n",
    "#print(type(sim_euclidienne))"
   ]
  },
  {
   "cell_type": "code",
   "execution_count": 30,
   "metadata": {},
   "outputs": [],
   "source": [
    "#from tabulate import tabulate\n",
    "#def recommandations(titre, mat_sim, num_recommendations = 10):\n",
    "    # On récupère l'indice associé au titre qui servira à identifier le livre dans la matrice de similarité\n",
    "    #idx = indices[titre]\n",
    "\n",
    "    # On obtient les scores de similarité de tous les films et on les garde les tuples d'indice du film \n",
    "    # et score dans une liste\n",
    "    #scores_similarite = list(enumerate(mat_sim[idx]))\n",
    "\n",
    "    # On trie les livres en fonction des scores de similarité\n",
    "    #scores_similarite = sorted(scores_similarite, key=lambda x: x[1], reverse=True)\n",
    "\n",
    "    # Obtenir les scores des 10 livres les plus similaires\n",
    "    #top_similair = scores_similarite[1:num_recommendations+1]\n",
    "\n",
    "    # Obtenir les indices des livres\n",
    "    #res = [(indices.index[idx], score) for idx, score in top_similair]\n",
    "\n",
    "    # Renvoyer les titres des livres les plus similaires\n",
    "    #return tabulate(res, headers=[\"Titre\", \"Score de similarité\"], tablefmt=\"pretty\")"
   ]
  },
  {
   "cell_type": "code",
   "execution_count": 31,
   "metadata": {},
   "outputs": [],
   "source": [
    "#print(\"Recommandations pour 'Miss Jerry' similarité cosinus: \\n\",\n",
    "#      recommandations('Miss Jerry', sim_cosinus))\n",
    "\n",
    "#print(\"\\n Recommandations pour 'Miss Jerry' similarité euclidienne: \\n\",\n",
    "#      recommandations('Miss Jerry', sim_euclidienne))\n",
    "\n",
    "#print(\"\\n Recommandations pour 'The Story of the Kelly Gang' similarité cosinus: \\n\",\n",
    "#      recommandations('The Story of the Kelly Gang', sim_cosinus))\n",
    "\n",
    "#print(\"\\n Recommandations pour The Story of the Kelly Gang' similarité euclidienne: \\n\",\n",
    "#      recommandations('The Story of the Kelly Gang', sim_euclidienne))"
   ]
  },
  {
   "cell_type": "markdown",
   "metadata": {},
   "source": [
    "### Variante avec la metrique euclidienne (recommandations similaires)"
   ]
  },
  {
   "cell_type": "code",
   "execution_count": null,
   "metadata": {},
   "outputs": [],
   "source": [
    "#ce calcul apporte des recommandations identiques à la recommandation avec la metric cosine"
   ]
  },
  {
   "cell_type": "code",
   "execution_count": null,
   "metadata": {},
   "outputs": [],
   "source": [
    "#Préparation des données\n",
    "#df['desc']=''\n",
    "#for i in df[df.columns[4:38]].columns.values:\n",
    "#    if df.select_dtypes !=('object'):\n",
    "#        df['desc']=df['desc']+\" \"+df[i].apply(str)\n",
    "#    else:\n",
    "#        df['desc']=df['desc']+\" \"+df[i]"
   ]
  },
  {
   "cell_type": "code",
   "execution_count": null,
   "metadata": {},
   "outputs": [],
   "source": [
    "# Créer un TfidfVectorizer et supprimer les mots vides\n",
    "#tfidf = TfidfVectorizer(stop_words='english')\n",
    "\n",
    "#df['desc']=df['director']+df['actor_actress']+df['producer']\n",
    "\n",
    "# Adapter et transformer les données en une matrice tfidf\n",
    "#matrice_tfidf = tfidf.fit_transform(df['title'])"
   ]
  },
  {
   "cell_type": "code",
   "execution_count": null,
   "metadata": {},
   "outputs": [],
   "source": [
    "#indices = pd.Series(range(0,len(df)), index=df['title'])"
   ]
  },
  {
   "cell_type": "code",
   "execution_count": null,
   "metadata": {},
   "outputs": [],
   "source": [
    "#sim_cosinus = cosine_similarity(matrice_tfidf, matrice_tfidf)"
   ]
  },
  {
   "cell_type": "code",
   "execution_count": null,
   "metadata": {},
   "outputs": [],
   "source": [
    "# Fonction pour calculer la similarité et obtenir les recommandations\n",
    "#def get_recommendations2(title, matrice_tfidf, df):\n",
    "    #if title not in df['title'].values:\n",
    "        #return \"Ce film n'est pas dans la base de données.\"\n",
    "\n",
    "    # Trouver l'index du film\n",
    "    #idx = df[df['title'] == title].index[0]\n",
    "    \n",
    "    # Calculer la similarité entre le film choisi et tous les autres\n",
    "    #cosine_sim = cosine_similarity(matrice_tfidf[idx:idx+1], matrice_tfidf).flatten()\n",
    "    #sim_euclidienne = 1/(1+euclidean_distances(matrice_tfidf[idx:idx+1], matrice_tfidf)).flatten()\n",
    "    \n",
    "    # Obtenir les indices des films les plus similaires\n",
    "    #sim_scores = list(enumerate(sim_euclidienne))\n",
    "    #sim_scores = sorted(sim_scores, key=lambda x: x[1], reverse=True)\n",
    "    #sim_scores = sim_scores[1:11]  # Top 10, excluant le film lui-même\n",
    "    \n",
    "    # Récupérer les titres des films recommandés\n",
    "    #movie_indices = [i[0] for i in sim_scores]\n",
    "    #recommanded_title=df['title'].iloc[movie_indices]\n",
    "    #score=[i[1] for i in sim_scores]\n",
    "    #return df['title'].iloc[movie_indices]\n",
    "    #return list(zip(movie_indices, recommanded_title,score))"
   ]
  },
  {
   "cell_type": "code",
   "execution_count": null,
   "metadata": {},
   "outputs": [],
   "source": [
    "# Test de la fonction\n",
    "#get_recommendations2(\"Star Trek\", matrice_tfidf, df)"
   ]
  },
  {
   "cell_type": "markdown",
   "metadata": {},
   "source": [
    "### Autre essai de modèle -> resultats non concluants"
   ]
  },
  {
   "cell_type": "code",
   "execution_count": null,
   "metadata": {},
   "outputs": [],
   "source": [
    "#!pip install surprise"
   ]
  },
  {
   "cell_type": "code",
   "execution_count": null,
   "metadata": {},
   "outputs": [],
   "source": [
    "#from surprise import Reader\n",
    "#from surprise import Dataset"
   ]
  },
  {
   "cell_type": "code",
   "execution_count": null,
   "metadata": {},
   "outputs": [],
   "source": [
    "#df['desc']=''\n",
    "#for i in df[df.columns[7:38]].columns.values:\n",
    "    #print(i)\n",
    "    #if df.select_dtypes !=('object'):\n",
    "        #df['desc']=df['desc']+df[i].apply(str)\n",
    "    #else:\n",
    "        #df['desc']=df['desc']+df[i]\n",
    "\n",
    "#print(df['desc'])\n",
    "#print(df['title'])"
   ]
  },
  {
   "cell_type": "code",
   "execution_count": null,
   "metadata": {},
   "outputs": [],
   "source": [
    "#reader = Reader(rating_scale=(0, 5))\n",
    "\n",
    "#df['ScorePondere']=df['numVotes']*df['averageRating']\n",
    "\n",
    "#df_surprise = Dataset.load_from_df(df[[\"desc\", \"title\", \"ScorePondere\"]], reader=reader)"
   ]
  },
  {
   "cell_type": "code",
   "execution_count": null,
   "metadata": {},
   "outputs": [],
   "source": [
    "#from surprise import NormalPredictor\n",
    "#from surprise.model_selection import cross_validate\n",
    "\n",
    "#normpred = NormalPredictor()\n",
    "\n",
    "#cross_validate(normpred, df_surprise, measures=['RMSE', 'MAE'], cv=5, verbose=True)"
   ]
  },
  {
   "cell_type": "code",
   "execution_count": null,
   "metadata": {},
   "outputs": [],
   "source": [
    "#type_movie=\"0000000010000000000000000000000\""
   ]
  },
  {
   "cell_type": "code",
   "execution_count": null,
   "metadata": {},
   "outputs": [],
   "source": [
    "# Construire le jeu d'entraînement complet à partir du DataFrame df_surprise\n",
    "#train_set = df_surprise.build_full_trainset()\n",
    "\n",
    "# Initialiser une liste vide pour stocker les paires (utilisateur, tittle) pour le jeu \"anti-testset\"\n",
    "#anti_testset = []\n",
    "\n",
    "# Convertir l'ID de l'utilisateur externe en l'ID interne utilisé par Surprise\n",
    "#targetUser = train_set.to_inner_uid(type_movie)\n",
    "\n",
    "# Obtenir la valeur de remplissage à utiliser (moyenne globale des notes du jeu d'entraînement)\n",
    "#moyenne = train_set.global_mean\n",
    "\n",
    "# Obtenir les évaluations de l'utilisateur cible pour les films\n",
    "#user_note = train_set.ur[targetUser]\n",
    "\n",
    "# Extraire la liste des livres notés par l'utilisateur\n",
    "#user_movie = [item for (item,_) in (user_note)]\n",
    "\n",
    "# Obtenir toutes les notations du jeu d'entraînement\n",
    "#ratings = train_set.all_ratings()\n",
    "\n",
    "# Boucle sur tous les items du jeu d'entraînement\n",
    "#for movie in train_set.all_items():\n",
    "    # Si l'item n'a pas été noté par l'utilisateur\n",
    "    #if movie not in user_movie:\n",
    "        # Ajouter la paire (utilisateur, movie, valeur de remplissage) à la liste \"anti-testset\"\n",
    "        #anti_testset.append((type_movie, train_set.to_raw_iid(movie), moyenne))"
   ]
  },
  {
   "cell_type": "code",
   "execution_count": null,
   "metadata": {},
   "outputs": [],
   "source": [
    "# Effectuer les prédictions sur l'ensemble \"anti-testset_user\" en utilisant le modèle (non spécifié dans le code)\n",
    "#predictions = normpred.test(anti_testset)  \n",
    "\n",
    "# Convertir les prédictions en un DataFrame pandas\n",
    "#predictions = pd.DataFrame(predictions)\n",
    "\n",
    "# Trier les prédictions par la colonne 'est' (estimation) en ordre décroissant\n",
    "#predictions.sort_values(by=['est'], inplace=True, ascending=False)\n",
    "\n",
    "# Afficher les 10 meilleures prédictions\n",
    "#predictions.head(10)"
   ]
  }
 ],
 "metadata": {
  "kernelspec": {
   "display_name": "venv",
   "language": "python",
   "name": "python3"
  },
  "language_info": {
   "codemirror_mode": {
    "name": "ipython",
    "version": 3
   },
   "file_extension": ".py",
   "mimetype": "text/x-python",
   "name": "python",
   "nbconvert_exporter": "python",
   "pygments_lexer": "ipython3",
   "version": "3.11.2"
  }
 },
 "nbformat": 4,
 "nbformat_minor": 2
}
