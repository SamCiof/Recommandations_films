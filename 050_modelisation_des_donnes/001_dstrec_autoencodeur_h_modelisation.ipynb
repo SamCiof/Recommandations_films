{
  "cells": [
    {
      "cell_type": "markdown",
      "metadata": {
        "id": "8hiZyS3VZhit"
      },
      "source": [
        "# <div style='color:white;background: #005792;text-align: center;padding: 15px 0'>Recommandations - Modélisation d'un modèle machine learning avec Autoencodeur</div>"
      ]
    },
    {
      "cell_type": "markdown",
      "metadata": {
        "id": "dN4m4ihiZhiy"
      },
      "source": [
        "## Participants\n",
        "* Samantha\n",
        "* Rachelle\n",
        "* Andrew"
      ]
    },
    {
      "cell_type": "markdown",
      "metadata": {
        "id": "487PHFGsZhi1"
      },
      "source": [
        "## <div style='background: #005792;text-align: center;padding: 15px 0'> <a style= 'color:white;' >Configuration des variables globales</a></div>"
      ]
    },
    {
      "cell_type": "markdown",
      "metadata": {
        "id": "8ae4VWFdZhi2"
      },
      "source": [
        "### Installation des librairies"
      ]
    },
    {
      "cell_type": "code",
      "execution_count": 3,
      "metadata": {
        "id": "uhLrAs-7Zhi2"
      },
      "outputs": [],
      "source": [
        "# !pip install pandas\n",
        "# !pip install numpy\n",
        "# !pip install matplotlib\n",
        "# !pip install seaborn\n",
        "# !pip install plotly-express\n",
        "# !pip install plotly\n",
        "\n",
        "# !pip install scikit-learn\n",
        "# !pip install tensorflow"
      ]
    },
    {
      "cell_type": "markdown",
      "metadata": {
        "id": "f_XiTil4Zhi2"
      },
      "source": [
        "### Importation des librairies"
      ]
    },
    {
      "cell_type": "code",
      "execution_count": 2,
      "metadata": {
        "id": "3je4ZMXkZhi3"
      },
      "outputs": [],
      "source": [
        "import pandas as pd\n",
        "import numpy as np\n",
        "\n",
        "from sklearn.model_selection import train_test_split\n",
        "from sklearn.preprocessing import MaxAbsScaler, MinMaxScaler, OneHotEncoder\n",
        "from sklearn.compose import ColumnTransformer\n",
        "from sklearn.decomposition import TruncatedSVD\n",
        "\n",
        "import tensorflow as tf\n",
        "from tensorflow.keras.callbacks import EarlyStopping\n",
        "from tensorflow.keras.layers import Input, Dense, Dropout, BatchNormalization\n",
        "from tensorflow.keras.models import Model\n",
        "\n",
        "import matplotlib.pyplot as plt"
      ]
    },
    {
      "cell_type": "markdown",
      "metadata": {
        "id": "TTC4IUJUZhi3"
      },
      "source": [
        "### Chargement des fichiers"
      ]
    },
    {
      "cell_type": "code",
      "execution_count": 3,
      "metadata": {
        "id": "5opNmQvWZhi4"
      },
      "outputs": [],
      "source": [
        "source_dir= '/home/dstrec/dstrec/010_data/002_merged'\n",
        "\n",
        "file_final = f\"{source_dir}/dstrec.csv\""
      ]
    },
    {
      "cell_type": "markdown",
      "metadata": {},
      "source": [
        "## <div style='background: #005792;text-align: center;padding: 15px 0'> <a style= 'color:white;' >Préparation des données</a></div>"
      ]
    },
    {
      "cell_type": "markdown",
      "metadata": {},
      "source": [
        "### Chargement des jeux de données"
      ]
    },
    {
      "cell_type": "code",
      "execution_count": 4,
      "metadata": {},
      "outputs": [],
      "source": [
        "df = pd.read_csv(file_final)"
      ]
    },
    {
      "cell_type": "markdown",
      "metadata": {},
      "source": [
        "### Calcul de la note moyenne pondérée (WAR)"
      ]
    },
    {
      "cell_type": "code",
      "execution_count": 5,
      "metadata": {},
      "outputs": [],
      "source": [
        "C = df['averageRating'].mean()\n",
        "m = df['numVotes'].quantile(0.90)\n",
        "\n",
        "def weighted_average_rating(x, m=m, C=C):\n",
        "    v = x['numVotes']\n",
        "    R = x['averageRating']\n",
        "    return (v/(v + m) * R) + (m/(m + v) * C)\n",
        "\n",
        "df['weightedAverageRating'] = df.apply(weighted_average_rating, axis=1)"
      ]
    },
    {
      "cell_type": "markdown",
      "metadata": {},
      "source": [
        "## <div style='background: #005792;text-align: center;padding: 15px 0'> <a style= 'color:white;' >Préparation des caractéristiques basées sur le contenu et les utilisateurs</a></div>"
      ]
    },
    {
      "cell_type": "markdown",
      "metadata": {},
      "source": [
        "### Encodage one-hot pour les colonnes catégorielles"
      ]
    },
    {
      "cell_type": "code",
      "execution_count": 6,
      "metadata": {},
      "outputs": [],
      "source": [
        "df = df.drop(['imdbId'], axis=1)\n",
        "\n",
        "categorical_features = ['director', 'actor_actress', 'producer']\n",
        "numeric_features = [col for col in df.columns if col not in categorical_features + ['title']]\n",
        "\n",
        "numeric_transformer = MaxAbsScaler()\n",
        "categorical_transformer = OneHotEncoder(handle_unknown='ignore')\n",
        "\n",
        "preprocessor = ColumnTransformer(\n",
        "    transformers=[\n",
        "        ('num', numeric_transformer, numeric_features),\n",
        "        ('cat', categorical_transformer, categorical_features)],\n",
        "    sparse_threshold=0.5)\n",
        "\n",
        "content_features = preprocessor.fit_transform(df.drop('title', axis=1))"
      ]
    },
    {
      "cell_type": "markdown",
      "metadata": {},
      "source": [
        "### Normaliser les caractéristiques des films avec MaxAbsScaler"
      ]
    },
    {
      "cell_type": "code",
      "execution_count": 7,
      "metadata": {},
      "outputs": [],
      "source": [
        "scaler = MaxAbsScaler()\n",
        "scaled_features = scaler.fit_transform(content_features)"
      ]
    },
    {
      "cell_type": "markdown",
      "metadata": {},
      "source": [
        "### Réduction de la dimensionnalité avec TruncatedSVD"
      ]
    },
    {
      "cell_type": "code",
      "execution_count": 9,
      "metadata": {},
      "outputs": [
        {
          "data": {
            "image/png": "[encoded data removed]",
            "text/plain": [
              "<Figure size 1000x500 with 1 Axes>"
            ]
          },
          "metadata": {},
          "output_type": "display_data"
        },
        {
          "name": "stdout",
          "output_type": "stream",
          "text": [
            "Variance expliquée avec 300 composantes: 0.35404343436522856\n"
          ]
        }
      ],
      "source": [
        "# Fixation du nombre de composantes pour SVD\n",
        "fixed_components = 300\n",
        "\n",
        "# Application de TruncatedSVD avec le nombre de composantes fixé\n",
        "svd = TruncatedSVD(n_components=fixed_components)\n",
        "reduced_features = svd.fit_transform(scaled_features)\n",
        "\n",
        "# Variance expliquée cumulée\n",
        "cumulative_variance = np.cumsum(svd.explained_variance_ratio_)\n",
        "\n",
        "# Plot pour visualiser la variance expliquée\n",
        "plt.figure(figsize=(10, 5))\n",
        "plt.plot(cumulative_variance, marker='o')\n",
        "plt.xlabel('Number of Components')\n",
        "plt.ylabel('Cumulative Explained Variance')\n",
        "plt.grid()\n",
        "plt.show()\n",
        "\n",
        "print(f\"Variance expliquée avec {fixed_components} composantes: {cumulative_variance[fixed_components - 1]}\")"
      ]
    },
    {
      "cell_type": "code",
      "execution_count": 7,
      "metadata": {},
      "outputs": [
        {
          "data": {
            "image/png": "[encoded data removed]",
            "text/plain": [
              "<Figure size 1000x500 with 1 Axes>"
            ]
          },
          "metadata": {},
          "output_type": "display_data"
        },
        {
          "name": "stdout",
          "output_type": "stream",
          "text": [
            "Variance expliquée avec 100 composantes: 0.3392802369377463\n"
          ]
        }
      ],
      "source": [
        "# Fixation du nombre de composantes pour SVD\n",
        "fixed_components = 105\n",
        "\n",
        "# Application de TruncatedSVD avec le nombre de composantes fixé\n",
        "svd = TruncatedSVD(n_components=fixed_components)\n",
        "reduced_features = svd.fit_transform(scaled_features)\n",
        "\n",
        "# Variance expliquée cumulée\n",
        "cumulative_variance = np.cumsum(svd.explained_variance_ratio_)\n",
        "\n",
        "plt.figure(figsize=(10, 5))\n",
        "plt.plot(cumulative_variance, marker='o')\n",
        "plt.axvline(x=100, color='r', linestyle='--', label='100 Composantes')\n",
        "plt.xlabel('Number of Components')\n",
        "plt.ylabel('Cumulative Explained Variance')\n",
        "plt.legend()\n",
        "plt.grid()\n",
        "plt.show()\n",
        "\n",
        "print(f\"Variance expliquée avec 100 composantes: {cumulative_variance[fixed_components - 1]}\")"
      ]
    },
    {
      "cell_type": "markdown",
      "metadata": {},
      "source": [
        "<b>Choix des Composantes</b><br>\n",
        "Nous avons observé que la variance expliquée par les composantes supplémentaires commence à stagner après un certain point. Plus précisément, la variance expliquée avec 100 composantes est de 33.88% alors qu'elle n'est que de 35.40% avec 300 composantes. L'augmentation marginale de la variance expliquée ne justifie pas la complexité computationnelle supplémentaire d'utiliser plus de composantes.\n",
        "\n",
        "<b>Justification du Choix</b><br>\n",
        "L'objectif est de trouver un équilibre entre la complexité du modèle et la performance. Avec 100 composantes, nous capturons déjà une grande partie de la variance dans les données (33.88%), et la différence avec le maximum atteint par 300 composantes (35.40%) est minime."
      ]
    },
    {
      "cell_type": "code",
      "execution_count": 8,
      "metadata": {},
      "outputs": [],
      "source": [
        "# Fixation du nombre de composantes pour SVD\n",
        "fixed_components = 100\n",
        "\n",
        "# Application de TruncatedSVD avec le nombre de composantes fixé\n",
        "svd = TruncatedSVD(n_components=fixed_components)\n",
        "reduced_features = svd.fit_transform(scaled_features)\n",
        "\n",
        "# Variance expliquée cumulée\n",
        "cumulative_variance = np.cumsum(svd.explained_variance_ratio_)"
      ]
    },
    {
      "cell_type": "markdown",
      "metadata": {},
      "source": [
        "### Division des données en ensembles d'entraînement et de test"
      ]
    },
    {
      "cell_type": "code",
      "execution_count": 9,
      "metadata": {},
      "outputs": [],
      "source": [
        "train_data, test_data = train_test_split(reduced_features, test_size=0.2, random_state=42)"
      ]
    },
    {
      "cell_type": "markdown",
      "metadata": {},
      "source": [
        "## <div style='background: #005792;text-align: center;padding: 15px 0'> <a style= 'color:white;' >Construction et Entraînement de l'Autoencodeur</a></div>"
      ]
    },
    {
      "cell_type": "code",
      "execution_count": 10,
      "metadata": {},
      "outputs": [
        {
          "data": {
            "text/html": [
              "<pre style=\"white-space:pre;overflow-x:auto;line-height:normal;font-family:Menlo,'DejaVu Sans Mono',consolas,'Courier New',monospace\"><span style=\"font-weight: bold\">Model: \"functional\"</span>\n",
              "</pre>\n"
            ],
            "text/plain": [
              "\u001b[1mModel: \"functional\"\u001b[0m\n"
            ]
          },
          "metadata": {},
          "output_type": "display_data"
        },
        {
          "data": {
            "text/html": [
              "<pre style=\"white-space:pre;overflow-x:auto;line-height:normal;font-family:Menlo,'DejaVu Sans Mono',consolas,'Courier New',monospace\">┏━━━━━━━━━━━━━━━━━━━━━━━━━━━━━━━━━┳━━━━━━━━━━━━━━━━━━━━━━━━┳━━━━━━━━━━━━━━━┓\n",
              "┃<span style=\"font-weight: bold\"> Layer (type)                    </span>┃<span style=\"font-weight: bold\"> Output Shape           </span>┃<span style=\"font-weight: bold\">       Param # </span>┃\n",
              "┡━━━━━━━━━━━━━━━━━━━━━━━━━━━━━━━━━╇━━━━━━━━━━━━━━━━━━━━━━━━╇━━━━━━━━━━━━━━━┩\n",
              "│ input_layer (<span style=\"color: #0087ff; text-decoration-color: #0087ff\">InputLayer</span>)        │ (<span style=\"color: #00d7ff; text-decoration-color: #00d7ff\">None</span>, <span style=\"color: #00af00; text-decoration-color: #00af00\">100</span>)            │             <span style=\"color: #00af00; text-decoration-color: #00af00\">0</span> │\n",
              "├─────────────────────────────────┼────────────────────────┼───────────────┤\n",
              "│ dense (<span style=\"color: #0087ff; text-decoration-color: #0087ff\">Dense</span>)                   │ (<span style=\"color: #00d7ff; text-decoration-color: #00d7ff\">None</span>, <span style=\"color: #00af00; text-decoration-color: #00af00\">128</span>)            │        <span style=\"color: #00af00; text-decoration-color: #00af00\">12,928</span> │\n",
              "├─────────────────────────────────┼────────────────────────┼───────────────┤\n",
              "│ dropout (<span style=\"color: #0087ff; text-decoration-color: #0087ff\">Dropout</span>)               │ (<span style=\"color: #00d7ff; text-decoration-color: #00d7ff\">None</span>, <span style=\"color: #00af00; text-decoration-color: #00af00\">128</span>)            │             <span style=\"color: #00af00; text-decoration-color: #00af00\">0</span> │\n",
              "├─────────────────────────────────┼────────────────────────┼───────────────┤\n",
              "│ batch_normalization             │ (<span style=\"color: #00d7ff; text-decoration-color: #00d7ff\">None</span>, <span style=\"color: #00af00; text-decoration-color: #00af00\">128</span>)            │           <span style=\"color: #00af00; text-decoration-color: #00af00\">512</span> │\n",
              "│ (<span style=\"color: #0087ff; text-decoration-color: #0087ff\">BatchNormalization</span>)            │                        │               │\n",
              "├─────────────────────────────────┼────────────────────────┼───────────────┤\n",
              "│ dense_1 (<span style=\"color: #0087ff; text-decoration-color: #0087ff\">Dense</span>)                 │ (<span style=\"color: #00d7ff; text-decoration-color: #00d7ff\">None</span>, <span style=\"color: #00af00; text-decoration-color: #00af00\">64</span>)             │         <span style=\"color: #00af00; text-decoration-color: #00af00\">8,256</span> │\n",
              "├─────────────────────────────────┼────────────────────────┼───────────────┤\n",
              "│ dropout_1 (<span style=\"color: #0087ff; text-decoration-color: #0087ff\">Dropout</span>)             │ (<span style=\"color: #00d7ff; text-decoration-color: #00d7ff\">None</span>, <span style=\"color: #00af00; text-decoration-color: #00af00\">64</span>)             │             <span style=\"color: #00af00; text-decoration-color: #00af00\">0</span> │\n",
              "├─────────────────────────────────┼────────────────────────┼───────────────┤\n",
              "│ batch_normalization_1           │ (<span style=\"color: #00d7ff; text-decoration-color: #00d7ff\">None</span>, <span style=\"color: #00af00; text-decoration-color: #00af00\">64</span>)             │           <span style=\"color: #00af00; text-decoration-color: #00af00\">256</span> │\n",
              "│ (<span style=\"color: #0087ff; text-decoration-color: #0087ff\">BatchNormalization</span>)            │                        │               │\n",
              "├─────────────────────────────────┼────────────────────────┼───────────────┤\n",
              "│ dense_2 (<span style=\"color: #0087ff; text-decoration-color: #0087ff\">Dense</span>)                 │ (<span style=\"color: #00d7ff; text-decoration-color: #00d7ff\">None</span>, <span style=\"color: #00af00; text-decoration-color: #00af00\">128</span>)            │         <span style=\"color: #00af00; text-decoration-color: #00af00\">8,320</span> │\n",
              "├─────────────────────────────────┼────────────────────────┼───────────────┤\n",
              "│ dropout_2 (<span style=\"color: #0087ff; text-decoration-color: #0087ff\">Dropout</span>)             │ (<span style=\"color: #00d7ff; text-decoration-color: #00d7ff\">None</span>, <span style=\"color: #00af00; text-decoration-color: #00af00\">128</span>)            │             <span style=\"color: #00af00; text-decoration-color: #00af00\">0</span> │\n",
              "├─────────────────────────────────┼────────────────────────┼───────────────┤\n",
              "│ batch_normalization_2           │ (<span style=\"color: #00d7ff; text-decoration-color: #00d7ff\">None</span>, <span style=\"color: #00af00; text-decoration-color: #00af00\">128</span>)            │           <span style=\"color: #00af00; text-decoration-color: #00af00\">512</span> │\n",
              "│ (<span style=\"color: #0087ff; text-decoration-color: #0087ff\">BatchNormalization</span>)            │                        │               │\n",
              "├─────────────────────────────────┼────────────────────────┼───────────────┤\n",
              "│ dense_3 (<span style=\"color: #0087ff; text-decoration-color: #0087ff\">Dense</span>)                 │ (<span style=\"color: #00d7ff; text-decoration-color: #00d7ff\">None</span>, <span style=\"color: #00af00; text-decoration-color: #00af00\">100</span>)            │        <span style=\"color: #00af00; text-decoration-color: #00af00\">12,900</span> │\n",
              "└─────────────────────────────────┴────────────────────────┴───────────────┘\n",
              "</pre>\n"
            ],
            "text/plain": [
              "┏━━━━━━━━━━━━━━━━━━━━━━━━━━━━━━━━━┳━━━━━━━━━━━━━━━━━━━━━━━━┳━━━━━━━━━━━━━━━┓\n",
              "┃\u001b[1m \u001b[0m\u001b[1mLayer (type)                   \u001b[0m\u001b[1m \u001b[0m┃\u001b[1m \u001b[0m\u001b[1mOutput Shape          \u001b[0m\u001b[1m \u001b[0m┃\u001b[1m \u001b[0m\u001b[1m      Param #\u001b[0m\u001b[1m \u001b[0m┃\n",
              "┡━━━━━━━━━━━━━━━━━━━━━━━━━━━━━━━━━╇━━━━━━━━━━━━━━━━━━━━━━━━╇━━━━━━━━━━━━━━━┩\n",
              "│ input_layer (\u001b[38;5;33mInputLayer\u001b[0m)        │ (\u001b[38;5;45mNone\u001b[0m, \u001b[38;5;34m100\u001b[0m)            │             \u001b[38;5;34m0\u001b[0m │\n",
              "├─────────────────────────────────┼────────────────────────┼───────────────┤\n",
              "│ dense (\u001b[38;5;33mDense\u001b[0m)                   │ (\u001b[38;5;45mNone\u001b[0m, \u001b[38;5;34m128\u001b[0m)            │        \u001b[38;5;34m12,928\u001b[0m │\n",
              "├─────────────────────────────────┼────────────────────────┼───────────────┤\n",
              "│ dropout (\u001b[38;5;33mDropout\u001b[0m)               │ (\u001b[38;5;45mNone\u001b[0m, \u001b[38;5;34m128\u001b[0m)            │             \u001b[38;5;34m0\u001b[0m │\n",
              "├─────────────────────────────────┼────────────────────────┼───────────────┤\n",
              "│ batch_normalization             │ (\u001b[38;5;45mNone\u001b[0m, \u001b[38;5;34m128\u001b[0m)            │           \u001b[38;5;34m512\u001b[0m │\n",
              "│ (\u001b[38;5;33mBatchNormalization\u001b[0m)            │                        │               │\n",
              "├─────────────────────────────────┼────────────────────────┼───────────────┤\n",
              "│ dense_1 (\u001b[38;5;33mDense\u001b[0m)                 │ (\u001b[38;5;45mNone\u001b[0m, \u001b[38;5;34m64\u001b[0m)             │         \u001b[38;5;34m8,256\u001b[0m │\n",
              "├─────────────────────────────────┼────────────────────────┼───────────────┤\n",
              "│ dropout_1 (\u001b[38;5;33mDropout\u001b[0m)             │ (\u001b[38;5;45mNone\u001b[0m, \u001b[38;5;34m64\u001b[0m)             │             \u001b[38;5;34m0\u001b[0m │\n",
              "├─────────────────────────────────┼────────────────────────┼───────────────┤\n",
              "│ batch_normalization_1           │ (\u001b[38;5;45mNone\u001b[0m, \u001b[38;5;34m64\u001b[0m)             │           \u001b[38;5;34m256\u001b[0m │\n",
              "│ (\u001b[38;5;33mBatchNormalization\u001b[0m)            │                        │               │\n",
              "├─────────────────────────────────┼────────────────────────┼───────────────┤\n",
              "│ dense_2 (\u001b[38;5;33mDense\u001b[0m)                 │ (\u001b[38;5;45mNone\u001b[0m, \u001b[38;5;34m128\u001b[0m)            │         \u001b[38;5;34m8,320\u001b[0m │\n",
              "├─────────────────────────────────┼────────────────────────┼───────────────┤\n",
              "│ dropout_2 (\u001b[38;5;33mDropout\u001b[0m)             │ (\u001b[38;5;45mNone\u001b[0m, \u001b[38;5;34m128\u001b[0m)            │             \u001b[38;5;34m0\u001b[0m │\n",
              "├─────────────────────────────────┼────────────────────────┼───────────────┤\n",
              "│ batch_normalization_2           │ (\u001b[38;5;45mNone\u001b[0m, \u001b[38;5;34m128\u001b[0m)            │           \u001b[38;5;34m512\u001b[0m │\n",
              "│ (\u001b[38;5;33mBatchNormalization\u001b[0m)            │                        │               │\n",
              "├─────────────────────────────────┼────────────────────────┼───────────────┤\n",
              "│ dense_3 (\u001b[38;5;33mDense\u001b[0m)                 │ (\u001b[38;5;45mNone\u001b[0m, \u001b[38;5;34m100\u001b[0m)            │        \u001b[38;5;34m12,900\u001b[0m │\n",
              "└─────────────────────────────────┴────────────────────────┴───────────────┘\n"
            ]
          },
          "metadata": {},
          "output_type": "display_data"
        },
        {
          "data": {
            "text/html": [
              "<pre style=\"white-space:pre;overflow-x:auto;line-height:normal;font-family:Menlo,'DejaVu Sans Mono',consolas,'Courier New',monospace\"><span style=\"font-weight: bold\"> Total params: </span><span style=\"color: #00af00; text-decoration-color: #00af00\">43,684</span> (170.64 KB)\n",
              "</pre>\n"
            ],
            "text/plain": [
              "\u001b[1m Total params: \u001b[0m\u001b[38;5;34m43,684\u001b[0m (170.64 KB)\n"
            ]
          },
          "metadata": {},
          "output_type": "display_data"
        },
        {
          "data": {
            "text/html": [
              "<pre style=\"white-space:pre;overflow-x:auto;line-height:normal;font-family:Menlo,'DejaVu Sans Mono',consolas,'Courier New',monospace\"><span style=\"font-weight: bold\"> Trainable params: </span><span style=\"color: #00af00; text-decoration-color: #00af00\">43,044</span> (168.14 KB)\n",
              "</pre>\n"
            ],
            "text/plain": [
              "\u001b[1m Trainable params: \u001b[0m\u001b[38;5;34m43,044\u001b[0m (168.14 KB)\n"
            ]
          },
          "metadata": {},
          "output_type": "display_data"
        },
        {
          "data": {
            "text/html": [
              "<pre style=\"white-space:pre;overflow-x:auto;line-height:normal;font-family:Menlo,'DejaVu Sans Mono',consolas,'Courier New',monospace\"><span style=\"font-weight: bold\"> Non-trainable params: </span><span style=\"color: #00af00; text-decoration-color: #00af00\">640</span> (2.50 KB)\n",
              "</pre>\n"
            ],
            "text/plain": [
              "\u001b[1m Non-trainable params: \u001b[0m\u001b[38;5;34m640\u001b[0m (2.50 KB)\n"
            ]
          },
          "metadata": {},
          "output_type": "display_data"
        },
        {
          "name": "stdout",
          "output_type": "stream",
          "text": [
            "Epoch 1/12\n",
            "\u001b[1m411/411\u001b[0m \u001b[32m━━━━━━━━━━━━━━━━━━━━\u001b[0m\u001b[37m\u001b[0m \u001b[1m4s\u001b[0m 5ms/step - loss: 0.1535 - val_loss: 0.0052\n",
            "Epoch 2/12\n",
            "\u001b[1m411/411\u001b[0m \u001b[32m━━━━━━━━━━━━━━━━━━━━\u001b[0m\u001b[37m\u001b[0m \u001b[1m2s\u001b[0m 5ms/step - loss: 0.0047 - val_loss: 0.0047\n",
            "Epoch 3/12\n",
            "\u001b[1m411/411\u001b[0m \u001b[32m━━━━━━━━━━━━━━━━━━━━\u001b[0m\u001b[37m\u001b[0m \u001b[1m2s\u001b[0m 4ms/step - loss: 0.0047 - val_loss: 0.0047\n",
            "Epoch 4/12\n",
            "\u001b[1m411/411\u001b[0m \u001b[32m━━━━━━━━━━━━━━━━━━━━\u001b[0m\u001b[37m\u001b[0m \u001b[1m2s\u001b[0m 4ms/step - loss: 0.0047 - val_loss: 0.0047\n",
            "Epoch 5/12\n",
            "\u001b[1m411/411\u001b[0m \u001b[32m━━━━━━━━━━━━━━━━━━━━\u001b[0m\u001b[37m\u001b[0m \u001b[1m2s\u001b[0m 4ms/step - loss: 0.0047 - val_loss: 0.0047\n",
            "Epoch 6/12\n",
            "\u001b[1m411/411\u001b[0m \u001b[32m━━━━━━━━━━━━━━━━━━━━\u001b[0m\u001b[37m\u001b[0m \u001b[1m2s\u001b[0m 4ms/step - loss: 0.0047 - val_loss: 0.0047\n"
          ]
        }
      ],
      "source": [
        "# Normalisation des données\n",
        "scaler = MinMaxScaler(feature_range=(0, 1))\n",
        "train_data_normalized = scaler.fit_transform(train_data)\n",
        "\n",
        "# Définition des dimensions\n",
        "input_dim = train_data_normalized.shape[1]\n",
        "encoding_dim = 64\n",
        "\n",
        "# Entrée de l'autoencodeur\n",
        "input_layer = Input(shape=(input_dim,))\n",
        "\n",
        "# Encodeur\n",
        "encoder = Dense(128, activation='relu')(input_layer)\n",
        "encoder = Dropout(0.2)(encoder)\n",
        "encoder = BatchNormalization()(encoder)\n",
        "encoder = Dense(encoding_dim, activation='relu')(encoder)\n",
        "encoder = Dropout(0.2)(encoder)\n",
        "encoder = BatchNormalization()(encoder)\n",
        "\n",
        "# Décodeur\n",
        "decoder = Dense(128, activation='relu')(encoder)\n",
        "decoder = Dropout(0.2)(decoder)\n",
        "decoder = BatchNormalization()(decoder)\n",
        "decoder = Dense(input_dim, activation='tanh')(decoder)\n",
        "\n",
        "# Modèle\n",
        "autoencoder = Model(input_layer, decoder)\n",
        "autoencoder.summary()\n",
        "\n",
        "# Compilation du modèle\n",
        "autoencoder.compile(optimizer='adam', loss='mean_squared_error')\n",
        "\n",
        "# Utilisation de EarlyStopping\n",
        "early_stopping = EarlyStopping(monitor='val_loss', patience=3, restore_best_weights=True)\n",
        "\n",
        "# Entraînement l'autoencodeur\n",
        "history = autoencoder.fit(train_data_normalized, train_data_normalized,\n",
        "                          epochs=12,  # Limitation du nombre d'époques à 12\n",
        "                          batch_size=256,\n",
        "                          shuffle=True,\n",
        "                          validation_split=0.2,\n",
        "                          callbacks=[early_stopping])  # Utilisation EarlyStopping pour arrêter si la performance stagne"
      ]
    },
    {
      "cell_type": "markdown",
      "metadata": {},
      "source": [
        "## <div style='background: #005792;text-align: center;padding: 15px 0'> <a style= 'color:white;' >Évaluation et Visualisation du Modèle</a></div>"
      ]
    },
    {
      "cell_type": "markdown",
      "metadata": {},
      "source": [
        "### Vérification des données après normalisation"
      ]
    },
    {
      "cell_type": "code",
      "execution_count": 13,
      "metadata": {},
      "outputs": [
        {
          "name": "stdout",
          "output_type": "stream",
          "text": [
            "Min value in train data: -1.2444726948010125\n",
            "Max value in train data: 1.8750122526848938\n"
          ]
        },
        {
          "data": {
            "image/png": "[encoded data removed]",
            "text/plain": [
              "<Figure size 640x480 with 1 Axes>"
            ]
          },
          "metadata": {},
          "output_type": "display_data"
        }
      ],
      "source": [
        "print(\"Min value in train data:\", np.min(train_data))\n",
        "print(\"Max value in train data:\", np.max(train_data))\n",
        "\n",
        "plt.hist(train_data.flatten(), bins=100)\n",
        "plt.title(\"Distribution des données normalisées\")\n",
        "plt.show()"
      ]
    },
    {
      "cell_type": "markdown",
      "metadata": {},
      "source": [
        "### Prédictions"
      ]
    },
    {
      "cell_type": "code",
      "execution_count": 14,
      "metadata": {},
      "outputs": [
        {
          "name": "stdout",
          "output_type": "stream",
          "text": [
            "\u001b[1m1026/1026\u001b[0m \u001b[32m━━━━━━━━━━━━━━━━━━━━\u001b[0m\u001b[37m\u001b[0m \u001b[1m1s\u001b[0m 724us/step\n",
            "Mean Squared Error: 1.0016690492630005\n"
          ]
        },
        {
          "data": {
            "image/png": "[encoded data removed]",
            "text/plain": [
              "<Figure size 640x480 with 1 Axes>"
            ]
          },
          "metadata": {},
          "output_type": "display_data"
        }
      ],
      "source": [
        "predictions = autoencoder.predict(test_data)\n",
        "\n",
        "# Calcule de l'erreur de reconstruction\n",
        "mse = tf.keras.losses.MeanSquaredError()\n",
        "error = mse(test_data, predictions).numpy()\n",
        "print(f\"Mean Squared Error: {error}\")\n",
        "\n",
        "plt.plot(history.history['loss'], label='Training Loss')\n",
        "plt.plot(history.history['val_loss'], label='Validation Loss')\n",
        "plt.xlabel('Epochs')\n",
        "plt.ylabel('Loss')\n",
        "plt.legend()\n",
        "plt.show()"
      ]
    },
    {
      "cell_type": "markdown",
      "metadata": {},
      "source": [
        " prédiction sur des données de test "
      ]
    },
    {
      "cell_type": "code",
      "execution_count": 16,
      "metadata": {},
      "outputs": [
        {
          "name": "stdout",
          "output_type": "stream",
          "text": [
            "\u001b[1m1026/1026\u001b[0m \u001b[32m━━━━━━━━━━━━━━━━━━━━\u001b[0m\u001b[37m\u001b[0m \u001b[1m1s\u001b[0m 734us/step\n",
            "\u001b[1m1026/1026\u001b[0m \u001b[32m━━━━━━━━━━━━━━━━━━━━\u001b[0m\u001b[37m\u001b[0m \u001b[1m1s\u001b[0m 620us/step - loss: 0.0046\n",
            "Test Loss: 0.004633432719856501\n"
          ]
        }
      ],
      "source": [
        "# Normalisation des données de test\n",
        "test_data_normalized = scaler.transform(test_data)\n",
        "\n",
        "# Prédiction des données de test\n",
        "test_predictions = autoencoder.predict(test_data_normalized)\n",
        "\n",
        "# Évaluation la performance\n",
        "test_loss = autoencoder.evaluate(test_data_normalized, test_data_normalized)\n",
        "print(f'Test Loss: {test_loss}')\n"
      ]
    },
    {
      "cell_type": "markdown",
      "metadata": {},
      "source": [
        "Le modèle a obtenu une perte de test (Test Loss) de 0.0046, ce qui est très proche de la perte de validation observée pendant l'entraînement. Cela indique que le modèle généralise bien sur les données de test et qu'il n'y a pas de signes évidents de surapprentissage."
      ]
    },
    {
      "cell_type": "markdown",
      "metadata": {},
      "source": [
        "## <div style='background: #005792;text-align: center;padding: 15px 0'> <a style= 'color:white;' >Génération des Recommandations</a></div>"
      ]
    },
    {
      "cell_type": "code",
      "execution_count": 11,
      "metadata": {},
      "outputs": [
        {
          "name": "stdout",
          "output_type": "stream",
          "text": [
            "\u001b[1m4103/4103\u001b[0m \u001b[32m━━━━━━━━━━━━━━━━━━━━\u001b[0m\u001b[37m\u001b[0m \u001b[1m3s\u001b[0m 698us/step\n",
            "\u001b[1m5129/5129\u001b[0m \u001b[32m━━━━━━━━━━━━━━━━━━━━\u001b[0m\u001b[37m\u001b[0m \u001b[1m3s\u001b[0m 670us/step\n"
          ]
        }
      ],
      "source": [
        "# Encodage des données d'entraînement et l'ensemble complet des données\n",
        "encoded_train_data = autoencoder.predict(train_data)\n",
        "encoded_full_data = autoencoder.predict(reduced_features)\n",
        "\n",
        "# Fonction de normalisation\n",
        "def normalize(x):\n",
        "    norm = np.linalg.norm(x)\n",
        "    if norm == 0: \n",
        "       return x\n",
        "    return x / norm\n",
        "\n",
        "# Normalisation les représentations encodées\n",
        "normalized_encoded_full_data = np.apply_along_axis(normalize, 1, encoded_full_data)\n",
        "\n",
        "# Obtention toutes les colonnes de genres\n",
        "genre_columns = df.loc[:, 'Action':'Western'].columns\n",
        "\n",
        "# Création une fonction de recommandation pour chaque film\n",
        "def recommend_movies(movie_title, num_recommendations=5):\n",
        "    if movie_title not in df['title'].values:\n",
        "        return f\"Le film '{movie_title}' n'existe pas dans la base de données.\"\n",
        "\n",
        "    movie_index = df.index[df['title'] == movie_title].tolist()[0]\n",
        "    movie_ratings = normalized_encoded_full_data[movie_index]\n",
        "\n",
        "    # Calcule ces similarités cosinus entre le film donné et tous les autres films\n",
        "    similarities_cosine = np.dot(normalized_encoded_full_data, movie_ratings)\n",
        "\n",
        "    # Vérification des genres des films recommandés pour plus de pertinence\n",
        "    original_genres = df.loc[movie_index, genre_columns].values\n",
        "    similar_movies = df.loc[:, genre_columns].copy()\n",
        "\n",
        "    # Filtre des recommandations pour inclure des films avec des genres similaires\n",
        "    similar_movies['genre_similarity'] = similar_movies.apply(\n",
        "        lambda row: np.dot(row.values, original_genres), axis=1)\n",
        "\n",
        "    # Combination des scores de similarité\n",
        "    combined_score = (0.5 * similarities_cosine) + (0.5 * similar_movies['genre_similarity'].values)\n",
        "    similar_movies['combined_score'] = combined_score\n",
        "\n",
        "    # Trie des films par score combiné, exclure le film donné, et retourner les meilleurs\n",
        "    similar_indices = similar_movies['combined_score'].argsort()[-(num_recommendations + 1):][::-1]\n",
        "    similar_indices = [idx for idx in similar_indices if idx != movie_index][:num_recommendations]\n",
        "\n",
        "    final_recommendations = df.loc[similar_indices]\n",
        "\n",
        "    return final_recommendations['title']"
      ]
    },
    {
      "cell_type": "markdown",
      "metadata": {},
      "source": [
        "## <div style='background: #005792;text-align: center;padding: 15px 0'> <a style= 'color:white;' >Exemples d'utilisations</a></div>"
      ]
    },
    {
      "cell_type": "markdown",
      "metadata": {},
      "source": [
        "### Star Trek"
      ]
    },
    {
      "cell_type": "code",
      "execution_count": 43,
      "metadata": {},
      "outputs": [
        {
          "name": "stdout",
          "output_type": "stream",
          "text": [
            "(87495                   The Fist of Death\n",
            "34397                         Time Runner\n",
            "116092    Transformers: Age of Extinction\n",
            "70615                        Transformers\n",
            "111578           The Amazing Spider-Man 2\n",
            "Name: title, dtype: object, [87495, 34397, 116092, 70615, 111578], 77273)\n"
          ]
        }
      ],
      "source": [
        "print(recommend_movies('Star Trek', 5))"
      ]
    },
    {
      "cell_type": "markdown",
      "metadata": {},
      "source": [
        "### Rogue One: A Star Wars Story"
      ]
    },
    {
      "cell_type": "code",
      "execution_count": 13,
      "metadata": {},
      "outputs": [
        {
          "name": "stdout",
          "output_type": "stream",
          "text": [
            "87495                   The Fist of Death\n",
            "34397                         Time Runner\n",
            "116092    Transformers: Age of Extinction\n",
            "70615                        Transformers\n",
            "111578           The Amazing Spider-Man 2\n",
            "Name: title, dtype: object\n"
          ]
        }
      ],
      "source": [
        "print(recommend_movies('Rogue One: A Star Wars Story', 5))"
      ]
    },
    {
      "cell_type": "markdown",
      "metadata": {},
      "source": [
        "### Star Wars: Episode VII - The Force Awakens"
      ]
    },
    {
      "cell_type": "code",
      "execution_count": 14,
      "metadata": {},
      "outputs": [
        {
          "name": "stdout",
          "output_type": "stream",
          "text": [
            "87495                   The Fist of Death\n",
            "34397                         Time Runner\n",
            "116092    Transformers: Age of Extinction\n",
            "70615                        Transformers\n",
            "111578           The Amazing Spider-Man 2\n",
            "Name: title, dtype: object\n"
          ]
        }
      ],
      "source": [
        "print(recommend_movies('Star Wars: Episode VII - The Force Awakens', 5))"
      ]
    },
    {
      "cell_type": "markdown",
      "metadata": {},
      "source": [
        "### Serenity"
      ]
    },
    {
      "cell_type": "code",
      "execution_count": 15,
      "metadata": {},
      "outputs": [
        {
          "name": "stdout",
          "output_type": "stream",
          "text": [
            "87495                   The Fist of Death\n",
            "34397                         Time Runner\n",
            "116092    Transformers: Age of Extinction\n",
            "70615                        Transformers\n",
            "111578           The Amazing Spider-Man 2\n",
            "Name: title, dtype: object\n"
          ]
        }
      ],
      "source": [
        "print(recommend_movies('Serenity', 5))"
      ]
    },
    {
      "cell_type": "markdown",
      "metadata": {},
      "source": [
        "### Jumanji"
      ]
    },
    {
      "cell_type": "code",
      "execution_count": 16,
      "metadata": {},
      "outputs": [
        {
          "name": "stdout",
          "output_type": "stream",
          "text": [
            "141878    Vinski and the Invisibility Powder\n",
            "73348                                   Hoot\n",
            "43                  The Patchwork Girl of Oz\n",
            "63719                       A Christmas Tail\n",
            "3957                Blondie Takes a Vacation\n",
            "Name: title, dtype: object\n"
          ]
        }
      ],
      "source": [
        "print(recommend_movies('Jumanji', 5))"
      ]
    },
    {
      "cell_type": "markdown",
      "metadata": {},
      "source": [
        "### Toy Story"
      ]
    },
    {
      "cell_type": "code",
      "execution_count": 17,
      "metadata": {},
      "outputs": [
        {
          "name": "stdout",
          "output_type": "stream",
          "text": [
            "139316       Playmobil: The Movie\n",
            "163353    The Adventures of Açela\n",
            "35214              The Pagemaster\n",
            "156367                The Mobarak\n",
            "91399      Two by Two: Overboard!\n",
            "Name: title, dtype: object\n"
          ]
        }
      ],
      "source": [
        "print(recommend_movies('Toy Story', 5))"
      ]
    }
  ],
  "metadata": {
    "colab": {
      "provenance": []
    },
    "kernelspec": {
      "display_name": "Python 3 (ipykernel)",
      "language": "python",
      "name": "python3"
    },
    "language_info": {
      "codemirror_mode": {
        "name": "ipython",
        "version": 3
      },
      "file_extension": ".py",
      "mimetype": "text/x-python",
      "name": "python",
      "nbconvert_exporter": "python",
      "pygments_lexer": "ipython3",
      "version": "3.11.2"
    }
  },
  "nbformat": 4,
  "nbformat_minor": 0
}
