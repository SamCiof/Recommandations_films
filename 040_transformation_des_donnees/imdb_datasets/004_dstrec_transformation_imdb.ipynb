{
  "cells": [
    {
      "cell_type": "markdown",
      "metadata": {
        "id": "8hiZyS3VZhit"
      },
      "source": [
        "# <div style='color:white;background: #005792;text-align: center;padding: 15px 0'>Recommandations - Transformation des données IMDb</div>"
      ]
    },
    {
      "cell_type": "markdown",
      "metadata": {
        "id": "dN4m4ihiZhiy"
      },
      "source": [
        "## Participants\n",
        "* Samantha\n",
        "* Rachelle\n",
        "* Andrew\n"
      ]
    },
    {
      "cell_type": "markdown",
      "metadata": {
        "id": "487PHFGsZhi1"
      },
      "source": [
        "## <div style='background: #005792;text-align: center;padding: 15px 0'> <a style= 'color:white;' >Configuration des variables globales</a></div>"
      ]
    },
    {
      "cell_type": "markdown",
      "metadata": {
        "id": "8ae4VWFdZhi2"
      },
      "source": [
        "### Installation des librairies"
      ]
    },
    {
      "cell_type": "code",
      "execution_count": 1,
      "metadata": {
        "id": "uhLrAs-7Zhi2"
      },
      "outputs": [],
      "source": [
        "# !pip install pandas\n",
        "# !pip install numpy\n",
        "# !pip install matplotlib\n",
        "# !pip install seaborn\n",
        "# !pip install plotly-express\n",
        "# !pip install plotly"
      ]
    },
    {
      "cell_type": "markdown",
      "metadata": {
        "id": "f_XiTil4Zhi2"
      },
      "source": [
        "### Importation des librairies"
      ]
    },
    {
      "cell_type": "code",
      "execution_count": 1,
      "metadata": {
        "id": "3je4ZMXkZhi3"
      },
      "outputs": [],
      "source": [
        "import os\n",
        "import warnings\n",
        "warnings.filterwarnings('ignore')\n",
        "\n",
        "import pandas as pd\n",
        "import numpy as np\n",
        "\n",
        "import seaborn as sns\n",
        "import matplotlib.pyplot as plt\n",
        "\n",
        "import re"
      ]
    },
    {
      "cell_type": "markdown",
      "metadata": {
        "id": "TTC4IUJUZhi3"
      },
      "source": [
        "### Chargement des fichiers"
      ]
    },
    {
      "cell_type": "code",
      "execution_count": 2,
      "metadata": {
        "id": "5opNmQvWZhi4"
      },
      "outputs": [],
      "source": [
        "transformed_dir = '/home/dstrec/dstrec/010_data/001_transformed'\n",
        "\n",
        "title_principals= 'title_principals_transformed.csv'\n",
        "title_basics = 'title_basics.csv'\n",
        "\n",
        "\n",
        "file_title_principals= f\"{transformed_dir}/{title_principals}\"\n",
        "file_title_basics= f\"{transformed_dir}/{title_basics}\""
      ]
    },
    {
      "cell_type": "markdown",
      "metadata": {},
      "source": [
        "### Configuration des fonctions"
      ]
    },
    {
      "cell_type": "code",
      "execution_count": 2,
      "metadata": {},
      "outputs": [],
      "source": []
    },
    {
      "cell_type": "markdown",
      "metadata": {},
      "source": [
        "## <div style='background: #005792;text-align: center;padding: 15px 0'> <a style= 'color:white;' >Préparation des données</a></div>"
      ]
    },
    {
      "cell_type": "markdown",
      "metadata": {},
      "source": [
        "### Chargement du jeu de données"
      ]
    },
    {
      "cell_type": "code",
      "execution_count": 3,
      "metadata": {},
      "outputs": [
        {
          "data": {
            "text/html": [
              "<div>\n",
              "<style scoped>\n",
              "    .dataframe tbody tr th:only-of-type {\n",
              "        vertical-align: middle;\n",
              "    }\n",
              "\n",
              "    .dataframe tbody tr th {\n",
              "        vertical-align: top;\n",
              "    }\n",
              "\n",
              "    .dataframe thead th {\n",
              "        text-align: right;\n",
              "    }\n",
              "</style>\n",
              "<table border=\"1\" class=\"dataframe\">\n",
              "  <thead>\n",
              "    <tr style=\"text-align: right;\">\n",
              "      <th></th>\n",
              "      <th>tconst</th>\n",
              "      <th>actor</th>\n",
              "      <th>actress</th>\n",
              "      <th>composer</th>\n",
              "      <th>director</th>\n",
              "      <th>producer</th>\n",
              "    </tr>\n",
              "  </thead>\n",
              "  <tbody>\n",
              "    <tr>\n",
              "      <th>0</th>\n",
              "      <td>tt0000009</td>\n",
              "      <td>William Courtenay</td>\n",
              "      <td>Blanche Bayliss</td>\n",
              "      <td>NaN</td>\n",
              "      <td>Alexander Black</td>\n",
              "      <td>Alexander Black</td>\n",
              "    </tr>\n",
              "    <tr>\n",
              "      <th>1</th>\n",
              "      <td>tt0000147</td>\n",
              "      <td>NaN</td>\n",
              "      <td>NaN</td>\n",
              "      <td>NaN</td>\n",
              "      <td>Enoch J. Rector</td>\n",
              "      <td>William A. Brady</td>\n",
              "    </tr>\n",
              "    <tr>\n",
              "      <th>2</th>\n",
              "      <td>tt0000502</td>\n",
              "      <td>Antonio del Pozo</td>\n",
              "      <td>NaN</td>\n",
              "      <td>NaN</td>\n",
              "      <td>Ricardo de Baños</td>\n",
              "      <td>NaN</td>\n",
              "    </tr>\n",
              "    <tr>\n",
              "      <th>3</th>\n",
              "      <td>tt0000574</td>\n",
              "      <td>Godfrey Cass</td>\n",
              "      <td>Bella Cola</td>\n",
              "      <td>Eric Chapus</td>\n",
              "      <td>Charles Tait</td>\n",
              "      <td>W.A. Gibson</td>\n",
              "    </tr>\n",
              "    <tr>\n",
              "      <th>4</th>\n",
              "      <td>tt0000675</td>\n",
              "      <td>NaN</td>\n",
              "      <td>NaN</td>\n",
              "      <td>NaN</td>\n",
              "      <td>Narciso Cuyàs</td>\n",
              "      <td>NaN</td>\n",
              "    </tr>\n",
              "  </tbody>\n",
              "</table>\n",
              "</div>"
            ],
            "text/plain": [
              "      tconst              actor          actress     composer  \\\n",
              "0  tt0000009  William Courtenay  Blanche Bayliss          NaN   \n",
              "1  tt0000147                NaN              NaN          NaN   \n",
              "2  tt0000502   Antonio del Pozo              NaN          NaN   \n",
              "3  tt0000574       Godfrey Cass       Bella Cola  Eric Chapus   \n",
              "4  tt0000675                NaN              NaN          NaN   \n",
              "\n",
              "           director          producer  \n",
              "0   Alexander Black   Alexander Black  \n",
              "1   Enoch J. Rector  William A. Brady  \n",
              "2  Ricardo de Baños               NaN  \n",
              "3      Charles Tait       W.A. Gibson  \n",
              "4     Narciso Cuyàs               NaN  "
            ]
          },
          "execution_count": 3,
          "metadata": {},
          "output_type": "execute_result"
        }
      ],
      "source": [
        "df_principals = pd.read_csv(file_title_principals)\n",
        "df_principals.head()"
      ]
    },
    {
      "cell_type": "code",
      "execution_count": 4,
      "metadata": {},
      "outputs": [
        {
          "data": {
            "text/html": [
              "<div>\n",
              "<style scoped>\n",
              "    .dataframe tbody tr th:only-of-type {\n",
              "        vertical-align: middle;\n",
              "    }\n",
              "\n",
              "    .dataframe tbody tr th {\n",
              "        vertical-align: top;\n",
              "    }\n",
              "\n",
              "    .dataframe thead th {\n",
              "        text-align: right;\n",
              "    }\n",
              "</style>\n",
              "<table border=\"1\" class=\"dataframe\">\n",
              "  <thead>\n",
              "    <tr style=\"text-align: right;\">\n",
              "      <th></th>\n",
              "      <th>tconst</th>\n",
              "      <th>titleType</th>\n",
              "      <th>primaryTitle</th>\n",
              "      <th>genres</th>\n",
              "      <th>averageRating</th>\n",
              "      <th>numVotes</th>\n",
              "      <th>actor</th>\n",
              "      <th>actress</th>\n",
              "      <th>composer</th>\n",
              "      <th>director</th>\n",
              "      <th>producer</th>\n",
              "    </tr>\n",
              "  </thead>\n",
              "  <tbody>\n",
              "    <tr>\n",
              "      <th>0</th>\n",
              "      <td>tt0111161</td>\n",
              "      <td>movie</td>\n",
              "      <td>The Shawshank Redemption</td>\n",
              "      <td>Drama</td>\n",
              "      <td>9.3</td>\n",
              "      <td>2896494.0</td>\n",
              "      <td>Tim Robbins</td>\n",
              "      <td>NaN</td>\n",
              "      <td>Thomas Newman</td>\n",
              "      <td>Frank Darabont</td>\n",
              "      <td>Niki Marvin</td>\n",
              "    </tr>\n",
              "    <tr>\n",
              "      <th>1</th>\n",
              "      <td>tt0468569</td>\n",
              "      <td>movie</td>\n",
              "      <td>The Dark Knight</td>\n",
              "      <td>Action,Crime,Drama</td>\n",
              "      <td>9.0</td>\n",
              "      <td>2877871.0</td>\n",
              "      <td>Christian Bale</td>\n",
              "      <td>Maggie Gyllenhaal</td>\n",
              "      <td>James Newton Howard</td>\n",
              "      <td>Christopher Nolan</td>\n",
              "      <td>Christopher Nolan</td>\n",
              "    </tr>\n",
              "    <tr>\n",
              "      <th>2</th>\n",
              "      <td>tt1375666</td>\n",
              "      <td>movie</td>\n",
              "      <td>Inception</td>\n",
              "      <td>Action,Adventure,Sci-Fi</td>\n",
              "      <td>8.8</td>\n",
              "      <td>2557396.0</td>\n",
              "      <td>Leonardo DiCaprio</td>\n",
              "      <td>Marion Cotillard</td>\n",
              "      <td>Hans Zimmer</td>\n",
              "      <td>Christopher Nolan</td>\n",
              "      <td>Christopher Nolan</td>\n",
              "    </tr>\n",
              "    <tr>\n",
              "      <th>3</th>\n",
              "      <td>tt0137523</td>\n",
              "      <td>movie</td>\n",
              "      <td>Fight Club</td>\n",
              "      <td>Drama</td>\n",
              "      <td>8.8</td>\n",
              "      <td>2330795.0</td>\n",
              "      <td>Brad Pitt</td>\n",
              "      <td>Eugenie Bondurant</td>\n",
              "      <td>John King</td>\n",
              "      <td>David Fincher</td>\n",
              "      <td>Ross Grayson Bell</td>\n",
              "    </tr>\n",
              "    <tr>\n",
              "      <th>4</th>\n",
              "      <td>tt0109830</td>\n",
              "      <td>movie</td>\n",
              "      <td>Forrest Gump</td>\n",
              "      <td>Drama,Romance</td>\n",
              "      <td>8.8</td>\n",
              "      <td>2263456.0</td>\n",
              "      <td>Tom Hanks</td>\n",
              "      <td>Robin Wright</td>\n",
              "      <td>Alan Silvestri</td>\n",
              "      <td>Robert Zemeckis</td>\n",
              "      <td>Steve Tisch</td>\n",
              "    </tr>\n",
              "  </tbody>\n",
              "</table>\n",
              "</div>"
            ],
            "text/plain": [
              "      tconst titleType              primaryTitle                   genres  \\\n",
              "0  tt0111161     movie  The Shawshank Redemption                    Drama   \n",
              "1  tt0468569     movie           The Dark Knight       Action,Crime,Drama   \n",
              "2  tt1375666     movie                 Inception  Action,Adventure,Sci-Fi   \n",
              "3  tt0137523     movie                Fight Club                    Drama   \n",
              "4  tt0109830     movie              Forrest Gump            Drama,Romance   \n",
              "\n",
              "   averageRating   numVotes              actor            actress  \\\n",
              "0            9.3  2896494.0        Tim Robbins                NaN   \n",
              "1            9.0  2877871.0     Christian Bale  Maggie Gyllenhaal   \n",
              "2            8.8  2557396.0  Leonardo DiCaprio   Marion Cotillard   \n",
              "3            8.8  2330795.0          Brad Pitt  Eugenie Bondurant   \n",
              "4            8.8  2263456.0          Tom Hanks       Robin Wright   \n",
              "\n",
              "              composer           director           producer  \n",
              "0        Thomas Newman     Frank Darabont        Niki Marvin  \n",
              "1  James Newton Howard  Christopher Nolan  Christopher Nolan  \n",
              "2          Hans Zimmer  Christopher Nolan  Christopher Nolan  \n",
              "3            John King      David Fincher  Ross Grayson Bell  \n",
              "4       Alan Silvestri    Robert Zemeckis        Steve Tisch  "
            ]
          },
          "execution_count": 4,
          "metadata": {},
          "output_type": "execute_result"
        }
      ],
      "source": [
        "chunk_size = 100000\n",
        "merged_chunks = []\n",
        "\n",
        "for chunk in pd.read_csv(file_title_basics, chunksize=chunk_size):\n",
        "    merged_chunk = pd.merge(chunk, df_principals, on='tconst', how='inner')\n",
        "    merged_chunks.append(merged_chunk)\n",
        "\n",
        "df_imdb = pd.concat(merged_chunks, ignore_index=True)\n",
        "\n",
        "df_imdb.head()"
      ]
    },
    {
      "cell_type": "markdown",
      "metadata": {},
      "source": [
        "### EDA"
      ]
    },
    {
      "cell_type": "code",
      "execution_count": 5,
      "metadata": {},
      "outputs": [
        {
          "name": "stdout",
          "output_type": "stream",
          "text": [
            "<class 'pandas.core.frame.DataFrame'>\n",
            "RangeIndex: 572547 entries, 0 to 572546\n",
            "Data columns (total 11 columns):\n",
            " #   Column         Non-Null Count   Dtype  \n",
            "---  ------         --------------   -----  \n",
            " 0   tconst         572547 non-null  object \n",
            " 1   titleType      572547 non-null  object \n",
            " 2   primaryTitle   572547 non-null  object \n",
            " 3   genres         513333 non-null  object \n",
            " 4   averageRating  274637 non-null  float64\n",
            " 5   numVotes       274637 non-null  float64\n",
            " 6   actor          412818 non-null  object \n",
            " 7   actress        377625 non-null  object \n",
            " 8   composer       271256 non-null  object \n",
            " 9   director       525915 non-null  object \n",
            " 10  producer       367923 non-null  object \n",
            "dtypes: float64(2), object(9)\n",
            "memory usage: 48.1+ MB\n"
          ]
        }
      ],
      "source": [
        "df_imdb.info()"
      ]
    },
    {
      "cell_type": "markdown",
      "metadata": {},
      "source": [
        "### Valeurs manquantes"
      ]
    },
    {
      "cell_type": "code",
      "execution_count": 6,
      "metadata": {},
      "outputs": [
        {
          "data": {
            "text/plain": [
              "tconst                0\n",
              "titleType             0\n",
              "primaryTitle          0\n",
              "genres            59214\n",
              "averageRating    297910\n",
              "numVotes         297910\n",
              "actor            159729\n",
              "actress          194922\n",
              "composer         301291\n",
              "director          46632\n",
              "producer         204624\n",
              "dtype: int64"
            ]
          },
          "execution_count": 6,
          "metadata": {},
          "output_type": "execute_result"
        }
      ],
      "source": [
        "df_imdb.isna().sum()"
      ]
    },
    {
      "cell_type": "markdown",
      "metadata": {},
      "source": [
        "### Insertion dans un fichier CSV"
      ]
    },
    {
      "cell_type": "code",
      "execution_count": 10,
      "metadata": {},
      "outputs": [],
      "source": [
        "dest_dir = '/home/dstrec/dstrec/010_data/001_transformed'\n",
        "imdb_csv = 'imdb.csv'\n",
        "\n",
        "output_file_imdb = f\"{dest_dir}/{imdb_csv}\"\n",
        "\n",
        "df_imdb.to_csv(output_file_imdb, index=False)"
      ]
    }
  ],
  "metadata": {
    "colab": {
      "provenance": []
    },
    "kernelspec": {
      "display_name": "Python 3 (ipykernel)",
      "language": "python",
      "name": "python3"
    },
    "language_info": {
      "codemirror_mode": {
        "name": "ipython",
        "version": 3
      },
      "file_extension": ".py",
      "mimetype": "text/x-python",
      "name": "python",
      "nbconvert_exporter": "python",
      "pygments_lexer": "ipython3",
      "version": "3.11.2"
    }
  },
  "nbformat": 4,
  "nbformat_minor": 0
}
