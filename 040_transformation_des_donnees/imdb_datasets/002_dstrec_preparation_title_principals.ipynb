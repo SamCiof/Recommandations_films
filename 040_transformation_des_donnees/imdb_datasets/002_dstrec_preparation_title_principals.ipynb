{
  "cells": [
    {
      "cell_type": "markdown",
      "metadata": {
        "id": "8hiZyS3VZhit"
      },
      "source": [
        "# <div style='color:white;background: #005792;text-align: center;padding: 15px 0'>Recommandations - Préparation des données Title principals</div>"
      ]
    },
    {
      "cell_type": "markdown",
      "metadata": {
        "id": "dN4m4ihiZhiy"
      },
      "source": [
        "## Participants\n",
        "* Samantha\n",
        "* Rachelle\n",
        "* Andrew"
      ]
    },
    {
      "cell_type": "markdown",
      "metadata": {
        "id": "487PHFGsZhi1"
      },
      "source": [
        "## <div style='background: #005792;text-align: center;padding: 15px 0'> <a style= 'color:white;' >Configuration des variables globales</a></div>"
      ]
    },
    {
      "cell_type": "markdown",
      "metadata": {
        "id": "8ae4VWFdZhi2"
      },
      "source": [
        "### Installation des librairies"
      ]
    },
    {
      "cell_type": "code",
      "execution_count": 1,
      "metadata": {
        "id": "uhLrAs-7Zhi2"
      },
      "outputs": [],
      "source": [
        "# !pip install pandas\n",
        "# !pip install numpy\n",
        "# !pip install matplotlib\n",
        "# !pip install seaborn\n",
        "# !pip install plotly-express\n",
        "# !pip install plotly"
      ]
    },
    {
      "cell_type": "markdown",
      "metadata": {
        "id": "f_XiTil4Zhi2"
      },
      "source": [
        "### Importation des librairies"
      ]
    },
    {
      "cell_type": "code",
      "execution_count": 2,
      "metadata": {
        "id": "3je4ZMXkZhi3"
      },
      "outputs": [],
      "source": [
        "import os\n",
        "import warnings\n",
        "warnings.filterwarnings('ignore')\n",
        "\n",
        "import pandas as pd\n",
        "import numpy as np\n",
        "\n",
        "import seaborn as sns\n",
        "import matplotlib.pyplot as plt\n",
        "\n",
        "import re"
      ]
    },
    {
      "cell_type": "markdown",
      "metadata": {
        "id": "TTC4IUJUZhi3"
      },
      "source": [
        "### Chargement des fichiers"
      ]
    },
    {
      "cell_type": "code",
      "execution_count": 4,
      "metadata": {
        "id": "5opNmQvWZhi4"
      },
      "outputs": [],
      "source": [
        "source_dir= '/home/dstrec/dstrec/010_data/000_source/imdb_datasets'\n",
        "transformed_dir = '/home/dstrec/dstrec/010_data/001_transformed'\n",
        "\n",
        "title_principals= 'title.principals.tsv'\n",
        "title_basics_tconst = 'title_basics_tconst.csv'\n",
        "\n",
        "file_title_principals= f\"{source_dir}/{title_principals}\"\n",
        "file_title_basics_tconst= f\"{transformed_dir}/{title_basics_tconst}\""
      ]
    },
    {
      "cell_type": "markdown",
      "metadata": {},
      "source": [
        "### Configuration des fonctions"
      ]
    },
    {
      "cell_type": "code",
      "execution_count": 12,
      "metadata": {},
      "outputs": [],
      "source": []
    },
    {
      "cell_type": "markdown",
      "metadata": {},
      "source": [
        "## <div style='background: #005792;text-align: center;padding: 15px 0'> <a style= 'color:white;' >Préparation des données</a></div>"
      ]
    },
    {
      "cell_type": "markdown",
      "metadata": {},
      "source": [
        "### Chargement du jeu de données"
      ]
    },
    {
      "cell_type": "code",
      "execution_count": 5,
      "metadata": {},
      "outputs": [
        {
          "data": {
            "text/html": [
              "<div>\n",
              "<style scoped>\n",
              "    .dataframe tbody tr th:only-of-type {\n",
              "        vertical-align: middle;\n",
              "    }\n",
              "\n",
              "    .dataframe tbody tr th {\n",
              "        vertical-align: top;\n",
              "    }\n",
              "\n",
              "    .dataframe thead th {\n",
              "        text-align: right;\n",
              "    }\n",
              "</style>\n",
              "<table border=\"1\" class=\"dataframe\">\n",
              "  <thead>\n",
              "    <tr style=\"text-align: right;\">\n",
              "      <th></th>\n",
              "      <th>tconst</th>\n",
              "      <th>ordering</th>\n",
              "      <th>nconst</th>\n",
              "      <th>category</th>\n",
              "      <th>job</th>\n",
              "      <th>characters</th>\n",
              "    </tr>\n",
              "  </thead>\n",
              "  <tbody>\n",
              "    <tr>\n",
              "      <th>0</th>\n",
              "      <td>tt0000009</td>\n",
              "      <td>1</td>\n",
              "      <td>nm0063086</td>\n",
              "      <td>actress</td>\n",
              "      <td>NaN</td>\n",
              "      <td>[\"Miss Geraldine Holbrook (Miss Jerry)\"]</td>\n",
              "    </tr>\n",
              "    <tr>\n",
              "      <th>1</th>\n",
              "      <td>tt0000009</td>\n",
              "      <td>2</td>\n",
              "      <td>nm0183823</td>\n",
              "      <td>actor</td>\n",
              "      <td>NaN</td>\n",
              "      <td>[\"Mr. Hamilton\"]</td>\n",
              "    </tr>\n",
              "    <tr>\n",
              "      <th>2</th>\n",
              "      <td>tt0000009</td>\n",
              "      <td>3</td>\n",
              "      <td>nm1309758</td>\n",
              "      <td>actor</td>\n",
              "      <td>NaN</td>\n",
              "      <td>[\"Chauncey Depew - the Director of the New Yor...</td>\n",
              "    </tr>\n",
              "    <tr>\n",
              "      <th>3</th>\n",
              "      <td>tt0000009</td>\n",
              "      <td>4</td>\n",
              "      <td>nm0085156</td>\n",
              "      <td>director</td>\n",
              "      <td>NaN</td>\n",
              "      <td>NaN</td>\n",
              "    </tr>\n",
              "    <tr>\n",
              "      <th>4</th>\n",
              "      <td>tt0000009</td>\n",
              "      <td>5</td>\n",
              "      <td>nm0085156</td>\n",
              "      <td>writer</td>\n",
              "      <td>NaN</td>\n",
              "      <td>NaN</td>\n",
              "    </tr>\n",
              "  </tbody>\n",
              "</table>\n",
              "</div>"
            ],
            "text/plain": [
              "      tconst  ordering     nconst  category  job  \\\n",
              "0  tt0000009         1  nm0063086   actress  NaN   \n",
              "1  tt0000009         2  nm0183823     actor  NaN   \n",
              "2  tt0000009         3  nm1309758     actor  NaN   \n",
              "3  tt0000009         4  nm0085156  director  NaN   \n",
              "4  tt0000009         5  nm0085156    writer  NaN   \n",
              "\n",
              "                                          characters  \n",
              "0           [\"Miss Geraldine Holbrook (Miss Jerry)\"]  \n",
              "1                                   [\"Mr. Hamilton\"]  \n",
              "2  [\"Chauncey Depew - the Director of the New Yor...  \n",
              "3                                                NaN  \n",
              "4                                                NaN  "
            ]
          },
          "execution_count": 5,
          "metadata": {},
          "output_type": "execute_result"
        }
      ],
      "source": [
        "df_basics_tconst = pd.read_csv(file_title_basics_tconst)\n",
        "valid_tconsts = set(df_basics_tconst['tconst'])\n",
        "\n",
        "chunk_size = 100000\n",
        "principals_chunk = []\n",
        "\n",
        "for chunk in pd.read_csv(file_title_principals, sep='\\t',  na_values='\\\\N', chunksize=chunk_size):\n",
        "    filtered_chunk = chunk[chunk['tconst'].isin(valid_tconsts)]\n",
        "    principals_chunk.append(filtered_chunk)\n",
        "\n",
        "df_principals_filtered = pd.concat(principals_chunk, ignore_index=True)\n",
        "df_principals_filtered.head()\n"
      ]
    },
    {
      "cell_type": "markdown",
      "metadata": {},
      "source": [
        "### EDA"
      ]
    },
    {
      "cell_type": "code",
      "execution_count": 6,
      "metadata": {},
      "outputs": [
        {
          "name": "stdout",
          "output_type": "stream",
          "text": [
            "<class 'pandas.core.frame.DataFrame'>\n",
            "RangeIndex: 6841629 entries, 0 to 6841628\n",
            "Data columns (total 6 columns):\n",
            " #   Column      Dtype \n",
            "---  ------      ----- \n",
            " 0   tconst      object\n",
            " 1   ordering    int64 \n",
            " 2   nconst      object\n",
            " 3   category    object\n",
            " 4   job         object\n",
            " 5   characters  object\n",
            "dtypes: int64(1), object(5)\n",
            "memory usage: 313.2+ MB\n"
          ]
        }
      ],
      "source": [
        "df_principals_filtered.info()"
      ]
    },
    {
      "cell_type": "markdown",
      "metadata": {},
      "source": [
        "### Insertion dans un fichier CSV"
      ]
    },
    {
      "cell_type": "code",
      "execution_count": 7,
      "metadata": {},
      "outputs": [],
      "source": [
        "dest_dir = '/home/dstrec/dstrec/010_data/001_transformed'\n",
        "title_principals_csv = 'title_principals.csv'\n",
        "\n",
        "output_file_title_principals = f\"{dest_dir}/{title_principals_csv}\"\n",
        "\n",
        "df_principals_filtered.to_csv(output_file_title_principals, index=False)"
      ]
    }
  ],
  "metadata": {
    "colab": {
      "provenance": []
    },
    "kernelspec": {
      "display_name": "Python 3 (ipykernel)",
      "language": "python",
      "name": "python3"
    },
    "language_info": {
      "codemirror_mode": {
        "name": "ipython",
        "version": 3
      },
      "file_extension": ".py",
      "mimetype": "text/x-python",
      "name": "python",
      "nbconvert_exporter": "python",
      "pygments_lexer": "ipython3",
      "version": "3.11.2"
    }
  },
  "nbformat": 4,
  "nbformat_minor": 0
}
