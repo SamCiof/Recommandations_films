{
  "cells": [
    {
      "cell_type": "markdown",
      "metadata": {
        "id": "8hiZyS3VZhit"
      },
      "source": [
        "# <div style='color:white;background: #005792;text-align: center;padding: 15px 0'>Recommandations - Préparation des données Title basics</div>"
      ]
    },
    {
      "cell_type": "markdown",
      "metadata": {
        "id": "dN4m4ihiZhiy"
      },
      "source": [
        "## Participants\n",
        "* Samantha\n",
        "* Rachelle\n",
        "* Andrew"
      ]
    },
    {
      "cell_type": "markdown",
      "metadata": {
        "id": "487PHFGsZhi1"
      },
      "source": [
        "## <div style='background: #005792;text-align: center;padding: 15px 0'> <a style= 'color:white;' >Configuration des variables globales</a></div>"
      ]
    },
    {
      "cell_type": "markdown",
      "metadata": {
        "id": "8ae4VWFdZhi2"
      },
      "source": [
        "### Installation des librairies"
      ]
    },
    {
      "cell_type": "code",
      "execution_count": 1,
      "metadata": {
        "id": "uhLrAs-7Zhi2"
      },
      "outputs": [],
      "source": [
        "# !pip install pandas\n",
        "# !pip install numpy\n",
        "# !pip install matplotlib\n",
        "# !pip install seaborn\n",
        "# !pip install plotly-express\n",
        "# !pip install plotly"
      ]
    },
    {
      "cell_type": "markdown",
      "metadata": {
        "id": "f_XiTil4Zhi2"
      },
      "source": [
        "### Importation des librairies"
      ]
    },
    {
      "cell_type": "code",
      "execution_count": 1,
      "metadata": {
        "id": "3je4ZMXkZhi3"
      },
      "outputs": [],
      "source": [
        "import os\n",
        "import warnings\n",
        "warnings.filterwarnings('ignore')\n",
        "\n",
        "import pandas as pd\n",
        "import numpy as np\n",
        "\n",
        "import seaborn as sns\n",
        "import matplotlib.pyplot as plt\n",
        "\n",
        "import re"
      ]
    },
    {
      "cell_type": "markdown",
      "metadata": {
        "id": "TTC4IUJUZhi3"
      },
      "source": [
        "### Chargement des fichiers"
      ]
    },
    {
      "cell_type": "code",
      "execution_count": 2,
      "metadata": {
        "id": "5opNmQvWZhi4"
      },
      "outputs": [],
      "source": [
        "source_dir= '/home/dstrec/dstrec/010_data/000_source/imdb_datasets'\n",
        "title_basics = 'title.basics.tsv'\n",
        "title_ratings = 'title.ratings.tsv'\n",
        "\n",
        "file_title_basics = f\"{source_dir}/{title_basics}\"\n",
        "file_title_ratings = f\"{source_dir}/{title_ratings}\""
      ]
    },
    {
      "cell_type": "markdown",
      "metadata": {},
      "source": [
        "### Configuration des fonctions"
      ]
    },
    {
      "cell_type": "code",
      "execution_count": 4,
      "metadata": {},
      "outputs": [],
      "source": [
        "def add_adult_genre(row):\n",
        "    genres = str(row['genres']).split(',')\n",
        "    if row['isAdult']:\n",
        "        genres.append('forAdult')\n",
        "    return ','.join(genres)\n",
        "\n",
        "\n",
        "def clean_and_filter_data(df, ratings_df):\n",
        "    df = df[['tconst', 'titleType', 'primaryTitle', 'isAdult', 'genres']]\n",
        "    df.replace('\\\\N', None, inplace=True)\n",
        "    df['isAdult'] = df['isAdult'].astype(bool)\n",
        "    df['genres'] = df.apply(add_adult_genre, axis=1)\n",
        "    df.drop(columns=['isAdult'], inplace=True)\n",
        "    df = df[df['titleType'] == 'movie']\n",
        "    df = df.merge(ratings_df, on='tconst', how='left')\n",
        "    return df "
      ]
    },
    {
      "cell_type": "markdown",
      "metadata": {},
      "source": [
        "## <div style='background: #005792;text-align: center;padding: 15px 0'> <a style= 'color:white;' >Préparation des données</a></div>"
      ]
    },
    {
      "cell_type": "markdown",
      "metadata": {},
      "source": [
        "### Chargement des jeux de données"
      ]
    },
    {
      "cell_type": "code",
      "execution_count": null,
      "metadata": {},
      "outputs": [],
      "source": [
        "ratings_df = pd.read_csv(file_title_ratings, sep='\\t', na_values='\\\\N', low_memory=False)"
      ]
    },
    {
      "cell_type": "code",
      "execution_count": 5,
      "metadata": {},
      "outputs": [
        {
          "data": {
            "text/html": [
              "<div>\n",
              "<style scoped>\n",
              "    .dataframe tbody tr th:only-of-type {\n",
              "        vertical-align: middle;\n",
              "    }\n",
              "\n",
              "    .dataframe tbody tr th {\n",
              "        vertical-align: top;\n",
              "    }\n",
              "\n",
              "    .dataframe thead th {\n",
              "        text-align: right;\n",
              "    }\n",
              "</style>\n",
              "<table border=\"1\" class=\"dataframe\">\n",
              "  <thead>\n",
              "    <tr style=\"text-align: right;\">\n",
              "      <th></th>\n",
              "      <th>tconst</th>\n",
              "      <th>titleType</th>\n",
              "      <th>primaryTitle</th>\n",
              "      <th>genres</th>\n",
              "      <th>averageRating</th>\n",
              "      <th>numVotes</th>\n",
              "    </tr>\n",
              "  </thead>\n",
              "  <tbody>\n",
              "    <tr>\n",
              "      <th>0</th>\n",
              "      <td>tt0000009</td>\n",
              "      <td>movie</td>\n",
              "      <td>Miss Jerry</td>\n",
              "      <td>Romance</td>\n",
              "      <td>5.4</td>\n",
              "      <td>212.0</td>\n",
              "    </tr>\n",
              "    <tr>\n",
              "      <th>1</th>\n",
              "      <td>tt0000147</td>\n",
              "      <td>movie</td>\n",
              "      <td>The Corbett-Fitzsimmons Fight</td>\n",
              "      <td>Documentary,News,Sport</td>\n",
              "      <td>5.2</td>\n",
              "      <td>515.0</td>\n",
              "    </tr>\n",
              "    <tr>\n",
              "      <th>2</th>\n",
              "      <td>tt0000502</td>\n",
              "      <td>movie</td>\n",
              "      <td>Bohemios</td>\n",
              "      <td>nan</td>\n",
              "      <td>4.4</td>\n",
              "      <td>17.0</td>\n",
              "    </tr>\n",
              "    <tr>\n",
              "      <th>3</th>\n",
              "      <td>tt0000574</td>\n",
              "      <td>movie</td>\n",
              "      <td>The Story of the Kelly Gang</td>\n",
              "      <td>Action,Adventure,Biography</td>\n",
              "      <td>6.0</td>\n",
              "      <td>900.0</td>\n",
              "    </tr>\n",
              "    <tr>\n",
              "      <th>4</th>\n",
              "      <td>tt0000591</td>\n",
              "      <td>movie</td>\n",
              "      <td>The Prodigal Son</td>\n",
              "      <td>Drama</td>\n",
              "      <td>5.4</td>\n",
              "      <td>24.0</td>\n",
              "    </tr>\n",
              "  </tbody>\n",
              "</table>\n",
              "</div>"
            ],
            "text/plain": [
              "      tconst titleType                   primaryTitle  \\\n",
              "0  tt0000009     movie                     Miss Jerry   \n",
              "1  tt0000147     movie  The Corbett-Fitzsimmons Fight   \n",
              "2  tt0000502     movie                       Bohemios   \n",
              "3  tt0000574     movie    The Story of the Kelly Gang   \n",
              "4  tt0000591     movie               The Prodigal Son   \n",
              "\n",
              "                       genres  averageRating  numVotes  \n",
              "0                     Romance            5.4     212.0  \n",
              "1      Documentary,News,Sport            5.2     515.0  \n",
              "2                         nan            4.4      17.0  \n",
              "3  Action,Adventure,Biography            6.0     900.0  \n",
              "4                       Drama            5.4      24.0  "
            ]
          },
          "execution_count": 5,
          "metadata": {},
          "output_type": "execute_result"
        }
      ],
      "source": [
        "chunk_size = 300000\n",
        "basics_chunk = [] \n",
        "for chunk in pd.read_csv(file_title_basics, sep='\\t', na_values='\\\\N', chunksize=chunk_size):\n",
        "    \n",
        "    chunk = clean_and_filter_data(chunk, ratings_df)\n",
        "    basics_chunk.append(chunk)\n",
        "    \n",
        "df_basics = pd.concat(basics_chunk)\n",
        "df_basics.head()"
      ]
    },
    {
      "cell_type": "markdown",
      "metadata": {},
      "source": [
        "### EDA"
      ]
    },
    {
      "cell_type": "code",
      "execution_count": 6,
      "metadata": {},
      "outputs": [
        {
          "name": "stdout",
          "output_type": "stream",
          "text": [
            "<class 'pandas.core.frame.DataFrame'>\n",
            "Index: 681499 entries, 0 to 10552\n",
            "Data columns (total 6 columns):\n",
            " #   Column         Non-Null Count   Dtype  \n",
            "---  ------         --------------   -----  \n",
            " 0   tconst         681499 non-null  object \n",
            " 1   titleType      681499 non-null  object \n",
            " 2   primaryTitle   681497 non-null  object \n",
            " 3   genres         681499 non-null  object \n",
            " 4   averageRating  310399 non-null  float64\n",
            " 5   numVotes       310399 non-null  float64\n",
            "dtypes: float64(2), object(4)\n",
            "memory usage: 36.4+ MB\n"
          ]
        }
      ],
      "source": [
        "df_basics.info()"
      ]
    },
    {
      "cell_type": "markdown",
      "metadata": {},
      "source": [
        "### Valeurs manquantes"
      ]
    },
    {
      "cell_type": "code",
      "execution_count": 7,
      "metadata": {},
      "outputs": [
        {
          "data": {
            "text/plain": [
              "tconst                0\n",
              "titleType             0\n",
              "primaryTitle          2\n",
              "genres                0\n",
              "averageRating    371100\n",
              "numVotes         371100\n",
              "dtype: int64"
            ]
          },
          "execution_count": 7,
          "metadata": {},
          "output_type": "execute_result"
        }
      ],
      "source": [
        "df_basics.isna().sum()"
      ]
    },
    {
      "cell_type": "markdown",
      "metadata": {},
      "source": [
        "### Suppression de la colonne `primaryTitle`"
      ]
    },
    {
      "cell_type": "code",
      "execution_count": 8,
      "metadata": {},
      "outputs": [],
      "source": [
        "df_basics = df_basics.dropna(subset='primaryTitle')"
      ]
    },
    {
      "cell_type": "markdown",
      "metadata": {},
      "source": [
        "### Supression des valeurs dupliquées"
      ]
    },
    {
      "cell_type": "code",
      "execution_count": 9,
      "metadata": {},
      "outputs": [
        {
          "data": {
            "text/plain": [
              "titleType\n",
              "movie    136991\n",
              "Name: count, dtype: int64"
            ]
          },
          "execution_count": 9,
          "metadata": {},
          "output_type": "execute_result"
        }
      ],
      "source": [
        "duplicate_titles = df_basics[df_basics.duplicated('primaryTitle', keep=False)]\n",
        "duplicate_counts = duplicate_titles['titleType'].value_counts()\n",
        "duplicate_counts"
      ]
    },
    {
      "cell_type": "code",
      "execution_count": 10,
      "metadata": {},
      "outputs": [],
      "source": [
        "df_basics_sorted = df_basics.sort_values(by='numVotes', ascending=False)\n",
        "df_basics_no_duplicates = df_basics_sorted.drop_duplicates(subset='primaryTitle', keep='first')\n",
        "df_basics_no_duplicates.reset_index(drop=True, inplace=True)"
      ]
    },
    {
      "cell_type": "markdown",
      "metadata": {},
      "source": [
        "### EDA"
      ]
    },
    {
      "cell_type": "code",
      "execution_count": 11,
      "metadata": {},
      "outputs": [
        {
          "name": "stdout",
          "output_type": "stream",
          "text": [
            "<class 'pandas.core.frame.DataFrame'>\n",
            "RangeIndex: 587087 entries, 0 to 587086\n",
            "Data columns (total 6 columns):\n",
            " #   Column         Non-Null Count   Dtype  \n",
            "---  ------         --------------   -----  \n",
            " 0   tconst         587087 non-null  object \n",
            " 1   titleType      587087 non-null  object \n",
            " 2   primaryTitle   587087 non-null  object \n",
            " 3   genres         587087 non-null  object \n",
            " 4   averageRating  275270 non-null  float64\n",
            " 5   numVotes       275270 non-null  float64\n",
            "dtypes: float64(2), object(4)\n",
            "memory usage: 26.9+ MB\n"
          ]
        }
      ],
      "source": [
        "df_basics_no_duplicates.info()"
      ]
    },
    {
      "cell_type": "markdown",
      "metadata": {},
      "source": [
        "### Vérification des données"
      ]
    },
    {
      "cell_type": "code",
      "execution_count": 12,
      "metadata": {},
      "outputs": [
        {
          "data": {
            "text/plain": [
              "Series([], Name: count, dtype: int64)"
            ]
          },
          "execution_count": 12,
          "metadata": {},
          "output_type": "execute_result"
        }
      ],
      "source": [
        "duplicate_titles_no_duplicates = df_basics_no_duplicates[df_basics_no_duplicates.duplicated('primaryTitle', keep=False)]\n",
        "duplicate_counts_no_duplicates = duplicate_titles_no_duplicates['titleType'].value_counts()\n",
        "duplicate_counts_no_duplicates"
      ]
    },
    {
      "cell_type": "code",
      "execution_count": 13,
      "metadata": {},
      "outputs": [
        {
          "data": {
            "text/plain": [
              "tconst                0\n",
              "titleType             0\n",
              "primaryTitle          0\n",
              "genres                0\n",
              "averageRating    311817\n",
              "numVotes         311817\n",
              "dtype: int64"
            ]
          },
          "execution_count": 13,
          "metadata": {},
          "output_type": "execute_result"
        }
      ],
      "source": [
        "df_basics_no_duplicates.isna().sum()"
      ]
    },
    {
      "cell_type": "markdown",
      "metadata": {},
      "source": [
        "### Affichage du jeu de données"
      ]
    },
    {
      "cell_type": "code",
      "execution_count": 14,
      "metadata": {},
      "outputs": [
        {
          "data": {
            "text/plain": [
              "0    tt0111161\n",
              "1    tt0468569\n",
              "2    tt1375666\n",
              "3    tt0137523\n",
              "4    tt0109830\n",
              "Name: tconst, dtype: object"
            ]
          },
          "execution_count": 14,
          "metadata": {},
          "output_type": "execute_result"
        }
      ],
      "source": [
        "df_basics_tconst = df_basics_no_duplicates['tconst']\n",
        "df_basics_tconst.head()"
      ]
    },
    {
      "cell_type": "markdown",
      "metadata": {},
      "source": [
        "### Insertion dans un fichier CSV"
      ]
    },
    {
      "cell_type": "code",
      "execution_count": 15,
      "metadata": {},
      "outputs": [],
      "source": [
        "dest_dir ='/home/dstrec/dstrec/010_data/001_transformed'\n",
        "title_basics_csv = 'title_basics.csv'\n",
        "title_basics_tconst_csv = 'title_basics_tconst.csv'\n",
        "\n",
        "output_file_title_basics = f\"{dest_dir}/{title_basics_csv}\"\n",
        "output_file_title_basics_tconst = f\"{dest_dir}/{title_basics_tconst_csv}\"\n",
        "\n",
        "df_basics_no_duplicates.to_csv(output_file_title_basics, index=False)\n",
        "df_basics_tconst.to_csv(output_file_title_basics_tconst, index=False)"
      ]
    }
  ],
  "metadata": {
    "colab": {
      "provenance": []
    },
    "kernelspec": {
      "display_name": "Python 3 (ipykernel)",
      "language": "python",
      "name": "python3"
    },
    "language_info": {
      "codemirror_mode": {
        "name": "ipython",
        "version": 3
      },
      "file_extension": ".py",
      "mimetype": "text/x-python",
      "name": "python",
      "nbconvert_exporter": "python",
      "pygments_lexer": "ipython3",
      "version": "3.11.2"
    }
  },
  "nbformat": 4,
  "nbformat_minor": 0
}
