{
  "cells": [
    {
      "cell_type": "markdown",
      "metadata": {
        "id": "8hiZyS3VZhit"
      },
      "source": [
        "# <div style='color:white;background: #005792;text-align: center;padding: 15px 0'>Recommandations - Transformation des données Title principals</div>"
      ]
    },
    {
      "cell_type": "markdown",
      "metadata": {
        "id": "dN4m4ihiZhiy"
      },
      "source": [
        "## Participants\n",
        "* Samantha\n",
        "* Rachelle\n",
        "* Andrew\n"
      ]
    },
    {
      "cell_type": "markdown",
      "metadata": {
        "id": "487PHFGsZhi1"
      },
      "source": [
        "## <div style='background: #005792;text-align: center;padding: 15px 0'> <a style= 'color:white;' >Configuration des variables globales</a></div>"
      ]
    },
    {
      "cell_type": "markdown",
      "metadata": {
        "id": "8ae4VWFdZhi2"
      },
      "source": [
        "### Installation des librairies"
      ]
    },
    {
      "cell_type": "code",
      "execution_count": 1,
      "metadata": {
        "id": "uhLrAs-7Zhi2"
      },
      "outputs": [],
      "source": [
        "# !pip install pandas\n",
        "# !pip install numpy\n",
        "# !pip install matplotlib\n",
        "# !pip install seaborn\n",
        "# !pip install plotly-express\n",
        "# !pip install plotly"
      ]
    },
    {
      "cell_type": "markdown",
      "metadata": {
        "id": "f_XiTil4Zhi2"
      },
      "source": [
        "### Importation des librairies"
      ]
    },
    {
      "cell_type": "code",
      "execution_count": 4,
      "metadata": {
        "id": "3je4ZMXkZhi3"
      },
      "outputs": [],
      "source": [
        "import os\n",
        "import warnings\n",
        "warnings.filterwarnings('ignore')\n",
        "\n",
        "import pandas as pd\n",
        "import numpy as np\n",
        "\n",
        "import seaborn as sns\n",
        "import matplotlib.pyplot as plt\n",
        "\n",
        "import re"
      ]
    },
    {
      "cell_type": "markdown",
      "metadata": {
        "id": "TTC4IUJUZhi3"
      },
      "source": [
        "### Chargement des fichiers"
      ]
    },
    {
      "cell_type": "code",
      "execution_count": 1,
      "metadata": {
        "id": "5opNmQvWZhi4"
      },
      "outputs": [],
      "source": [
        "transformed_dir = '/home/dstrec/dstrec/010_data/001_transformed'\n",
        "\n",
        "title_principals= 'title_principals.csv'\n",
        "name_basics = 'name_basics.csv'\n",
        "\n",
        "file_title_principals= f\"{transformed_dir}/{title_principals}\"\n",
        "file_name_basics= f\"{transformed_dir}/{name_basics}\""
      ]
    },
    {
      "cell_type": "markdown",
      "metadata": {},
      "source": [
        "### Configuration des fonctions"
      ]
    },
    {
      "cell_type": "code",
      "execution_count": 2,
      "metadata": {},
      "outputs": [],
      "source": [
        "def process_chunk(chunk):\n",
        "    df_pivot = chunk.pivot_table(index='tconst', columns='category', values='primaryName', aggfunc='first')\n",
        "    df_pivot.reset_index(inplace=True)\n",
        "    df_pivot.columns = [col if col is not None else 'none' for col in df_pivot.columns]\n",
        "    return df_pivot"
      ]
    },
    {
      "cell_type": "markdown",
      "metadata": {},
      "source": [
        "## <div style='background: #005792;text-align: center;padding: 15px 0'> <a style= 'color:white;' >Préparation des données</a></div>"
      ]
    },
    {
      "cell_type": "markdown",
      "metadata": {},
      "source": [
        "### Chargement du jeu de données"
      ]
    },
    {
      "cell_type": "code",
      "execution_count": 5,
      "metadata": {},
      "outputs": [
        {
          "data": {
            "text/html": [
              "<div>\n",
              "<style scoped>\n",
              "    .dataframe tbody tr th:only-of-type {\n",
              "        vertical-align: middle;\n",
              "    }\n",
              "\n",
              "    .dataframe tbody tr th {\n",
              "        vertical-align: top;\n",
              "    }\n",
              "\n",
              "    .dataframe thead th {\n",
              "        text-align: right;\n",
              "    }\n",
              "</style>\n",
              "<table border=\"1\" class=\"dataframe\">\n",
              "  <thead>\n",
              "    <tr style=\"text-align: right;\">\n",
              "      <th></th>\n",
              "      <th>tconst</th>\n",
              "      <th>ordering</th>\n",
              "      <th>nconst</th>\n",
              "      <th>category</th>\n",
              "      <th>job</th>\n",
              "      <th>characters</th>\n",
              "    </tr>\n",
              "  </thead>\n",
              "  <tbody>\n",
              "    <tr>\n",
              "      <th>0</th>\n",
              "      <td>tt0000009</td>\n",
              "      <td>1</td>\n",
              "      <td>nm0063086</td>\n",
              "      <td>actress</td>\n",
              "      <td>NaN</td>\n",
              "      <td>[\"Miss Geraldine Holbrook (Miss Jerry)\"]</td>\n",
              "    </tr>\n",
              "    <tr>\n",
              "      <th>1</th>\n",
              "      <td>tt0000009</td>\n",
              "      <td>2</td>\n",
              "      <td>nm0183823</td>\n",
              "      <td>actor</td>\n",
              "      <td>NaN</td>\n",
              "      <td>[\"Mr. Hamilton\"]</td>\n",
              "    </tr>\n",
              "    <tr>\n",
              "      <th>2</th>\n",
              "      <td>tt0000009</td>\n",
              "      <td>3</td>\n",
              "      <td>nm1309758</td>\n",
              "      <td>actor</td>\n",
              "      <td>NaN</td>\n",
              "      <td>[\"Chauncey Depew - the Director of the New Yor...</td>\n",
              "    </tr>\n",
              "    <tr>\n",
              "      <th>3</th>\n",
              "      <td>tt0000009</td>\n",
              "      <td>4</td>\n",
              "      <td>nm0085156</td>\n",
              "      <td>director</td>\n",
              "      <td>NaN</td>\n",
              "      <td>NaN</td>\n",
              "    </tr>\n",
              "    <tr>\n",
              "      <th>4</th>\n",
              "      <td>tt0000009</td>\n",
              "      <td>5</td>\n",
              "      <td>nm0085156</td>\n",
              "      <td>writer</td>\n",
              "      <td>NaN</td>\n",
              "      <td>NaN</td>\n",
              "    </tr>\n",
              "  </tbody>\n",
              "</table>\n",
              "</div>"
            ],
            "text/plain": [
              "      tconst  ordering     nconst  category  job  \\\n",
              "0  tt0000009         1  nm0063086   actress  NaN   \n",
              "1  tt0000009         2  nm0183823     actor  NaN   \n",
              "2  tt0000009         3  nm1309758     actor  NaN   \n",
              "3  tt0000009         4  nm0085156  director  NaN   \n",
              "4  tt0000009         5  nm0085156    writer  NaN   \n",
              "\n",
              "                                          characters  \n",
              "0           [\"Miss Geraldine Holbrook (Miss Jerry)\"]  \n",
              "1                                   [\"Mr. Hamilton\"]  \n",
              "2  [\"Chauncey Depew - the Director of the New Yor...  \n",
              "3                                                NaN  \n",
              "4                                                NaN  "
            ]
          },
          "execution_count": 5,
          "metadata": {},
          "output_type": "execute_result"
        }
      ],
      "source": [
        "df_principals = pd.read_csv(file_title_principals)\n",
        "df_principals.head()"
      ]
    },
    {
      "cell_type": "code",
      "execution_count": 6,
      "metadata": {},
      "outputs": [],
      "source": [
        "df_principals.drop(columns=['ordering','job','characters'], inplace=True)"
      ]
    },
    {
      "cell_type": "code",
      "execution_count": 7,
      "metadata": {},
      "outputs": [
        {
          "data": {
            "text/html": [
              "<div>\n",
              "<style scoped>\n",
              "    .dataframe tbody tr th:only-of-type {\n",
              "        vertical-align: middle;\n",
              "    }\n",
              "\n",
              "    .dataframe tbody tr th {\n",
              "        vertical-align: top;\n",
              "    }\n",
              "\n",
              "    .dataframe thead th {\n",
              "        text-align: right;\n",
              "    }\n",
              "</style>\n",
              "<table border=\"1\" class=\"dataframe\">\n",
              "  <thead>\n",
              "    <tr style=\"text-align: right;\">\n",
              "      <th></th>\n",
              "      <th>tconst</th>\n",
              "      <th>nconst</th>\n",
              "      <th>category</th>\n",
              "      <th>primaryName</th>\n",
              "    </tr>\n",
              "  </thead>\n",
              "  <tbody>\n",
              "    <tr>\n",
              "      <th>0</th>\n",
              "      <td>tt0000009</td>\n",
              "      <td>nm0063086</td>\n",
              "      <td>actress</td>\n",
              "      <td>Blanche Bayliss</td>\n",
              "    </tr>\n",
              "    <tr>\n",
              "      <th>1</th>\n",
              "      <td>tt0000009</td>\n",
              "      <td>nm0085156</td>\n",
              "      <td>director</td>\n",
              "      <td>Alexander Black</td>\n",
              "    </tr>\n",
              "    <tr>\n",
              "      <th>2</th>\n",
              "      <td>tt0000009</td>\n",
              "      <td>nm0085156</td>\n",
              "      <td>writer</td>\n",
              "      <td>Alexander Black</td>\n",
              "    </tr>\n",
              "    <tr>\n",
              "      <th>3</th>\n",
              "      <td>tt0000009</td>\n",
              "      <td>nm0085156</td>\n",
              "      <td>producer</td>\n",
              "      <td>Alexander Black</td>\n",
              "    </tr>\n",
              "    <tr>\n",
              "      <th>4</th>\n",
              "      <td>tt0000009</td>\n",
              "      <td>nm0085156</td>\n",
              "      <td>cinematographer</td>\n",
              "      <td>Alexander Black</td>\n",
              "    </tr>\n",
              "  </tbody>\n",
              "</table>\n",
              "</div>"
            ],
            "text/plain": [
              "      tconst     nconst         category      primaryName\n",
              "0  tt0000009  nm0063086          actress  Blanche Bayliss\n",
              "1  tt0000009  nm0085156         director  Alexander Black\n",
              "2  tt0000009  nm0085156           writer  Alexander Black\n",
              "3  tt0000009  nm0085156         producer  Alexander Black\n",
              "4  tt0000009  nm0085156  cinematographer  Alexander Black"
            ]
          },
          "execution_count": 7,
          "metadata": {},
          "output_type": "execute_result"
        }
      ],
      "source": [
        "chunk_size = 100000\n",
        "merged_chunks = []\n",
        "\n",
        "for chunk in pd.read_csv(file_name_basics, chunksize=chunk_size):\n",
        "    merged_chunk = pd.merge(df_principals, chunk, on='nconst', how='inner')\n",
        "    merged_chunks.append(merged_chunk)\n",
        "\n",
        "df_principals_cleaned = pd.concat(merged_chunks, ignore_index=True)\n",
        "\n",
        "df_principals_cleaned.head()"
      ]
    },
    {
      "cell_type": "markdown",
      "metadata": {},
      "source": [
        "### EDA"
      ]
    },
    {
      "cell_type": "code",
      "execution_count": 8,
      "metadata": {},
      "outputs": [
        {
          "name": "stdout",
          "output_type": "stream",
          "text": [
            "<class 'pandas.core.frame.DataFrame'>\n",
            "RangeIndex: 6841628 entries, 0 to 6841627\n",
            "Data columns (total 4 columns):\n",
            " #   Column       Dtype \n",
            "---  ------       ----- \n",
            " 0   tconst       object\n",
            " 1   nconst       object\n",
            " 2   category     object\n",
            " 3   primaryName  object\n",
            "dtypes: object(4)\n",
            "memory usage: 208.8+ MB\n"
          ]
        }
      ],
      "source": [
        "df_principals_cleaned.info()"
      ]
    },
    {
      "cell_type": "markdown",
      "metadata": {},
      "source": [
        "### Valeurs manquantes"
      ]
    },
    {
      "cell_type": "code",
      "execution_count": 9,
      "metadata": {},
      "outputs": [
        {
          "data": {
            "text/plain": [
              "tconst         0\n",
              "nconst         0\n",
              "category       0\n",
              "primaryName    0\n",
              "dtype: int64"
            ]
          },
          "execution_count": 9,
          "metadata": {},
          "output_type": "execute_result"
        }
      ],
      "source": [
        "df_principals_cleaned.isna().sum()"
      ]
    },
    {
      "cell_type": "markdown",
      "metadata": {},
      "source": [
        "### Suppression de la colonne `nconst`"
      ]
    },
    {
      "cell_type": "code",
      "execution_count": 11,
      "metadata": {},
      "outputs": [],
      "source": [
        "df_principals_cleaned.dropna(subset='primaryName')\n",
        "df_principals_cleaned.drop(columns=['nconst'], inplace=True)"
      ]
    },
    {
      "cell_type": "markdown",
      "metadata": {},
      "source": [
        "### Affichage du jeu de données"
      ]
    },
    {
      "cell_type": "code",
      "execution_count": 12,
      "metadata": {},
      "outputs": [
        {
          "data": {
            "text/html": [
              "<div>\n",
              "<style scoped>\n",
              "    .dataframe tbody tr th:only-of-type {\n",
              "        vertical-align: middle;\n",
              "    }\n",
              "\n",
              "    .dataframe tbody tr th {\n",
              "        vertical-align: top;\n",
              "    }\n",
              "\n",
              "    .dataframe thead th {\n",
              "        text-align: right;\n",
              "    }\n",
              "</style>\n",
              "<table border=\"1\" class=\"dataframe\">\n",
              "  <thead>\n",
              "    <tr style=\"text-align: right;\">\n",
              "      <th></th>\n",
              "      <th>tconst</th>\n",
              "      <th>category</th>\n",
              "      <th>primaryName</th>\n",
              "    </tr>\n",
              "  </thead>\n",
              "  <tbody>\n",
              "    <tr>\n",
              "      <th>0</th>\n",
              "      <td>tt0000009</td>\n",
              "      <td>actress</td>\n",
              "      <td>Blanche Bayliss</td>\n",
              "    </tr>\n",
              "    <tr>\n",
              "      <th>1</th>\n",
              "      <td>tt0000009</td>\n",
              "      <td>director</td>\n",
              "      <td>Alexander Black</td>\n",
              "    </tr>\n",
              "    <tr>\n",
              "      <th>2</th>\n",
              "      <td>tt0000009</td>\n",
              "      <td>writer</td>\n",
              "      <td>Alexander Black</td>\n",
              "    </tr>\n",
              "    <tr>\n",
              "      <th>3</th>\n",
              "      <td>tt0000009</td>\n",
              "      <td>producer</td>\n",
              "      <td>Alexander Black</td>\n",
              "    </tr>\n",
              "    <tr>\n",
              "      <th>4</th>\n",
              "      <td>tt0000009</td>\n",
              "      <td>cinematographer</td>\n",
              "      <td>Alexander Black</td>\n",
              "    </tr>\n",
              "  </tbody>\n",
              "</table>\n",
              "</div>"
            ],
            "text/plain": [
              "      tconst         category      primaryName\n",
              "0  tt0000009          actress  Blanche Bayliss\n",
              "1  tt0000009         director  Alexander Black\n",
              "2  tt0000009           writer  Alexander Black\n",
              "3  tt0000009         producer  Alexander Black\n",
              "4  tt0000009  cinematographer  Alexander Black"
            ]
          },
          "execution_count": 12,
          "metadata": {},
          "output_type": "execute_result"
        }
      ],
      "source": [
        "df_principals_cleaned.head()"
      ]
    },
    {
      "cell_type": "markdown",
      "metadata": {},
      "source": [
        "### Remodelage de la colonne `category`"
      ]
    },
    {
      "cell_type": "code",
      "execution_count": 13,
      "metadata": {},
      "outputs": [
        {
          "data": {
            "text/html": [
              "<div>\n",
              "<style scoped>\n",
              "    .dataframe tbody tr th:only-of-type {\n",
              "        vertical-align: middle;\n",
              "    }\n",
              "\n",
              "    .dataframe tbody tr th {\n",
              "        vertical-align: top;\n",
              "    }\n",
              "\n",
              "    .dataframe thead th {\n",
              "        text-align: right;\n",
              "    }\n",
              "</style>\n",
              "<table border=\"1\" class=\"dataframe\">\n",
              "  <thead>\n",
              "    <tr style=\"text-align: right;\">\n",
              "      <th></th>\n",
              "      <th>tconst</th>\n",
              "      <th>actor</th>\n",
              "      <th>actress</th>\n",
              "      <th>archive_footage</th>\n",
              "      <th>archive_sound</th>\n",
              "      <th>casting_director</th>\n",
              "      <th>cinematographer</th>\n",
              "      <th>composer</th>\n",
              "      <th>director</th>\n",
              "      <th>editor</th>\n",
              "      <th>producer</th>\n",
              "      <th>production_designer</th>\n",
              "      <th>self</th>\n",
              "      <th>writer</th>\n",
              "    </tr>\n",
              "  </thead>\n",
              "  <tbody>\n",
              "    <tr>\n",
              "      <th>0</th>\n",
              "      <td>tt0000009</td>\n",
              "      <td>William Courtenay</td>\n",
              "      <td>Blanche Bayliss</td>\n",
              "      <td>NaN</td>\n",
              "      <td>NaN</td>\n",
              "      <td>NaN</td>\n",
              "      <td>Alexander Black</td>\n",
              "      <td>NaN</td>\n",
              "      <td>Alexander Black</td>\n",
              "      <td>NaN</td>\n",
              "      <td>Alexander Black</td>\n",
              "      <td>NaN</td>\n",
              "      <td>NaN</td>\n",
              "      <td>Alexander Black</td>\n",
              "    </tr>\n",
              "    <tr>\n",
              "      <th>1</th>\n",
              "      <td>tt0000147</td>\n",
              "      <td>NaN</td>\n",
              "      <td>NaN</td>\n",
              "      <td>NaN</td>\n",
              "      <td>NaN</td>\n",
              "      <td>NaN</td>\n",
              "      <td>Enoch J. Rector</td>\n",
              "      <td>NaN</td>\n",
              "      <td>Enoch J. Rector</td>\n",
              "      <td>NaN</td>\n",
              "      <td>William A. Brady</td>\n",
              "      <td>NaN</td>\n",
              "      <td>James J. Corbett</td>\n",
              "      <td>NaN</td>\n",
              "    </tr>\n",
              "    <tr>\n",
              "      <th>2</th>\n",
              "      <td>tt0000502</td>\n",
              "      <td>Antonio del Pozo</td>\n",
              "      <td>NaN</td>\n",
              "      <td>NaN</td>\n",
              "      <td>NaN</td>\n",
              "      <td>NaN</td>\n",
              "      <td>Ricardo de Baños</td>\n",
              "      <td>NaN</td>\n",
              "      <td>Ricardo de Baños</td>\n",
              "      <td>NaN</td>\n",
              "      <td>NaN</td>\n",
              "      <td>NaN</td>\n",
              "      <td>NaN</td>\n",
              "      <td>Ricardo de Baños</td>\n",
              "    </tr>\n",
              "    <tr>\n",
              "      <th>3</th>\n",
              "      <td>tt0000574</td>\n",
              "      <td>Godfrey Cass</td>\n",
              "      <td>Bella Cola</td>\n",
              "      <td>NaN</td>\n",
              "      <td>NaN</td>\n",
              "      <td>NaN</td>\n",
              "      <td>Millard Johnson</td>\n",
              "      <td>Eric Chapus</td>\n",
              "      <td>Charles Tait</td>\n",
              "      <td>NaN</td>\n",
              "      <td>W.A. Gibson</td>\n",
              "      <td>NaN</td>\n",
              "      <td>NaN</td>\n",
              "      <td>Charles Tait</td>\n",
              "    </tr>\n",
              "    <tr>\n",
              "      <th>4</th>\n",
              "      <td>tt0000675</td>\n",
              "      <td>NaN</td>\n",
              "      <td>NaN</td>\n",
              "      <td>NaN</td>\n",
              "      <td>NaN</td>\n",
              "      <td>NaN</td>\n",
              "      <td>NaN</td>\n",
              "      <td>NaN</td>\n",
              "      <td>Narciso Cuyàs</td>\n",
              "      <td>NaN</td>\n",
              "      <td>NaN</td>\n",
              "      <td>NaN</td>\n",
              "      <td>NaN</td>\n",
              "      <td>Miguel de Cervantes y Saavedra</td>\n",
              "    </tr>\n",
              "  </tbody>\n",
              "</table>\n",
              "</div>"
            ],
            "text/plain": [
              "      tconst              actor          actress archive_footage  \\\n",
              "0  tt0000009  William Courtenay  Blanche Bayliss             NaN   \n",
              "1  tt0000147                NaN              NaN             NaN   \n",
              "2  tt0000502   Antonio del Pozo              NaN             NaN   \n",
              "3  tt0000574       Godfrey Cass       Bella Cola             NaN   \n",
              "4  tt0000675                NaN              NaN             NaN   \n",
              "\n",
              "  archive_sound casting_director   cinematographer     composer  \\\n",
              "0           NaN              NaN   Alexander Black          NaN   \n",
              "1           NaN              NaN   Enoch J. Rector          NaN   \n",
              "2           NaN              NaN  Ricardo de Baños          NaN   \n",
              "3           NaN              NaN   Millard Johnson  Eric Chapus   \n",
              "4           NaN              NaN               NaN          NaN   \n",
              "\n",
              "           director editor          producer production_designer  \\\n",
              "0   Alexander Black    NaN   Alexander Black                 NaN   \n",
              "1   Enoch J. Rector    NaN  William A. Brady                 NaN   \n",
              "2  Ricardo de Baños    NaN               NaN                 NaN   \n",
              "3      Charles Tait    NaN       W.A. Gibson                 NaN   \n",
              "4     Narciso Cuyàs    NaN               NaN                 NaN   \n",
              "\n",
              "               self                          writer  \n",
              "0               NaN                 Alexander Black  \n",
              "1  James J. Corbett                             NaN  \n",
              "2               NaN                Ricardo de Baños  \n",
              "3               NaN                    Charles Tait  \n",
              "4               NaN  Miguel de Cervantes y Saavedra  "
            ]
          },
          "execution_count": 13,
          "metadata": {},
          "output_type": "execute_result"
        }
      ],
      "source": [
        "df_principals_transformed = process_chunk(df_principals_cleaned)\n",
        "df_principals_transformed.head()"
      ]
    },
    {
      "cell_type": "markdown",
      "metadata": {},
      "source": [
        "### Valeurs manquantes"
      ]
    },
    {
      "cell_type": "code",
      "execution_count": 14,
      "metadata": {},
      "outputs": [
        {
          "data": {
            "text/plain": [
              "tconst                      0\n",
              "actor                  159729\n",
              "actress                194922\n",
              "archive_footage        564082\n",
              "archive_sound          572425\n",
              "casting_director       513850\n",
              "cinematographer        191577\n",
              "composer               301291\n",
              "director                46632\n",
              "editor                 239323\n",
              "producer               204624\n",
              "production_designer    470261\n",
              "self                   515752\n",
              "writer                 131135\n",
              "dtype: int64"
            ]
          },
          "execution_count": 14,
          "metadata": {},
          "output_type": "execute_result"
        }
      ],
      "source": [
        "df_principals_transformed.isna().sum()"
      ]
    },
    {
      "cell_type": "markdown",
      "metadata": {},
      "source": [
        "### Suppression de colonnes"
      ]
    },
    {
      "cell_type": "code",
      "execution_count": 15,
      "metadata": {},
      "outputs": [],
      "source": [
        "df_principals_transformed.drop(columns=['archive_footage', 'archive_sound', 'casting_director', 'cinematographer', 'production_designer','self', 'editor', 'writer'], inplace=True)"
      ]
    },
    {
      "cell_type": "markdown",
      "metadata": {},
      "source": [
        "### Affichage du jeu de données"
      ]
    },
    {
      "cell_type": "code",
      "execution_count": 16,
      "metadata": {},
      "outputs": [
        {
          "data": {
            "text/html": [
              "<div>\n",
              "<style scoped>\n",
              "    .dataframe tbody tr th:only-of-type {\n",
              "        vertical-align: middle;\n",
              "    }\n",
              "\n",
              "    .dataframe tbody tr th {\n",
              "        vertical-align: top;\n",
              "    }\n",
              "\n",
              "    .dataframe thead th {\n",
              "        text-align: right;\n",
              "    }\n",
              "</style>\n",
              "<table border=\"1\" class=\"dataframe\">\n",
              "  <thead>\n",
              "    <tr style=\"text-align: right;\">\n",
              "      <th></th>\n",
              "      <th>tconst</th>\n",
              "      <th>actor</th>\n",
              "      <th>actress</th>\n",
              "      <th>composer</th>\n",
              "      <th>director</th>\n",
              "      <th>producer</th>\n",
              "    </tr>\n",
              "  </thead>\n",
              "  <tbody>\n",
              "    <tr>\n",
              "      <th>0</th>\n",
              "      <td>tt0000009</td>\n",
              "      <td>William Courtenay</td>\n",
              "      <td>Blanche Bayliss</td>\n",
              "      <td>NaN</td>\n",
              "      <td>Alexander Black</td>\n",
              "      <td>Alexander Black</td>\n",
              "    </tr>\n",
              "    <tr>\n",
              "      <th>1</th>\n",
              "      <td>tt0000147</td>\n",
              "      <td>NaN</td>\n",
              "      <td>NaN</td>\n",
              "      <td>NaN</td>\n",
              "      <td>Enoch J. Rector</td>\n",
              "      <td>William A. Brady</td>\n",
              "    </tr>\n",
              "    <tr>\n",
              "      <th>2</th>\n",
              "      <td>tt0000502</td>\n",
              "      <td>Antonio del Pozo</td>\n",
              "      <td>NaN</td>\n",
              "      <td>NaN</td>\n",
              "      <td>Ricardo de Baños</td>\n",
              "      <td>NaN</td>\n",
              "    </tr>\n",
              "    <tr>\n",
              "      <th>3</th>\n",
              "      <td>tt0000574</td>\n",
              "      <td>Godfrey Cass</td>\n",
              "      <td>Bella Cola</td>\n",
              "      <td>Eric Chapus</td>\n",
              "      <td>Charles Tait</td>\n",
              "      <td>W.A. Gibson</td>\n",
              "    </tr>\n",
              "    <tr>\n",
              "      <th>4</th>\n",
              "      <td>tt0000675</td>\n",
              "      <td>NaN</td>\n",
              "      <td>NaN</td>\n",
              "      <td>NaN</td>\n",
              "      <td>Narciso Cuyàs</td>\n",
              "      <td>NaN</td>\n",
              "    </tr>\n",
              "  </tbody>\n",
              "</table>\n",
              "</div>"
            ],
            "text/plain": [
              "      tconst              actor          actress     composer  \\\n",
              "0  tt0000009  William Courtenay  Blanche Bayliss          NaN   \n",
              "1  tt0000147                NaN              NaN          NaN   \n",
              "2  tt0000502   Antonio del Pozo              NaN          NaN   \n",
              "3  tt0000574       Godfrey Cass       Bella Cola  Eric Chapus   \n",
              "4  tt0000675                NaN              NaN          NaN   \n",
              "\n",
              "           director          producer  \n",
              "0   Alexander Black   Alexander Black  \n",
              "1   Enoch J. Rector  William A. Brady  \n",
              "2  Ricardo de Baños               NaN  \n",
              "3      Charles Tait       W.A. Gibson  \n",
              "4     Narciso Cuyàs               NaN  "
            ]
          },
          "execution_count": 16,
          "metadata": {},
          "output_type": "execute_result"
        }
      ],
      "source": [
        "df_principals_transformed.head()"
      ]
    },
    {
      "cell_type": "markdown",
      "metadata": {},
      "source": [
        "### EDA"
      ]
    },
    {
      "cell_type": "code",
      "execution_count": 17,
      "metadata": {},
      "outputs": [
        {
          "name": "stdout",
          "output_type": "stream",
          "text": [
            "<class 'pandas.core.frame.DataFrame'>\n",
            "RangeIndex: 572547 entries, 0 to 572546\n",
            "Data columns (total 6 columns):\n",
            " #   Column    Non-Null Count   Dtype \n",
            "---  ------    --------------   ----- \n",
            " 0   tconst    572547 non-null  object\n",
            " 1   actor     412818 non-null  object\n",
            " 2   actress   377625 non-null  object\n",
            " 3   composer  271256 non-null  object\n",
            " 4   director  525915 non-null  object\n",
            " 5   producer  367923 non-null  object\n",
            "dtypes: object(6)\n",
            "memory usage: 26.2+ MB\n"
          ]
        }
      ],
      "source": [
        "df_principals_transformed.info()"
      ]
    },
    {
      "cell_type": "markdown",
      "metadata": {},
      "source": [
        "### Comparaison entre la colonne `director` et `producer`"
      ]
    },
    {
      "cell_type": "code",
      "execution_count": 18,
      "metadata": {},
      "outputs": [
        {
          "data": {
            "text/plain": [
              "30.634548643720542"
            ]
          },
          "execution_count": 18,
          "metadata": {},
          "output_type": "execute_result"
        }
      ],
      "source": [
        "filtered_df = df_principals_transformed.dropna(subset=['director', 'producer'])\n",
        "comparison = filtered_df['director'] == filtered_df['producer']\n",
        "percentage_identical = comparison.mean() * 100\n",
        "percentage_identical"
      ]
    },
    {
      "cell_type": "code",
      "execution_count": 19,
      "metadata": {},
      "outputs": [
        {
          "data": {
            "text/html": [
              "<div>\n",
              "<style scoped>\n",
              "    .dataframe tbody tr th:only-of-type {\n",
              "        vertical-align: middle;\n",
              "    }\n",
              "\n",
              "    .dataframe tbody tr th {\n",
              "        vertical-align: top;\n",
              "    }\n",
              "\n",
              "    .dataframe thead th {\n",
              "        text-align: right;\n",
              "    }\n",
              "</style>\n",
              "<table border=\"1\" class=\"dataframe\">\n",
              "  <thead>\n",
              "    <tr style=\"text-align: right;\">\n",
              "      <th></th>\n",
              "      <th>tconst</th>\n",
              "      <th>actor</th>\n",
              "      <th>actress</th>\n",
              "      <th>composer</th>\n",
              "      <th>director</th>\n",
              "      <th>producer</th>\n",
              "    </tr>\n",
              "  </thead>\n",
              "  <tbody>\n",
              "    <tr>\n",
              "      <th>1</th>\n",
              "      <td>tt0000147</td>\n",
              "      <td>NaN</td>\n",
              "      <td>NaN</td>\n",
              "      <td>NaN</td>\n",
              "      <td>Enoch J. Rector</td>\n",
              "      <td>William A. Brady</td>\n",
              "    </tr>\n",
              "    <tr>\n",
              "      <th>3</th>\n",
              "      <td>tt0000574</td>\n",
              "      <td>Godfrey Cass</td>\n",
              "      <td>Bella Cola</td>\n",
              "      <td>Eric Chapus</td>\n",
              "      <td>Charles Tait</td>\n",
              "      <td>W.A. Gibson</td>\n",
              "    </tr>\n",
              "    <tr>\n",
              "      <th>5</th>\n",
              "      <td>tt0000679</td>\n",
              "      <td>L. Frank Baum</td>\n",
              "      <td>NaN</td>\n",
              "      <td>Nathaniel D. Mann</td>\n",
              "      <td>Francis Boggs</td>\n",
              "      <td>L. Frank Baum</td>\n",
              "    </tr>\n",
              "    <tr>\n",
              "      <th>22</th>\n",
              "      <td>tt0001028</td>\n",
              "      <td>NaN</td>\n",
              "      <td>NaN</td>\n",
              "      <td>NaN</td>\n",
              "      <td>Theo Frenkel</td>\n",
              "      <td>Cecil M. Hepworth</td>\n",
              "    </tr>\n",
              "    <tr>\n",
              "      <th>47</th>\n",
              "      <td>tt0001370</td>\n",
              "      <td>Eduardo Brazão</td>\n",
              "      <td>Amelia Vieira</td>\n",
              "      <td>NaN</td>\n",
              "      <td>Carlos Santos</td>\n",
              "      <td>Júlio Costa</td>\n",
              "    </tr>\n",
              "  </tbody>\n",
              "</table>\n",
              "</div>"
            ],
            "text/plain": [
              "       tconst           actor        actress           composer  \\\n",
              "1   tt0000147             NaN            NaN                NaN   \n",
              "3   tt0000574    Godfrey Cass     Bella Cola        Eric Chapus   \n",
              "5   tt0000679   L. Frank Baum            NaN  Nathaniel D. Mann   \n",
              "22  tt0001028             NaN            NaN                NaN   \n",
              "47  tt0001370  Eduardo Brazão  Amelia Vieira                NaN   \n",
              "\n",
              "           director           producer  \n",
              "1   Enoch J. Rector   William A. Brady  \n",
              "3      Charles Tait        W.A. Gibson  \n",
              "5     Francis Boggs      L. Frank Baum  \n",
              "22     Theo Frenkel  Cecil M. Hepworth  \n",
              "47    Carlos Santos        Júlio Costa  "
            ]
          },
          "execution_count": 19,
          "metadata": {},
          "output_type": "execute_result"
        }
      ],
      "source": [
        "different_director_producer = filtered_df[~comparison]\n",
        "different_director_producer.head()"
      ]
    },
    {
      "cell_type": "code",
      "execution_count": 20,
      "metadata": {},
      "outputs": [
        {
          "data": {
            "text/plain": [
              "tconst           0\n",
              "actor       159729\n",
              "actress     194922\n",
              "composer    301291\n",
              "director     46632\n",
              "producer    204624\n",
              "dtype: int64"
            ]
          },
          "execution_count": 20,
          "metadata": {},
          "output_type": "execute_result"
        }
      ],
      "source": [
        "df_principals_transformed.isna().sum()"
      ]
    },
    {
      "cell_type": "markdown",
      "metadata": {},
      "source": [
        "### Insertion dans un fichier CSV"
      ]
    },
    {
      "cell_type": "code",
      "execution_count": 21,
      "metadata": {},
      "outputs": [],
      "source": [
        "dest_dir = '/home/dstrec/dstrec/010_data/001_transformed'\n",
        "title_principals_transformed_csv = 'title_principals_transformed.csv'\n",
        "\n",
        "output_file_title_principals = f\"{dest_dir}/{title_principals_transformed_csv}\"\n",
        "\n",
        "df_principals_transformed.to_csv(output_file_title_principals, index=False)"
      ]
    }
  ],
  "metadata": {
    "colab": {
      "provenance": []
    },
    "kernelspec": {
      "display_name": "Python 3 (ipykernel)",
      "language": "python",
      "name": "python3"
    },
    "language_info": {
      "codemirror_mode": {
        "name": "ipython",
        "version": 3
      },
      "file_extension": ".py",
      "mimetype": "text/x-python",
      "name": "python",
      "nbconvert_exporter": "python",
      "pygments_lexer": "ipython3",
      "version": "3.11.2"
    }
  },
  "nbformat": 4,
  "nbformat_minor": 0
}
