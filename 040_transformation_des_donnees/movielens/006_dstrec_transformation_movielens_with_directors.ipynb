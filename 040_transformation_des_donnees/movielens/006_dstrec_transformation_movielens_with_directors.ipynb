{
 "cells": [
  {
   "cell_type": "markdown",
   "metadata": {},
   "source": [
    "# <div style='color:white;background: #005792;text-align: center;padding: 15px 0'>Recommandations - Webscrapping sur Movielens</div>"
   ]
  },
  {
   "cell_type": "markdown",
   "metadata": {},
   "source": [
    "## Participants\n",
    "* Samantha\n",
    "* Rachelle\n",
    "* Andrew"
   ]
  },
  {
   "cell_type": "markdown",
   "metadata": {},
   "source": [
    "## <div style='background: #005792;text-align: center;padding: 15px 0'> <a style= 'color:white;' >Configuration des variables globales</a></div>"
   ]
  },
  {
   "cell_type": "markdown",
   "metadata": {},
   "source": [
    "### Importation des librairies"
   ]
  },
  {
   "cell_type": "code",
   "execution_count": 1,
   "metadata": {},
   "outputs": [],
   "source": [
    "import requests\n",
    "from bs4 import BeautifulSoup\n",
    "import pandas as pd\n",
    "from concurrent.futures import ThreadPoolExecutor\n",
    "import logging\n",
    "import time"
   ]
  },
  {
   "cell_type": "markdown",
   "metadata": {},
   "source": [
    "### Chargement des fichiers"
   ]
  },
  {
   "cell_type": "code",
   "execution_count": null,
   "metadata": {},
   "outputs": [],
   "source": [
    "transformed_dir = '/home/dstrec/dstrec/010_data/001_transformed'\n",
    "\n",
    "file_movielens_final = f\"{transformed_dir}/movielens.csv\""
   ]
  },
  {
   "cell_type": "markdown",
   "metadata": {},
   "source": [
    "### Chargement des fichiers"
   ]
  },
  {
   "cell_type": "code",
   "execution_count": 2,
   "metadata": {},
   "outputs": [],
   "source": [
    "movielens_final = pd.read_csv(file_movielens_final, index_col='movieId')"
   ]
  },
  {
   "cell_type": "markdown",
   "metadata": {},
   "source": [
    "## <div style='background: #005792;text-align: center;padding: 15px 0'> <a style= 'color:white;' >Préparation des données</a></div>"
   ]
  },
  {
   "cell_type": "markdown",
   "metadata": {},
   "source": [
    "### Affichage du jeu de données "
   ]
  },
  {
   "cell_type": "code",
   "execution_count": 3,
   "metadata": {},
   "outputs": [
    {
     "data": {
      "text/html": [
       "<div>\n",
       "<style scoped>\n",
       "    .dataframe tbody tr th:only-of-type {\n",
       "        vertical-align: middle;\n",
       "    }\n",
       "\n",
       "    .dataframe tbody tr th {\n",
       "        vertical-align: top;\n",
       "    }\n",
       "\n",
       "    .dataframe thead th {\n",
       "        text-align: right;\n",
       "    }\n",
       "</style>\n",
       "<table border=\"1\" class=\"dataframe\">\n",
       "  <thead>\n",
       "    <tr style=\"text-align: right;\">\n",
       "      <th></th>\n",
       "      <th>title</th>\n",
       "      <th>genres</th>\n",
       "      <th>imdbId</th>\n",
       "      <th>average_rating</th>\n",
       "      <th>most_common_tag</th>\n",
       "    </tr>\n",
       "    <tr>\n",
       "      <th>movieId</th>\n",
       "      <th></th>\n",
       "      <th></th>\n",
       "      <th></th>\n",
       "      <th></th>\n",
       "      <th></th>\n",
       "    </tr>\n",
       "  </thead>\n",
       "  <tbody>\n",
       "    <tr>\n",
       "      <th>1</th>\n",
       "      <td>Toy Story</td>\n",
       "      <td>Adventure|Animation|Children|Comedy|Fantasy</td>\n",
       "      <td>tt0114709</td>\n",
       "      <td>3.9</td>\n",
       "      <td>Pixar</td>\n",
       "    </tr>\n",
       "    <tr>\n",
       "      <th>2</th>\n",
       "      <td>Jumanji</td>\n",
       "      <td>Adventure|Children|Fantasy</td>\n",
       "      <td>tt0113497</td>\n",
       "      <td>3.2</td>\n",
       "      <td>Robin Williams</td>\n",
       "    </tr>\n",
       "    <tr>\n",
       "      <th>3</th>\n",
       "      <td>Grumpier Old Men</td>\n",
       "      <td>Comedy|Romance</td>\n",
       "      <td>tt0113228</td>\n",
       "      <td>3.2</td>\n",
       "      <td>moldy</td>\n",
       "    </tr>\n",
       "    <tr>\n",
       "      <th>4</th>\n",
       "      <td>Waiting to Exhale</td>\n",
       "      <td>Comedy|Drama|Romance</td>\n",
       "      <td>tt0114885</td>\n",
       "      <td>2.9</td>\n",
       "      <td>chick flick</td>\n",
       "    </tr>\n",
       "    <tr>\n",
       "      <th>5</th>\n",
       "      <td>Father of the Bride Part II</td>\n",
       "      <td>Comedy</td>\n",
       "      <td>tt0113041</td>\n",
       "      <td>3.1</td>\n",
       "      <td>steve martin</td>\n",
       "    </tr>\n",
       "  </tbody>\n",
       "</table>\n",
       "</div>"
      ],
      "text/plain": [
       "                               title  \\\n",
       "movieId                                \n",
       "1                          Toy Story   \n",
       "2                            Jumanji   \n",
       "3                   Grumpier Old Men   \n",
       "4                  Waiting to Exhale   \n",
       "5        Father of the Bride Part II   \n",
       "\n",
       "                                              genres     imdbId  \\\n",
       "movieId                                                           \n",
       "1        Adventure|Animation|Children|Comedy|Fantasy  tt0114709   \n",
       "2                         Adventure|Children|Fantasy  tt0113497   \n",
       "3                                     Comedy|Romance  tt0113228   \n",
       "4                               Comedy|Drama|Romance  tt0114885   \n",
       "5                                             Comedy  tt0113041   \n",
       "\n",
       "         average_rating most_common_tag  \n",
       "movieId                                  \n",
       "1                   3.9           Pixar  \n",
       "2                   3.2  Robin Williams  \n",
       "3                   3.2           moldy  \n",
       "4                   2.9     chick flick  \n",
       "5                   3.1    steve martin  "
      ]
     },
     "execution_count": 3,
     "metadata": {},
     "output_type": "execute_result"
    }
   ],
   "source": [
    "movielens_final.head()"
   ]
  },
  {
   "cell_type": "markdown",
   "metadata": {},
   "source": [
    "### Webscraping des directors"
   ]
  },
  {
   "cell_type": "code",
   "execution_count": 4,
   "metadata": {},
   "outputs": [],
   "source": [
    "header = {\n",
    "    'User-Agent': 'Mozilla/5.0 (Windows NT 10.0; Win64; x64) AppleWebKit/537.36 (KHTML, like Gecko) Chrome/91.0.4472.124 Safari/537.36'\n",
    "}\n",
    "\n",
    "def fetch_director(imdb_id):\n",
    "    url = f\"https://www.imdb.com/title/{imdb_id}/\"\n",
    "    try:\n",
    "        response = requests.get(url, headers=header)\n",
    "        if response.status_code != 200:\n",
    "            return 'N/A'\n",
    "        soup = BeautifulSoup(response.content, 'html.parser')\n",
    "        director_tag = soup.find('a', href=lambda x: x and 'tt_ov_dr' in x)\n",
    "        director_name = director_tag.text.strip() if director_tag else 'N/A'\n",
    "        return director_name\n",
    "    except requests.exceptions.RequestException as e:\n",
    "        print(f\"Error fetching data for IMDb ID {imdb_id}: {str(e)}\")\n",
    "        return 'N/A'\n",
    "\n",
    "with ThreadPoolExecutor(max_workers=10) as executor:\n",
    "    directors = list(executor.map(fetch_director, movielens_final['imdbId']))\n",
    "\n",
    "movielens_final['Director'] = directors"
   ]
  },
  {
   "cell_type": "markdown",
   "metadata": {},
   "source": [
    "### Affichage des résultats"
   ]
  },
  {
   "cell_type": "code",
   "execution_count": null,
   "metadata": {},
   "outputs": [
    {
     "data": {
      "text/html": [
       "<div>\n",
       "<style scoped>\n",
       "    .dataframe tbody tr th:only-of-type {\n",
       "        vertical-align: middle;\n",
       "    }\n",
       "\n",
       "    .dataframe tbody tr th {\n",
       "        vertical-align: top;\n",
       "    }\n",
       "\n",
       "    .dataframe thead th {\n",
       "        text-align: right;\n",
       "    }\n",
       "</style>\n",
       "<table border=\"1\" class=\"dataframe\">\n",
       "  <thead>\n",
       "    <tr style=\"text-align: right;\">\n",
       "      <th></th>\n",
       "      <th>title</th>\n",
       "      <th>genres</th>\n",
       "      <th>imdbId</th>\n",
       "      <th>average_rating</th>\n",
       "      <th>most_common_tag</th>\n",
       "      <th>Director</th>\n",
       "    </tr>\n",
       "    <tr>\n",
       "      <th>movieId</th>\n",
       "      <th></th>\n",
       "      <th></th>\n",
       "      <th></th>\n",
       "      <th></th>\n",
       "      <th></th>\n",
       "      <th></th>\n",
       "    </tr>\n",
       "  </thead>\n",
       "  <tbody>\n",
       "    <tr>\n",
       "      <th>1</th>\n",
       "      <td>Toy Story</td>\n",
       "      <td>Adventure|Animation|Children|Comedy|Fantasy</td>\n",
       "      <td>tt0114709</td>\n",
       "      <td>3.9</td>\n",
       "      <td>Pixar</td>\n",
       "      <td>John Lasseter</td>\n",
       "    </tr>\n",
       "    <tr>\n",
       "      <th>2</th>\n",
       "      <td>Jumanji</td>\n",
       "      <td>Adventure|Children|Fantasy</td>\n",
       "      <td>tt0113497</td>\n",
       "      <td>3.2</td>\n",
       "      <td>Robin Williams</td>\n",
       "      <td>Joe Johnston</td>\n",
       "    </tr>\n",
       "    <tr>\n",
       "      <th>3</th>\n",
       "      <td>Grumpier Old Men</td>\n",
       "      <td>Comedy|Romance</td>\n",
       "      <td>tt0113228</td>\n",
       "      <td>3.2</td>\n",
       "      <td>moldy</td>\n",
       "      <td>Howard Deutch</td>\n",
       "    </tr>\n",
       "    <tr>\n",
       "      <th>4</th>\n",
       "      <td>Waiting to Exhale</td>\n",
       "      <td>Comedy|Drama|Romance</td>\n",
       "      <td>tt0114885</td>\n",
       "      <td>2.9</td>\n",
       "      <td>chick flick</td>\n",
       "      <td>Forest Whitaker</td>\n",
       "    </tr>\n",
       "    <tr>\n",
       "      <th>5</th>\n",
       "      <td>Father of the Bride Part II</td>\n",
       "      <td>Comedy</td>\n",
       "      <td>tt0113041</td>\n",
       "      <td>3.1</td>\n",
       "      <td>steve martin</td>\n",
       "      <td>Charles Shyer</td>\n",
       "    </tr>\n",
       "  </tbody>\n",
       "</table>\n",
       "</div>"
      ],
      "text/plain": [
       "                               title  \\\n",
       "movieId                                \n",
       "1                          Toy Story   \n",
       "2                            Jumanji   \n",
       "3                   Grumpier Old Men   \n",
       "4                  Waiting to Exhale   \n",
       "5        Father of the Bride Part II   \n",
       "\n",
       "                                              genres     imdbId  \\\n",
       "movieId                                                           \n",
       "1        Adventure|Animation|Children|Comedy|Fantasy  tt0114709   \n",
       "2                         Adventure|Children|Fantasy  tt0113497   \n",
       "3                                     Comedy|Romance  tt0113228   \n",
       "4                               Comedy|Drama|Romance  tt0114885   \n",
       "5                                             Comedy  tt0113041   \n",
       "\n",
       "         average_rating most_common_tag         Director  \n",
       "movieId                                                   \n",
       "1                   3.9           Pixar    John Lasseter  \n",
       "2                   3.2  Robin Williams     Joe Johnston  \n",
       "3                   3.2           moldy    Howard Deutch  \n",
       "4                   2.9     chick flick  Forest Whitaker  \n",
       "5                   3.1    steve martin    Charles Shyer  "
      ]
     },
     "execution_count": 5,
     "metadata": {},
     "output_type": "execute_result"
    }
   ],
   "source": [
    "movielens_final.head()"
   ]
  },
  {
   "cell_type": "markdown",
   "metadata": {},
   "source": [
    "### Renommage de la colonne director"
   ]
  },
  {
   "cell_type": "code",
   "execution_count": null,
   "metadata": {},
   "outputs": [],
   "source": [
    "movielens_final.rename(columns={'Director': 'director'}, inplace=True)"
   ]
  },
  {
   "cell_type": "markdown",
   "metadata": {},
   "source": [
    "### Valeurs manquantes"
   ]
  },
  {
   "cell_type": "code",
   "execution_count": null,
   "metadata": {},
   "outputs": [
    {
     "name": "stdout",
     "output_type": "stream",
     "text": [
      "title              0\n",
      "genres             0\n",
      "imdbId             0\n",
      "average_rating     0\n",
      "most_common_tag    0\n",
      "director           0\n",
      "dtype: int64\n"
     ]
    }
   ],
   "source": [
    "print(movielens_final.isnull().sum())"
   ]
  },
  {
   "cell_type": "markdown",
   "metadata": {},
   "source": [
    "### Création d'un fichier csv"
   ]
  },
  {
   "cell_type": "code",
   "execution_count": null,
   "metadata": {},
   "outputs": [],
   "source": [
    "dest_dir = '/home/dstrec/dstrec/010_data/001_transformed'\n",
    "\n",
    "output_file_movielens_clean = f\"{dest_dir}/movielens_with_directors.csv\"\n",
    "\n",
    "movielens_final.to_csv(output_file_movielens_clean, index=False)"
   ]
  }
 ],
 "metadata": {
  "kernelspec": {
   "display_name": "Explorations_donnees",
   "language": "python",
   "name": "python3"
  },
  "language_info": {
   "codemirror_mode": {
    "name": "ipython",
    "version": 3
   },
   "file_extension": ".py",
   "mimetype": "text/x-python",
   "name": "python",
   "nbconvert_exporter": "python",
   "pygments_lexer": "ipython3",
   "version": "3.1.-1"
  }
 },
 "nbformat": 4,
 "nbformat_minor": 2
}
