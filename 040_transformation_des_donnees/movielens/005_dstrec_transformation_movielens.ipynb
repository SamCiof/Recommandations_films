{
 "cells": [
  {
   "cell_type": "markdown",
   "metadata": {},
   "source": [
    "# <div style='color:white;background: #005792;text-align: center;padding: 15px 0'>Recommandations - Transformation des donnees Movielens</div>"
   ]
  },
  {
   "cell_type": "markdown",
   "metadata": {},
   "source": [
    "## Participants\n",
    "* Samantha\n",
    "* Rachelle\n",
    "* Andrew"
   ]
  },
  {
   "cell_type": "markdown",
   "metadata": {},
   "source": [
    "## <div style='background: #005792;text-align: center;padding: 15px 0'> <a style= 'color:white;' >Configuration des variables globales</a></div>"
   ]
  },
  {
   "cell_type": "markdown",
   "metadata": {},
   "source": [
    "### Importation des librairies"
   ]
  },
  {
   "cell_type": "code",
   "execution_count": 1,
   "metadata": {},
   "outputs": [],
   "source": [
    "import pandas as pd"
   ]
  },
  {
   "cell_type": "markdown",
   "metadata": {},
   "source": [
    "### Chargement des fichiers"
   ]
  },
  {
   "cell_type": "code",
   "execution_count": null,
   "metadata": {},
   "outputs": [],
   "source": [
    "source_dir= '/home/dstrec/dstrec/010_data/000_source/movielens'\n",
    "\n",
    "file_genome_tags = f\"{source_dir}/genome-tags.csv\"\n",
    "file_genome_scores = f\"{source_dir}/genome-scores.csv\"\n",
    "file_tags = f\"{source_dir}/tags.csv\"\n",
    "file_ratings = f\"{source_dir}/ratings.csv\"\n",
    "file_movies = f\"{source_dir}/movies.csv\"\n",
    "file_links = f\"{source_dir}/links.csv\""
   ]
  },
  {
   "cell_type": "markdown",
   "metadata": {},
   "source": [
    "### Chargement des fichiers"
   ]
  },
  {
   "cell_type": "code",
   "execution_count": 2,
   "metadata": {},
   "outputs": [],
   "source": [
    "genome_tags = pd.read_csv(file_genome_tags)\n",
    "genome_scores = pd.read_csv(file_genome_scores)\n",
    "tags = pd.read_csv(file_tags)\n",
    "ratings = pd.read_csv(file_ratings)\n",
    "movies = pd.read_csv(file_movies)\n",
    "links = pd.read_csv(file_links)"
   ]
  },
  {
   "cell_type": "markdown",
   "metadata": {},
   "source": [
    "## <div style='background: #005792;text-align: center;padding: 15px 0'> <a style= 'color:white;' >Préparation des données</a></div>"
   ]
  },
  {
   "cell_type": "markdown",
   "metadata": {},
   "source": [
    "### Fichiers Genome-scores et Genome-tags"
   ]
  },
  {
   "cell_type": "code",
   "execution_count": 3,
   "metadata": {},
   "outputs": [],
   "source": [
    "#Nous choississons de ne pas tenir compte des datasets genome-scores et genome-tags\n",
    "#qui ne seront pas utiles dans notre projet et ne seront pas relié à nos données imdb\n"
   ]
  },
  {
   "cell_type": "markdown",
   "metadata": {},
   "source": [
    "### Fichier Movies"
   ]
  },
  {
   "cell_type": "code",
   "execution_count": 4,
   "metadata": {},
   "outputs": [
    {
     "data": {
      "text/html": [
       "<div>\n",
       "<style scoped>\n",
       "    .dataframe tbody tr th:only-of-type {\n",
       "        vertical-align: middle;\n",
       "    }\n",
       "\n",
       "    .dataframe tbody tr th {\n",
       "        vertical-align: top;\n",
       "    }\n",
       "\n",
       "    .dataframe thead th {\n",
       "        text-align: right;\n",
       "    }\n",
       "</style>\n",
       "<table border=\"1\" class=\"dataframe\">\n",
       "  <thead>\n",
       "    <tr style=\"text-align: right;\">\n",
       "      <th></th>\n",
       "      <th>movieId</th>\n",
       "      <th>title</th>\n",
       "      <th>genres</th>\n",
       "    </tr>\n",
       "  </thead>\n",
       "  <tbody>\n",
       "    <tr>\n",
       "      <th>0</th>\n",
       "      <td>1</td>\n",
       "      <td>Toy Story</td>\n",
       "      <td>Adventure|Animation|Children|Comedy|Fantasy</td>\n",
       "    </tr>\n",
       "    <tr>\n",
       "      <th>1</th>\n",
       "      <td>2</td>\n",
       "      <td>Jumanji</td>\n",
       "      <td>Adventure|Children|Fantasy</td>\n",
       "    </tr>\n",
       "    <tr>\n",
       "      <th>2</th>\n",
       "      <td>3</td>\n",
       "      <td>Grumpier Old Men</td>\n",
       "      <td>Comedy|Romance</td>\n",
       "    </tr>\n",
       "    <tr>\n",
       "      <th>3</th>\n",
       "      <td>4</td>\n",
       "      <td>Waiting to Exhale</td>\n",
       "      <td>Comedy|Drama|Romance</td>\n",
       "    </tr>\n",
       "    <tr>\n",
       "      <th>4</th>\n",
       "      <td>5</td>\n",
       "      <td>Father of the Bride Part II</td>\n",
       "      <td>Comedy</td>\n",
       "    </tr>\n",
       "  </tbody>\n",
       "</table>\n",
       "</div>"
      ],
      "text/plain": [
       "   movieId                        title  \\\n",
       "0        1                    Toy Story   \n",
       "1        2                      Jumanji   \n",
       "2        3             Grumpier Old Men   \n",
       "3        4            Waiting to Exhale   \n",
       "4        5  Father of the Bride Part II   \n",
       "\n",
       "                                        genres  \n",
       "0  Adventure|Animation|Children|Comedy|Fantasy  \n",
       "1                   Adventure|Children|Fantasy  \n",
       "2                               Comedy|Romance  \n",
       "3                         Comedy|Drama|Romance  \n",
       "4                                       Comedy  "
      ]
     },
     "execution_count": 4,
     "metadata": {},
     "output_type": "execute_result"
    }
   ],
   "source": [
    "#Nettoyage du dataset movies:\n",
    "\n",
    "#Suppression des années dans les titres des films:\n",
    "movies['title'] = movies['title'].str.replace(r' \\(\\d{4}\\)', '', regex=True)\n",
    "\n",
    "movies.head()"
   ]
  },
  {
   "cell_type": "markdown",
   "metadata": {},
   "source": [
    "### Fichier Links"
   ]
  },
  {
   "cell_type": "code",
   "execution_count": 5,
   "metadata": {},
   "outputs": [
    {
     "data": {
      "text/html": [
       "<div>\n",
       "<style scoped>\n",
       "    .dataframe tbody tr th:only-of-type {\n",
       "        vertical-align: middle;\n",
       "    }\n",
       "\n",
       "    .dataframe tbody tr th {\n",
       "        vertical-align: top;\n",
       "    }\n",
       "\n",
       "    .dataframe thead th {\n",
       "        text-align: right;\n",
       "    }\n",
       "</style>\n",
       "<table border=\"1\" class=\"dataframe\">\n",
       "  <thead>\n",
       "    <tr style=\"text-align: right;\">\n",
       "      <th></th>\n",
       "      <th>movieId</th>\n",
       "      <th>imdbId</th>\n",
       "    </tr>\n",
       "  </thead>\n",
       "  <tbody>\n",
       "    <tr>\n",
       "      <th>0</th>\n",
       "      <td>1</td>\n",
       "      <td>tt0114709</td>\n",
       "    </tr>\n",
       "    <tr>\n",
       "      <th>1</th>\n",
       "      <td>2</td>\n",
       "      <td>tt0113497</td>\n",
       "    </tr>\n",
       "    <tr>\n",
       "      <th>2</th>\n",
       "      <td>3</td>\n",
       "      <td>tt0113228</td>\n",
       "    </tr>\n",
       "    <tr>\n",
       "      <th>3</th>\n",
       "      <td>4</td>\n",
       "      <td>tt0114885</td>\n",
       "    </tr>\n",
       "    <tr>\n",
       "      <th>4</th>\n",
       "      <td>5</td>\n",
       "      <td>tt0113041</td>\n",
       "    </tr>\n",
       "  </tbody>\n",
       "</table>\n",
       "</div>"
      ],
      "text/plain": [
       "   movieId     imdbId\n",
       "0        1  tt0114709\n",
       "1        2  tt0113497\n",
       "2        3  tt0113228\n",
       "3        4  tt0114885\n",
       "4        5  tt0113041"
      ]
     },
     "execution_count": 5,
     "metadata": {},
     "output_type": "execute_result"
    }
   ],
   "source": [
    "#Nettoyage du dataset links:\n",
    "\n",
    "#Suppression dans le dataframe links de la colonne tmdbId qui comporte des \n",
    "#valeurs manquantes et qui ne nous servira pas pour la suite\n",
    "\n",
    "links.drop('tmdbId', axis=1, inplace=True)\n",
    "\n",
    "#Ajout de \"tt0\" devant les valeurs de la colonne imdbI:\n",
    "links['imdbId'] = links['imdbId'].apply(lambda x: 'tt0' + str(x))\n",
    "\n",
    "links.head()"
   ]
  },
  {
   "cell_type": "markdown",
   "metadata": {},
   "source": [
    "### Fichier Ratings"
   ]
  },
  {
   "cell_type": "code",
   "execution_count": 6,
   "metadata": {},
   "outputs": [],
   "source": [
    "#Nettoyage du dataset ratings:\n",
    "\n",
    "#Suppression de la colonne timestamp qui ne nous servira pas pour la suite \n",
    "ratings.drop('timestamp', axis=1, inplace=True)"
   ]
  },
  {
   "cell_type": "code",
   "execution_count": 7,
   "metadata": {},
   "outputs": [
    {
     "data": {
      "text/html": [
       "<div>\n",
       "<style scoped>\n",
       "    .dataframe tbody tr th:only-of-type {\n",
       "        vertical-align: middle;\n",
       "    }\n",
       "\n",
       "    .dataframe tbody tr th {\n",
       "        vertical-align: top;\n",
       "    }\n",
       "\n",
       "    .dataframe thead th {\n",
       "        text-align: right;\n",
       "    }\n",
       "</style>\n",
       "<table border=\"1\" class=\"dataframe\">\n",
       "  <thead>\n",
       "    <tr style=\"text-align: right;\">\n",
       "      <th></th>\n",
       "      <th>userId</th>\n",
       "      <th>movieId</th>\n",
       "      <th>average_rating</th>\n",
       "    </tr>\n",
       "  </thead>\n",
       "  <tbody>\n",
       "    <tr>\n",
       "      <th>0</th>\n",
       "      <td>1</td>\n",
       "      <td>2</td>\n",
       "      <td>3.2</td>\n",
       "    </tr>\n",
       "    <tr>\n",
       "      <th>1</th>\n",
       "      <td>1</td>\n",
       "      <td>29</td>\n",
       "      <td>4.0</td>\n",
       "    </tr>\n",
       "    <tr>\n",
       "      <th>2</th>\n",
       "      <td>1</td>\n",
       "      <td>32</td>\n",
       "      <td>3.9</td>\n",
       "    </tr>\n",
       "    <tr>\n",
       "      <th>3</th>\n",
       "      <td>1</td>\n",
       "      <td>47</td>\n",
       "      <td>4.1</td>\n",
       "    </tr>\n",
       "    <tr>\n",
       "      <th>4</th>\n",
       "      <td>1</td>\n",
       "      <td>50</td>\n",
       "      <td>4.3</td>\n",
       "    </tr>\n",
       "  </tbody>\n",
       "</table>\n",
       "</div>"
      ],
      "text/plain": [
       "   userId  movieId  average_rating\n",
       "0       1        2             3.2\n",
       "1       1       29             4.0\n",
       "2       1       32             3.9\n",
       "3       1       47             4.1\n",
       "4       1       50             4.3"
      ]
     },
     "execution_count": 7,
     "metadata": {},
     "output_type": "execute_result"
    }
   ],
   "source": [
    "#Remplacer la colonne rating par la moyenne des notes obtenues pour chaque film\n",
    "average_ratings = ratings.groupby('movieId')['rating'].mean().reset_index()\n",
    "average_ratings.rename(columns={'rating': 'average_rating'}, inplace=True)\n",
    "\n",
    "# Fusionner les moyennes de notes avec le DataFrame original ratings\n",
    "ratings = pd.merge(ratings, average_ratings, on='movieId', how='left')\n",
    "\n",
    "# Supprimer la colonne 'rating' originale\n",
    "ratings.drop(columns=['rating'], inplace=True)\n",
    "\n",
    "#Arrondir la note obtenu à une décimale\n",
    "ratings['average_rating'] = ratings['average_rating'].round(1)\n",
    "\n",
    "ratings.head()"
   ]
  },
  {
   "cell_type": "code",
   "execution_count": 8,
   "metadata": {},
   "outputs": [
    {
     "data": {
      "text/html": [
       "<div>\n",
       "<style scoped>\n",
       "    .dataframe tbody tr th:only-of-type {\n",
       "        vertical-align: middle;\n",
       "    }\n",
       "\n",
       "    .dataframe tbody tr th {\n",
       "        vertical-align: top;\n",
       "    }\n",
       "\n",
       "    .dataframe thead th {\n",
       "        text-align: right;\n",
       "    }\n",
       "</style>\n",
       "<table border=\"1\" class=\"dataframe\">\n",
       "  <thead>\n",
       "    <tr style=\"text-align: right;\">\n",
       "      <th></th>\n",
       "      <th>movieId</th>\n",
       "      <th>average_rating</th>\n",
       "    </tr>\n",
       "  </thead>\n",
       "  <tbody>\n",
       "    <tr>\n",
       "      <th>0</th>\n",
       "      <td>2</td>\n",
       "      <td>3.2</td>\n",
       "    </tr>\n",
       "    <tr>\n",
       "      <th>1</th>\n",
       "      <td>29</td>\n",
       "      <td>4.0</td>\n",
       "    </tr>\n",
       "    <tr>\n",
       "      <th>2</th>\n",
       "      <td>32</td>\n",
       "      <td>3.9</td>\n",
       "    </tr>\n",
       "    <tr>\n",
       "      <th>3</th>\n",
       "      <td>47</td>\n",
       "      <td>4.1</td>\n",
       "    </tr>\n",
       "    <tr>\n",
       "      <th>4</th>\n",
       "      <td>50</td>\n",
       "      <td>4.3</td>\n",
       "    </tr>\n",
       "  </tbody>\n",
       "</table>\n",
       "</div>"
      ],
      "text/plain": [
       "   movieId  average_rating\n",
       "0        2             3.2\n",
       "1       29             4.0\n",
       "2       32             3.9\n",
       "3       47             4.1\n",
       "4       50             4.3"
      ]
     },
     "execution_count": 8,
     "metadata": {},
     "output_type": "execute_result"
    }
   ],
   "source": [
    "#Supprimer la colonne userId\n",
    "ratings.drop('userId', axis=1, inplace=True)\n",
    "\n",
    "#Suppression des doublons\n",
    "ratings.drop_duplicates(inplace=True)\n",
    "\n",
    "ratings.head()"
   ]
  },
  {
   "cell_type": "markdown",
   "metadata": {},
   "source": [
    "### Fichier Tags"
   ]
  },
  {
   "cell_type": "code",
   "execution_count": 9,
   "metadata": {},
   "outputs": [],
   "source": [
    "#Nettoyage du dataset tags:\n",
    "\n",
    "#Suppression de la colonne timestamp qui ne nous servira pas \n",
    "tags.drop('timestamp', axis=1, inplace=True)"
   ]
  },
  {
   "cell_type": "code",
   "execution_count": 10,
   "metadata": {},
   "outputs": [],
   "source": [
    "#Suppression des lignes contenant des valeurs manquantes dans la colonne tag\n",
    "tags.dropna(subset=['tag'], inplace=True)"
   ]
  },
  {
   "cell_type": "code",
   "execution_count": 11,
   "metadata": {},
   "outputs": [
    {
     "data": {
      "text/html": [
       "<div>\n",
       "<style scoped>\n",
       "    .dataframe tbody tr th:only-of-type {\n",
       "        vertical-align: middle;\n",
       "    }\n",
       "\n",
       "    .dataframe tbody tr th {\n",
       "        vertical-align: top;\n",
       "    }\n",
       "\n",
       "    .dataframe thead th {\n",
       "        text-align: right;\n",
       "    }\n",
       "</style>\n",
       "<table border=\"1\" class=\"dataframe\">\n",
       "  <thead>\n",
       "    <tr style=\"text-align: right;\">\n",
       "      <th></th>\n",
       "      <th>userId</th>\n",
       "      <th>movieId</th>\n",
       "      <th>most_common_tag</th>\n",
       "    </tr>\n",
       "  </thead>\n",
       "  <tbody>\n",
       "    <tr>\n",
       "      <th>0</th>\n",
       "      <td>18</td>\n",
       "      <td>4141</td>\n",
       "      <td>Mark Waters</td>\n",
       "    </tr>\n",
       "    <tr>\n",
       "      <th>1</th>\n",
       "      <td>65</td>\n",
       "      <td>208</td>\n",
       "      <td>post-apocalyptic</td>\n",
       "    </tr>\n",
       "    <tr>\n",
       "      <th>2</th>\n",
       "      <td>65</td>\n",
       "      <td>353</td>\n",
       "      <td>dark hero</td>\n",
       "    </tr>\n",
       "    <tr>\n",
       "      <th>3</th>\n",
       "      <td>65</td>\n",
       "      <td>521</td>\n",
       "      <td>noir thriller</td>\n",
       "    </tr>\n",
       "    <tr>\n",
       "      <th>4</th>\n",
       "      <td>65</td>\n",
       "      <td>592</td>\n",
       "      <td>dark hero</td>\n",
       "    </tr>\n",
       "  </tbody>\n",
       "</table>\n",
       "</div>"
      ],
      "text/plain": [
       "   userId  movieId   most_common_tag\n",
       "0      18     4141       Mark Waters\n",
       "1      65      208  post-apocalyptic\n",
       "2      65      353         dark hero\n",
       "3      65      521     noir thriller\n",
       "4      65      592         dark hero"
      ]
     },
     "execution_count": 11,
     "metadata": {},
     "output_type": "execute_result"
    }
   ],
   "source": [
    "#Remplacement de la valeur de tag en fonction du tag qui ressort le plus pour chaque film\n",
    "most_common_tags = tags.groupby('movieId')['tag'].apply(lambda x: x.value_counts().idxmax()).reset_index()\n",
    "most_common_tags.rename(columns={'tag': 'most_common_tag'}, inplace=True)\n",
    "\n",
    "# Fusionner les tags les plus courants avec le DataFrame original tags\n",
    "tags = pd.merge(tags, most_common_tags, on='movieId', how='left')\n",
    "\n",
    "# Supprimer la colonne 'tag' originale\n",
    "tags.drop(columns=['tag'], inplace=True)\n",
    "\n",
    "tags.head()"
   ]
  },
  {
   "cell_type": "code",
   "execution_count": 12,
   "metadata": {},
   "outputs": [
    {
     "data": {
      "text/html": [
       "<div>\n",
       "<style scoped>\n",
       "    .dataframe tbody tr th:only-of-type {\n",
       "        vertical-align: middle;\n",
       "    }\n",
       "\n",
       "    .dataframe tbody tr th {\n",
       "        vertical-align: top;\n",
       "    }\n",
       "\n",
       "    .dataframe thead th {\n",
       "        text-align: right;\n",
       "    }\n",
       "</style>\n",
       "<table border=\"1\" class=\"dataframe\">\n",
       "  <thead>\n",
       "    <tr style=\"text-align: right;\">\n",
       "      <th></th>\n",
       "      <th>movieId</th>\n",
       "      <th>most_common_tag</th>\n",
       "    </tr>\n",
       "  </thead>\n",
       "  <tbody>\n",
       "    <tr>\n",
       "      <th>0</th>\n",
       "      <td>4141</td>\n",
       "      <td>Mark Waters</td>\n",
       "    </tr>\n",
       "    <tr>\n",
       "      <th>1</th>\n",
       "      <td>208</td>\n",
       "      <td>post-apocalyptic</td>\n",
       "    </tr>\n",
       "    <tr>\n",
       "      <th>2</th>\n",
       "      <td>353</td>\n",
       "      <td>dark hero</td>\n",
       "    </tr>\n",
       "    <tr>\n",
       "      <th>3</th>\n",
       "      <td>521</td>\n",
       "      <td>noir thriller</td>\n",
       "    </tr>\n",
       "    <tr>\n",
       "      <th>4</th>\n",
       "      <td>592</td>\n",
       "      <td>dark hero</td>\n",
       "    </tr>\n",
       "  </tbody>\n",
       "</table>\n",
       "</div>"
      ],
      "text/plain": [
       "   movieId   most_common_tag\n",
       "0     4141       Mark Waters\n",
       "1      208  post-apocalyptic\n",
       "2      353         dark hero\n",
       "3      521     noir thriller\n",
       "4      592         dark hero"
      ]
     },
     "execution_count": 12,
     "metadata": {},
     "output_type": "execute_result"
    }
   ],
   "source": [
    "#Suppression de la colonne userId\n",
    "tags.drop('userId', axis=1, inplace=True)\n",
    "\n",
    "#Suppression des doublons\n",
    "tags.drop_duplicates(inplace=True)\n",
    "\n",
    "tags.head()"
   ]
  },
  {
   "cell_type": "markdown",
   "metadata": {},
   "source": [
    "### Fusion des fichiers"
   ]
  },
  {
   "cell_type": "code",
   "execution_count": 13,
   "metadata": {},
   "outputs": [
    {
     "data": {
      "text/html": [
       "<div>\n",
       "<style scoped>\n",
       "    .dataframe tbody tr th:only-of-type {\n",
       "        vertical-align: middle;\n",
       "    }\n",
       "\n",
       "    .dataframe tbody tr th {\n",
       "        vertical-align: top;\n",
       "    }\n",
       "\n",
       "    .dataframe thead th {\n",
       "        text-align: right;\n",
       "    }\n",
       "</style>\n",
       "<table border=\"1\" class=\"dataframe\">\n",
       "  <thead>\n",
       "    <tr style=\"text-align: right;\">\n",
       "      <th></th>\n",
       "      <th>title</th>\n",
       "      <th>genres</th>\n",
       "      <th>imdbId</th>\n",
       "      <th>average_rating</th>\n",
       "      <th>most_common_tag</th>\n",
       "    </tr>\n",
       "    <tr>\n",
       "      <th>movieId</th>\n",
       "      <th></th>\n",
       "      <th></th>\n",
       "      <th></th>\n",
       "      <th></th>\n",
       "      <th></th>\n",
       "    </tr>\n",
       "  </thead>\n",
       "  <tbody>\n",
       "    <tr>\n",
       "      <th>1</th>\n",
       "      <td>Toy Story</td>\n",
       "      <td>Adventure|Animation|Children|Comedy|Fantasy</td>\n",
       "      <td>tt0114709</td>\n",
       "      <td>3.9</td>\n",
       "      <td>Pixar</td>\n",
       "    </tr>\n",
       "    <tr>\n",
       "      <th>2</th>\n",
       "      <td>Jumanji</td>\n",
       "      <td>Adventure|Children|Fantasy</td>\n",
       "      <td>tt0113497</td>\n",
       "      <td>3.2</td>\n",
       "      <td>Robin Williams</td>\n",
       "    </tr>\n",
       "    <tr>\n",
       "      <th>3</th>\n",
       "      <td>Grumpier Old Men</td>\n",
       "      <td>Comedy|Romance</td>\n",
       "      <td>tt0113228</td>\n",
       "      <td>3.2</td>\n",
       "      <td>moldy</td>\n",
       "    </tr>\n",
       "    <tr>\n",
       "      <th>4</th>\n",
       "      <td>Waiting to Exhale</td>\n",
       "      <td>Comedy|Drama|Romance</td>\n",
       "      <td>tt0114885</td>\n",
       "      <td>2.9</td>\n",
       "      <td>chick flick</td>\n",
       "    </tr>\n",
       "    <tr>\n",
       "      <th>5</th>\n",
       "      <td>Father of the Bride Part II</td>\n",
       "      <td>Comedy</td>\n",
       "      <td>tt0113041</td>\n",
       "      <td>3.1</td>\n",
       "      <td>steve martin</td>\n",
       "    </tr>\n",
       "    <tr>\n",
       "      <th>6</th>\n",
       "      <td>Heat</td>\n",
       "      <td>Action|Crime|Thriller</td>\n",
       "      <td>tt0113277</td>\n",
       "      <td>3.8</td>\n",
       "      <td>Al Pacino</td>\n",
       "    </tr>\n",
       "    <tr>\n",
       "      <th>7</th>\n",
       "      <td>Sabrina</td>\n",
       "      <td>Comedy|Romance</td>\n",
       "      <td>tt0114319</td>\n",
       "      <td>3.4</td>\n",
       "      <td>remake</td>\n",
       "    </tr>\n",
       "    <tr>\n",
       "      <th>8</th>\n",
       "      <td>Tom and Huck</td>\n",
       "      <td>Adventure|Children</td>\n",
       "      <td>tt0112302</td>\n",
       "      <td>3.1</td>\n",
       "      <td>adapted from:book</td>\n",
       "    </tr>\n",
       "    <tr>\n",
       "      <th>9</th>\n",
       "      <td>Sudden Death</td>\n",
       "      <td>Action</td>\n",
       "      <td>tt0114576</td>\n",
       "      <td>3.0</td>\n",
       "      <td>Jean-Claude Van Damme</td>\n",
       "    </tr>\n",
       "    <tr>\n",
       "      <th>10</th>\n",
       "      <td>GoldenEye</td>\n",
       "      <td>Action|Adventure|Thriller</td>\n",
       "      <td>tt0113189</td>\n",
       "      <td>3.4</td>\n",
       "      <td>007</td>\n",
       "    </tr>\n",
       "    <tr>\n",
       "      <th>11</th>\n",
       "      <td>American President, The</td>\n",
       "      <td>Comedy|Drama|Romance</td>\n",
       "      <td>tt0112346</td>\n",
       "      <td>3.7</td>\n",
       "      <td>politics</td>\n",
       "    </tr>\n",
       "    <tr>\n",
       "      <th>12</th>\n",
       "      <td>Dracula: Dead and Loving It</td>\n",
       "      <td>Comedy|Horror</td>\n",
       "      <td>tt0112896</td>\n",
       "      <td>2.6</td>\n",
       "      <td>Mel Brooks</td>\n",
       "    </tr>\n",
       "    <tr>\n",
       "      <th>13</th>\n",
       "      <td>Balto</td>\n",
       "      <td>Adventure|Animation|Children</td>\n",
       "      <td>tt0112453</td>\n",
       "      <td>3.3</td>\n",
       "      <td>sort of boring</td>\n",
       "    </tr>\n",
       "    <tr>\n",
       "      <th>14</th>\n",
       "      <td>Nixon</td>\n",
       "      <td>Drama</td>\n",
       "      <td>tt0113987</td>\n",
       "      <td>3.4</td>\n",
       "      <td>Oliver Stone</td>\n",
       "    </tr>\n",
       "    <tr>\n",
       "      <th>15</th>\n",
       "      <td>Cutthroat Island</td>\n",
       "      <td>Action|Adventure|Romance</td>\n",
       "      <td>tt0112760</td>\n",
       "      <td>2.7</td>\n",
       "      <td>treasure</td>\n",
       "    </tr>\n",
       "  </tbody>\n",
       "</table>\n",
       "</div>"
      ],
      "text/plain": [
       "                               title  \\\n",
       "movieId                                \n",
       "1                          Toy Story   \n",
       "2                            Jumanji   \n",
       "3                   Grumpier Old Men   \n",
       "4                  Waiting to Exhale   \n",
       "5        Father of the Bride Part II   \n",
       "6                               Heat   \n",
       "7                            Sabrina   \n",
       "8                       Tom and Huck   \n",
       "9                       Sudden Death   \n",
       "10                         GoldenEye   \n",
       "11           American President, The   \n",
       "12       Dracula: Dead and Loving It   \n",
       "13                             Balto   \n",
       "14                             Nixon   \n",
       "15                  Cutthroat Island   \n",
       "\n",
       "                                              genres     imdbId  \\\n",
       "movieId                                                           \n",
       "1        Adventure|Animation|Children|Comedy|Fantasy  tt0114709   \n",
       "2                         Adventure|Children|Fantasy  tt0113497   \n",
       "3                                     Comedy|Romance  tt0113228   \n",
       "4                               Comedy|Drama|Romance  tt0114885   \n",
       "5                                             Comedy  tt0113041   \n",
       "6                              Action|Crime|Thriller  tt0113277   \n",
       "7                                     Comedy|Romance  tt0114319   \n",
       "8                                 Adventure|Children  tt0112302   \n",
       "9                                             Action  tt0114576   \n",
       "10                         Action|Adventure|Thriller  tt0113189   \n",
       "11                              Comedy|Drama|Romance  tt0112346   \n",
       "12                                     Comedy|Horror  tt0112896   \n",
       "13                      Adventure|Animation|Children  tt0112453   \n",
       "14                                             Drama  tt0113987   \n",
       "15                          Action|Adventure|Romance  tt0112760   \n",
       "\n",
       "         average_rating        most_common_tag  \n",
       "movieId                                         \n",
       "1                   3.9                  Pixar  \n",
       "2                   3.2         Robin Williams  \n",
       "3                   3.2                  moldy  \n",
       "4                   2.9            chick flick  \n",
       "5                   3.1           steve martin  \n",
       "6                   3.8              Al Pacino  \n",
       "7                   3.4                 remake  \n",
       "8                   3.1      adapted from:book  \n",
       "9                   3.0  Jean-Claude Van Damme  \n",
       "10                  3.4                    007  \n",
       "11                  3.7               politics  \n",
       "12                  2.6             Mel Brooks  \n",
       "13                  3.3         sort of boring  \n",
       "14                  3.4           Oliver Stone  \n",
       "15                  2.7               treasure  "
      ]
     },
     "execution_count": 13,
     "metadata": {},
     "output_type": "execute_result"
    }
   ],
   "source": [
    "#Fusion des différents datasets nettoyés via movieId et détermination de l'index du dataframe sur movieId\n",
    "movielens = pd.merge(movies, links, on='movieId')\n",
    "movielens = pd.merge(movielens, ratings, on='movieId')\n",
    "movielens = pd.merge(movielens, tags, on='movieId')\n",
    "\n",
    "movielens.set_index('movieId', inplace=True)\n",
    "\n",
    "movielens.head(15)"
   ]
  },
  {
   "cell_type": "code",
   "execution_count": 14,
   "metadata": {},
   "outputs": [
    {
     "name": "stdout",
     "output_type": "stream",
     "text": [
      "<class 'pandas.core.frame.DataFrame'>\n",
      "Index: 19011 entries, 1 to 131258\n",
      "Data columns (total 5 columns):\n",
      " #   Column           Non-Null Count  Dtype  \n",
      "---  ------           --------------  -----  \n",
      " 0   title            19011 non-null  object \n",
      " 1   genres           19011 non-null  object \n",
      " 2   imdbId           19011 non-null  object \n",
      " 3   average_rating   19011 non-null  float64\n",
      " 4   most_common_tag  19011 non-null  object \n",
      "dtypes: float64(1), object(4)\n",
      "memory usage: 891.1+ KB\n"
     ]
    }
   ],
   "source": [
    "movielens.info()"
   ]
  },
  {
   "cell_type": "code",
   "execution_count": 15,
   "metadata": {},
   "outputs": [
    {
     "data": {
      "text/plain": [
       "(19011, 5)"
      ]
     },
     "execution_count": 15,
     "metadata": {},
     "output_type": "execute_result"
    }
   ],
   "source": [
    "movielens.shape"
   ]
  },
  {
   "cell_type": "markdown",
   "metadata": {},
   "source": [
    "### Vérification des doublons"
   ]
  },
  {
   "cell_type": "code",
   "execution_count": 16,
   "metadata": {},
   "outputs": [
    {
     "name": "stdout",
     "output_type": "stream",
     "text": [
      "Nombre de doublons dans 'title': 659\n",
      "                                title                      genres      imdbId  \\\n",
      "movieId                                                                         \n",
      "77846                    12 Angry Men                 Crime|Drama   tt0118528   \n",
      "114130   20,000 Leagues Under the Sea              Romance|Sci-Fi   tt0118247   \n",
      "102190   20,000 Leagues Under the Sea    Adventure|Romance|Sci-Fi   tt0118248   \n",
      "62383    20,000 Leagues Under the Sea     Action|Adventure|Sci-Fi     tt06333   \n",
      "54997                    3:10 to Yuma  Action|Crime|Drama|Western   tt0381849   \n",
      "...                               ...                         ...         ...   \n",
      "116261              Wuthering Heights                       Drama  tt01238834   \n",
      "91035               Wuthering Heights                       Drama  tt01181614   \n",
      "7179                Wuthering Heights               Drama|Romance   tt0104181   \n",
      "40962            Yours, Mine and Ours              Comedy|Romance   tt0443295   \n",
      "126579                         Zodiac                      Sci-Fi  tt03102206   \n",
      "\n",
      "         average_rating             most_common_tag  \n",
      "movieId                                              \n",
      "77846               3.8  not available from Netflix  \n",
      "114130              2.8             based on a book  \n",
      "102190              1.7                      racism  \n",
      "62383               3.3           setting:submarine  \n",
      "54997               3.8              Christian Bale  \n",
      "...                 ...                         ...  \n",
      "116261              3.1               Coky Giedroyc  \n",
      "91035               3.1           adapted from:book  \n",
      "7179                3.2             based on a book  \n",
      "40962               2.8                      family  \n",
      "126579              2.2                      sci-fi  \n",
      "\n",
      "[659 rows x 5 columns]\n"
     ]
    }
   ],
   "source": [
    "doublons_title = movielens.duplicated(subset=['title'])\n",
    "print(\"Nombre de doublons dans 'title':\", doublons_title.sum())\n",
    "\n",
    "print(movielens[doublons_title].sort_values(by='title'))"
   ]
  },
  {
   "cell_type": "code",
   "execution_count": 17,
   "metadata": {},
   "outputs": [
    {
     "name": "stdout",
     "output_type": "stream",
     "text": [
      "Taille du dataframe après suppression des doublons: (18352, 5)\n",
      "Avant suppression: (19011, 5)\n",
      "Après suppression: (18352, 5)\n"
     ]
    }
   ],
   "source": [
    "movielens_clean = movielens.drop_duplicates(subset=['title'], keep='first')\n",
    "print(\"Taille du dataframe après suppression des doublons:\", movielens_clean.shape)\n",
    "\n",
    "print(\"Avant suppression:\", movielens.shape)\n",
    "print(\"Après suppression:\", movielens_clean.shape)"
   ]
  },
  {
   "cell_type": "markdown",
   "metadata": {},
   "source": [
    "### Affichage de movielens"
   ]
  },
  {
   "cell_type": "code",
   "execution_count": 18,
   "metadata": {},
   "outputs": [
    {
     "data": {
      "text/html": [
       "<div>\n",
       "<style scoped>\n",
       "    .dataframe tbody tr th:only-of-type {\n",
       "        vertical-align: middle;\n",
       "    }\n",
       "\n",
       "    .dataframe tbody tr th {\n",
       "        vertical-align: top;\n",
       "    }\n",
       "\n",
       "    .dataframe thead th {\n",
       "        text-align: right;\n",
       "    }\n",
       "</style>\n",
       "<table border=\"1\" class=\"dataframe\">\n",
       "  <thead>\n",
       "    <tr style=\"text-align: right;\">\n",
       "      <th></th>\n",
       "      <th>title</th>\n",
       "      <th>genres</th>\n",
       "      <th>imdbId</th>\n",
       "      <th>average_rating</th>\n",
       "      <th>most_common_tag</th>\n",
       "    </tr>\n",
       "    <tr>\n",
       "      <th>movieId</th>\n",
       "      <th></th>\n",
       "      <th></th>\n",
       "      <th></th>\n",
       "      <th></th>\n",
       "      <th></th>\n",
       "    </tr>\n",
       "  </thead>\n",
       "  <tbody>\n",
       "    <tr>\n",
       "      <th>1</th>\n",
       "      <td>Toy Story</td>\n",
       "      <td>Adventure|Animation|Children|Comedy|Fantasy</td>\n",
       "      <td>tt0114709</td>\n",
       "      <td>3.9</td>\n",
       "      <td>Pixar</td>\n",
       "    </tr>\n",
       "    <tr>\n",
       "      <th>2</th>\n",
       "      <td>Jumanji</td>\n",
       "      <td>Adventure|Children|Fantasy</td>\n",
       "      <td>tt0113497</td>\n",
       "      <td>3.2</td>\n",
       "      <td>Robin Williams</td>\n",
       "    </tr>\n",
       "    <tr>\n",
       "      <th>3</th>\n",
       "      <td>Grumpier Old Men</td>\n",
       "      <td>Comedy|Romance</td>\n",
       "      <td>tt0113228</td>\n",
       "      <td>3.2</td>\n",
       "      <td>moldy</td>\n",
       "    </tr>\n",
       "    <tr>\n",
       "      <th>4</th>\n",
       "      <td>Waiting to Exhale</td>\n",
       "      <td>Comedy|Drama|Romance</td>\n",
       "      <td>tt0114885</td>\n",
       "      <td>2.9</td>\n",
       "      <td>chick flick</td>\n",
       "    </tr>\n",
       "    <tr>\n",
       "      <th>5</th>\n",
       "      <td>Father of the Bride Part II</td>\n",
       "      <td>Comedy</td>\n",
       "      <td>tt0113041</td>\n",
       "      <td>3.1</td>\n",
       "      <td>steve martin</td>\n",
       "    </tr>\n",
       "  </tbody>\n",
       "</table>\n",
       "</div>"
      ],
      "text/plain": [
       "                               title  \\\n",
       "movieId                                \n",
       "1                          Toy Story   \n",
       "2                            Jumanji   \n",
       "3                   Grumpier Old Men   \n",
       "4                  Waiting to Exhale   \n",
       "5        Father of the Bride Part II   \n",
       "\n",
       "                                              genres     imdbId  \\\n",
       "movieId                                                           \n",
       "1        Adventure|Animation|Children|Comedy|Fantasy  tt0114709   \n",
       "2                         Adventure|Children|Fantasy  tt0113497   \n",
       "3                                     Comedy|Romance  tt0113228   \n",
       "4                               Comedy|Drama|Romance  tt0114885   \n",
       "5                                             Comedy  tt0113041   \n",
       "\n",
       "         average_rating most_common_tag  \n",
       "movieId                                  \n",
       "1                   3.9           Pixar  \n",
       "2                   3.2  Robin Williams  \n",
       "3                   3.2           moldy  \n",
       "4                   2.9     chick flick  \n",
       "5                   3.1    steve martin  "
      ]
     },
     "execution_count": 18,
     "metadata": {},
     "output_type": "execute_result"
    }
   ],
   "source": [
    "movielens.head()"
   ]
  },
  {
   "cell_type": "markdown",
   "metadata": {},
   "source": [
    "### Création du fichier movielens.csv"
   ]
  },
  {
   "cell_type": "code",
   "execution_count": 19,
   "metadata": {},
   "outputs": [],
   "source": [
    "dest_dir = '/home/dstrec/dstrec/010_data/001_transformed'\n",
    "\n",
    "output_file_movielens_clean = f\"{dest_dir}/movielens.csv\"\n",
    "\n",
    "movielens_clean.to_csv(output_file_movielens_clean, index=False)"
   ]
  }
 ],
 "metadata": {
  "kernelspec": {
   "display_name": "Explorations_donnees",
   "language": "python",
   "name": "python3"
  },
  "language_info": {
   "codemirror_mode": {
    "name": "ipython",
    "version": 3
   },
   "file_extension": ".py",
   "mimetype": "text/x-python",
   "name": "python",
   "nbconvert_exporter": "python",
   "pygments_lexer": "ipython3",
   "version": "3.12.3"
  }
 },
 "nbformat": 4,
 "nbformat_minor": 2
}
