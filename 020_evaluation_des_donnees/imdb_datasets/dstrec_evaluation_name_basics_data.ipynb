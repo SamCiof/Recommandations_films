{
  "cells": [
    {
      "cell_type": "markdown",
      "metadata": {
        "id": "8hiZyS3VZhit"
      },
      "source": [
        "# <div style='color:white;background: #005792;text-align: center;padding: 15px 0'>Recommandations - Evaluation de la source de données Name basics</div>"
      ]
    },
    {
      "cell_type": "markdown",
      "metadata": {
        "id": "dN4m4ihiZhiy"
      },
      "source": [
        "## Participants\n",
        "* Samantha\n",
        "* Rachelle\n",
        "* Andrew\n",
        "\n",
        "## Résumé des observations\n",
        "\n",
        "Ce jeu de données comprend 6 colonnes et 13 508 117 lignes, et il n'y a aucune valeur dupliquée dans les données.\n",
        "Cependant, certaines colonnes contiennent des valeurs manquantes.\n",
        "En particulier, les colonnes `birthYear` et `deathYear` ont environ 95% de valeurs manquantes.\n",
        "\n",
        "### Anomalie\n",
        "\n",
        "Les colonnes suivantes sont dans un mauvais typage : \n",
        "* birthYear\n",
        "* deathYear \n",
        "\n",
        "### Colonnes à supprimer\n",
        "\n",
        "* `birthYear` possèdent 95% de valeurs manquantes\n",
        "* `deathYear` possèdent 95% de valeurs manquantes\n",
        "* `primaryProfession` ne possèdent pas de valeurs suffisamment explicites pour être exploitées\n",
        "* `knownForTitles` ne possèdent pas de valeurs suffisamment explicites pour être exploitées \n",
        "\n",
        "### Colonnes à conserver\n",
        "\n",
        "* `nconst` permet la fusion avec le DataFrame Title-principals\n",
        "* `primaryName` correspond aux noms du personnel\n",
        "\n",
        "### Transformation\n"
      ]
    },
    {
      "cell_type": "markdown",
      "metadata": {
        "id": "487PHFGsZhi1"
      },
      "source": [
        "## <div style='background: #005792;text-align: center;padding: 15px 0'> <a style= 'color:white;' >Configuration des variables globales</a></div>"
      ]
    },
    {
      "cell_type": "markdown",
      "metadata": {
        "id": "8ae4VWFdZhi2"
      },
      "source": [
        "### Installation des librairies"
      ]
    },
    {
      "cell_type": "code",
      "execution_count": 25,
      "metadata": {
        "id": "uhLrAs-7Zhi2"
      },
      "outputs": [],
      "source": [
        "# !pip install pandas\n",
        "# !pip install numpy\n",
        "# !pip install matplotlib\n",
        "# !pip install seaborn\n",
        "# !pip install plotly-express\n",
        "# !pip install plotly"
      ]
    },
    {
      "cell_type": "markdown",
      "metadata": {
        "id": "f_XiTil4Zhi2"
      },
      "source": [
        "### Importation des librairies"
      ]
    },
    {
      "cell_type": "code",
      "execution_count": 1,
      "metadata": {
        "id": "3je4ZMXkZhi3"
      },
      "outputs": [],
      "source": [
        "import os\n",
        "import warnings\n",
        "warnings.filterwarnings('ignore')\n",
        "\n",
        "import pandas as pd\n",
        "import numpy as np\n",
        "\n",
        "import seaborn as sns\n",
        "import matplotlib.pyplot as plt\n",
        "\n",
        "import re"
      ]
    },
    {
      "cell_type": "markdown",
      "metadata": {
        "id": "TTC4IUJUZhi3"
      },
      "source": [
        "### Chargement des fichiers"
      ]
    },
    {
      "cell_type": "code",
      "execution_count": 2,
      "metadata": {
        "id": "5opNmQvWZhi4"
      },
      "outputs": [],
      "source": [
        "source_dir= '/home/dstrec/dstrec/010_data/000_source/imdb_datasets'\n",
        "name_file= 'name.basics.tsv'\n",
        "file_path= f\"{source_dir}/{name_file}\""
      ]
    },
    {
      "cell_type": "markdown",
      "metadata": {
        "id": "obzB-XlHZhi4"
      },
      "source": [
        "### Chargement des jeux de données"
      ]
    },
    {
      "cell_type": "code",
      "execution_count": 3,
      "metadata": {
        "id": "hGVkrMmZZhi4"
      },
      "outputs": [],
      "source": [
        "df= pd.read_csv(file_path, sep='\\t', na_values='\\\\N', low_memory=False)"
      ]
    },
    {
      "cell_type": "markdown",
      "metadata": {
        "id": "F_z_3pwMZhi5"
      },
      "source": [
        "### Configuration des variables"
      ]
    },
    {
      "cell_type": "code",
      "execution_count": null,
      "metadata": {
        "id": "zinAKVPwZhi5"
      },
      "outputs": [],
      "source": []
    },
    {
      "cell_type": "markdown",
      "metadata": {
        "id": "VSrjQaLwZhi5"
      },
      "source": [
        "### Configuration des fonctions"
      ]
    },
    {
      "cell_type": "code",
      "execution_count": null,
      "metadata": {
        "id": "s-R412ctZhi6"
      },
      "outputs": [],
      "source": []
    },
    {
      "cell_type": "markdown",
      "metadata": {
        "id": "7ec1Yg2QZhi6"
      },
      "source": [
        "## <div style='background: #005792;text-align: center;padding: 15px 0'> <a style= 'color:white;' >Evaluation des données</a></div>"
      ]
    },
    {
      "cell_type": "markdown",
      "metadata": {
        "id": "AuATrZ5RZhi-"
      },
      "source": [
        "### Affichage du jeu de données"
      ]
    },
    {
      "cell_type": "code",
      "execution_count": 4,
      "metadata": {
        "id": "ZgxNrQjxZhi-",
        "outputId": "9550434a-fee3-46e3-cbaa-aaf0e3698432"
      },
      "outputs": [
        {
          "data": {
            "text/html": [
              "<div>\n",
              "<style scoped>\n",
              "    .dataframe tbody tr th:only-of-type {\n",
              "        vertical-align: middle;\n",
              "    }\n",
              "\n",
              "    .dataframe tbody tr th {\n",
              "        vertical-align: top;\n",
              "    }\n",
              "\n",
              "    .dataframe thead th {\n",
              "        text-align: right;\n",
              "    }\n",
              "</style>\n",
              "<table border=\"1\" class=\"dataframe\">\n",
              "  <thead>\n",
              "    <tr style=\"text-align: right;\">\n",
              "      <th></th>\n",
              "      <th>nconst</th>\n",
              "      <th>primaryName</th>\n",
              "      <th>birthYear</th>\n",
              "      <th>deathYear</th>\n",
              "      <th>primaryProfession</th>\n",
              "      <th>knownForTitles</th>\n",
              "    </tr>\n",
              "  </thead>\n",
              "  <tbody>\n",
              "    <tr>\n",
              "      <th>0</th>\n",
              "      <td>nm0000001</td>\n",
              "      <td>Fred Astaire</td>\n",
              "      <td>1899.0</td>\n",
              "      <td>1987.0</td>\n",
              "      <td>actor,miscellaneous,producer</td>\n",
              "      <td>tt0072308,tt0050419,tt0053137,tt0027125</td>\n",
              "    </tr>\n",
              "    <tr>\n",
              "      <th>1</th>\n",
              "      <td>nm0000002</td>\n",
              "      <td>Lauren Bacall</td>\n",
              "      <td>1924.0</td>\n",
              "      <td>2014.0</td>\n",
              "      <td>actress,soundtrack,archive_footage</td>\n",
              "      <td>tt0037382,tt0075213,tt0117057,tt0038355</td>\n",
              "    </tr>\n",
              "    <tr>\n",
              "      <th>2</th>\n",
              "      <td>nm0000003</td>\n",
              "      <td>Brigitte Bardot</td>\n",
              "      <td>1934.0</td>\n",
              "      <td>NaN</td>\n",
              "      <td>actress,music_department,producer</td>\n",
              "      <td>tt0057345,tt0049189,tt0056404,tt0054452</td>\n",
              "    </tr>\n",
              "    <tr>\n",
              "      <th>3</th>\n",
              "      <td>nm0000004</td>\n",
              "      <td>John Belushi</td>\n",
              "      <td>1949.0</td>\n",
              "      <td>1982.0</td>\n",
              "      <td>actor,writer,music_department</td>\n",
              "      <td>tt0072562,tt0077975,tt0080455,tt0078723</td>\n",
              "    </tr>\n",
              "    <tr>\n",
              "      <th>4</th>\n",
              "      <td>nm0000005</td>\n",
              "      <td>Ingmar Bergman</td>\n",
              "      <td>1918.0</td>\n",
              "      <td>2007.0</td>\n",
              "      <td>writer,director,actor</td>\n",
              "      <td>tt0050986,tt0083922,tt0050976,tt0069467</td>\n",
              "    </tr>\n",
              "  </tbody>\n",
              "</table>\n",
              "</div>"
            ],
            "text/plain": [
              "      nconst      primaryName  birthYear  deathYear  \\\n",
              "0  nm0000001     Fred Astaire     1899.0     1987.0   \n",
              "1  nm0000002    Lauren Bacall     1924.0     2014.0   \n",
              "2  nm0000003  Brigitte Bardot     1934.0        NaN   \n",
              "3  nm0000004     John Belushi     1949.0     1982.0   \n",
              "4  nm0000005   Ingmar Bergman     1918.0     2007.0   \n",
              "\n",
              "                    primaryProfession                           knownForTitles  \n",
              "0        actor,miscellaneous,producer  tt0072308,tt0050419,tt0053137,tt0027125  \n",
              "1  actress,soundtrack,archive_footage  tt0037382,tt0075213,tt0117057,tt0038355  \n",
              "2   actress,music_department,producer  tt0057345,tt0049189,tt0056404,tt0054452  \n",
              "3       actor,writer,music_department  tt0072562,tt0077975,tt0080455,tt0078723  \n",
              "4               writer,director,actor  tt0050986,tt0083922,tt0050976,tt0069467  "
            ]
          },
          "execution_count": 4,
          "metadata": {},
          "output_type": "execute_result"
        }
      ],
      "source": [
        "df.head()"
      ]
    },
    {
      "cell_type": "code",
      "execution_count": 5,
      "metadata": {
        "id": "8_k0DTZUZhjD",
        "outputId": "33a50cd1-b739-4c10-faa5-dd99fc759b6c",
        "scrolled": true
      },
      "outputs": [
        {
          "name": "stdout",
          "output_type": "stream",
          "text": [
            "Ce jeu de données a 6 colonnes et 13508117 lignes.\n"
          ]
        }
      ],
      "source": [
        "print(f\"Ce jeu de données a {df.shape[1]} colonnes et {df.shape[0]} lignes.\")"
      ]
    },
    {
      "cell_type": "markdown",
      "metadata": {
        "id": "PcEwIi6jZhjD"
      },
      "source": [
        "### EDA"
      ]
    },
    {
      "cell_type": "code",
      "execution_count": 6,
      "metadata": {
        "id": "AY17m6TyZhjE",
        "outputId": "805adae9-1206-4109-e663-f20a9e1c802e"
      },
      "outputs": [
        {
          "name": "stdout",
          "output_type": "stream",
          "text": [
            "<class 'pandas.core.frame.DataFrame'>\n",
            "RangeIndex: 13508117 entries, 0 to 13508116\n",
            "Data columns (total 6 columns):\n",
            " #   Column             Dtype  \n",
            "---  ------             -----  \n",
            " 0   nconst             object \n",
            " 1   primaryName        object \n",
            " 2   birthYear          float64\n",
            " 3   deathYear          float64\n",
            " 4   primaryProfession  object \n",
            " 5   knownForTitles     object \n",
            "dtypes: float64(2), object(4)\n",
            "memory usage: 618.4+ MB\n"
          ]
        }
      ],
      "source": [
        "df.info()"
      ]
    },
    {
      "cell_type": "markdown",
      "metadata": {},
      "source": [
        "<span style=\"font-size: 16px;\"><b>Remarques :</b><br><br>\n",
        "Le typage des colonnes suivantes sont incorrect : \n",
        "* birthYear       float64    => date\n",
        "* deathYear         float64    => date\n",
        "</span>"
      ]
    },
    {
      "cell_type": "markdown",
      "metadata": {
        "id": "BmZyhrIuZhjE"
      },
      "source": [
        "### Statistique descriptives"
      ]
    },
    {
      "cell_type": "code",
      "execution_count": 7,
      "metadata": {
        "id": "d4CXfHpcZhjE",
        "outputId": "b0f63678-f7d2-4083-aaae-7b2dd0561d92"
      },
      "outputs": [
        {
          "data": {
            "text/html": [
              "<div>\n",
              "<style scoped>\n",
              "    .dataframe tbody tr th:only-of-type {\n",
              "        vertical-align: middle;\n",
              "    }\n",
              "\n",
              "    .dataframe tbody tr th {\n",
              "        vertical-align: top;\n",
              "    }\n",
              "\n",
              "    .dataframe thead th {\n",
              "        text-align: right;\n",
              "    }\n",
              "</style>\n",
              "<table border=\"1\" class=\"dataframe\">\n",
              "  <thead>\n",
              "    <tr style=\"text-align: right;\">\n",
              "      <th></th>\n",
              "      <th>nconst</th>\n",
              "      <th>primaryName</th>\n",
              "      <th>birthYear</th>\n",
              "      <th>deathYear</th>\n",
              "      <th>primaryProfession</th>\n",
              "      <th>knownForTitles</th>\n",
              "    </tr>\n",
              "  </thead>\n",
              "  <tbody>\n",
              "    <tr>\n",
              "      <th>count</th>\n",
              "      <td>13508117</td>\n",
              "      <td>13508061</td>\n",
              "      <td>615137.000000</td>\n",
              "      <td>228644.000000</td>\n",
              "      <td>10913774</td>\n",
              "      <td>12015920</td>\n",
              "    </tr>\n",
              "    <tr>\n",
              "      <th>unique</th>\n",
              "      <td>13508117</td>\n",
              "      <td>10403925</td>\n",
              "      <td>NaN</td>\n",
              "      <td>NaN</td>\n",
              "      <td>22874</td>\n",
              "      <td>5646697</td>\n",
              "    </tr>\n",
              "    <tr>\n",
              "      <th>top</th>\n",
              "      <td>nm0000001</td>\n",
              "      <td>Alex</td>\n",
              "      <td>NaN</td>\n",
              "      <td>NaN</td>\n",
              "      <td>actor</td>\n",
              "      <td>tt0123338</td>\n",
              "    </tr>\n",
              "    <tr>\n",
              "      <th>freq</th>\n",
              "      <td>1</td>\n",
              "      <td>491</td>\n",
              "      <td>NaN</td>\n",
              "      <td>NaN</td>\n",
              "      <td>2405259</td>\n",
              "      <td>8333</td>\n",
              "    </tr>\n",
              "    <tr>\n",
              "      <th>mean</th>\n",
              "      <td>NaN</td>\n",
              "      <td>NaN</td>\n",
              "      <td>1953.351315</td>\n",
              "      <td>1993.092244</td>\n",
              "      <td>NaN</td>\n",
              "      <td>NaN</td>\n",
              "    </tr>\n",
              "    <tr>\n",
              "      <th>std</th>\n",
              "      <td>NaN</td>\n",
              "      <td>NaN</td>\n",
              "      <td>35.544449</td>\n",
              "      <td>36.615123</td>\n",
              "      <td>NaN</td>\n",
              "      <td>NaN</td>\n",
              "    </tr>\n",
              "    <tr>\n",
              "      <th>min</th>\n",
              "      <td>NaN</td>\n",
              "      <td>NaN</td>\n",
              "      <td>4.000000</td>\n",
              "      <td>17.000000</td>\n",
              "      <td>NaN</td>\n",
              "      <td>NaN</td>\n",
              "    </tr>\n",
              "    <tr>\n",
              "      <th>25%</th>\n",
              "      <td>NaN</td>\n",
              "      <td>NaN</td>\n",
              "      <td>1932.000000</td>\n",
              "      <td>1979.000000</td>\n",
              "      <td>NaN</td>\n",
              "      <td>NaN</td>\n",
              "    </tr>\n",
              "    <tr>\n",
              "      <th>50%</th>\n",
              "      <td>NaN</td>\n",
              "      <td>NaN</td>\n",
              "      <td>1960.000000</td>\n",
              "      <td>2001.000000</td>\n",
              "      <td>NaN</td>\n",
              "      <td>NaN</td>\n",
              "    </tr>\n",
              "    <tr>\n",
              "      <th>75%</th>\n",
              "      <td>NaN</td>\n",
              "      <td>NaN</td>\n",
              "      <td>1979.000000</td>\n",
              "      <td>2015.000000</td>\n",
              "      <td>NaN</td>\n",
              "      <td>NaN</td>\n",
              "    </tr>\n",
              "    <tr>\n",
              "      <th>max</th>\n",
              "      <td>NaN</td>\n",
              "      <td>NaN</td>\n",
              "      <td>2023.000000</td>\n",
              "      <td>2024.000000</td>\n",
              "      <td>NaN</td>\n",
              "      <td>NaN</td>\n",
              "    </tr>\n",
              "  </tbody>\n",
              "</table>\n",
              "</div>"
            ],
            "text/plain": [
              "           nconst primaryName      birthYear      deathYear primaryProfession  \\\n",
              "count    13508117    13508061  615137.000000  228644.000000          10913774   \n",
              "unique   13508117    10403925            NaN            NaN             22874   \n",
              "top     nm0000001        Alex            NaN            NaN             actor   \n",
              "freq            1         491            NaN            NaN           2405259   \n",
              "mean          NaN         NaN    1953.351315    1993.092244               NaN   \n",
              "std           NaN         NaN      35.544449      36.615123               NaN   \n",
              "min           NaN         NaN       4.000000      17.000000               NaN   \n",
              "25%           NaN         NaN    1932.000000    1979.000000               NaN   \n",
              "50%           NaN         NaN    1960.000000    2001.000000               NaN   \n",
              "75%           NaN         NaN    1979.000000    2015.000000               NaN   \n",
              "max           NaN         NaN    2023.000000    2024.000000               NaN   \n",
              "\n",
              "       knownForTitles  \n",
              "count        12015920  \n",
              "unique        5646697  \n",
              "top         tt0123338  \n",
              "freq             8333  \n",
              "mean              NaN  \n",
              "std               NaN  \n",
              "min               NaN  \n",
              "25%               NaN  \n",
              "50%               NaN  \n",
              "75%               NaN  \n",
              "max               NaN  "
            ]
          },
          "execution_count": 7,
          "metadata": {},
          "output_type": "execute_result"
        }
      ],
      "source": [
        "df.describe(include='all')"
      ]
    },
    {
      "cell_type": "markdown",
      "metadata": {
        "id": "xYC_BIHGZhjE"
      },
      "source": [
        "### Valeurs manquantes"
      ]
    },
    {
      "cell_type": "code",
      "execution_count": 9,
      "metadata": {
        "id": "h9JacT24ZhjE",
        "outputId": "b13213d3-3804-4468-a4a1-d41931b0c1bc"
      },
      "outputs": [
        {
          "data": {
            "text/plain": [
              "nconst                0.000000\n",
              "primaryName           0.000415\n",
              "birthYear            95.446168\n",
              "deathYear            98.307358\n",
              "primaryProfession    19.205808\n",
              "knownForTitles       11.046669\n",
              "dtype: float64"
            ]
          },
          "execution_count": 9,
          "metadata": {},
          "output_type": "execute_result"
        }
      ],
      "source": [
        "df.isna().sum()  / len(df) * 100"
      ]
    },
    {
      "cell_type": "markdown",
      "metadata": {
        "id": "vKhBqoraZhjF"
      },
      "source": [
        "<span style=\"font-size: 16px;\"><b>Remarques :</b><br><br>\n",
        "Les colonnes \"birthYear\" et \"deathYear\" possèdent 95% de valeurs manquantes. En conséquence, ces colonnes pourraient être retirées du DataFrame.\n",
        "</span>"
      ]
    },
    {
      "cell_type": "markdown",
      "metadata": {
        "id": "xyxLLJVpZhjF"
      },
      "source": [
        "### Valeurs dupliquées"
      ]
    },
    {
      "cell_type": "code",
      "execution_count": 9,
      "metadata": {
        "id": "XAop6uHrZhjF",
        "outputId": "58b939b0-4a76-40e9-f680-965fa8cd5c00"
      },
      "outputs": [
        {
          "name": "stdout",
          "output_type": "stream",
          "text": [
            "Ce jeu de données a 0 valeur(s) dupliquée(s).\n"
          ]
        }
      ],
      "source": [
        "print(f\"Ce jeu de données a {df.duplicated().values.sum()} valeur(s) dupliquée(s).\")"
      ]
    }
  ],
  "metadata": {
    "colab": {
      "provenance": []
    },
    "kernelspec": {
      "display_name": "Python 3 (ipykernel)",
      "language": "python",
      "name": "python3"
    },
    "language_info": {
      "codemirror_mode": {
        "name": "ipython",
        "version": 3
      },
      "file_extension": ".py",
      "mimetype": "text/x-python",
      "name": "python",
      "nbconvert_exporter": "python",
      "pygments_lexer": "ipython3",
      "version": "3.11.2"
    }
  },
  "nbformat": 4,
  "nbformat_minor": 0
}
