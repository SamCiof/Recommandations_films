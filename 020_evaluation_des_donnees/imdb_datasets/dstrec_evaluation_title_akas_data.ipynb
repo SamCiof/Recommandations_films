{
  "cells": [
    {
      "cell_type": "markdown",
      "metadata": {
        "id": "8hiZyS3VZhit"
      },
      "source": [
        "# <div style='color:white;background: #005792;text-align: center;padding: 15px 0'>Recommandations - Evaluation de la source de données Title akas</div>"
      ]
    },
    {
      "cell_type": "markdown",
      "metadata": {
        "id": "dN4m4ihiZhiy"
      },
      "source": [
        "## Participants\n",
        "* Samantha\n",
        "* Rachelle\n",
        "* Andrew\n",
        "\n",
        "\n",
        "## Résumé des observations\n",
        "\n",
        "Ce jeu de données comprend 8 colonnes et 48 459 150 lignes, et il n'y a aucune valeur dupliquée dans les données.\n",
        "Cependant, certaines colonnes contiennent des valeurs manquantes.\n",
        "\n",
        "A première vue les données de ce jeu de données n'apporteront pas de plus value pour la modèle de machine learning.\n",
        "En outre, les colonnes qui fournissent des informations supplémentaires aux films contiennent énorméments de valeurs manquantes."
      ]
    },
    {
      "cell_type": "markdown",
      "metadata": {
        "id": "487PHFGsZhi1"
      },
      "source": [
        "## <div style='background: #005792;text-align: center;padding: 15px 0'> <a style= 'color:white;' >Configuration des variables globales</a></div>"
      ]
    },
    {
      "cell_type": "markdown",
      "metadata": {
        "id": "8ae4VWFdZhi2"
      },
      "source": [
        "### Installation des librairies"
      ]
    },
    {
      "cell_type": "code",
      "execution_count": 25,
      "metadata": {
        "id": "uhLrAs-7Zhi2"
      },
      "outputs": [],
      "source": [
        "# !pip install pandas\n",
        "# !pip install numpy\n",
        "# !pip install matplotlib\n",
        "# !pip install seaborn\n",
        "# !pip install plotly-express\n",
        "# !pip install plotly"
      ]
    },
    {
      "cell_type": "markdown",
      "metadata": {
        "id": "f_XiTil4Zhi2"
      },
      "source": [
        "### Importation des librairies"
      ]
    },
    {
      "cell_type": "code",
      "execution_count": 2,
      "metadata": {
        "id": "3je4ZMXkZhi3"
      },
      "outputs": [],
      "source": [
        "import os\n",
        "import warnings\n",
        "warnings.filterwarnings('ignore')\n",
        "\n",
        "import pandas as pd\n",
        "import numpy as np\n",
        "\n",
        "import seaborn as sns\n",
        "import matplotlib.pyplot as plt\n",
        "\n",
        "import re"
      ]
    },
    {
      "cell_type": "markdown",
      "metadata": {
        "id": "TTC4IUJUZhi3"
      },
      "source": [
        "### Chargement des fichiers"
      ]
    },
    {
      "cell_type": "code",
      "execution_count": 3,
      "metadata": {
        "id": "5opNmQvWZhi4"
      },
      "outputs": [],
      "source": [
        "source_dir= '/home/dstrec/dstrec/010_data/000_source/imdb_datasets'\n",
        "name_file= 'title.akas.tsv'\n",
        "file_path= f\"{source_dir}/{name_file}\""
      ]
    },
    {
      "cell_type": "markdown",
      "metadata": {
        "id": "obzB-XlHZhi4"
      },
      "source": [
        "### Chargement des jeux de données"
      ]
    },
    {
      "cell_type": "code",
      "execution_count": 15,
      "metadata": {},
      "outputs": [
        {
          "name": "stdout",
          "output_type": "stream",
          "text": [
            "48459150 /home/dstrec/dstrec/00_data_source/imdb_datasets/title.akas.tsv\n"
          ]
        }
      ],
      "source": [
        "!wc -l '/home/dstrec/dstrec/010_data/000_source/imdb_datasets/title.akas.tsv'"
      ]
    },
    {
      "cell_type": "code",
      "execution_count": 4,
      "metadata": {
        "id": "hGVkrMmZZhi4"
      },
      "outputs": [],
      "source": [
        "df= pd.read_csv(file_path, sep='\\t', na_values='\\\\N', low_memory=False, nrows=20000000) "
      ]
    },
    {
      "cell_type": "markdown",
      "metadata": {
        "id": "F_z_3pwMZhi5"
      },
      "source": [
        "### Configuration des variables"
      ]
    },
    {
      "cell_type": "code",
      "execution_count": null,
      "metadata": {
        "id": "zinAKVPwZhi5"
      },
      "outputs": [],
      "source": []
    },
    {
      "cell_type": "markdown",
      "metadata": {
        "id": "VSrjQaLwZhi5"
      },
      "source": [
        "### Configuration des fonctions"
      ]
    },
    {
      "cell_type": "code",
      "execution_count": null,
      "metadata": {
        "id": "s-R412ctZhi6"
      },
      "outputs": [],
      "source": []
    },
    {
      "cell_type": "markdown",
      "metadata": {
        "id": "7ec1Yg2QZhi6"
      },
      "source": [
        "## <div style='background: #005792;text-align: center;padding: 15px 0'> <a style= 'color:white;' >Evaluation des données</a></div>"
      ]
    },
    {
      "cell_type": "markdown",
      "metadata": {
        "id": "AuATrZ5RZhi-"
      },
      "source": [
        "### Affichage du jeu de données"
      ]
    },
    {
      "cell_type": "code",
      "execution_count": 5,
      "metadata": {
        "id": "ZgxNrQjxZhi-",
        "outputId": "9550434a-fee3-46e3-cbaa-aaf0e3698432"
      },
      "outputs": [
        {
          "data": {
            "text/html": [
              "<div>\n",
              "<style scoped>\n",
              "    .dataframe tbody tr th:only-of-type {\n",
              "        vertical-align: middle;\n",
              "    }\n",
              "\n",
              "    .dataframe tbody tr th {\n",
              "        vertical-align: top;\n",
              "    }\n",
              "\n",
              "    .dataframe thead th {\n",
              "        text-align: right;\n",
              "    }\n",
              "</style>\n",
              "<table border=\"1\" class=\"dataframe\">\n",
              "  <thead>\n",
              "    <tr style=\"text-align: right;\">\n",
              "      <th></th>\n",
              "      <th>titleId</th>\n",
              "      <th>ordering</th>\n",
              "      <th>title</th>\n",
              "      <th>region</th>\n",
              "      <th>language</th>\n",
              "      <th>types</th>\n",
              "      <th>attributes</th>\n",
              "      <th>isOriginalTitle</th>\n",
              "    </tr>\n",
              "  </thead>\n",
              "  <tbody>\n",
              "    <tr>\n",
              "      <th>0</th>\n",
              "      <td>tt0000001</td>\n",
              "      <td>1</td>\n",
              "      <td>Carmencita</td>\n",
              "      <td>NaN</td>\n",
              "      <td>NaN</td>\n",
              "      <td>original</td>\n",
              "      <td>NaN</td>\n",
              "      <td>1</td>\n",
              "    </tr>\n",
              "    <tr>\n",
              "      <th>1</th>\n",
              "      <td>tt0000001</td>\n",
              "      <td>2</td>\n",
              "      <td>Carmencita</td>\n",
              "      <td>DE</td>\n",
              "      <td>NaN</td>\n",
              "      <td>NaN</td>\n",
              "      <td>literal title</td>\n",
              "      <td>0</td>\n",
              "    </tr>\n",
              "    <tr>\n",
              "      <th>2</th>\n",
              "      <td>tt0000001</td>\n",
              "      <td>3</td>\n",
              "      <td>Carmencita</td>\n",
              "      <td>US</td>\n",
              "      <td>NaN</td>\n",
              "      <td>imdbDisplay</td>\n",
              "      <td>NaN</td>\n",
              "      <td>0</td>\n",
              "    </tr>\n",
              "    <tr>\n",
              "      <th>3</th>\n",
              "      <td>tt0000001</td>\n",
              "      <td>4</td>\n",
              "      <td>Carmencita - spanyol tánc</td>\n",
              "      <td>HU</td>\n",
              "      <td>NaN</td>\n",
              "      <td>imdbDisplay</td>\n",
              "      <td>NaN</td>\n",
              "      <td>0</td>\n",
              "    </tr>\n",
              "    <tr>\n",
              "      <th>4</th>\n",
              "      <td>tt0000001</td>\n",
              "      <td>5</td>\n",
              "      <td>Καρμενσίτα</td>\n",
              "      <td>GR</td>\n",
              "      <td>NaN</td>\n",
              "      <td>imdbDisplay</td>\n",
              "      <td>NaN</td>\n",
              "      <td>0</td>\n",
              "    </tr>\n",
              "  </tbody>\n",
              "</table>\n",
              "</div>"
            ],
            "text/plain": [
              "     titleId  ordering                      title region language  \\\n",
              "0  tt0000001         1                 Carmencita    NaN      NaN   \n",
              "1  tt0000001         2                 Carmencita     DE      NaN   \n",
              "2  tt0000001         3                 Carmencita     US      NaN   \n",
              "3  tt0000001         4  Carmencita - spanyol tánc     HU      NaN   \n",
              "4  tt0000001         5                 Καρμενσίτα     GR      NaN   \n",
              "\n",
              "         types     attributes  isOriginalTitle  \n",
              "0     original            NaN                1  \n",
              "1          NaN  literal title                0  \n",
              "2  imdbDisplay            NaN                0  \n",
              "3  imdbDisplay            NaN                0  \n",
              "4  imdbDisplay            NaN                0  "
            ]
          },
          "execution_count": 5,
          "metadata": {},
          "output_type": "execute_result"
        }
      ],
      "source": [
        "df.head()"
      ]
    },
    {
      "cell_type": "code",
      "execution_count": 6,
      "metadata": {
        "id": "8_k0DTZUZhjD",
        "outputId": "33a50cd1-b739-4c10-faa5-dd99fc759b6c",
        "scrolled": true
      },
      "outputs": [
        {
          "name": "stdout",
          "output_type": "stream",
          "text": [
            "Ce jeu de données a 8 colonnes et 20000000 lignes.\n"
          ]
        }
      ],
      "source": [
        "print(f\"Ce jeu de données a {df.shape[1]} colonnes et {df.shape[0]} lignes.\")"
      ]
    },
    {
      "cell_type": "markdown",
      "metadata": {
        "id": "PcEwIi6jZhjD"
      },
      "source": [
        "### EDA"
      ]
    },
    {
      "cell_type": "code",
      "execution_count": 7,
      "metadata": {
        "id": "AY17m6TyZhjE",
        "outputId": "805adae9-1206-4109-e663-f20a9e1c802e"
      },
      "outputs": [
        {
          "name": "stdout",
          "output_type": "stream",
          "text": [
            "<class 'pandas.core.frame.DataFrame'>\n",
            "RangeIndex: 20000000 entries, 0 to 19999999\n",
            "Data columns (total 8 columns):\n",
            " #   Column           Dtype \n",
            "---  ------           ----- \n",
            " 0   titleId          object\n",
            " 1   ordering         int64 \n",
            " 2   title            object\n",
            " 3   region           object\n",
            " 4   language         object\n",
            " 5   types            object\n",
            " 6   attributes       object\n",
            " 7   isOriginalTitle  int64 \n",
            "dtypes: int64(2), object(6)\n",
            "memory usage: 1.2+ GB\n"
          ]
        }
      ],
      "source": [
        "df.info()"
      ]
    },
    {
      "cell_type": "markdown",
      "metadata": {
        "id": "BmZyhrIuZhjE"
      },
      "source": [
        "### Statistique descriptives"
      ]
    },
    {
      "cell_type": "code",
      "execution_count": 10,
      "metadata": {
        "id": "d4CXfHpcZhjE",
        "outputId": "b0f63678-f7d2-4083-aaae-7b2dd0561d92"
      },
      "outputs": [
        {
          "data": {
            "text/html": [
              "<div>\n",
              "<style scoped>\n",
              "    .dataframe tbody tr th:only-of-type {\n",
              "        vertical-align: middle;\n",
              "    }\n",
              "\n",
              "    .dataframe tbody tr th {\n",
              "        vertical-align: top;\n",
              "    }\n",
              "\n",
              "    .dataframe thead th {\n",
              "        text-align: right;\n",
              "    }\n",
              "</style>\n",
              "<table border=\"1\" class=\"dataframe\">\n",
              "  <thead>\n",
              "    <tr style=\"text-align: right;\">\n",
              "      <th></th>\n",
              "      <th>titleId</th>\n",
              "      <th>ordering</th>\n",
              "      <th>title</th>\n",
              "      <th>region</th>\n",
              "      <th>language</th>\n",
              "      <th>types</th>\n",
              "      <th>attributes</th>\n",
              "      <th>isOriginalTitle</th>\n",
              "    </tr>\n",
              "  </thead>\n",
              "  <tbody>\n",
              "    <tr>\n",
              "      <th>count</th>\n",
              "      <td>20000000</td>\n",
              "      <td>2.000000e+07</td>\n",
              "      <td>19999991</td>\n",
              "      <td>15600199</td>\n",
              "      <td>12798935</td>\n",
              "      <td>6715073</td>\n",
              "      <td>186881</td>\n",
              "      <td>2.000000e+07</td>\n",
              "    </tr>\n",
              "    <tr>\n",
              "      <th>unique</th>\n",
              "      <td>4357783</td>\n",
              "      <td>NaN</td>\n",
              "      <td>3665680</td>\n",
              "      <td>236</td>\n",
              "      <td>93</td>\n",
              "      <td>23</td>\n",
              "      <td>182</td>\n",
              "      <td>NaN</td>\n",
              "    </tr>\n",
              "    <tr>\n",
              "      <th>top</th>\n",
              "      <td>tt0088814</td>\n",
              "      <td>NaN</td>\n",
              "      <td>Episodio #1.1</td>\n",
              "      <td>FR</td>\n",
              "      <td>ja</td>\n",
              "      <td>original</td>\n",
              "      <td>transliterated title</td>\n",
              "      <td>NaN</td>\n",
              "    </tr>\n",
              "    <tr>\n",
              "      <th>freq</th>\n",
              "      <td>251</td>\n",
              "      <td>NaN</td>\n",
              "      <td>34370</td>\n",
              "      <td>1894066</td>\n",
              "      <td>1812893</td>\n",
              "      <td>4357780</td>\n",
              "      <td>26341</td>\n",
              "      <td>NaN</td>\n",
              "    </tr>\n",
              "    <tr>\n",
              "      <th>mean</th>\n",
              "      <td>NaN</td>\n",
              "      <td>4.561990e+00</td>\n",
              "      <td>NaN</td>\n",
              "      <td>NaN</td>\n",
              "      <td>NaN</td>\n",
              "      <td>NaN</td>\n",
              "      <td>NaN</td>\n",
              "      <td>2.178890e-01</td>\n",
              "    </tr>\n",
              "    <tr>\n",
              "      <th>std</th>\n",
              "      <td>NaN</td>\n",
              "      <td>4.762852e+00</td>\n",
              "      <td>NaN</td>\n",
              "      <td>NaN</td>\n",
              "      <td>NaN</td>\n",
              "      <td>NaN</td>\n",
              "      <td>NaN</td>\n",
              "      <td>4.128116e-01</td>\n",
              "    </tr>\n",
              "    <tr>\n",
              "      <th>min</th>\n",
              "      <td>NaN</td>\n",
              "      <td>1.000000e+00</td>\n",
              "      <td>NaN</td>\n",
              "      <td>NaN</td>\n",
              "      <td>NaN</td>\n",
              "      <td>NaN</td>\n",
              "      <td>NaN</td>\n",
              "      <td>0.000000e+00</td>\n",
              "    </tr>\n",
              "    <tr>\n",
              "      <th>25%</th>\n",
              "      <td>NaN</td>\n",
              "      <td>2.000000e+00</td>\n",
              "      <td>NaN</td>\n",
              "      <td>NaN</td>\n",
              "      <td>NaN</td>\n",
              "      <td>NaN</td>\n",
              "      <td>NaN</td>\n",
              "      <td>0.000000e+00</td>\n",
              "    </tr>\n",
              "    <tr>\n",
              "      <th>50%</th>\n",
              "      <td>NaN</td>\n",
              "      <td>4.000000e+00</td>\n",
              "      <td>NaN</td>\n",
              "      <td>NaN</td>\n",
              "      <td>NaN</td>\n",
              "      <td>NaN</td>\n",
              "      <td>NaN</td>\n",
              "      <td>0.000000e+00</td>\n",
              "    </tr>\n",
              "    <tr>\n",
              "      <th>75%</th>\n",
              "      <td>NaN</td>\n",
              "      <td>6.000000e+00</td>\n",
              "      <td>NaN</td>\n",
              "      <td>NaN</td>\n",
              "      <td>NaN</td>\n",
              "      <td>NaN</td>\n",
              "      <td>NaN</td>\n",
              "      <td>0.000000e+00</td>\n",
              "    </tr>\n",
              "    <tr>\n",
              "      <th>max</th>\n",
              "      <td>NaN</td>\n",
              "      <td>2.510000e+02</td>\n",
              "      <td>NaN</td>\n",
              "      <td>NaN</td>\n",
              "      <td>NaN</td>\n",
              "      <td>NaN</td>\n",
              "      <td>NaN</td>\n",
              "      <td>1.000000e+00</td>\n",
              "    </tr>\n",
              "  </tbody>\n",
              "</table>\n",
              "</div>"
            ],
            "text/plain": [
              "          titleId      ordering          title    region  language     types  \\\n",
              "count    20000000  2.000000e+07       19999991  15600199  12798935   6715073   \n",
              "unique    4357783           NaN        3665680       236        93        23   \n",
              "top     tt0088814           NaN  Episodio #1.1        FR        ja  original   \n",
              "freq          251           NaN          34370   1894066   1812893   4357780   \n",
              "mean          NaN  4.561990e+00            NaN       NaN       NaN       NaN   \n",
              "std           NaN  4.762852e+00            NaN       NaN       NaN       NaN   \n",
              "min           NaN  1.000000e+00            NaN       NaN       NaN       NaN   \n",
              "25%           NaN  2.000000e+00            NaN       NaN       NaN       NaN   \n",
              "50%           NaN  4.000000e+00            NaN       NaN       NaN       NaN   \n",
              "75%           NaN  6.000000e+00            NaN       NaN       NaN       NaN   \n",
              "max           NaN  2.510000e+02            NaN       NaN       NaN       NaN   \n",
              "\n",
              "                  attributes  isOriginalTitle  \n",
              "count                 186881     2.000000e+07  \n",
              "unique                   182              NaN  \n",
              "top     transliterated title              NaN  \n",
              "freq                   26341              NaN  \n",
              "mean                     NaN     2.178890e-01  \n",
              "std                      NaN     4.128116e-01  \n",
              "min                      NaN     0.000000e+00  \n",
              "25%                      NaN     0.000000e+00  \n",
              "50%                      NaN     0.000000e+00  \n",
              "75%                      NaN     0.000000e+00  \n",
              "max                      NaN     1.000000e+00  "
            ]
          },
          "execution_count": 10,
          "metadata": {},
          "output_type": "execute_result"
        }
      ],
      "source": [
        "df.describe(include='all')"
      ]
    },
    {
      "cell_type": "markdown",
      "metadata": {
        "id": "xYC_BIHGZhjE"
      },
      "source": [
        "### Valeurs manquantes"
      ]
    },
    {
      "cell_type": "code",
      "execution_count": 11,
      "metadata": {
        "id": "h9JacT24ZhjE",
        "outputId": "b13213d3-3804-4468-a4a1-d41931b0c1bc"
      },
      "outputs": [
        {
          "data": {
            "text/plain": [
              "titleId             0.000000\n",
              "ordering            0.000000\n",
              "title               0.000045\n",
              "region             21.999005\n",
              "language           36.005325\n",
              "types              66.424635\n",
              "attributes         99.065595\n",
              "isOriginalTitle     0.000000\n",
              "dtype: float64"
            ]
          },
          "execution_count": 11,
          "metadata": {},
          "output_type": "execute_result"
        }
      ],
      "source": [
        "df.isna().sum()  / len(df) * 100"
      ]
    },
    {
      "cell_type": "markdown",
      "metadata": {
        "id": "xyxLLJVpZhjF"
      },
      "source": [
        "### Valeurs dupliquées"
      ]
    },
    {
      "cell_type": "code",
      "execution_count": 12,
      "metadata": {
        "id": "XAop6uHrZhjF",
        "outputId": "58b939b0-4a76-40e9-f680-965fa8cd5c00"
      },
      "outputs": [
        {
          "name": "stdout",
          "output_type": "stream",
          "text": [
            "Ce jeu de données a 0 valeur(s) dupliquée(s).\n"
          ]
        }
      ],
      "source": [
        "print(f\"Ce jeu de données a {df.duplicated().values.sum()} valeur(s) dupliquée(s).\")"
      ]
    },
    {
      "cell_type": "markdown",
      "metadata": {},
      "source": [
        "### Valeurs uniques"
      ]
    },
    {
      "cell_type": "code",
      "execution_count": 8,
      "metadata": {},
      "outputs": [
        {
          "data": {
            "text/plain": [
              "array([nan, 'literal title', 'literal English title',\n",
              "       'informal alternative title', 'promotional title',\n",
              "       'complete title', 'reissue title', 'informal title',\n",
              "       'premiere title', 'short title', 'première title',\n",
              "       'bowdlerized title', 'informal English title',\n",
              "       'alternative spelling', 'original script title', 'copyright title',\n",
              "       'long title', 'transliterated title', 'informal short title',\n",
              "       'new title', 'review title', 'subtitle',\n",
              "       'original subtitled version', 'informal literal title',\n",
              "       'orthographically correct title', 'cut version',\n",
              "       'pre-release title', 'video catalogue title', 'second part title',\n",
              "       'third part title', 'fifth season title', 'fourth season title',\n",
              "       'series title', 'poster title', 'rerun title', '8mm release title',\n",
              "       'recut version', 'theatrical title', '16mm release title',\n",
              "       'first part title', 'informal literal English title',\n",
              "       'first episode title', 'segment title',\n",
              "       'Los Angeles première title', 'DVD box title',\n",
              "       'second copyright title', 'alternative transliteration',\n",
              "       'short version', 'video box title', 'restored version',\n",
              "       'IMAX version', 'english transliteration',\n",
              "       'reissue title\\x02recut version',\n",
              "       '8mm release title\\x02short version', 'DVD menu title',\n",
              "       'anthology series', 'censored version', 'trailer title',\n",
              "       'silent version', 'Berlin film festival title',\n",
              "       'Cannes festival title', 'dubbed version',\n",
              "       'reissue title\\x02added framing sequences and narration in Yiddish',\n",
              "       'bootleg title', 'Bable dialect title',\n",
              "       'Venice film festival title', 'reissue title\\x02Yiddish dubbed',\n",
              "       'cable TV title', 'uncensored intended title',\n",
              "       'literal translation of working title', 'last season title',\n",
              "       'Yiddish dubbed', 'TV listings title', 'YIVO translation',\n",
              "       'modern translation', 'long new title', \"director's cut\",\n",
              "       'video box title\\x02POLart', 'POLart',\n",
              "       'reissue title\\x02cut version',\n",
              "       'reissue title\\x02YIVO translation', 'racier version',\n",
              "       'redubbed comic version', '3-D version', 'syndication title',\n",
              "       'fake working title', 'closing credits title',\n",
              "       'armed forces circuit title', 'reissue title\\x02short version',\n",
              "       'unauthorized video title', 'first season title', 'summer title',\n",
              "       'longer version', 'second season title', 'sixth season title',\n",
              "       'first episodes title', 'Pay-TV title', 'tenth season title',\n",
              "       'MIFED title', '3-D video title', 'literal French title',\n",
              "       'third and fourth season title', 'videogame episode',\n",
              "       'new syndication title', 'promotional abbreviation',\n",
              "       'ninth season title', 'eighth season title', 'X-rated version',\n",
              "       'expansion title', 'correct transliteration', '16mm rental title',\n",
              "       'Los Angeles premiere title', 'fourteenth season title',\n",
              "       'teaser title', 'daytime version title', 'seventh season title',\n",
              "       'third season title', 'video CD title', 'LD title',\n",
              "       'soft porn version', 'video box title\\x02cut version',\n",
              "       'reissue title\\x02racier version',\n",
              "       'second part title\\x028mm release title', 'weekend title',\n",
              "       'English translation of working title', 'fifteenth season title',\n",
              "       'twentieth season title', 'twentyfifth season title',\n",
              "       'fourth part title', 'thirtysecond season title',\n",
              "       'informal title\\x02literal title', 'cable TV title\\x02cut version',\n",
              "       'twentyfirst season title',\n",
              "       'closing credits title\\x02pre-release title',\n",
              "       'non-modified Hepburn romanization', 'Locarno film festival title',\n",
              "       'eleventh season title', 'thirtythird season title',\n",
              "       'rerun title\\x02longer version', 'eighteenth season title',\n",
              "       'thirtieth season title', 'sixteenth season title',\n",
              "       'twelfth season title', 'thirteenth season title',\n",
              "       'thirtyfirst season title', 'twentysecond season title',\n",
              "       'twentythird season title', 'seventeenth season title',\n",
              "       'twentyseventh season title', 'nineteenth season title',\n",
              "       'game box title', 'title for episodes with guest hosts',\n",
              "       'approximation of original mirrored title',\n",
              "       'IMAX version\\x02promotional title', 'twentyfourth season title',\n",
              "       'twentysixth season title', 'bootleg title\\x02X-rated version',\n",
              "       'poster title\\x02video box title',\n",
              "       'dubbed version\\x02recut version', 'twentyninth season title',\n",
              "       'thirtyfourth season title',\n",
              "       'American Mutoscope & Biograph catalog title',\n",
              "       'twentyeighth season title', 'thirtyninth season title',\n",
              "       'thirtyfifth season title', 'thirtysixth season title',\n",
              "       'thirtyeighth season title', 'R-rated version',\n",
              "       'original pilot title', 'thirtyseventh season title',\n",
              "       'fortieth season title', 'Hakka dialect title',\n",
              "       'Bilbao festival title',\n",
              "       'thirteenth season title\\x02promotional title',\n",
              "       'video box title\\x02orthographically correct title',\n",
              "       'late Sunday edition', 'PC version',\n",
              "       'fourth season title\\x02recut version', 'GameCube version',\n",
              "       'first segment title', 'third segment title',\n",
              "       'second segment title', 'fifth part title'], dtype=object)"
            ]
          },
          "execution_count": 8,
          "metadata": {},
          "output_type": "execute_result"
        }
      ],
      "source": [
        "df['attributes'].unique()"
      ]
    },
    {
      "cell_type": "code",
      "execution_count": 9,
      "metadata": {},
      "outputs": [
        {
          "data": {
            "text/plain": [
              "array(['original', nan, 'imdbDisplay', 'alternative', 'festival', 'dvd',\n",
              "       'working', 'tv', 'video', 'imdbDisplay\\x02tv', 'alternative\\x02tv',\n",
              "       'imdbDisplay\\x02working', 'imdbDisplay\\x02festival',\n",
              "       'working\\x02tv', 'imdbDisplay\\x02video', 'dvd\\x02alternative',\n",
              "       'tv\\x02video', 'imdbDisplay\\x02dvd', 'working\\x02video',\n",
              "       'working\\x02festival', 'dvd\\x02video', 'alternative\\x02festival',\n",
              "       'alternative\\x02video', 'working\\x02alternative'], dtype=object)"
            ]
          },
          "execution_count": 9,
          "metadata": {},
          "output_type": "execute_result"
        }
      ],
      "source": [
        "df['types'].unique()"
      ]
    }
  ],
  "metadata": {
    "colab": {
      "provenance": []
    },
    "kernelspec": {
      "display_name": "Python 3 (ipykernel)",
      "language": "python",
      "name": "python3"
    },
    "language_info": {
      "codemirror_mode": {
        "name": "ipython",
        "version": 3
      },
      "file_extension": ".py",
      "mimetype": "text/x-python",
      "name": "python",
      "nbconvert_exporter": "python",
      "pygments_lexer": "ipython3",
      "version": "3.11.2"
    }
  },
  "nbformat": 4,
  "nbformat_minor": 0
}
