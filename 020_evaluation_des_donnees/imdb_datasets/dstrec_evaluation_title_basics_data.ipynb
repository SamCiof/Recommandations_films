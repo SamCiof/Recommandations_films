{
  "cells": [
    {
      "cell_type": "markdown",
      "metadata": {
        "id": "8hiZyS3VZhit"
      },
      "source": [
        "# <div style='color:white;background: #005792;text-align: center;padding: 15px 0'>Recommandations - Evaluation de la source de données Title basics</div>"
      ]
    },
    {
      "cell_type": "markdown",
      "metadata": {
        "id": "dN4m4ihiZhiy"
      },
      "source": [
        "## Participants\n",
        "* Samantha\n",
        "* Rachelle\n",
        "* Andrew\n",
        "\n",
        "\n",
        "## Résumé des observations\n",
        "\n",
        "Ce jeu de données comprend 9 colonnes et 48 459 150 lignes et contient des valeurs manquantes et dubliquées.\n",
        "En particulier, les colonnes `endYear` et `runtimeMinutes` ont environ 70% de valeurs manquantes.\n",
        "\n",
        "### Anomalie\n",
        "\n",
        "Les colonnes suivantes sont dans un mauvais typage : \n",
        "* isAdult \n",
        "* startYear\n",
        "* endYear \n",
        "\n",
        "\n",
        "### Colonnes à supprimer\n",
        "\n",
        "* `originalTitle` 98.6% de ses valeurs sont similaires à la colonne `primaryTitle`\n",
        "* `startYear` n'apporte pas de plus-value pour la suite\n",
        "* `endYear` possèdent 70% de valeurs manquantes\n",
        "* `runtimeMinutes` possèdent 70% de valeurs manquantes\n",
        "\n",
        "\n",
        "### Colonnes à conserver\n",
        "\n",
        "* `tconst` a conservé jusqu'à la fusion complète des données de IMDb\n",
        "* `titleType` permet de savoir le type de vidéos à cibler par la suite\n",
        "* `primaryTitle` cette dernière est plus utilisé par les cinéastes et les valeurs de cette colonne représentent le titre le plus connu par les spectateurs.\n",
        "* `genres` pour déterminer le genre du film\n",
        "\n",
        "### Transformation\n",
        "\n",
        "* Modifier le typage de la colonne `isAdult`\n",
        "* Incorporer les valeurs positives de la colonne `isAdult`  en un type de genre dans la colonne `genres`\n",
        "* Supprimer la colonne `isAdult`"
      ]
    },
    {
      "cell_type": "markdown",
      "metadata": {
        "id": "487PHFGsZhi1"
      },
      "source": [
        "## <div style='background: #005792;text-align: center;padding: 15px 0'> <a style= 'color:white;' >Configuration des variables globales</a></div>"
      ]
    },
    {
      "cell_type": "markdown",
      "metadata": {
        "id": "8ae4VWFdZhi2"
      },
      "source": [
        "### Installation des librairies"
      ]
    },
    {
      "cell_type": "code",
      "execution_count": 25,
      "metadata": {
        "id": "uhLrAs-7Zhi2"
      },
      "outputs": [],
      "source": [
        "# !pip install pandas\n",
        "# !pip install numpy\n",
        "# !pip install matplotlib\n",
        "# !pip install seaborn\n",
        "# !pip install plotly-express\n",
        "# !pip install plotly"
      ]
    },
    {
      "cell_type": "markdown",
      "metadata": {
        "id": "f_XiTil4Zhi2"
      },
      "source": [
        "### Importation des librairies"
      ]
    },
    {
      "cell_type": "code",
      "execution_count": 1,
      "metadata": {
        "id": "3je4ZMXkZhi3"
      },
      "outputs": [],
      "source": [
        "import os\n",
        "import warnings\n",
        "warnings.filterwarnings('ignore')\n",
        "\n",
        "import pandas as pd\n",
        "import numpy as np\n",
        "\n",
        "import seaborn as sns\n",
        "import matplotlib.pyplot as plt\n",
        "\n",
        "import re"
      ]
    },
    {
      "cell_type": "markdown",
      "metadata": {
        "id": "TTC4IUJUZhi3"
      },
      "source": [
        "### Chargement des fichiers"
      ]
    },
    {
      "cell_type": "code",
      "execution_count": 2,
      "metadata": {
        "id": "5opNmQvWZhi4"
      },
      "outputs": [],
      "source": [
        "source_dir= '/home/dstrec/dstrec/010_data/000_source/imdb_datasets'\n",
        "name_file= 'title.basics.tsv'\n",
        "file_path= f\"{source_dir}/{name_file}\""
      ]
    },
    {
      "cell_type": "markdown",
      "metadata": {
        "id": "obzB-XlHZhi4"
      },
      "source": [
        "### Chargement des jeux de données"
      ]
    },
    {
      "cell_type": "code",
      "execution_count": 3,
      "metadata": {
        "id": "hGVkrMmZZhi4"
      },
      "outputs": [],
      "source": [
        "df= pd.read_csv(file_path, sep='\\t', na_values='\\\\N', low_memory=False)"
      ]
    },
    {
      "cell_type": "markdown",
      "metadata": {
        "id": "F_z_3pwMZhi5"
      },
      "source": [
        "### Configuration des variables"
      ]
    },
    {
      "cell_type": "code",
      "execution_count": null,
      "metadata": {
        "id": "zinAKVPwZhi5"
      },
      "outputs": [],
      "source": []
    },
    {
      "cell_type": "markdown",
      "metadata": {
        "id": "VSrjQaLwZhi5"
      },
      "source": [
        "### Configuration des fonctions"
      ]
    },
    {
      "cell_type": "code",
      "execution_count": null,
      "metadata": {
        "id": "s-R412ctZhi6"
      },
      "outputs": [],
      "source": []
    },
    {
      "cell_type": "markdown",
      "metadata": {
        "id": "7ec1Yg2QZhi6"
      },
      "source": [
        "## <div style='background: #005792;text-align: center;padding: 15px 0'> <a style= 'color:white;' >Evaluation des données</a></div>"
      ]
    },
    {
      "cell_type": "markdown",
      "metadata": {
        "id": "AuATrZ5RZhi-"
      },
      "source": [
        "### Affichage du jeu de données"
      ]
    },
    {
      "cell_type": "code",
      "execution_count": 4,
      "metadata": {
        "id": "ZgxNrQjxZhi-",
        "outputId": "9550434a-fee3-46e3-cbaa-aaf0e3698432"
      },
      "outputs": [
        {
          "data": {
            "text/html": [
              "<div>\n",
              "<style scoped>\n",
              "    .dataframe tbody tr th:only-of-type {\n",
              "        vertical-align: middle;\n",
              "    }\n",
              "\n",
              "    .dataframe tbody tr th {\n",
              "        vertical-align: top;\n",
              "    }\n",
              "\n",
              "    .dataframe thead th {\n",
              "        text-align: right;\n",
              "    }\n",
              "</style>\n",
              "<table border=\"1\" class=\"dataframe\">\n",
              "  <thead>\n",
              "    <tr style=\"text-align: right;\">\n",
              "      <th></th>\n",
              "      <th>tconst</th>\n",
              "      <th>titleType</th>\n",
              "      <th>primaryTitle</th>\n",
              "      <th>originalTitle</th>\n",
              "      <th>isAdult</th>\n",
              "      <th>startYear</th>\n",
              "      <th>endYear</th>\n",
              "      <th>runtimeMinutes</th>\n",
              "      <th>genres</th>\n",
              "    </tr>\n",
              "  </thead>\n",
              "  <tbody>\n",
              "    <tr>\n",
              "      <th>0</th>\n",
              "      <td>tt0000001</td>\n",
              "      <td>short</td>\n",
              "      <td>Carmencita</td>\n",
              "      <td>Carmencita</td>\n",
              "      <td>0.0</td>\n",
              "      <td>1894.0</td>\n",
              "      <td>NaN</td>\n",
              "      <td>1</td>\n",
              "      <td>Documentary,Short</td>\n",
              "    </tr>\n",
              "    <tr>\n",
              "      <th>1</th>\n",
              "      <td>tt0000002</td>\n",
              "      <td>short</td>\n",
              "      <td>Le clown et ses chiens</td>\n",
              "      <td>Le clown et ses chiens</td>\n",
              "      <td>0.0</td>\n",
              "      <td>1892.0</td>\n",
              "      <td>NaN</td>\n",
              "      <td>5</td>\n",
              "      <td>Animation,Short</td>\n",
              "    </tr>\n",
              "    <tr>\n",
              "      <th>2</th>\n",
              "      <td>tt0000003</td>\n",
              "      <td>short</td>\n",
              "      <td>Pauvre Pierrot</td>\n",
              "      <td>Pauvre Pierrot</td>\n",
              "      <td>0.0</td>\n",
              "      <td>1892.0</td>\n",
              "      <td>NaN</td>\n",
              "      <td>5</td>\n",
              "      <td>Animation,Comedy,Romance</td>\n",
              "    </tr>\n",
              "    <tr>\n",
              "      <th>3</th>\n",
              "      <td>tt0000004</td>\n",
              "      <td>short</td>\n",
              "      <td>Un bon bock</td>\n",
              "      <td>Un bon bock</td>\n",
              "      <td>0.0</td>\n",
              "      <td>1892.0</td>\n",
              "      <td>NaN</td>\n",
              "      <td>12</td>\n",
              "      <td>Animation,Short</td>\n",
              "    </tr>\n",
              "    <tr>\n",
              "      <th>4</th>\n",
              "      <td>tt0000005</td>\n",
              "      <td>short</td>\n",
              "      <td>Blacksmith Scene</td>\n",
              "      <td>Blacksmith Scene</td>\n",
              "      <td>0.0</td>\n",
              "      <td>1893.0</td>\n",
              "      <td>NaN</td>\n",
              "      <td>1</td>\n",
              "      <td>Comedy,Short</td>\n",
              "    </tr>\n",
              "  </tbody>\n",
              "</table>\n",
              "</div>"
            ],
            "text/plain": [
              "      tconst titleType            primaryTitle           originalTitle  \\\n",
              "0  tt0000001     short              Carmencita              Carmencita   \n",
              "1  tt0000002     short  Le clown et ses chiens  Le clown et ses chiens   \n",
              "2  tt0000003     short          Pauvre Pierrot          Pauvre Pierrot   \n",
              "3  tt0000004     short             Un bon bock             Un bon bock   \n",
              "4  tt0000005     short        Blacksmith Scene        Blacksmith Scene   \n",
              "\n",
              "   isAdult  startYear  endYear runtimeMinutes                    genres  \n",
              "0      0.0     1894.0      NaN              1         Documentary,Short  \n",
              "1      0.0     1892.0      NaN              5           Animation,Short  \n",
              "2      0.0     1892.0      NaN              5  Animation,Comedy,Romance  \n",
              "3      0.0     1892.0      NaN             12           Animation,Short  \n",
              "4      0.0     1893.0      NaN              1              Comedy,Short  "
            ]
          },
          "execution_count": 4,
          "metadata": {},
          "output_type": "execute_result"
        }
      ],
      "source": [
        "df.head()"
      ]
    },
    {
      "cell_type": "code",
      "execution_count": 5,
      "metadata": {
        "id": "8_k0DTZUZhjD",
        "outputId": "33a50cd1-b739-4c10-faa5-dd99fc759b6c",
        "scrolled": true
      },
      "outputs": [
        {
          "name": "stdout",
          "output_type": "stream",
          "text": [
            "Ce jeu de données a 9 colonnes et 10790736 lignes.\n"
          ]
        }
      ],
      "source": [
        "print(f\"Ce jeu de données a {df.shape[1]} colonnes et {df.shape[0]} lignes.\")"
      ]
    },
    {
      "cell_type": "markdown",
      "metadata": {
        "id": "PcEwIi6jZhjD"
      },
      "source": [
        "### EDA"
      ]
    },
    {
      "cell_type": "code",
      "execution_count": 6,
      "metadata": {
        "id": "AY17m6TyZhjE",
        "outputId": "805adae9-1206-4109-e663-f20a9e1c802e"
      },
      "outputs": [
        {
          "name": "stdout",
          "output_type": "stream",
          "text": [
            "<class 'pandas.core.frame.DataFrame'>\n",
            "RangeIndex: 10790736 entries, 0 to 10790735\n",
            "Data columns (total 9 columns):\n",
            " #   Column          Dtype  \n",
            "---  ------          -----  \n",
            " 0   tconst          object \n",
            " 1   titleType       object \n",
            " 2   primaryTitle    object \n",
            " 3   originalTitle   object \n",
            " 4   isAdult         float64\n",
            " 5   startYear       float64\n",
            " 6   endYear         float64\n",
            " 7   runtimeMinutes  object \n",
            " 8   genres          object \n",
            "dtypes: float64(3), object(6)\n",
            "memory usage: 740.9+ MB\n"
          ]
        }
      ],
      "source": [
        "df.info()"
      ]
    },
    {
      "cell_type": "markdown",
      "metadata": {},
      "source": [
        "<span style=\"font-size: 16px;\"><b>Remarques :</b><br><br>\n",
        "Le typage des colonnes suivantes sont incorrect : \n",
        "* isAdult         float64    => boolean\n",
        "* startYear       float64    => date\n",
        "* endYear         float64    => date\n",
        "</span>"
      ]
    },
    {
      "cell_type": "markdown",
      "metadata": {
        "id": "BmZyhrIuZhjE"
      },
      "source": [
        "### Statistique descriptives"
      ]
    },
    {
      "cell_type": "code",
      "execution_count": 7,
      "metadata": {
        "id": "d4CXfHpcZhjE",
        "outputId": "b0f63678-f7d2-4083-aaae-7b2dd0561d92"
      },
      "outputs": [
        {
          "data": {
            "text/html": [
              "<div>\n",
              "<style scoped>\n",
              "    .dataframe tbody tr th:only-of-type {\n",
              "        vertical-align: middle;\n",
              "    }\n",
              "\n",
              "    .dataframe tbody tr th {\n",
              "        vertical-align: top;\n",
              "    }\n",
              "\n",
              "    .dataframe thead th {\n",
              "        text-align: right;\n",
              "    }\n",
              "</style>\n",
              "<table border=\"1\" class=\"dataframe\">\n",
              "  <thead>\n",
              "    <tr style=\"text-align: right;\">\n",
              "      <th></th>\n",
              "      <th>tconst</th>\n",
              "      <th>titleType</th>\n",
              "      <th>primaryTitle</th>\n",
              "      <th>originalTitle</th>\n",
              "      <th>isAdult</th>\n",
              "      <th>startYear</th>\n",
              "      <th>endYear</th>\n",
              "      <th>runtimeMinutes</th>\n",
              "      <th>genres</th>\n",
              "    </tr>\n",
              "  </thead>\n",
              "  <tbody>\n",
              "    <tr>\n",
              "      <th>count</th>\n",
              "      <td>10790736</td>\n",
              "      <td>10790736</td>\n",
              "      <td>10790717</td>\n",
              "      <td>10790717</td>\n",
              "      <td>1.079074e+07</td>\n",
              "      <td>9.383932e+06</td>\n",
              "      <td>123838.000000</td>\n",
              "      <td>3347623</td>\n",
              "      <td>10310319</td>\n",
              "    </tr>\n",
              "    <tr>\n",
              "      <th>unique</th>\n",
              "      <td>10790736</td>\n",
              "      <td>11</td>\n",
              "      <td>4858621</td>\n",
              "      <td>4882234</td>\n",
              "      <td>NaN</td>\n",
              "      <td>NaN</td>\n",
              "      <td>NaN</td>\n",
              "      <td>899</td>\n",
              "      <td>2372</td>\n",
              "    </tr>\n",
              "    <tr>\n",
              "      <th>top</th>\n",
              "      <td>tt0000001</td>\n",
              "      <td>tvEpisode</td>\n",
              "      <td>Episode #1.1</td>\n",
              "      <td>Episode #1.1</td>\n",
              "      <td>NaN</td>\n",
              "      <td>NaN</td>\n",
              "      <td>NaN</td>\n",
              "      <td>30</td>\n",
              "      <td>Drama</td>\n",
              "    </tr>\n",
              "    <tr>\n",
              "      <th>freq</th>\n",
              "      <td>1</td>\n",
              "      <td>8260949</td>\n",
              "      <td>51755</td>\n",
              "      <td>51755</td>\n",
              "      <td>NaN</td>\n",
              "      <td>NaN</td>\n",
              "      <td>NaN</td>\n",
              "      <td>287763</td>\n",
              "      <td>1234815</td>\n",
              "    </tr>\n",
              "    <tr>\n",
              "      <th>mean</th>\n",
              "      <td>NaN</td>\n",
              "      <td>NaN</td>\n",
              "      <td>NaN</td>\n",
              "      <td>NaN</td>\n",
              "      <td>1.156689e-01</td>\n",
              "      <td>2.005834e+03</td>\n",
              "      <td>2006.858799</td>\n",
              "      <td>NaN</td>\n",
              "      <td>NaN</td>\n",
              "    </tr>\n",
              "    <tr>\n",
              "      <th>std</th>\n",
              "      <td>NaN</td>\n",
              "      <td>NaN</td>\n",
              "      <td>NaN</td>\n",
              "      <td>NaN</td>\n",
              "      <td>1.290243e+01</td>\n",
              "      <td>2.003853e+01</td>\n",
              "      <td>16.368326</td>\n",
              "      <td>NaN</td>\n",
              "      <td>NaN</td>\n",
              "    </tr>\n",
              "    <tr>\n",
              "      <th>min</th>\n",
              "      <td>NaN</td>\n",
              "      <td>NaN</td>\n",
              "      <td>NaN</td>\n",
              "      <td>NaN</td>\n",
              "      <td>0.000000e+00</td>\n",
              "      <td>1.874000e+03</td>\n",
              "      <td>1906.000000</td>\n",
              "      <td>NaN</td>\n",
              "      <td>NaN</td>\n",
              "    </tr>\n",
              "    <tr>\n",
              "      <th>25%</th>\n",
              "      <td>NaN</td>\n",
              "      <td>NaN</td>\n",
              "      <td>NaN</td>\n",
              "      <td>NaN</td>\n",
              "      <td>0.000000e+00</td>\n",
              "      <td>2.001000e+03</td>\n",
              "      <td>2000.000000</td>\n",
              "      <td>NaN</td>\n",
              "      <td>NaN</td>\n",
              "    </tr>\n",
              "    <tr>\n",
              "      <th>50%</th>\n",
              "      <td>NaN</td>\n",
              "      <td>NaN</td>\n",
              "      <td>NaN</td>\n",
              "      <td>NaN</td>\n",
              "      <td>0.000000e+00</td>\n",
              "      <td>2.013000e+03</td>\n",
              "      <td>2013.000000</td>\n",
              "      <td>NaN</td>\n",
              "      <td>NaN</td>\n",
              "    </tr>\n",
              "    <tr>\n",
              "      <th>75%</th>\n",
              "      <td>NaN</td>\n",
              "      <td>NaN</td>\n",
              "      <td>NaN</td>\n",
              "      <td>NaN</td>\n",
              "      <td>0.000000e+00</td>\n",
              "      <td>2.019000e+03</td>\n",
              "      <td>2019.000000</td>\n",
              "      <td>NaN</td>\n",
              "      <td>NaN</td>\n",
              "    </tr>\n",
              "    <tr>\n",
              "      <th>max</th>\n",
              "      <td>NaN</td>\n",
              "      <td>NaN</td>\n",
              "      <td>NaN</td>\n",
              "      <td>NaN</td>\n",
              "      <td>2.023000e+03</td>\n",
              "      <td>2.031000e+03</td>\n",
              "      <td>2030.000000</td>\n",
              "      <td>NaN</td>\n",
              "      <td>NaN</td>\n",
              "    </tr>\n",
              "  </tbody>\n",
              "</table>\n",
              "</div>"
            ],
            "text/plain": [
              "           tconst  titleType  primaryTitle originalTitle       isAdult  \\\n",
              "count    10790736   10790736      10790717      10790717  1.079074e+07   \n",
              "unique   10790736         11       4858621       4882234           NaN   \n",
              "top     tt0000001  tvEpisode  Episode #1.1  Episode #1.1           NaN   \n",
              "freq            1    8260949         51755         51755           NaN   \n",
              "mean          NaN        NaN           NaN           NaN  1.156689e-01   \n",
              "std           NaN        NaN           NaN           NaN  1.290243e+01   \n",
              "min           NaN        NaN           NaN           NaN  0.000000e+00   \n",
              "25%           NaN        NaN           NaN           NaN  0.000000e+00   \n",
              "50%           NaN        NaN           NaN           NaN  0.000000e+00   \n",
              "75%           NaN        NaN           NaN           NaN  0.000000e+00   \n",
              "max           NaN        NaN           NaN           NaN  2.023000e+03   \n",
              "\n",
              "           startYear        endYear runtimeMinutes    genres  \n",
              "count   9.383932e+06  123838.000000        3347623  10310319  \n",
              "unique           NaN            NaN            899      2372  \n",
              "top              NaN            NaN             30     Drama  \n",
              "freq             NaN            NaN         287763   1234815  \n",
              "mean    2.005834e+03    2006.858799            NaN       NaN  \n",
              "std     2.003853e+01      16.368326            NaN       NaN  \n",
              "min     1.874000e+03    1906.000000            NaN       NaN  \n",
              "25%     2.001000e+03    2000.000000            NaN       NaN  \n",
              "50%     2.013000e+03    2013.000000            NaN       NaN  \n",
              "75%     2.019000e+03    2019.000000            NaN       NaN  \n",
              "max     2.031000e+03    2030.000000            NaN       NaN  "
            ]
          },
          "execution_count": 7,
          "metadata": {},
          "output_type": "execute_result"
        }
      ],
      "source": [
        "df.describe(include='all')"
      ]
    },
    {
      "cell_type": "markdown",
      "metadata": {
        "id": "xYC_BIHGZhjE"
      },
      "source": [
        "### Valeurs manquantes"
      ]
    },
    {
      "cell_type": "code",
      "execution_count": 8,
      "metadata": {
        "id": "h9JacT24ZhjE",
        "outputId": "b13213d3-3804-4468-a4a1-d41931b0c1bc"
      },
      "outputs": [
        {
          "data": {
            "text/plain": [
              "tconst             0.000000\n",
              "titleType          0.000000\n",
              "primaryTitle       0.000176\n",
              "originalTitle      0.000176\n",
              "isAdult            0.000009\n",
              "startYear         13.037146\n",
              "endYear           98.852367\n",
              "runtimeMinutes    68.976880\n",
              "genres             4.452124\n",
              "dtype: float64"
            ]
          },
          "execution_count": 8,
          "metadata": {},
          "output_type": "execute_result"
        }
      ],
      "source": [
        "df.isna().sum()  / len(df) * 100"
      ]
    },
    {
      "cell_type": "markdown",
      "metadata": {
        "id": "vKhBqoraZhjF"
      },
      "source": [
        "<span style=\"font-size: 16px;\"><b>Remarques :</b><br><br>\n",
        "Les colonnes \"endYear\" et \"runtimeMinutes\" possèdent 70% de valeurs manquantes. En conséquence, ces colonnes pourraient être retirées du DataFrame.\n",
        "</span>"
      ]
    },
    {
      "cell_type": "markdown",
      "metadata": {
        "id": "xyxLLJVpZhjF"
      },
      "source": [
        "### Valeurs dupliquées"
      ]
    },
    {
      "cell_type": "code",
      "execution_count": 9,
      "metadata": {
        "id": "XAop6uHrZhjF",
        "outputId": "58b939b0-4a76-40e9-f680-965fa8cd5c00"
      },
      "outputs": [
        {
          "name": "stdout",
          "output_type": "stream",
          "text": [
            "Ce jeu de données a 0 valeur(s) dupliquée(s).\n"
          ]
        }
      ],
      "source": [
        "print(f\"Ce jeu de données a {df.duplicated().values.sum()} valeur(s) dupliquée(s).\")"
      ]
    },
    {
      "cell_type": "markdown",
      "metadata": {},
      "source": [
        "### Valeurs uniques"
      ]
    },
    {
      "cell_type": "code",
      "execution_count": 10,
      "metadata": {},
      "outputs": [
        {
          "data": {
            "text/plain": [
              "array([0.000e+00, 1.000e+00, 2.019e+03, 1.981e+03, 2.020e+03, 2.017e+03,\n",
              "             nan, 2.023e+03, 2.022e+03, 2.011e+03, 2.016e+03, 2.015e+03,\n",
              "       2.014e+03, 2.013e+03, 2.012e+03, 2.018e+03, 2.021e+03, 1.979e+03,\n",
              "       1.980e+03, 1.982e+03, 1.983e+03, 1.984e+03, 1.987e+03, 1.985e+03,\n",
              "       1.986e+03, 1.977e+03, 1.978e+03, 1.966e+03, 1.970e+03, 1.971e+03,\n",
              "       1.972e+03, 1.973e+03, 1.974e+03, 1.975e+03, 1.988e+03, 1.976e+03,\n",
              "       2.005e+03])"
            ]
          },
          "execution_count": 10,
          "metadata": {},
          "output_type": "execute_result"
        }
      ],
      "source": [
        "df['isAdult'].unique()"
      ]
    },
    {
      "cell_type": "markdown",
      "metadata": {},
      "source": [
        "<span style=\"font-size: 16px;\"><b>Remarques :</b><br><br>\n",
        "La colonne \"isAdult\" a besoin d'une transformation de typage, et par la suite, incorporer\n",
        "les valeurs positives en un type de genre dans la colonne genres\n",
        "</span>"
      ]
    },
    {
      "cell_type": "code",
      "execution_count": 11,
      "metadata": {},
      "outputs": [
        {
          "data": {
            "text/plain": [
              "array(['short', 'movie', 'tvShort', 'tvMovie', 'tvSeries', 'tvEpisode',\n",
              "       'tvMiniSeries', 'tvSpecial', 'video', 'videoGame', 'tvPilot'],\n",
              "      dtype=object)"
            ]
          },
          "execution_count": 11,
          "metadata": {},
          "output_type": "execute_result"
        }
      ],
      "source": [
        "df['titleType'].unique()"
      ]
    },
    {
      "cell_type": "markdown",
      "metadata": {},
      "source": [
        "### Comparaison de valeurs"
      ]
    },
    {
      "cell_type": "code",
      "execution_count": 12,
      "metadata": {},
      "outputs": [
        {
          "data": {
            "text/plain": [
              "98.57200658045939"
            ]
          },
          "execution_count": 12,
          "metadata": {},
          "output_type": "execute_result"
        }
      ],
      "source": [
        "df['titles_identical'] = df['primaryTitle'] == df['originalTitle']\n",
        "identical_percentage = df['titles_identical'].mean() * 100\n",
        "identical_percentage"
      ]
    },
    {
      "cell_type": "code",
      "execution_count": 13,
      "metadata": {},
      "outputs": [
        {
          "name": "stdout",
          "output_type": "stream",
          "text": [
            "Cette colonne a 10790736 lignes.\n"
          ]
        }
      ],
      "source": [
        "print(f\"Cette colonne a {df['titles_identical'].shape[0]} lignes.\")"
      ]
    },
    {
      "cell_type": "code",
      "execution_count": 14,
      "metadata": {},
      "outputs": [
        {
          "data": {
            "text/html": [
              "<div>\n",
              "<style scoped>\n",
              "    .dataframe tbody tr th:only-of-type {\n",
              "        vertical-align: middle;\n",
              "    }\n",
              "\n",
              "    .dataframe tbody tr th {\n",
              "        vertical-align: top;\n",
              "    }\n",
              "\n",
              "    .dataframe thead th {\n",
              "        text-align: right;\n",
              "    }\n",
              "</style>\n",
              "<table border=\"1\" class=\"dataframe\">\n",
              "  <thead>\n",
              "    <tr style=\"text-align: right;\">\n",
              "      <th></th>\n",
              "      <th>primaryTitle</th>\n",
              "      <th>originalTitle</th>\n",
              "    </tr>\n",
              "  </thead>\n",
              "  <tbody>\n",
              "    <tr>\n",
              "      <th>9</th>\n",
              "      <td>Leaving the Factory</td>\n",
              "      <td>La sortie de l'usine Lumière à Lyon</td>\n",
              "    </tr>\n",
              "    <tr>\n",
              "      <th>11</th>\n",
              "      <td>The Arrival of a Train</td>\n",
              "      <td>L'arrivée d'un train à La Ciotat</td>\n",
              "    </tr>\n",
              "    <tr>\n",
              "      <th>12</th>\n",
              "      <td>The Photographical Congress Arrives in Lyon</td>\n",
              "      <td>Le débarquement du congrès de photographie à Lyon</td>\n",
              "    </tr>\n",
              "    <tr>\n",
              "      <th>13</th>\n",
              "      <td>The Waterer Watered</td>\n",
              "      <td>L'arroseur arrosé</td>\n",
              "    </tr>\n",
              "    <tr>\n",
              "      <th>15</th>\n",
              "      <td>Boat Leaving the Port</td>\n",
              "      <td>Barque sortant du port</td>\n",
              "    </tr>\n",
              "    <tr>\n",
              "      <th>...</th>\n",
              "      <td>...</td>\n",
              "      <td>...</td>\n",
              "    </tr>\n",
              "    <tr>\n",
              "      <th>10790388</th>\n",
              "      <td>The Taste Is Mine</td>\n",
              "      <td>Mucho gusto</td>\n",
              "    </tr>\n",
              "    <tr>\n",
              "      <th>10790409</th>\n",
              "      <td>The Rehearsal</td>\n",
              "      <td>O Ensaio</td>\n",
              "    </tr>\n",
              "    <tr>\n",
              "      <th>10790502</th>\n",
              "      <td>Coven</td>\n",
              "      <td>Akelarre</td>\n",
              "    </tr>\n",
              "    <tr>\n",
              "      <th>10790534</th>\n",
              "      <td>The Secret of China</td>\n",
              "      <td>Hong xing zhao yao Zhong guo</td>\n",
              "    </tr>\n",
              "    <tr>\n",
              "      <th>10790632</th>\n",
              "      <td>Eugène</td>\n",
              "      <td>Evgenios</td>\n",
              "    </tr>\n",
              "  </tbody>\n",
              "</table>\n",
              "<p>154091 rows × 2 columns</p>\n",
              "</div>"
            ],
            "text/plain": [
              "                                         primaryTitle  \\\n",
              "9                                 Leaving the Factory   \n",
              "11                             The Arrival of a Train   \n",
              "12        The Photographical Congress Arrives in Lyon   \n",
              "13                                The Waterer Watered   \n",
              "15                              Boat Leaving the Port   \n",
              "...                                               ...   \n",
              "10790388                            The Taste Is Mine   \n",
              "10790409                                The Rehearsal   \n",
              "10790502                                        Coven   \n",
              "10790534                          The Secret of China   \n",
              "10790632                                       Eugène   \n",
              "\n",
              "                                              originalTitle  \n",
              "9                       La sortie de l'usine Lumière à Lyon  \n",
              "11                         L'arrivée d'un train à La Ciotat  \n",
              "12        Le débarquement du congrès de photographie à Lyon  \n",
              "13                                        L'arroseur arrosé  \n",
              "15                                   Barque sortant du port  \n",
              "...                                                     ...  \n",
              "10790388                                        Mucho gusto  \n",
              "10790409                                           O Ensaio  \n",
              "10790502                                           Akelarre  \n",
              "10790534                       Hong xing zhao yao Zhong guo  \n",
              "10790632                                           Evgenios  \n",
              "\n",
              "[154091 rows x 2 columns]"
            ]
          },
          "execution_count": 14,
          "metadata": {},
          "output_type": "execute_result"
        }
      ],
      "source": [
        "df_not_identical = df[df['titles_identical'] == False]\n",
        "df_not_identical[['primaryTitle', 'originalTitle']]"
      ]
    },
    {
      "cell_type": "markdown",
      "metadata": {},
      "source": [
        "<span style=\"font-size: 16px;\"><b>Remarques :</b><br><br>\n",
        "Etant donné que les colonnes \"primaryTitle\" et \"originalTitle\" sont similaire entre elles a 98.6%, la colone \"primaryTitle\" peut être conservée, puisque cette dernière est plus utilisé par les cinéastes et les valeurs de cette colonne représentent le titre le plus connu par les spectateurs.\n",
        "</span>"
      ]
    }
  ],
  "metadata": {
    "colab": {
      "provenance": []
    },
    "kernelspec": {
      "display_name": "Python 3 (ipykernel)",
      "language": "python",
      "name": "python3"
    },
    "language_info": {
      "codemirror_mode": {
        "name": "ipython",
        "version": 3
      },
      "file_extension": ".py",
      "mimetype": "text/x-python",
      "name": "python",
      "nbconvert_exporter": "python",
      "pygments_lexer": "ipython3",
      "version": "3.11.2"
    }
  },
  "nbformat": 4,
  "nbformat_minor": 0
}
