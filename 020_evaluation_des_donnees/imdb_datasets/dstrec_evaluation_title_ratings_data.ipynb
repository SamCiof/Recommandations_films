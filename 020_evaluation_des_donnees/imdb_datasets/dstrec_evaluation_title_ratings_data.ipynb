{
  "cells": [
    {
      "cell_type": "markdown",
      "metadata": {
        "id": "8hiZyS3VZhit"
      },
      "source": [
        "# <div style='color:white;background: #005792;text-align: center;padding: 15px 0'>Recommandations - Evaluation de la source de données Title ratings</div>"
      ]
    },
    {
      "cell_type": "markdown",
      "metadata": {
        "id": "dN4m4ihiZhiy"
      },
      "source": [
        "## Participants\n",
        "* Samantha\n",
        "* Rachelle\n",
        "* Andrew\n",
        "\n",
        "\n",
        "## Résumé des observations\n",
        "\n",
        "Ce jeu de données comprend 3 colonnes et 1 439 968 lignes, et il n'y a aucune valeur manquante ni dupliquée dans les données.\n",
        "L'ensemble du dataset est à conserver sans aucune action spécifique n'est nécessaire pour ce dataset jusqu'à la phase de fusion entre IMDb et MovieLens. "
      ]
    },
    {
      "cell_type": "markdown",
      "metadata": {
        "id": "487PHFGsZhi1"
      },
      "source": [
        "## <div style='background: #005792;text-align: center;padding: 15px 0'> <a style= 'color:white;' >Configuration des variables globales</a></div>"
      ]
    },
    {
      "cell_type": "markdown",
      "metadata": {
        "id": "8ae4VWFdZhi2"
      },
      "source": [
        "### Installation des librairies"
      ]
    },
    {
      "cell_type": "code",
      "execution_count": 25,
      "metadata": {
        "id": "uhLrAs-7Zhi2"
      },
      "outputs": [],
      "source": [
        "# !pip install pandas\n",
        "# !pip install numpy\n",
        "# !pip install matplotlib\n",
        "# !pip install seaborn\n",
        "# !pip install plotly-express\n",
        "# !pip install plotly"
      ]
    },
    {
      "cell_type": "markdown",
      "metadata": {
        "id": "f_XiTil4Zhi2"
      },
      "source": [
        "### Importation des librairies"
      ]
    },
    {
      "cell_type": "code",
      "execution_count": 4,
      "metadata": {
        "id": "3je4ZMXkZhi3"
      },
      "outputs": [],
      "source": [
        "import os\n",
        "import warnings\n",
        "warnings.filterwarnings('ignore')\n",
        "\n",
        "import pandas as pd\n",
        "import numpy as np\n",
        "\n",
        "import seaborn as sns\n",
        "import matplotlib.pyplot as plt\n",
        "\n",
        "import re"
      ]
    },
    {
      "cell_type": "markdown",
      "metadata": {
        "id": "TTC4IUJUZhi3"
      },
      "source": [
        "### Chargement des fichiers"
      ]
    },
    {
      "cell_type": "code",
      "execution_count": 1,
      "metadata": {
        "id": "5opNmQvWZhi4"
      },
      "outputs": [],
      "source": [
        "source_dir= '/home/dstrec/dstrec/010_data/000_source/imdb_datasets'\n",
        "name_file= 'title.ratings.tsv'\n",
        "file_path= f\"{source_dir}/{name_file}\""
      ]
    },
    {
      "cell_type": "markdown",
      "metadata": {
        "id": "obzB-XlHZhi4"
      },
      "source": [
        "### Chargement des jeux de données"
      ]
    },
    {
      "cell_type": "code",
      "execution_count": 2,
      "metadata": {},
      "outputs": [
        {
          "name": "stdout",
          "output_type": "stream",
          "text": [
            "1439969 /home/dstrec/dstrec/00_data_source/imdb_datasets/title.ratings.tsv\n"
          ]
        }
      ],
      "source": [
        "!wc -l '/home/dstrec/dstrec/010_data/000_source/imdb_datasets/title.ratings.tsv'"
      ]
    },
    {
      "cell_type": "code",
      "execution_count": 5,
      "metadata": {
        "id": "hGVkrMmZZhi4"
      },
      "outputs": [],
      "source": [
        "df= pd.read_csv(file_path, sep='\\t', na_values='\\\\N', low_memory=False)"
      ]
    },
    {
      "cell_type": "markdown",
      "metadata": {
        "id": "F_z_3pwMZhi5"
      },
      "source": [
        "### Configuration des variables"
      ]
    },
    {
      "cell_type": "code",
      "execution_count": null,
      "metadata": {
        "id": "zinAKVPwZhi5"
      },
      "outputs": [],
      "source": []
    },
    {
      "cell_type": "markdown",
      "metadata": {
        "id": "VSrjQaLwZhi5"
      },
      "source": [
        "### Configuration des fonctions"
      ]
    },
    {
      "cell_type": "code",
      "execution_count": null,
      "metadata": {
        "id": "s-R412ctZhi6"
      },
      "outputs": [],
      "source": []
    },
    {
      "cell_type": "markdown",
      "metadata": {
        "id": "7ec1Yg2QZhi6"
      },
      "source": [
        "## <div style='background: #005792;text-align: center;padding: 15px 0'> <a style= 'color:white;' >Evaluation des données</a></div>"
      ]
    },
    {
      "cell_type": "markdown",
      "metadata": {
        "id": "AuATrZ5RZhi-"
      },
      "source": [
        "### Affichage du jeu de données"
      ]
    },
    {
      "cell_type": "code",
      "execution_count": 6,
      "metadata": {
        "id": "ZgxNrQjxZhi-",
        "outputId": "9550434a-fee3-46e3-cbaa-aaf0e3698432"
      },
      "outputs": [
        {
          "data": {
            "text/html": [
              "<div>\n",
              "<style scoped>\n",
              "    .dataframe tbody tr th:only-of-type {\n",
              "        vertical-align: middle;\n",
              "    }\n",
              "\n",
              "    .dataframe tbody tr th {\n",
              "        vertical-align: top;\n",
              "    }\n",
              "\n",
              "    .dataframe thead th {\n",
              "        text-align: right;\n",
              "    }\n",
              "</style>\n",
              "<table border=\"1\" class=\"dataframe\">\n",
              "  <thead>\n",
              "    <tr style=\"text-align: right;\">\n",
              "      <th></th>\n",
              "      <th>tconst</th>\n",
              "      <th>averageRating</th>\n",
              "      <th>numVotes</th>\n",
              "    </tr>\n",
              "  </thead>\n",
              "  <tbody>\n",
              "    <tr>\n",
              "      <th>0</th>\n",
              "      <td>tt0000001</td>\n",
              "      <td>5.7</td>\n",
              "      <td>2058</td>\n",
              "    </tr>\n",
              "    <tr>\n",
              "      <th>1</th>\n",
              "      <td>tt0000002</td>\n",
              "      <td>5.7</td>\n",
              "      <td>276</td>\n",
              "    </tr>\n",
              "    <tr>\n",
              "      <th>2</th>\n",
              "      <td>tt0000003</td>\n",
              "      <td>6.5</td>\n",
              "      <td>2015</td>\n",
              "    </tr>\n",
              "    <tr>\n",
              "      <th>3</th>\n",
              "      <td>tt0000004</td>\n",
              "      <td>5.4</td>\n",
              "      <td>179</td>\n",
              "    </tr>\n",
              "    <tr>\n",
              "      <th>4</th>\n",
              "      <td>tt0000005</td>\n",
              "      <td>6.2</td>\n",
              "      <td>2784</td>\n",
              "    </tr>\n",
              "  </tbody>\n",
              "</table>\n",
              "</div>"
            ],
            "text/plain": [
              "      tconst  averageRating  numVotes\n",
              "0  tt0000001            5.7      2058\n",
              "1  tt0000002            5.7       276\n",
              "2  tt0000003            6.5      2015\n",
              "3  tt0000004            5.4       179\n",
              "4  tt0000005            6.2      2784"
            ]
          },
          "execution_count": 6,
          "metadata": {},
          "output_type": "execute_result"
        }
      ],
      "source": [
        "df.head()"
      ]
    },
    {
      "cell_type": "code",
      "execution_count": 7,
      "metadata": {
        "id": "8_k0DTZUZhjD",
        "outputId": "33a50cd1-b739-4c10-faa5-dd99fc759b6c",
        "scrolled": true
      },
      "outputs": [
        {
          "name": "stdout",
          "output_type": "stream",
          "text": [
            "Ce jeu de données a 3 colonnes et 1439968 lignes.\n"
          ]
        }
      ],
      "source": [
        "print(f\"Ce jeu de données a {df.shape[1]} colonnes et {df.shape[0]} lignes.\")"
      ]
    },
    {
      "cell_type": "markdown",
      "metadata": {
        "id": "PcEwIi6jZhjD"
      },
      "source": [
        "### EDA"
      ]
    },
    {
      "cell_type": "code",
      "execution_count": 8,
      "metadata": {
        "id": "AY17m6TyZhjE",
        "outputId": "805adae9-1206-4109-e663-f20a9e1c802e"
      },
      "outputs": [
        {
          "name": "stdout",
          "output_type": "stream",
          "text": [
            "<class 'pandas.core.frame.DataFrame'>\n",
            "RangeIndex: 1439968 entries, 0 to 1439967\n",
            "Data columns (total 3 columns):\n",
            " #   Column         Non-Null Count    Dtype  \n",
            "---  ------         --------------    -----  \n",
            " 0   tconst         1439968 non-null  object \n",
            " 1   averageRating  1439968 non-null  float64\n",
            " 2   numVotes       1439968 non-null  int64  \n",
            "dtypes: float64(1), int64(1), object(1)\n",
            "memory usage: 33.0+ MB\n"
          ]
        }
      ],
      "source": [
        "df.info()"
      ]
    },
    {
      "cell_type": "markdown",
      "metadata": {
        "id": "BmZyhrIuZhjE"
      },
      "source": [
        "### Statistique descriptives"
      ]
    },
    {
      "cell_type": "code",
      "execution_count": 9,
      "metadata": {
        "id": "d4CXfHpcZhjE",
        "outputId": "b0f63678-f7d2-4083-aaae-7b2dd0561d92"
      },
      "outputs": [
        {
          "data": {
            "text/html": [
              "<div>\n",
              "<style scoped>\n",
              "    .dataframe tbody tr th:only-of-type {\n",
              "        vertical-align: middle;\n",
              "    }\n",
              "\n",
              "    .dataframe tbody tr th {\n",
              "        vertical-align: top;\n",
              "    }\n",
              "\n",
              "    .dataframe thead th {\n",
              "        text-align: right;\n",
              "    }\n",
              "</style>\n",
              "<table border=\"1\" class=\"dataframe\">\n",
              "  <thead>\n",
              "    <tr style=\"text-align: right;\">\n",
              "      <th></th>\n",
              "      <th>tconst</th>\n",
              "      <th>averageRating</th>\n",
              "      <th>numVotes</th>\n",
              "    </tr>\n",
              "  </thead>\n",
              "  <tbody>\n",
              "    <tr>\n",
              "      <th>count</th>\n",
              "      <td>1439968</td>\n",
              "      <td>1.439968e+06</td>\n",
              "      <td>1.439968e+06</td>\n",
              "    </tr>\n",
              "    <tr>\n",
              "      <th>unique</th>\n",
              "      <td>1439968</td>\n",
              "      <td>NaN</td>\n",
              "      <td>NaN</td>\n",
              "    </tr>\n",
              "    <tr>\n",
              "      <th>top</th>\n",
              "      <td>tt0000001</td>\n",
              "      <td>NaN</td>\n",
              "      <td>NaN</td>\n",
              "    </tr>\n",
              "    <tr>\n",
              "      <th>freq</th>\n",
              "      <td>1</td>\n",
              "      <td>NaN</td>\n",
              "      <td>NaN</td>\n",
              "    </tr>\n",
              "    <tr>\n",
              "      <th>mean</th>\n",
              "      <td>NaN</td>\n",
              "      <td>6.952764e+00</td>\n",
              "      <td>1.031820e+03</td>\n",
              "    </tr>\n",
              "    <tr>\n",
              "      <th>std</th>\n",
              "      <td>NaN</td>\n",
              "      <td>1.385237e+00</td>\n",
              "      <td>1.768255e+04</td>\n",
              "    </tr>\n",
              "    <tr>\n",
              "      <th>min</th>\n",
              "      <td>NaN</td>\n",
              "      <td>1.000000e+00</td>\n",
              "      <td>5.000000e+00</td>\n",
              "    </tr>\n",
              "    <tr>\n",
              "      <th>25%</th>\n",
              "      <td>NaN</td>\n",
              "      <td>6.200000e+00</td>\n",
              "      <td>1.100000e+01</td>\n",
              "    </tr>\n",
              "    <tr>\n",
              "      <th>50%</th>\n",
              "      <td>NaN</td>\n",
              "      <td>7.100000e+00</td>\n",
              "      <td>2.600000e+01</td>\n",
              "    </tr>\n",
              "    <tr>\n",
              "      <th>75%</th>\n",
              "      <td>NaN</td>\n",
              "      <td>7.900000e+00</td>\n",
              "      <td>1.010000e+02</td>\n",
              "    </tr>\n",
              "    <tr>\n",
              "      <th>max</th>\n",
              "      <td>NaN</td>\n",
              "      <td>1.000000e+01</td>\n",
              "      <td>2.896494e+06</td>\n",
              "    </tr>\n",
              "  </tbody>\n",
              "</table>\n",
              "</div>"
            ],
            "text/plain": [
              "           tconst  averageRating      numVotes\n",
              "count     1439968   1.439968e+06  1.439968e+06\n",
              "unique    1439968            NaN           NaN\n",
              "top     tt0000001            NaN           NaN\n",
              "freq            1            NaN           NaN\n",
              "mean          NaN   6.952764e+00  1.031820e+03\n",
              "std           NaN   1.385237e+00  1.768255e+04\n",
              "min           NaN   1.000000e+00  5.000000e+00\n",
              "25%           NaN   6.200000e+00  1.100000e+01\n",
              "50%           NaN   7.100000e+00  2.600000e+01\n",
              "75%           NaN   7.900000e+00  1.010000e+02\n",
              "max           NaN   1.000000e+01  2.896494e+06"
            ]
          },
          "execution_count": 9,
          "metadata": {},
          "output_type": "execute_result"
        }
      ],
      "source": [
        "df.describe(include='all')"
      ]
    },
    {
      "cell_type": "markdown",
      "metadata": {
        "id": "xYC_BIHGZhjE"
      },
      "source": [
        "### Valeurs manquantes"
      ]
    },
    {
      "cell_type": "code",
      "execution_count": 10,
      "metadata": {
        "id": "h9JacT24ZhjE",
        "outputId": "b13213d3-3804-4468-a4a1-d41931b0c1bc"
      },
      "outputs": [
        {
          "data": {
            "text/plain": [
              "tconst           0.0\n",
              "averageRating    0.0\n",
              "numVotes         0.0\n",
              "dtype: float64"
            ]
          },
          "execution_count": 10,
          "metadata": {},
          "output_type": "execute_result"
        }
      ],
      "source": [
        "df.isna().sum()  / len(df) * 100"
      ]
    },
    {
      "cell_type": "markdown",
      "metadata": {
        "id": "xyxLLJVpZhjF"
      },
      "source": [
        "### Valeurs dupliquées"
      ]
    },
    {
      "cell_type": "code",
      "execution_count": 11,
      "metadata": {
        "id": "XAop6uHrZhjF",
        "outputId": "58b939b0-4a76-40e9-f680-965fa8cd5c00"
      },
      "outputs": [
        {
          "name": "stdout",
          "output_type": "stream",
          "text": [
            "Ce jeu de données a 0 valeur(s) dupliquée(s).\n"
          ]
        }
      ],
      "source": [
        "print(f\"Ce jeu de données a {df.duplicated().values.sum()} valeur(s) dupliquée(s).\")"
      ]
    }
  ],
  "metadata": {
    "colab": {
      "provenance": []
    },
    "kernelspec": {
      "display_name": "Python 3 (ipykernel)",
      "language": "python",
      "name": "python3"
    },
    "language_info": {
      "codemirror_mode": {
        "name": "ipython",
        "version": 3
      },
      "file_extension": ".py",
      "mimetype": "text/x-python",
      "name": "python",
      "nbconvert_exporter": "python",
      "pygments_lexer": "ipython3",
      "version": "3.11.2"
    }
  },
  "nbformat": 4,
  "nbformat_minor": 0
}
