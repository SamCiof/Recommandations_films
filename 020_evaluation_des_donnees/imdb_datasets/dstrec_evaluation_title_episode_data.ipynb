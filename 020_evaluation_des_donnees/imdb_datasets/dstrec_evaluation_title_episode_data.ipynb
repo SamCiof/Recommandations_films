{
  "cells": [
    {
      "cell_type": "markdown",
      "metadata": {
        "id": "8hiZyS3VZhit"
      },
      "source": [
        "# <div style='color:white;background: #005792;text-align: center;padding: 15px 0'>Recommandations - Evaluation de la source de données Title episode</div>"
      ]
    },
    {
      "cell_type": "markdown",
      "metadata": {
        "id": "dN4m4ihiZhiy"
      },
      "source": [
        "## Participants\n",
        "\n",
        "* Samantha\n",
        "* Rachelle\n",
        "* Andrew\n",
        "\n",
        "\n",
        "## Résumé des observations\n",
        "\n",
        "Ce jeu de données comprend 4 colonnes et 8 258 774 lignes, et il n'y a aucune valeur dupliquée dans les données.\n",
        "Cependant, certaines colonnes contiennent des valeurs manquantes.\n",
        "\n",
        "* La colonne `seasonNumber` a plus de 20% de valeurs manquantes.\n",
        "* La colonne `episodeNumber` a plus de 20% de valeurs manquantes.\n",
        "* Le pourcentage des `tconst` des `tvEpisode` dans `title.basics` qui sont présents dans `title.episode` : 99.97%"
      ]
    },
    {
      "cell_type": "markdown",
      "metadata": {
        "id": "487PHFGsZhi1"
      },
      "source": [
        "## <div style='background: #005792;text-align: center;padding: 15px 0'> <a style= 'color:white;' >Configuration des variables globales</a></div>"
      ]
    },
    {
      "cell_type": "markdown",
      "metadata": {
        "id": "8ae4VWFdZhi2"
      },
      "source": [
        "### Installation des librairies"
      ]
    },
    {
      "cell_type": "code",
      "execution_count": 25,
      "metadata": {
        "id": "uhLrAs-7Zhi2"
      },
      "outputs": [],
      "source": [
        "# !pip install pandas\n",
        "# !pip install numpy\n",
        "# !pip install matplotlib\n",
        "# !pip install seaborn\n",
        "# !pip install plotly-express\n",
        "# !pip install plotly"
      ]
    },
    {
      "cell_type": "markdown",
      "metadata": {
        "id": "f_XiTil4Zhi2"
      },
      "source": [
        "### Importation des librairies"
      ]
    },
    {
      "cell_type": "code",
      "execution_count": 1,
      "metadata": {
        "id": "3je4ZMXkZhi3"
      },
      "outputs": [],
      "source": [
        "import os\n",
        "import warnings\n",
        "warnings.filterwarnings('ignore')\n",
        "\n",
        "import pandas as pd\n",
        "import numpy as np\n",
        "\n",
        "import seaborn as sns\n",
        "import matplotlib.pyplot as plt\n",
        "\n",
        "import re"
      ]
    },
    {
      "cell_type": "markdown",
      "metadata": {
        "id": "TTC4IUJUZhi3"
      },
      "source": [
        "### Chargement des fichiers"
      ]
    },
    {
      "cell_type": "code",
      "execution_count": 12,
      "metadata": {
        "id": "5opNmQvWZhi4"
      },
      "outputs": [],
      "source": [
        "source_dir= '/home/dstrec/dstrec/010_data/000_source/imdb_datasets'\n",
        "\n",
        "title_episode_file = 'title.episode.tsv'\n",
        "title_basics_file = 'title.basics.tsv'\n",
        "\n",
        "file_path_title_episode = f\"{source_dir}/{title_episode_file}\"\n",
        "file_path_title_basics  = f\"{source_dir}/{title_basics_file}\""
      ]
    },
    {
      "cell_type": "markdown",
      "metadata": {
        "id": "obzB-XlHZhi4"
      },
      "source": [
        "### Chargement des jeux de données"
      ]
    },
    {
      "cell_type": "code",
      "execution_count": 3,
      "metadata": {
        "id": "hGVkrMmZZhi4"
      },
      "outputs": [],
      "source": [
        "df = pd.read_csv(file_path_title_episode, sep='\\t', na_values='\\\\N', low_memory=False)"
      ]
    },
    {
      "cell_type": "markdown",
      "metadata": {
        "id": "F_z_3pwMZhi5"
      },
      "source": [
        "### Configuration des variables"
      ]
    },
    {
      "cell_type": "code",
      "execution_count": null,
      "metadata": {
        "id": "zinAKVPwZhi5"
      },
      "outputs": [],
      "source": []
    },
    {
      "cell_type": "markdown",
      "metadata": {
        "id": "VSrjQaLwZhi5"
      },
      "source": [
        "### Configuration des fonctions"
      ]
    },
    {
      "cell_type": "code",
      "execution_count": null,
      "metadata": {
        "id": "s-R412ctZhi6"
      },
      "outputs": [],
      "source": []
    },
    {
      "cell_type": "markdown",
      "metadata": {
        "id": "7ec1Yg2QZhi6"
      },
      "source": [
        "## <div style='background: #005792;text-align: center;padding: 15px 0'> <a style= 'color:white;' >Evaluation des données</a></div>"
      ]
    },
    {
      "cell_type": "markdown",
      "metadata": {
        "id": "AuATrZ5RZhi-"
      },
      "source": [
        "### Affichage du jeu de données"
      ]
    },
    {
      "cell_type": "code",
      "execution_count": 4,
      "metadata": {
        "id": "ZgxNrQjxZhi-",
        "outputId": "9550434a-fee3-46e3-cbaa-aaf0e3698432"
      },
      "outputs": [
        {
          "data": {
            "text/html": [
              "<div>\n",
              "<style scoped>\n",
              "    .dataframe tbody tr th:only-of-type {\n",
              "        vertical-align: middle;\n",
              "    }\n",
              "\n",
              "    .dataframe tbody tr th {\n",
              "        vertical-align: top;\n",
              "    }\n",
              "\n",
              "    .dataframe thead th {\n",
              "        text-align: right;\n",
              "    }\n",
              "</style>\n",
              "<table border=\"1\" class=\"dataframe\">\n",
              "  <thead>\n",
              "    <tr style=\"text-align: right;\">\n",
              "      <th></th>\n",
              "      <th>tconst</th>\n",
              "      <th>parentTconst</th>\n",
              "      <th>seasonNumber</th>\n",
              "      <th>episodeNumber</th>\n",
              "    </tr>\n",
              "  </thead>\n",
              "  <tbody>\n",
              "    <tr>\n",
              "      <th>0</th>\n",
              "      <td>tt0041951</td>\n",
              "      <td>tt0041038</td>\n",
              "      <td>1.0</td>\n",
              "      <td>9.0</td>\n",
              "    </tr>\n",
              "    <tr>\n",
              "      <th>1</th>\n",
              "      <td>tt0042816</td>\n",
              "      <td>tt0989125</td>\n",
              "      <td>1.0</td>\n",
              "      <td>17.0</td>\n",
              "    </tr>\n",
              "    <tr>\n",
              "      <th>2</th>\n",
              "      <td>tt0042889</td>\n",
              "      <td>tt0989125</td>\n",
              "      <td>NaN</td>\n",
              "      <td>NaN</td>\n",
              "    </tr>\n",
              "    <tr>\n",
              "      <th>3</th>\n",
              "      <td>tt0043426</td>\n",
              "      <td>tt0040051</td>\n",
              "      <td>3.0</td>\n",
              "      <td>42.0</td>\n",
              "    </tr>\n",
              "    <tr>\n",
              "      <th>4</th>\n",
              "      <td>tt0043631</td>\n",
              "      <td>tt0989125</td>\n",
              "      <td>2.0</td>\n",
              "      <td>16.0</td>\n",
              "    </tr>\n",
              "  </tbody>\n",
              "</table>\n",
              "</div>"
            ],
            "text/plain": [
              "      tconst parentTconst  seasonNumber  episodeNumber\n",
              "0  tt0041951    tt0041038           1.0            9.0\n",
              "1  tt0042816    tt0989125           1.0           17.0\n",
              "2  tt0042889    tt0989125           NaN            NaN\n",
              "3  tt0043426    tt0040051           3.0           42.0\n",
              "4  tt0043631    tt0989125           2.0           16.0"
            ]
          },
          "execution_count": 4,
          "metadata": {},
          "output_type": "execute_result"
        }
      ],
      "source": [
        "df.head()"
      ]
    },
    {
      "cell_type": "code",
      "execution_count": 5,
      "metadata": {
        "id": "8_k0DTZUZhjD",
        "outputId": "33a50cd1-b739-4c10-faa5-dd99fc759b6c",
        "scrolled": true
      },
      "outputs": [
        {
          "name": "stdout",
          "output_type": "stream",
          "text": [
            "Ce jeu de données a 4 colonnes et 8258774 lignes.\n"
          ]
        }
      ],
      "source": [
        "print(f\"Ce jeu de données a {df.shape[1]} colonnes et {df.shape[0]} lignes.\")"
      ]
    },
    {
      "cell_type": "markdown",
      "metadata": {
        "id": "PcEwIi6jZhjD"
      },
      "source": [
        "### EDA"
      ]
    },
    {
      "cell_type": "code",
      "execution_count": 6,
      "metadata": {
        "id": "AY17m6TyZhjE",
        "outputId": "805adae9-1206-4109-e663-f20a9e1c802e"
      },
      "outputs": [
        {
          "name": "stdout",
          "output_type": "stream",
          "text": [
            "<class 'pandas.core.frame.DataFrame'>\n",
            "RangeIndex: 8258774 entries, 0 to 8258773\n",
            "Data columns (total 4 columns):\n",
            " #   Column         Dtype  \n",
            "---  ------         -----  \n",
            " 0   tconst         object \n",
            " 1   parentTconst   object \n",
            " 2   seasonNumber   float64\n",
            " 3   episodeNumber  float64\n",
            "dtypes: float64(2), object(2)\n",
            "memory usage: 252.0+ MB\n"
          ]
        }
      ],
      "source": [
        "df.info()"
      ]
    },
    {
      "cell_type": "markdown",
      "metadata": {
        "id": "BmZyhrIuZhjE"
      },
      "source": [
        "### Statistique descriptives"
      ]
    },
    {
      "cell_type": "code",
      "execution_count": 7,
      "metadata": {
        "id": "d4CXfHpcZhjE",
        "outputId": "b0f63678-f7d2-4083-aaae-7b2dd0561d92"
      },
      "outputs": [
        {
          "data": {
            "text/html": [
              "<div>\n",
              "<style scoped>\n",
              "    .dataframe tbody tr th:only-of-type {\n",
              "        vertical-align: middle;\n",
              "    }\n",
              "\n",
              "    .dataframe tbody tr th {\n",
              "        vertical-align: top;\n",
              "    }\n",
              "\n",
              "    .dataframe thead th {\n",
              "        text-align: right;\n",
              "    }\n",
              "</style>\n",
              "<table border=\"1\" class=\"dataframe\">\n",
              "  <thead>\n",
              "    <tr style=\"text-align: right;\">\n",
              "      <th></th>\n",
              "      <th>tconst</th>\n",
              "      <th>parentTconst</th>\n",
              "      <th>seasonNumber</th>\n",
              "      <th>episodeNumber</th>\n",
              "    </tr>\n",
              "  </thead>\n",
              "  <tbody>\n",
              "    <tr>\n",
              "      <th>count</th>\n",
              "      <td>8258774</td>\n",
              "      <td>8258774</td>\n",
              "      <td>6.583753e+06</td>\n",
              "      <td>6.583753e+06</td>\n",
              "    </tr>\n",
              "    <tr>\n",
              "      <th>unique</th>\n",
              "      <td>8258774</td>\n",
              "      <td>204745</td>\n",
              "      <td>NaN</td>\n",
              "      <td>NaN</td>\n",
              "    </tr>\n",
              "    <tr>\n",
              "      <th>top</th>\n",
              "      <td>tt0041951</td>\n",
              "      <td>tt12164062</td>\n",
              "      <td>NaN</td>\n",
              "      <td>NaN</td>\n",
              "    </tr>\n",
              "    <tr>\n",
              "      <th>freq</th>\n",
              "      <td>1</td>\n",
              "      <td>18593</td>\n",
              "      <td>NaN</td>\n",
              "      <td>NaN</td>\n",
              "    </tr>\n",
              "    <tr>\n",
              "      <th>mean</th>\n",
              "      <td>NaN</td>\n",
              "      <td>NaN</td>\n",
              "      <td>3.758391e+00</td>\n",
              "      <td>4.070305e+02</td>\n",
              "    </tr>\n",
              "    <tr>\n",
              "      <th>std</th>\n",
              "      <td>NaN</td>\n",
              "      <td>NaN</td>\n",
              "      <td>2.300349e+01</td>\n",
              "      <td>1.310846e+03</td>\n",
              "    </tr>\n",
              "    <tr>\n",
              "      <th>min</th>\n",
              "      <td>NaN</td>\n",
              "      <td>NaN</td>\n",
              "      <td>1.000000e+00</td>\n",
              "      <td>0.000000e+00</td>\n",
              "    </tr>\n",
              "    <tr>\n",
              "      <th>25%</th>\n",
              "      <td>NaN</td>\n",
              "      <td>NaN</td>\n",
              "      <td>1.000000e+00</td>\n",
              "      <td>7.000000e+00</td>\n",
              "    </tr>\n",
              "    <tr>\n",
              "      <th>50%</th>\n",
              "      <td>NaN</td>\n",
              "      <td>NaN</td>\n",
              "      <td>1.000000e+00</td>\n",
              "      <td>2.800000e+01</td>\n",
              "    </tr>\n",
              "    <tr>\n",
              "      <th>75%</th>\n",
              "      <td>NaN</td>\n",
              "      <td>NaN</td>\n",
              "      <td>3.000000e+00</td>\n",
              "      <td>1.530000e+02</td>\n",
              "    </tr>\n",
              "    <tr>\n",
              "      <th>max</th>\n",
              "      <td>NaN</td>\n",
              "      <td>NaN</td>\n",
              "      <td>2.024000e+03</td>\n",
              "      <td>9.133400e+04</td>\n",
              "    </tr>\n",
              "  </tbody>\n",
              "</table>\n",
              "</div>"
            ],
            "text/plain": [
              "           tconst parentTconst  seasonNumber  episodeNumber\n",
              "count     8258774      8258774  6.583753e+06   6.583753e+06\n",
              "unique    8258774       204745           NaN            NaN\n",
              "top     tt0041951   tt12164062           NaN            NaN\n",
              "freq            1        18593           NaN            NaN\n",
              "mean          NaN          NaN  3.758391e+00   4.070305e+02\n",
              "std           NaN          NaN  2.300349e+01   1.310846e+03\n",
              "min           NaN          NaN  1.000000e+00   0.000000e+00\n",
              "25%           NaN          NaN  1.000000e+00   7.000000e+00\n",
              "50%           NaN          NaN  1.000000e+00   2.800000e+01\n",
              "75%           NaN          NaN  3.000000e+00   1.530000e+02\n",
              "max           NaN          NaN  2.024000e+03   9.133400e+04"
            ]
          },
          "execution_count": 7,
          "metadata": {},
          "output_type": "execute_result"
        }
      ],
      "source": [
        "df.describe(include='all')"
      ]
    },
    {
      "cell_type": "markdown",
      "metadata": {
        "id": "xYC_BIHGZhjE"
      },
      "source": [
        "### Valeurs manquantes"
      ]
    },
    {
      "cell_type": "code",
      "execution_count": 8,
      "metadata": {
        "id": "h9JacT24ZhjE",
        "outputId": "b13213d3-3804-4468-a4a1-d41931b0c1bc"
      },
      "outputs": [
        {
          "data": {
            "text/plain": [
              "tconst            0.000000\n",
              "parentTconst      0.000000\n",
              "seasonNumber     20.281715\n",
              "episodeNumber    20.281715\n",
              "dtype: float64"
            ]
          },
          "execution_count": 8,
          "metadata": {},
          "output_type": "execute_result"
        }
      ],
      "source": [
        "df.isna().sum()  / len(df) * 100"
      ]
    },
    {
      "cell_type": "markdown",
      "metadata": {
        "id": "vKhBqoraZhjF"
      },
      "source": [
        "<span style=\"font-size: 16px;\"><b>Remarques :</b><br><br>\n",
        "Les colonnes \"seasonNumber\" et \"episodeNumber\" possèdent 20% de valeurs manquantes.\n",
        "</span>"
      ]
    },
    {
      "cell_type": "markdown",
      "metadata": {
        "id": "xyxLLJVpZhjF"
      },
      "source": [
        "### Valeurs dupliquées"
      ]
    },
    {
      "cell_type": "code",
      "execution_count": 9,
      "metadata": {
        "id": "XAop6uHrZhjF",
        "outputId": "58b939b0-4a76-40e9-f680-965fa8cd5c00"
      },
      "outputs": [
        {
          "name": "stdout",
          "output_type": "stream",
          "text": [
            "Ce jeu de données a 0 valeur(s) dupliquée(s).\n"
          ]
        }
      ],
      "source": [
        "print(f\"Ce jeu de données a {df.duplicated().values.sum()} valeur(s) dupliquée(s).\")"
      ]
    },
    {
      "cell_type": "markdown",
      "metadata": {},
      "source": [
        "### Comparaison de colonnes"
      ]
    },
    {
      "cell_type": "code",
      "execution_count": 14,
      "metadata": {},
      "outputs": [
        {
          "name": "stdout",
          "output_type": "stream",
          "text": [
            "Pourcentage des `tconst` des `tvEpisode` dans `title.basics` qui sont présents dans `title.episode`: 99.97%\n"
          ]
        }
      ],
      "source": [
        "chunk_size = 100000\n",
        "tv_episodes_in_basics_set = set()\n",
        "episodes_set = set()\n",
        "\n",
        "for chunk in pd.read_csv(file_path_title_basics, sep='\\t', na_values='\\\\N', usecols=['tconst', 'titleType'], chunksize=chunk_size):\n",
        "    tv_episodes_in_basics_set.update(chunk[chunk['titleType'] == 'tvEpisode']['tconst'])\n",
        "\n",
        "for chunk in pd.read_csv(file_path_title_episode, sep='\\t', na_values='\\\\N', usecols=['tconst'], chunksize=chunk_size):\n",
        "    episodes_set.update(chunk['tconst'])\n",
        "\n",
        "total_tv_episodes = len(tv_episodes_in_basics_set)\n",
        "matching_tv_episodes = len(tv_episodes_in_basics_set.intersection(episodes_set))\n",
        "percentage_matching = (matching_tv_episodes / total_tv_episodes) * 100\n",
        "\n",
        "print(f\"Pourcentage des `tconst` des `tvEpisode` dans `title.basics` qui sont présents dans `title.episode`: {percentage_matching:.2f}%\")\n"
      ]
    }
  ],
  "metadata": {
    "colab": {
      "provenance": []
    },
    "kernelspec": {
      "display_name": "Python 3 (ipykernel)",
      "language": "python",
      "name": "python3"
    },
    "language_info": {
      "codemirror_mode": {
        "name": "ipython",
        "version": 3
      },
      "file_extension": ".py",
      "mimetype": "text/x-python",
      "name": "python",
      "nbconvert_exporter": "python",
      "pygments_lexer": "ipython3",
      "version": "3.11.2"
    }
  },
  "nbformat": 4,
  "nbformat_minor": 0
}
